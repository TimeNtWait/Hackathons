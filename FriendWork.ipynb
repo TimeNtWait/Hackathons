{
  "cells": [
    {
      "cell_type": "markdown",
      "source": [
        "# Подбор кандидатов"
      ],
      "metadata": {
        "id": "Pezo7IOOIOhn"
      }
    },
    {
      "cell_type": "markdown",
      "metadata": {
        "id": "5bcXRnLGXTQm"
      },
      "source": [
        "**Определить вероятность насколько кандидаты подходят к вакансии.**\n",
        "Т.е. вход: 1 ваканасия и много кандидатов, надо определить для каждого кандидата вероятность насколько он подходит \n",
        "\n",
        "\n",
        "Модель принимает на вход список кандидатов и вакансию, возвращает список кандидатов отсортированных по метрике (от 0 до 1) соответствия предлагаемой вакансии от максимального соответствия к минимальному\n",
        "\n",
        "Требования: \n",
        "Время работы ранжирования модели при входных параметрах 1 вакансия, 10 кандидатов - не более 1с"
      ]
    },
    {
      "cell_type": "markdown",
      "metadata": {
        "id": "a1GfoZCPm1rR"
      },
      "source": [
        "TODO: \n",
        "Обработка данных\n",
        "- добавить параметр стаж работы\n",
        "- управлять весами параметров"
      ]
    },
    {
      "cell_type": "code",
      "execution_count": 1,
      "metadata": {
        "id": "ZL5Ii4afm4iH",
        "colab": {
          "base_uri": "https://localhost:8080/"
        },
        "outputId": "278bc8e3-fd6f-46e6-dcf1-2b2697108ad6"
      },
      "outputs": [
        {
          "output_type": "stream",
          "name": "stdout",
          "text": [
            "Looking in indexes: https://pypi.org/simple, https://us-python.pkg.dev/colab-wheels/public/simple/\n",
            "Requirement already satisfied: nltk in /usr/local/lib/python3.7/dist-packages (3.7)\n",
            "Requirement already satisfied: regex>=2021.8.3 in /usr/local/lib/python3.7/dist-packages (from nltk) (2022.6.2)\n",
            "Requirement already satisfied: click in /usr/local/lib/python3.7/dist-packages (from nltk) (7.1.2)\n",
            "Requirement already satisfied: tqdm in /usr/local/lib/python3.7/dist-packages (from nltk) (4.64.1)\n",
            "Requirement already satisfied: joblib in /usr/local/lib/python3.7/dist-packages (from nltk) (1.1.0)\n",
            "Looking in indexes: https://pypi.org/simple, https://us-python.pkg.dev/colab-wheels/public/simple/\n",
            "Requirement already satisfied: matplotlib in /usr/local/lib/python3.7/dist-packages (3.2.2)\n",
            "Requirement already satisfied: python-dateutil>=2.1 in /usr/local/lib/python3.7/dist-packages (from matplotlib) (2.8.2)\n",
            "Requirement already satisfied: cycler>=0.10 in /usr/local/lib/python3.7/dist-packages (from matplotlib) (0.11.0)\n",
            "Requirement already satisfied: numpy>=1.11 in /usr/local/lib/python3.7/dist-packages (from matplotlib) (1.21.6)\n",
            "Requirement already satisfied: pyparsing!=2.0.4,!=2.1.2,!=2.1.6,>=2.0.1 in /usr/local/lib/python3.7/dist-packages (from matplotlib) (3.0.9)\n",
            "Requirement already satisfied: kiwisolver>=1.0.1 in /usr/local/lib/python3.7/dist-packages (from matplotlib) (1.4.4)\n",
            "Requirement already satisfied: typing-extensions in /usr/local/lib/python3.7/dist-packages (from kiwisolver>=1.0.1->matplotlib) (4.1.1)\n",
            "Requirement already satisfied: six>=1.5 in /usr/local/lib/python3.7/dist-packages (from python-dateutil>=2.1->matplotlib) (1.15.0)\n",
            "Looking in indexes: https://pypi.org/simple, https://us-python.pkg.dev/colab-wheels/public/simple/\n",
            "Collecting sklearn\n",
            "  Downloading sklearn-0.0.tar.gz (1.1 kB)\n",
            "Requirement already satisfied: scikit-learn in /usr/local/lib/python3.7/dist-packages (from sklearn) (1.0.2)\n",
            "Requirement already satisfied: threadpoolctl>=2.0.0 in /usr/local/lib/python3.7/dist-packages (from scikit-learn->sklearn) (3.1.0)\n",
            "Requirement already satisfied: numpy>=1.14.6 in /usr/local/lib/python3.7/dist-packages (from scikit-learn->sklearn) (1.21.6)\n",
            "Requirement already satisfied: joblib>=0.11 in /usr/local/lib/python3.7/dist-packages (from scikit-learn->sklearn) (1.1.0)\n",
            "Requirement already satisfied: scipy>=1.1.0 in /usr/local/lib/python3.7/dist-packages (from scikit-learn->sklearn) (1.7.3)\n",
            "Building wheels for collected packages: sklearn\n",
            "  Building wheel for sklearn (setup.py) ... \u001b[?25l\u001b[?25hdone\n",
            "  Created wheel for sklearn: filename=sklearn-0.0-py2.py3-none-any.whl size=1310 sha256=1c2d22c5e454512198020db9c7d547163b2f3b4b014ef09638f1fefb20e7d2f2\n",
            "  Stored in directory: /root/.cache/pip/wheels/46/ef/c3/157e41f5ee1372d1be90b09f74f82b10e391eaacca8f22d33e\n",
            "Successfully built sklearn\n",
            "Installing collected packages: sklearn\n",
            "Successfully installed sklearn-0.0\n",
            "Looking in indexes: https://pypi.org/simple, https://us-python.pkg.dev/colab-wheels/public/simple/\n",
            "\u001b[31mERROR: Could not find a version that satisfies the requirement re (from versions: none)\u001b[0m\n",
            "\u001b[31mERROR: No matching distribution found for re\u001b[0m\n",
            "Looking in indexes: https://pypi.org/simple, https://us-python.pkg.dev/colab-wheels/public/simple/\n",
            "\u001b[31mERROR: Could not find a version that satisfies the requirement difflib (from versions: none)\u001b[0m\n",
            "\u001b[31mERROR: No matching distribution found for difflib\u001b[0m\n",
            "Looking in indexes: https://pypi.org/simple, https://us-python.pkg.dev/colab-wheels/public/simple/\n",
            "Requirement already satisfied: tensorflow in /usr/local/lib/python3.7/dist-packages (2.8.2+zzzcolab20220719082949)\n",
            "Requirement already satisfied: setuptools in /usr/local/lib/python3.7/dist-packages (from tensorflow) (57.4.0)\n",
            "Requirement already satisfied: google-pasta>=0.1.1 in /usr/local/lib/python3.7/dist-packages (from tensorflow) (0.2.0)\n",
            "Requirement already satisfied: opt-einsum>=2.3.2 in /usr/local/lib/python3.7/dist-packages (from tensorflow) (3.3.0)\n",
            "Requirement already satisfied: flatbuffers>=1.12 in /usr/local/lib/python3.7/dist-packages (from tensorflow) (2.0.7)\n",
            "Requirement already satisfied: six>=1.12.0 in /usr/local/lib/python3.7/dist-packages (from tensorflow) (1.15.0)\n",
            "Requirement already satisfied: keras-preprocessing>=1.1.1 in /usr/local/lib/python3.7/dist-packages (from tensorflow) (1.1.2)\n",
            "Requirement already satisfied: astunparse>=1.6.0 in /usr/local/lib/python3.7/dist-packages (from tensorflow) (1.6.3)\n",
            "Requirement already satisfied: termcolor>=1.1.0 in /usr/local/lib/python3.7/dist-packages (from tensorflow) (1.1.0)\n",
            "Requirement already satisfied: protobuf<3.20,>=3.9.2 in /usr/local/lib/python3.7/dist-packages (from tensorflow) (3.17.3)\n",
            "Requirement already satisfied: absl-py>=0.4.0 in /usr/local/lib/python3.7/dist-packages (from tensorflow) (1.2.0)\n",
            "Requirement already satisfied: tensorflow-io-gcs-filesystem>=0.23.1 in /usr/local/lib/python3.7/dist-packages (from tensorflow) (0.26.0)\n",
            "Requirement already satisfied: numpy>=1.20 in /usr/local/lib/python3.7/dist-packages (from tensorflow) (1.21.6)\n",
            "Requirement already satisfied: h5py>=2.9.0 in /usr/local/lib/python3.7/dist-packages (from tensorflow) (3.1.0)\n",
            "Requirement already satisfied: tensorflow-estimator<2.9,>=2.8 in /usr/local/lib/python3.7/dist-packages (from tensorflow) (2.8.0)\n",
            "Requirement already satisfied: tensorboard<2.9,>=2.8 in /usr/local/lib/python3.7/dist-packages (from tensorflow) (2.8.0)\n",
            "Requirement already satisfied: gast>=0.2.1 in /usr/local/lib/python3.7/dist-packages (from tensorflow) (0.5.3)\n",
            "Requirement already satisfied: grpcio<2.0,>=1.24.3 in /usr/local/lib/python3.7/dist-packages (from tensorflow) (1.48.1)\n",
            "Requirement already satisfied: libclang>=9.0.1 in /usr/local/lib/python3.7/dist-packages (from tensorflow) (14.0.6)\n",
            "Requirement already satisfied: wrapt>=1.11.0 in /usr/local/lib/python3.7/dist-packages (from tensorflow) (1.14.1)\n",
            "Requirement already satisfied: keras<2.9,>=2.8.0rc0 in /usr/local/lib/python3.7/dist-packages (from tensorflow) (2.8.0)\n",
            "Requirement already satisfied: typing-extensions>=3.6.6 in /usr/local/lib/python3.7/dist-packages (from tensorflow) (4.1.1)\n",
            "Requirement already satisfied: wheel<1.0,>=0.23.0 in /usr/local/lib/python3.7/dist-packages (from astunparse>=1.6.0->tensorflow) (0.37.1)\n",
            "Requirement already satisfied: cached-property in /usr/local/lib/python3.7/dist-packages (from h5py>=2.9.0->tensorflow) (1.5.2)\n",
            "Requirement already satisfied: markdown>=2.6.8 in /usr/local/lib/python3.7/dist-packages (from tensorboard<2.9,>=2.8->tensorflow) (3.4.1)\n",
            "Requirement already satisfied: requests<3,>=2.21.0 in /usr/local/lib/python3.7/dist-packages (from tensorboard<2.9,>=2.8->tensorflow) (2.23.0)\n",
            "Requirement already satisfied: google-auth-oauthlib<0.5,>=0.4.1 in /usr/local/lib/python3.7/dist-packages (from tensorboard<2.9,>=2.8->tensorflow) (0.4.6)\n",
            "Requirement already satisfied: tensorboard-plugin-wit>=1.6.0 in /usr/local/lib/python3.7/dist-packages (from tensorboard<2.9,>=2.8->tensorflow) (1.8.1)\n",
            "Requirement already satisfied: werkzeug>=0.11.15 in /usr/local/lib/python3.7/dist-packages (from tensorboard<2.9,>=2.8->tensorflow) (1.0.1)\n",
            "Requirement already satisfied: google-auth<3,>=1.6.3 in /usr/local/lib/python3.7/dist-packages (from tensorboard<2.9,>=2.8->tensorflow) (1.35.0)\n",
            "Requirement already satisfied: tensorboard-data-server<0.7.0,>=0.6.0 in /usr/local/lib/python3.7/dist-packages (from tensorboard<2.9,>=2.8->tensorflow) (0.6.1)\n",
            "Requirement already satisfied: rsa<5,>=3.1.4 in /usr/local/lib/python3.7/dist-packages (from google-auth<3,>=1.6.3->tensorboard<2.9,>=2.8->tensorflow) (4.9)\n",
            "Requirement already satisfied: cachetools<5.0,>=2.0.0 in /usr/local/lib/python3.7/dist-packages (from google-auth<3,>=1.6.3->tensorboard<2.9,>=2.8->tensorflow) (4.2.4)\n",
            "Requirement already satisfied: pyasn1-modules>=0.2.1 in /usr/local/lib/python3.7/dist-packages (from google-auth<3,>=1.6.3->tensorboard<2.9,>=2.8->tensorflow) (0.2.8)\n",
            "Requirement already satisfied: requests-oauthlib>=0.7.0 in /usr/local/lib/python3.7/dist-packages (from google-auth-oauthlib<0.5,>=0.4.1->tensorboard<2.9,>=2.8->tensorflow) (1.3.1)\n",
            "Requirement already satisfied: importlib-metadata>=4.4 in /usr/local/lib/python3.7/dist-packages (from markdown>=2.6.8->tensorboard<2.9,>=2.8->tensorflow) (4.12.0)\n",
            "Requirement already satisfied: zipp>=0.5 in /usr/local/lib/python3.7/dist-packages (from importlib-metadata>=4.4->markdown>=2.6.8->tensorboard<2.9,>=2.8->tensorflow) (3.8.1)\n",
            "Requirement already satisfied: pyasn1<0.5.0,>=0.4.6 in /usr/local/lib/python3.7/dist-packages (from pyasn1-modules>=0.2.1->google-auth<3,>=1.6.3->tensorboard<2.9,>=2.8->tensorflow) (0.4.8)\n",
            "Requirement already satisfied: certifi>=2017.4.17 in /usr/local/lib/python3.7/dist-packages (from requests<3,>=2.21.0->tensorboard<2.9,>=2.8->tensorflow) (2022.6.15)\n",
            "Requirement already satisfied: idna<3,>=2.5 in /usr/local/lib/python3.7/dist-packages (from requests<3,>=2.21.0->tensorboard<2.9,>=2.8->tensorflow) (2.10)\n",
            "Requirement already satisfied: urllib3!=1.25.0,!=1.25.1,<1.26,>=1.21.1 in /usr/local/lib/python3.7/dist-packages (from requests<3,>=2.21.0->tensorboard<2.9,>=2.8->tensorflow) (1.24.3)\n",
            "Requirement already satisfied: chardet<4,>=3.0.2 in /usr/local/lib/python3.7/dist-packages (from requests<3,>=2.21.0->tensorboard<2.9,>=2.8->tensorflow) (3.0.4)\n",
            "Requirement already satisfied: oauthlib>=3.0.0 in /usr/local/lib/python3.7/dist-packages (from requests-oauthlib>=0.7.0->google-auth-oauthlib<0.5,>=0.4.1->tensorboard<2.9,>=2.8->tensorflow) (3.2.0)\n",
            "Looking in indexes: https://pypi.org/simple, https://us-python.pkg.dev/colab-wheels/public/simple/\n",
            "Collecting catboost\n",
            "  Downloading catboost-1.1-cp37-none-manylinux1_x86_64.whl (76.8 MB)\n",
            "\u001b[K     |████████████████████████████████| 76.8 MB 1.2 MB/s \n",
            "\u001b[?25hRequirement already satisfied: plotly in /usr/local/lib/python3.7/dist-packages (from catboost) (5.5.0)\n",
            "Requirement already satisfied: numpy>=1.16.0 in /usr/local/lib/python3.7/dist-packages (from catboost) (1.21.6)\n",
            "Requirement already satisfied: six in /usr/local/lib/python3.7/dist-packages (from catboost) (1.15.0)\n",
            "Requirement already satisfied: matplotlib in /usr/local/lib/python3.7/dist-packages (from catboost) (3.2.2)\n",
            "Requirement already satisfied: scipy in /usr/local/lib/python3.7/dist-packages (from catboost) (1.7.3)\n",
            "Requirement already satisfied: graphviz in /usr/local/lib/python3.7/dist-packages (from catboost) (0.10.1)\n",
            "Requirement already satisfied: pandas>=0.24.0 in /usr/local/lib/python3.7/dist-packages (from catboost) (1.3.5)\n",
            "Requirement already satisfied: python-dateutil>=2.7.3 in /usr/local/lib/python3.7/dist-packages (from pandas>=0.24.0->catboost) (2.8.2)\n",
            "Requirement already satisfied: pytz>=2017.3 in /usr/local/lib/python3.7/dist-packages (from pandas>=0.24.0->catboost) (2022.2.1)\n",
            "Requirement already satisfied: kiwisolver>=1.0.1 in /usr/local/lib/python3.7/dist-packages (from matplotlib->catboost) (1.4.4)\n",
            "Requirement already satisfied: cycler>=0.10 in /usr/local/lib/python3.7/dist-packages (from matplotlib->catboost) (0.11.0)\n",
            "Requirement already satisfied: pyparsing!=2.0.4,!=2.1.2,!=2.1.6,>=2.0.1 in /usr/local/lib/python3.7/dist-packages (from matplotlib->catboost) (3.0.9)\n",
            "Requirement already satisfied: typing-extensions in /usr/local/lib/python3.7/dist-packages (from kiwisolver>=1.0.1->matplotlib->catboost) (4.1.1)\n",
            "Requirement already satisfied: tenacity>=6.2.0 in /usr/local/lib/python3.7/dist-packages (from plotly->catboost) (8.0.1)\n",
            "Installing collected packages: catboost\n",
            "Successfully installed catboost-1.1\n"
          ]
        }
      ],
      "source": [
        "# Установка библиотек для Colab\n",
        "! pip install nltk\n",
        "! pip install matplotlib\n",
        "! pip install sklearn\n",
        "! pip install re\n",
        "! pip install difflib\n",
        "! pip install tensorflow\n",
        "! pip install catboost"
      ]
    },
    {
      "cell_type": "code",
      "execution_count": 2,
      "metadata": {
        "colab": {
          "base_uri": "https://localhost:8080/"
        },
        "id": "t9zvesxZYS-U",
        "outputId": "971d5910-c130-4296-d83d-178d64d88dde"
      },
      "outputs": [
        {
          "output_type": "stream",
          "name": "stderr",
          "text": [
            "[nltk_data] Downloading package stopwords to /root/nltk_data...\n",
            "[nltk_data]   Unzipping corpora/stopwords.zip.\n",
            "[nltk_data] Downloading package punkt to /root/nltk_data...\n",
            "[nltk_data]   Unzipping tokenizers/punkt.zip.\n"
          ]
        },
        {
          "output_type": "execute_result",
          "data": {
            "text/plain": [
              "True"
            ]
          },
          "metadata": {},
          "execution_count": 2
        }
      ],
      "source": [
        "import numpy as np\n",
        "import pandas as pd\n",
        "\n",
        "import matplotlib.pyplot as plt\n",
        "\n",
        "# Библиотека SkLearn\n",
        "from sklearn.preprocessing import StandardScaler\n",
        "from sklearn.model_selection import train_test_split\n",
        "from sklearn.feature_extraction.text import CountVectorizer\n",
        "\n",
        "# Обработка текстовой инмформации\n",
        "import re\n",
        "import difflib\n",
        "\n",
        "# Библиотека CatBoost\n",
        "from catboost import CatBoostRegressor\n",
        "\n",
        "# Библиотеки Tensorflow\n",
        "import tensorflow\n",
        "from tensorflow.keras import Sequential\n",
        "from tensorflow.keras.layers import Dense, BatchNormalization, Dropout\n",
        "\n",
        "# Библиотеки для обработки текстов\n",
        "# import transformers\n",
        "import nltk\n",
        "from nltk.stem.snowball import SnowballStemmer \n",
        "from nltk.stem import SnowballStemmer\n",
        "from nltk.corpus import stopwords\n",
        "\n",
        "nltk.download('stopwords')\n",
        "rus_stopwords = stopwords.words(\"russian\")\n",
        "snowball = SnowballStemmer(language=\"russian\")\n",
        "nltk.download('punkt')"
      ]
    },
    {
      "cell_type": "code",
      "source": [
        "# Функция опредления уровня схожести между строками (коэффициент Танимото), как альтернатива difflib\n",
        "def tanimoto(s1, s2):\n",
        "    if len(s1) == 0 and len(s2) == 0:\n",
        "      return 0 \n",
        "    a, b, c = len(s1), len(s2), 0.0\n",
        "    for sym in s1:\n",
        "        if sym in s2:\n",
        "            c += 1\n",
        "    return c / (a + b - c)"
      ],
      "metadata": {
        "id": "dI7htR6LdmcM"
      },
      "execution_count": 3,
      "outputs": []
    },
    {
      "cell_type": "markdown",
      "metadata": {
        "id": "Axpp88GZMKNS"
      },
      "source": [
        "## Загружаем и формируем данные"
      ]
    },
    {
      "cell_type": "markdown",
      "metadata": {
        "id": "Lo8_6egRZpAF"
      },
      "source": [
        "Формируем словарь статус => вероятность соответствия кандидата вакансии"
      ]
    },
    {
      "cell_type": "code",
      "execution_count": 4,
      "metadata": {
        "id": "T3h4pgTuMNbn"
      },
      "outputs": [],
      "source": [
        "# Словарь статус - вероятность соответствия кандидата вакансии\n",
        "default_fillna_status_weight = 0\n",
        "negative = 0\n",
        "other = 0.6\n",
        "otklonen = 0.8\n",
        "otklonen_vozrast = 0.83\n",
        "otklonen_zdorovye = 0.9\n",
        "otklonen_sb = 0.93\n",
        "etap_resume = 0.95\n",
        "interview_ne_sostoyalos  = 0.85\n",
        "interview  = 0.97\n",
        "kandidat_sam_otklonil = 0.95\n",
        "na_rassmotrenii = 0.98\n",
        "odobren = 0.99\n",
        "prinyat = 1\n",
        "list_status_weight = [\n",
        "(negative, [\"Negative row\"]),\n",
        "(other, ['unicnow', 'unknown', 0, '', None, 'нет КИСАРТ','Лендинг','Архив','в архив','нет КИСАРТ','Архив','в архив','Название компании',],),\n",
        "(otklonen, ['Отклонен','Отказ по резюме','Отклонение кандидата','Отклонён по резюме','Отклонён по интервью','Отклонен руклем: опыт','ОтклоненПрофнавыки','ОтклоненCIT','ОтклоненAG','Отклонен CIT/AG','ОтклоненДругое','Собеседование с Заказчиком  Кандидат отклонен','Отклонен после рассмотрения резюме заказчиком','Отклонён после ТИ','Кандидат отклонен','Отклонен после телефонного интервью','Интервью c HR состоялось  Кандидат отклонен','Собеседование с HR   Кандидат отклонен','Не согласован','Не согласован CV','Не согласовано','Отказ РЦ','Отказ руководителя','Самоотказ МП','Самоотказ ОО','Отказ HR','Отказ (архивный статус)','Отказ','Отказ hrдругое (комментарии)','Отказ HRличн качества','Отказ HRдругоекомментарии','Отказ TA (телинтю)','Отказ ВВСС (другое)','Отказ заказчиком','Полиграф ОТКАЗ','Собеседование ОТКАЗ','Отказ работодателя','Отказ рекрутера по SOFT skills','Отказ рекрутера по HARD skikks','Отказ (заказчик)','Отказ после собеседования','Отказ по итогам собеседования с рекрутером','Отказ по итогам скрининга резюме','Отказ компании','Отказ заказчика','Отказ Advisability','ОТКАЗ СЦ','Отказ рекрутера АНКОР','Отказ ДЭБ','Отказ \"ТИ\"','Отказ \"Новый\"','УДАЛИТЬ Отказ по документам','Отказ \"На расс заказчика\"','УДАЛИТЬ Отказ','Отказ на этапе собеседования','Отказ \"Инт с заказчиком\"','Отказ нерелевантный опыт','Отказ по личностным качествам','Собеседование с заказчиком Отказ','Отказ по итогам испытательного срока','ТИ Отказ рекрутера Опыт','ТИ Отказ рекрутера Национальность','Тестирование не справился','Снят с рассмотрения','Мо не пройден','МК пройдена Не допущен','Не прошел стажировку','Не прошел первичный отбор','Площадку не сдал','Не требуется (тестовое задание)','Не требуется (заказчик)','Неадекват','Не прошёл по компетенции','Нет документов','Нет полного пакета документов','Нет гражданства РФ','Неприемлемые личные качества','Не ГПХ/СТД/ИП/СЗ','Отмена приема','Примечание','Уволен','Имеются риски','Полиграф','Черный список','Гражданство','Опыт','Другое','Речь','Судимость','Есть судимость','По личностным качества',],),\n",
        "(otklonen_zdorovye,['Отказ по здоровью','Здоровье','Медосмотр','Результат медкомиссии','Медкомиссия',],),\n",
        "(otklonen_sb, ['Отклонен СБ','Не согласован (Проверка СБ)','Не согласован СБ','Отказ СБ','СБ ОТКАЗ','Отказ  на финальном этапе (стаж, СБ, рекомендации, PIF)','Отказ (СБ)','Отказ проверка СБ','СБ отказ','Не прошёл СБ',],),\n",
        "(otklonen_vozrast, ['УДАЛИТЬ Отказ по возрасту/полу УДАЛИТЬ','ТИ Отказ рекрутера Возраст','Не подходит по возрасту','Возраст',],),\n",
        "(etap_resume, ['Резюме у заказчика','Составить резюме','Рассмотрение резюме','Первичный отбор по резюме/короткий звонок','Показ резюме','Скрининг резюме','Резюме отобрано','Приглашение','Приглашен','Отправлено письмо с приглашением','Приглашен на собеседование','Направлено приглашение','ТД приглашен','Приглашен на ТУ','Обзвон','Обзвон состоялся','Обзвон не состоялся','Одобрен Обзвон','Резерв Обзвон','Результат обзвона','Записан на собеседование','Назначено  собеседование заказчика','Недозвон','Не дозвонились','Скрининг по телефону  Недозвон','Тотальный недозвон','Не выходит на связь','РАЗОБРАТЬ Недозвон  день','Некорректный номер','Резерв  Внешний','Предложение','Резерв','Перезаписался','Резерв РЦ','Перенес обучения','Перезвонить','Направлено письмо кандидату','Анкету не заполнил','Написано письмо','Связаться','Отобран на вакансию','Пригласить','Релевантное','Дата посещения медцентра','ОТОБРАН НА ВАКАНСИЮ','Резерв ИР','Первичный отбор','РЕЗЕРВ','Запрос Анкеты','Жду ответа по CV','Жду ответа от соискателя','ОС кандидату','Скрининг по телефону','Первичный контакт','Кадровый резерв','Контакт установлен','Первый контакт','Чужой номер','Отправлено письмо','Отклик с Сайта','Отклик',],),\n",
        "(interview_ne_sostoyalos, ['Тел интервью не состоялось Сообщение в ваццап','Тел интервью не состоялось Отправлено смс','Интервью не состоялось','Интервью (заказчик) не сост','Интервью у заказчика не состоялось','Интервью с заказчиком Не состоялось','Телефонное интервью не состоялось','Не прошел собеседование','Собеседование отменено','Не дошел на собеседование','Собеседование не состоялось','Собеседование с HR не состоялось','Собеседование с Заказчиком не состоялось','Перенесено собеседование','ТИ не сост',], ),\n",
        "(interview, ['Интервью (рекрутер)','Интервью (заказчик)','Интервью','Интервью состоялось','Телефонное интервью','Интервью с заказчиком','Интервью с заказчиком Состоялось','Интервью с рекрутером Состоялось','Интервью с рекрутером','Интервью у заказчика','Интервью у заказчика состоялось','Интервью (заказчик) сост','Интервью (HR)','Интервью (руководитель функции)','Интервью (очное, скайп)','Интервью с непосредственным руководителем','ТА интервью','Интервью с НМ','Интервью с HR','Интервью с директором','Телефонное интервью ОК','Интервью с нач колонным','Интервью HR','Интервью состоялось Низохина','Интервью состоялось Козеровская','Результат интервью с рекрутером','Результат интервью с Заказчиком','Интервью с нанимающим менеджером','Приглашен (тел интервью)','Кандидат думает (тел интервью)','Скрининг по телефону  Приглашен на интервью','Тел интервью запланировано','Одобрен после телефонного интервью','Интервью с Заказчиком','Одобрен после интервью с Заказчиком','Телефонное интервью состоялось','Телефонное интервью перезвонить','Интервью назначено','Интервью с руководителем','Интервью с HR состоялось  Кандидат одобрен','Видеоинтервью','Решение по итогам интервью','Тел интервью состоялось Приглашен к Заказчику','Пришел','Пришел (повторно)','Пришел ОА','Пришел ОО','Перенес обучение: пришел','ТИ сост','Тел Инт','Инт с HR','Групповое инт','Кандидат','Уже общался','Направлен клиенту','Годен','Представление Заказчику''Передан заказчику''Общение по вакансии','Дошел до клиента','Инт с заказ',],), \n",
        "(kandidat_sam_otklonil, ['Принял предложение другой компании','Оффер не принят','Предложение отклонено','Оффер отклонен','Неявка на интервью','Не пришел на интервью у заказчика','Не пришел на интервью у рекрутера','Телефонное интервью САМООТКАЗ','Телефонное интервью ОТКАЗ','Отказ кандидата после интервью с Заказчиком','Отказ кандидата после интервью с рекрутером','Не ответил (тел интервью)','Отказ рекрутера (тел интервью)','Отказ кандидата (тел интервью)','Самоотказ после телефонного интервью','Самоотказ после интервью','Кандидат не пришел на встречу','Не пришел (заказчик)','Не пришел ОО','Не пришел','Не пришел (повторно)','Перенес обучение: не пришел','Не отвечает','Приглашение  Кандидат не ответил','Отказ кандидатаУровень дохода','Отказ кандидатаДругое','Отказ кандидата Условия работы','ТИ Самоотказ Местонахождение','ТИ Самоотказ Уровень ЗП','ТИ Самоотказ График работы','ТИ Самоотказ Репутация компании','Отказ не интересны должностные обязанности','Собеседование с HR   Отказ кандидата','Испытательный срок  Отказ кандидата','Собеседование с Заказчиком  Отказ кандидата','Отказался/Нашел работу','Отказ кандидатауровень зп','Отказ по ЗП','Отказ не в поиске','Отказ кандидата','Самоотказ','Отказ кандидата график','Отказ кандидата поиск не актуален','Отказ кандидата прочие причины','Отказ кандидата  территория','Отказ кандидата ЗП','Отказ кандидата по функционалу','Отказ кандидата (телинтю)','Отказ кандидата (другой этап)','Отказ кандидата (другое)','Собеседование САМООТКАЗ','Отказ месторасположение офиса','Отказ не нравится компания','Отказ несоответствие зарплатным ожиданиям','Отказ по графику','Не заключил договор','Расторгнул договор','Неактуально','Не пришёл','Не интересен металлопрокат','Не ищет работу','Не устраивает график','Нерелевантное','Не подходят условия','Не в поисках работы','По другой причине','Не подходит график','Неудобное местоположение','УДАЛИТЬ Не актуален поиск работы УДАЛИТЬ','УДАЛИТЬ Не подошли условия УДАЛИТЬ','УДАЛИТЬ Не устраивает локация УДАЛИТЬ','УДАЛИТЬ Нерелевантный опыт УДАЛИТЬ','Не подходит сфера деятельности компании','Не такси','За авто','МКАД','За МКАД','Дорого','Высокие ЗПО','Декрет','Функционал','Выбрал другую компанию','Территория','Сфера деятельности компании','Отказ кандидата по интервью','Отказ после телефонного интервью','Отказ по итогам интервью с Заказчиком','ОТКАЗ ДО ИНТЕРВЬЮ У КЛИЕНТА','ОТКАЗ ПОСЛЕ ИНТЕРВЬЮ У КЛИЕНТА','Отказ по интервью ТА','Самоотказ РЦ','Отказ соискателя','Скрининг по телефону  Отказ рекрутера','Скрининг по телефону  Отказ кандидата','Отказ рекрутером','Отказ не актуально предложение',], ),\n",
        "(na_rassmotrenii, ['Думает РЦ','Думает МП','Думает','Подумать','Подумает','Кандидат думает','РАЗОБРАТЬ Думает','Тестирование','Тестирование пройдено','Проверка СБ','Отправлен на проверку в СБ','Отправлен на проверку (СБ)','Проверка службы безопасности','СБ ПРОВЕРКА','Рекомендован к дальнейшему рассмотрению','На рассмотрении у заказчика','Рекомендован к рассмотрению руководителю','На рассмотрении заказчика','Рассмотрение Руководитель группы массподбора','СБ','Отправлен на СБ','на сб (через сайт)','Отправка на СБ','Отправлен в СБ','Сбор документов','Сброс звонка','СБ  этап','Резерв после СБ','Назначено собеседование в ресторан','Назначено собеседование в офис','Собеседование','Кандидат был на собеседовании, ждет ОС','Собеседование прошел (директор статус не поставил)','Собеседование с Заказчиком состоялось','Собеседование с HR состоялось','СОБЕСЕДОВАНИЕ С HR','СОБЕСЕДОВАНИЕ С ЗАКАЗЧИКОМ','Очное собеседование','Собеседование ОК','Собеседование состоялось','Собеседование с рекрутером','Собеседование с Заказчиком','Собеседование с заказчиком','Заполнил анкету, директор не подходил','Риски не выявлены','Вопрос клиенту','Сдача площадки','Направлен на медкнижку','Представлен НМ','Получено из ЛО МВД','Отправлено в ДЭБ','Направлен на медкомиссию','Отправлено в ЛО МВД','Отправлено в Отдел пропусков','Замена авто','Скрининг','Тестовое задание','Ожидание справок','Сделан сорсинг (КВАЛ)','Результаты встречи у заказчика','Результат ТЗ, ассессмент, кейсок','Результат ТЗ, ассессмент, кейс','Направлен на МО','Мед осмотр','Направлен на мед комиссию','Директор проставил неверный статус','Лендинг','GBC','КДП','ДЭБ','МК','ТИ состоялось','ИсР Состоялось','Назначен на  этап','Просмотрен Заказчиком','направление на флюорографию','ой этап','Директор проставил неверный статус',], ),\n",
        "(prinyat, ['Телефонное интервью Одобрен','Принят на работу','Предложение принято','Принят на работу после ИС','Оффер принят','ПРИНЯТ НА РАБОТУ','Принят в работу','Кандидат принят на работу','Принят','Резюме принято заказчиком','Заключил договор','Заключил договор (повторно)','На оформление','Оформился','Оформлен','Отправлен на оформление','Оформление в ОТОиКУ','Оформление','Оформление (передача кадровикам)','Тип оформления','Оформление в штат (офис)','Вышел на линию','Вышел на линию (повторно)','Вышел на ИС','Кандидат вышел','Вышел на стажировку','Вышел на работу','Не вышел на линию','Не вышел на линию (повторно)','Не вышел на стажировку','Кандидат не вышел на работу','Не вышел на связь/Не дозвониться','Кандидат не вышел','Испытательный срок','Нанят','ПОДПИСАНИЕ ЗАЯВЛЕНИЯ','Вызван на стажировку','Стажировка','ОФФЕР','Трудоустройство','Стажёр','Пробный день','Прошел обучение','Прошел','Отправка оффера кандидату','Выход на работу','Оффер','Трудоустроен','ИСПЫТАТЕЛЬНЫЙ СРОК',],),\n",
        "(odobren, ['Согласован','Согласование CV','Согласование','Согласован CV','Согласован (Проверка СБ)','Согласование СБ','Согласовано','Согласование резюме с руководителем','Согласование кандидата с заказчиком','Пропуск согласован','Согласован на следующий этап после обзвона','Согласован рекрутером','Согласован  Заказчиком','Согласован заказчиком','Согласовано ДЭБ','Согласован (рекрутер)','Согласован (заказчик)','Согласован (СБ)','Согласование Заказчиком','СБ согласован','ТелИнт согласован','Инт с HR согласован','СБ  этап согласован','Групповое инт согласован','ТД согласован','Инт с заказ  согласован','Кандидат согласован','Приглашение на оформление','Одобрен заказчиком','Кандидат одобрен HR','Одобрен ИР','Полиграф ОДОБРЕН','СБ  одобрен','Одобрен','Одобрен (скрининг)','Одобрен клиентом','Кандидат одобрен заказчиком','Одобрен Ирина','Собеседование с заказчиком Одобрен','Кандидат одобрен Заказчиком','ИС пройден','Мо пройден','Испытательный срок пройдет','МК пройдена Допущен','СБ ok','СБ ОК','СБ Норм','Прошел СБ','СБ nok','Предложение о работе','Площадку сдал','На своем авто','Документы переданы в кадры','Прошел стажировку','Утверждение руководителем','Стажировку прошёл(а)',],),]\n",
        "\n",
        "status_weight = []\n",
        "for weight, statuses in list_status_weight:\n",
        "  for status in statuses:\n",
        "    status_weight.append([status, weight])\n",
        "df_status_weight = pd.DataFrame(status_weight, columns=[\"status\", \"status_weight\"])"
      ]
    },
    {
      "cell_type": "markdown",
      "metadata": {
        "id": "8052zjPWZ2ML"
      },
      "source": [
        "Заргужаем данные из csv"
      ]
    },
    {
      "cell_type": "code",
      "execution_count": 5,
      "metadata": {
        "colab": {
          "base_uri": "https://localhost:8080/"
        },
        "id": "k0jjjT6_WAX4",
        "outputId": "2cb9dc89-1a82-4463-fbf6-0f5b8e1f11e4"
      },
      "outputs": [
        {
          "output_type": "stream",
          "name": "stdout",
          "text": [
            "Mounted at /content/drive\n"
          ]
        }
      ],
      "source": [
        "# Подключение Гугл-диска.\n",
        "#  Надо подключить эту папку: https://drive.google.com/drive/folders/1dlYYOK4Yw_EtKTb-2W736s6vDhUTxCJg?usp=sharing, можно сделать у себя ссылку на неё и обращаться как обычно (по сути добавить ярлык на папку)\n",
        "from google.colab import drive\n",
        "drive.mount('/content/drive')"
      ]
    },
    {
      "cell_type": "code",
      "execution_count": 6,
      "metadata": {
        "id": "cR7a-u7cYcSs"
      },
      "outputs": [],
      "source": [
        "PATH_PROJECT = \"drive/MyDrive/Skolkovo Hack 2022/\"\n",
        "\n",
        "# Кандидаты используется расчширенный датасет (подготовленный отдлеьным скриптом)\n",
        "# filename_candidates = PATH_PROJECT + \"dataset/\" + \"big_ext_data_candidates.csv\"\n",
        "filename_candidates = PATH_PROJECT + \"dataset/\" + \"ext_data_candidates.csv\"\n",
        "# данные по образованию кандидатов\n",
        "filename_education = PATH_PROJECT + \"dataset/\" + \"data_candidates_education.csv\"\n",
        "# места работы кандидатов\n",
        "filename_work_places = PATH_PROJECT + \"dataset/\" + \"data_candidates_work_places.csv\"\n",
        "# Вакансии\n",
        "filename_jobs = PATH_PROJECT + \"dataset/\" + \"data_jobs.csv\""
      ]
    },
    {
      "cell_type": "code",
      "execution_count": 7,
      "metadata": {
        "id": "77SKK2vUZKIi",
        "colab": {
          "base_uri": "https://localhost:8080/"
        },
        "outputId": "ad7b0834-4c20-46c6-a6b9-2b9fd9b16d7e"
      },
      "outputs": [
        {
          "output_type": "execute_result",
          "data": {
            "text/plain": [
              "((122047, 17), (24514, 4), (69758, 6), (648, 5))"
            ]
          },
          "metadata": {},
          "execution_count": 7
        }
      ],
      "source": [
        "candidates_df = pd.read_csv(filename_candidates, sep=\";\", names=['id', 'position', 'sex', \t\n",
        "                                                                 'citizenship', \t'age', 'salary',\t\n",
        "                                                                 'langs', 'driver_license', 'subwey', \n",
        "                                                                 'skills', 'employment', 'shedule', \n",
        "                                                                 'candidate_region', 'date_created', \n",
        "                                                                 'job_id', 'candidate_status_id', 'status'], skiprows=[0])\n",
        "education_df = pd.read_csv(filename_education, sep=\";\", names=['id', 'university', 'faculty', 'graduate_year'])\n",
        "work_places_df = pd.read_csv(filename_work_places, sep=\";\", names=['id', 'work_place_position', 'from_year', \t'from_month', 'to_year', 'to_month'])\n",
        "jobs_df = pd.read_csv(filename_jobs, sep=\";\", names=['job_id', 'job_status', 'job_name', \t'job_region', 'job_description'])\n",
        "\n",
        "candidates_df.shape, education_df.shape, work_places_df.shape, jobs_df.shape"
      ]
    },
    {
      "cell_type": "code",
      "source": [
        "# candidates_df[\"id\"] = candidates_df[\"id\"].astype(int)\n",
        "# union_df['salary']\n",
        "# candidates_df.head(5)"
      ],
      "metadata": {
        "id": "_2LYj3JPx4va"
      },
      "execution_count": 8,
      "outputs": []
    },
    {
      "cell_type": "markdown",
      "metadata": {
        "id": "qIW8uQ-saBRz"
      },
      "source": [
        "Удаляем дубли в данных (Дубли определяются по Id)"
      ]
    },
    {
      "cell_type": "code",
      "execution_count": 9,
      "metadata": {
        "id": "4EcWTlOiAK9s",
        "colab": {
          "base_uri": "https://localhost:8080/"
        },
        "outputId": "9075010b-2727-40d6-f992-f2f57133b1bd"
      },
      "outputs": [
        {
          "output_type": "execute_result",
          "data": {
            "text/plain": [
              "((122047, 17), (17601, 4), (21683, 6), (648, 5), (533, 2))"
            ]
          },
          "metadata": {},
          "execution_count": 9
        }
      ],
      "source": [
        "# Удаление дублей по Id\n",
        "candidates_mask = candidates_df.duplicated(subset=[\"id\", \"job_id\"])\n",
        "candidates_df = candidates_df.loc[~candidates_mask]\n",
        "\n",
        "education_mask = education_df.duplicated(subset=[\"id\"])\n",
        "education_df = education_df.loc[~education_mask]\n",
        "\n",
        "work_places_mask = work_places_df.duplicated(subset=[\"id\"])\n",
        "work_places_df = work_places_df.loc[~work_places_mask]\n",
        "\n",
        "jobs_mask = jobs_df.duplicated(subset=[\"job_id\"])\n",
        "jobs_df = jobs_df.loc[~jobs_mask]\n",
        "\n",
        "status_weight_mask = df_status_weight.duplicated(subset=[\"status\"])\n",
        "df_status_weight = df_status_weight.loc[~status_weight_mask]\n",
        "\n",
        "candidates_df.shape, education_df.shape, work_places_df.shape, jobs_df.shape, df_status_weight.shape"
      ]
    },
    {
      "cell_type": "markdown",
      "source": [
        "# Генерация дополниетлных данных\n",
        "На вход системе поданы относительно \"позитивные\" данные, когда кандидат был рассмотрен на должность, т.е. заведомо связанные данные вакансии и кандидата. Однако для поиска признака на сколько подходят вакансия и кандидат необходмио иметь негативный набор данных. Его можно сгенерировать из существующих данных.\n",
        "\n",
        "За основу негативных данных можно взять такие связь вакансия-кандидат, у которых схожесть в названии вакансий маскимально низкая\n",
        "\n",
        "\n",
        "Генерация данных реализована в отдельном файле: generate_negative_data.py"
      ],
      "metadata": {
        "id": "_F9Mv7-VX5G-"
      }
    },
    {
      "cell_type": "markdown",
      "source": [
        "# Обрабатываем данные"
      ],
      "metadata": {
        "id": "ZlJu-zCuk2HD"
      }
    },
    {
      "cell_type": "markdown",
      "metadata": {
        "id": "MKEkRqNmaPNr"
      },
      "source": [
        "Объединяем все таблицы в одну"
      ]
    },
    {
      "cell_type": "code",
      "execution_count": 10,
      "metadata": {
        "id": "yELvWcD3aOxj",
        "colab": {
          "base_uri": "https://localhost:8080/"
        },
        "outputId": "b5d1dbcf-cbab-49c3-9054-8e22b2fc9b89"
      },
      "outputs": [
        {
          "output_type": "execute_result",
          "data": {
            "text/plain": [
              "(122047, 30)"
            ]
          },
          "metadata": {},
          "execution_count": 10
        }
      ],
      "source": [
        "# объединяем кандидатов с данными об образовании (по \"id\")\n",
        "union_df = candidates_df.merge(education_df, how=\"left\", left_on=\"id\", right_on=\"id\")\n",
        "\n",
        "# объединяем кандидатов с данными об опыте работы (по \"id\")\n",
        "union_df = union_df.merge(work_places_df, how=\"left\", left_on=\"id\", right_on=\"id\")\n",
        "\n",
        "# объединяем кандидатов с данными по вакансии (по \"job_id\")\n",
        "union_df = union_df.merge(jobs_df, how=\"left\", left_on=\"job_id\", right_on=\"job_id\")\n",
        "\n",
        "# объединяем кандидатов с весами по статусам (по \"status\")\n",
        "union_df = union_df.merge(df_status_weight, how=\"left\", left_on=\"status\", right_on=\"status\")\n",
        "union_df.status_weight = union_df.status_weight.fillna(default_fillna_status_weight)\n",
        "\n",
        "union_df.shape"
      ]
    },
    {
      "cell_type": "markdown",
      "metadata": {
        "id": "IDNIO5SM8jNS"
      },
      "source": [
        "Обеспечиваем, что текстовые поля точно текстовые"
      ]
    },
    {
      "cell_type": "code",
      "execution_count": 11,
      "metadata": {
        "id": "T7QNbJQV8klJ"
      },
      "outputs": [],
      "source": [
        "union_df[\"position\"] = union_df[\"position\"].astype({\"position\": 'str'})\n",
        "union_df[\"job_name\"] = union_df[\"job_name\"].astype({\"job_name\": 'str'})\n",
        "union_df[\"skills\"] = union_df[\"skills\"].astype({\"skills\": 'str'})\n",
        "union_df[\"job_description\"] = union_df[\"job_description\"].astype({\"job_description\": 'str'})"
      ]
    },
    {
      "cell_type": "code",
      "execution_count": 12,
      "metadata": {
        "id": "wtWhLPB4EL8c"
      },
      "outputs": [],
      "source": [
        "# for CatBoost\n",
        "union = union_df.copy()"
      ]
    },
    {
      "cell_type": "markdown",
      "metadata": {
        "id": "RoRnGcE2gopm"
      },
      "source": [
        "# Предобработка данных"
      ]
    },
    {
      "cell_type": "markdown",
      "metadata": {
        "id": "V-I2JSBoBzkh"
      },
      "source": [
        "## Корректируем данные"
      ]
    },
    {
      "cell_type": "markdown",
      "metadata": {
        "id": "_tK2dVykAdeM"
      },
      "source": [
        "#### Корректируем данные Возраста"
      ]
    },
    {
      "cell_type": "code",
      "execution_count": 13,
      "metadata": {
        "id": "4u7epzUCBzAR",
        "colab": {
          "base_uri": "https://localhost:8080/"
        },
        "outputId": "2bf9305d-51a1-489b-b932-3def8b42c1ec"
      },
      "outputs": [
        {
          "output_type": "execute_result",
          "data": {
            "text/plain": [
              "array([23, 31, 27, 28, 22,  0, 21, 29, 30, 24, 46, 52, 49, 48, 39, 45, 38,\n",
              "       35, 42, 43, 32, 41, 40, 37, 34, 33, 50, 44, 51, 47, 36, 25, 20, 26,\n",
              "       59, 56, 54, 60, 55, 58, 53, 18, 57, 61, 19, 64, 62, 65, 63, 68, 66,\n",
              "       70, 67])"
            ]
          },
          "metadata": {},
          "execution_count": 13
        }
      ],
      "source": [
        "# Будем править Возраст по правилам: если больше > 70, то 70 если меньше 0, то 0, если от 1 до 18 то 18\n",
        "union_df.loc[union_df['age'] > 70, 'age'] = 70\n",
        "union_df.loc[union_df['age'] < 0, 'age'] = 0\n",
        "union_df.loc[(union_df['age'] > 0) & (union_df['age'] < 18), 'age'] = 18\n",
        "union_df.age.unique()"
      ]
    },
    {
      "cell_type": "markdown",
      "metadata": {
        "id": "n0zjv4iYDsf0"
      },
      "source": [
        "#### Корректируем данные по Зарплате"
      ]
    },
    {
      "cell_type": "code",
      "execution_count": 14,
      "metadata": {
        "id": "vrPCNbboDrY2",
        "colab": {
          "base_uri": "https://localhost:8080/"
        },
        "outputId": "4d7494ac-960f-469a-dee6-c8fc7d7b1e0a"
      },
      "outputs": [
        {
          "output_type": "execute_result",
          "data": {
            "text/plain": [
              "array([     0,  45000,  40000,  35000,  50000,  25000,  30000,  55000,\n",
              "        36000,  29500,  41000,  60000,  28000,  20000,  38000,  90000,\n",
              "        45999,  33333,  42000,  65000,  37000,  33000,  39000,  80000,\n",
              "        70000,  75000,  23000,  29600,  22000,  24000,  21000,  24500,\n",
              "       100000,  27000,  32500,  72999,  32000,  29000,  31000,  49000,\n",
              "        46000,  34500,  43000,  53000,  48000, 150000,  95000,  26000,\n",
              "        29999,  22500,  28500,  22222,  99999,  30400,  85000, 200000,\n",
              "        28522,  30009,  45800, 120000, 140726,  26500,  34000, 110000,\n",
              "        99000,  25800,  51000,  38400,  72000,  32900,  44000,  31999,\n",
              "       115000,  47000,  27500,  25555,  78000, 160000,  22777,  24200,\n",
              "        65500,  51500,  42500,  60100,  57000,  79000, 130000, 180000,\n",
              "       113000, 116000,  58000,  77777,  44500, 123456,  50999,  87000,\n",
              "        63000,  83000,  69000,  67000, 140000,  68000,  52500, 101000,\n",
              "        98200,  66000, 105000, 177000,  69900,  77000,  76000,  99990,\n",
              "        56000, 125000, 155000, 109000,  47850, 135000,  52000,  69999,\n",
              "        50582, 145000,  50500,  93200,  88000,  46500,  25500,  37500,\n",
              "        59000, 170000,  89000,  71000,  86000, 111000,  65250,  68888,\n",
              "        54000])"
            ]
          },
          "metadata": {},
          "execution_count": 14
        }
      ],
      "source": [
        "# Будем править Зарплату по правилам: если больше 0 но меньше 20000, то 20000, если больше 200 000 то 200 000\n",
        "union_df.loc[union_df['salary'] > 200000, 'salary'] = 200000\n",
        "union_df.loc[(union_df['salary'] > 0) & (union_df['salary'] < 20000), 'salary'] = 20000\n",
        "union_df.salary.unique()"
      ]
    },
    {
      "cell_type": "markdown",
      "metadata": {
        "id": "ukxRAVFHORXr"
      },
      "source": [
        "#### Корректируем данные по Категориям прав"
      ]
    },
    {
      "cell_type": "code",
      "execution_count": 15,
      "metadata": {
        "id": "CQ1-dlEjOmKD"
      },
      "outputs": [],
      "source": [
        "# для кандидатов водителей ставим по умолчанию права ставим на категорию \"B\"\n",
        "union_df.loc[union_df['position'].astype(str).str.contains(\"Водит|водит|авто|дитель|такс|ВОДИТ|Перегон|ПЕРЕГОН|перегон|Трактор|ТРАКТОР|трактор|Перевоз|ПЕРЕВОЗ|перевоз\"), 'driver_license'] = union_df.loc[union_df['position'].astype(str).str.contains(\"Водит|водит|авто|дитель|такс|ВОДИТ|Перегон|ПЕРЕГОН|перегон|Трактор|ТРАКТОР|трактор|Перевоз|ПЕРЕВОЗ|перевоз\"), 'driver_license'].fillna(\"B\")"
      ]
    },
    {
      "cell_type": "markdown",
      "metadata": {
        "id": "KzXXLi4ZOJIM"
      },
      "source": [
        "Права могут быть различных категорий, указываем каждый тип прав как отдельны столбец"
      ]
    },
    {
      "cell_type": "code",
      "execution_count": 16,
      "metadata": {
        "id": "dEMOZ1UkOJPz"
      },
      "outputs": [],
      "source": [
        "# Права могут быть различных категорий, указываем каждый тип прав как отдельны столбец\n",
        "union_df['driver_license_BE'] = np.where(union_df['driver_license'].astype(str).str.contains(\"BE|Be|bE|be|ВЕ|ве|Ве|вЕ\") , 1, 0)\n",
        "union_df['driver_license_DE'] = np.where(union_df['driver_license'].astype(str).str.contains(\"DE|de|De|dE|DЕ|dе|Dе|dЕ\") , 1, 0)\n",
        "union_df['driver_license_CE'] = np.where(union_df['driver_license'].astype(str).str.contains(\"CE|ce|Ce|cE|СЕ|се|Се|сЕ\") , 1, 0)\n",
        "union_df['driver_license_E'] = np.where(union_df['driver_license'].astype(str).str.contains(\"E|e|Е|е\") , 1, 0)\n",
        "union_df['driver_license_D'] = np.where(union_df['driver_license'].astype(str).str.contains(\"D|d\") , 1, 0)\n",
        "union_df['driver_license_C'] = np.where(union_df['driver_license'].astype(str).str.contains(\"C|c|С|с\") , 1, 0)\n",
        "union_df['driver_license_B'] = np.where(union_df['driver_license'].astype(str).str.contains(\"B|b|В|в\") , 1, 0)\n",
        "union_df['driver_license_A'] = np.where(union_df['driver_license'].astype(str).str.contains(\"A|a|А|а\") , 1, 0)"
      ]
    },
    {
      "cell_type": "code",
      "execution_count": 17,
      "metadata": {
        "id": "nWYNFZlbPe_v",
        "colab": {
          "base_uri": "https://localhost:8080/",
          "height": 426
        },
        "outputId": "464b013d-3470-4282-e0cf-656601c117a0"
      },
      "outputs": [
        {
          "output_type": "execute_result",
          "data": {
            "text/plain": [
              "                                               position driver_license  \\\n",
              "3110  Кладовщик, комплектовщик, работник склада, про...            NaN   \n",
              "3111                                           Менеджер            NaN   \n",
              "3112                                     Мастер участка            NaN   \n",
              "3113               Водитель-курьер с личным автомобилем              B   \n",
              "3114                                           водитель              B   \n",
              "\n",
              "              job_name  driver_license_BE  driver_license_DE  \\\n",
              "3110  Водитель Воронеж                  0                  0   \n",
              "3111  Водитель Воронеж                  0                  0   \n",
              "3112  Водитель Воронеж                  0                  0   \n",
              "3113  Водитель Воронеж                  0                  0   \n",
              "3114  Водитель Воронеж                  0                  0   \n",
              "\n",
              "      driver_license_CE  driver_license_E  driver_license_D  driver_license_C  \\\n",
              "3110                  0                 0                 0                 0   \n",
              "3111                  0                 0                 0                 0   \n",
              "3112                  0                 0                 0                 0   \n",
              "3113                  0                 0                 0                 0   \n",
              "3114                  0                 0                 0                 0   \n",
              "\n",
              "      driver_license_B  driver_license_A  \n",
              "3110                 0                 1  \n",
              "3111                 0                 1  \n",
              "3112                 0                 1  \n",
              "3113                 1                 0  \n",
              "3114                 1                 0  "
            ],
            "text/html": [
              "\n",
              "  <div id=\"df-1d313466-9a6c-4100-8d7c-fa6303296b89\">\n",
              "    <div class=\"colab-df-container\">\n",
              "      <div>\n",
              "<style scoped>\n",
              "    .dataframe tbody tr th:only-of-type {\n",
              "        vertical-align: middle;\n",
              "    }\n",
              "\n",
              "    .dataframe tbody tr th {\n",
              "        vertical-align: top;\n",
              "    }\n",
              "\n",
              "    .dataframe thead th {\n",
              "        text-align: right;\n",
              "    }\n",
              "</style>\n",
              "<table border=\"1\" class=\"dataframe\">\n",
              "  <thead>\n",
              "    <tr style=\"text-align: right;\">\n",
              "      <th></th>\n",
              "      <th>position</th>\n",
              "      <th>driver_license</th>\n",
              "      <th>job_name</th>\n",
              "      <th>driver_license_BE</th>\n",
              "      <th>driver_license_DE</th>\n",
              "      <th>driver_license_CE</th>\n",
              "      <th>driver_license_E</th>\n",
              "      <th>driver_license_D</th>\n",
              "      <th>driver_license_C</th>\n",
              "      <th>driver_license_B</th>\n",
              "      <th>driver_license_A</th>\n",
              "    </tr>\n",
              "  </thead>\n",
              "  <tbody>\n",
              "    <tr>\n",
              "      <th>3110</th>\n",
              "      <td>Кладовщик, комплектовщик, работник склада, про...</td>\n",
              "      <td>NaN</td>\n",
              "      <td>Водитель Воронеж</td>\n",
              "      <td>0</td>\n",
              "      <td>0</td>\n",
              "      <td>0</td>\n",
              "      <td>0</td>\n",
              "      <td>0</td>\n",
              "      <td>0</td>\n",
              "      <td>0</td>\n",
              "      <td>1</td>\n",
              "    </tr>\n",
              "    <tr>\n",
              "      <th>3111</th>\n",
              "      <td>Менеджер</td>\n",
              "      <td>NaN</td>\n",
              "      <td>Водитель Воронеж</td>\n",
              "      <td>0</td>\n",
              "      <td>0</td>\n",
              "      <td>0</td>\n",
              "      <td>0</td>\n",
              "      <td>0</td>\n",
              "      <td>0</td>\n",
              "      <td>0</td>\n",
              "      <td>1</td>\n",
              "    </tr>\n",
              "    <tr>\n",
              "      <th>3112</th>\n",
              "      <td>Мастер участка</td>\n",
              "      <td>NaN</td>\n",
              "      <td>Водитель Воронеж</td>\n",
              "      <td>0</td>\n",
              "      <td>0</td>\n",
              "      <td>0</td>\n",
              "      <td>0</td>\n",
              "      <td>0</td>\n",
              "      <td>0</td>\n",
              "      <td>0</td>\n",
              "      <td>1</td>\n",
              "    </tr>\n",
              "    <tr>\n",
              "      <th>3113</th>\n",
              "      <td>Водитель-курьер с личным автомобилем</td>\n",
              "      <td>B</td>\n",
              "      <td>Водитель Воронеж</td>\n",
              "      <td>0</td>\n",
              "      <td>0</td>\n",
              "      <td>0</td>\n",
              "      <td>0</td>\n",
              "      <td>0</td>\n",
              "      <td>0</td>\n",
              "      <td>1</td>\n",
              "      <td>0</td>\n",
              "    </tr>\n",
              "    <tr>\n",
              "      <th>3114</th>\n",
              "      <td>водитель</td>\n",
              "      <td>B</td>\n",
              "      <td>Водитель Воронеж</td>\n",
              "      <td>0</td>\n",
              "      <td>0</td>\n",
              "      <td>0</td>\n",
              "      <td>0</td>\n",
              "      <td>0</td>\n",
              "      <td>0</td>\n",
              "      <td>1</td>\n",
              "      <td>0</td>\n",
              "    </tr>\n",
              "  </tbody>\n",
              "</table>\n",
              "</div>\n",
              "      <button class=\"colab-df-convert\" onclick=\"convertToInteractive('df-1d313466-9a6c-4100-8d7c-fa6303296b89')\"\n",
              "              title=\"Convert this dataframe to an interactive table.\"\n",
              "              style=\"display:none;\">\n",
              "        \n",
              "  <svg xmlns=\"http://www.w3.org/2000/svg\" height=\"24px\"viewBox=\"0 0 24 24\"\n",
              "       width=\"24px\">\n",
              "    <path d=\"M0 0h24v24H0V0z\" fill=\"none\"/>\n",
              "    <path d=\"M18.56 5.44l.94 2.06.94-2.06 2.06-.94-2.06-.94-.94-2.06-.94 2.06-2.06.94zm-11 1L8.5 8.5l.94-2.06 2.06-.94-2.06-.94L8.5 2.5l-.94 2.06-2.06.94zm10 10l.94 2.06.94-2.06 2.06-.94-2.06-.94-.94-2.06-.94 2.06-2.06.94z\"/><path d=\"M17.41 7.96l-1.37-1.37c-.4-.4-.92-.59-1.43-.59-.52 0-1.04.2-1.43.59L10.3 9.45l-7.72 7.72c-.78.78-.78 2.05 0 2.83L4 21.41c.39.39.9.59 1.41.59.51 0 1.02-.2 1.41-.59l7.78-7.78 2.81-2.81c.8-.78.8-2.07 0-2.86zM5.41 20L4 18.59l7.72-7.72 1.47 1.35L5.41 20z\"/>\n",
              "  </svg>\n",
              "      </button>\n",
              "      \n",
              "  <style>\n",
              "    .colab-df-container {\n",
              "      display:flex;\n",
              "      flex-wrap:wrap;\n",
              "      gap: 12px;\n",
              "    }\n",
              "\n",
              "    .colab-df-convert {\n",
              "      background-color: #E8F0FE;\n",
              "      border: none;\n",
              "      border-radius: 50%;\n",
              "      cursor: pointer;\n",
              "      display: none;\n",
              "      fill: #1967D2;\n",
              "      height: 32px;\n",
              "      padding: 0 0 0 0;\n",
              "      width: 32px;\n",
              "    }\n",
              "\n",
              "    .colab-df-convert:hover {\n",
              "      background-color: #E2EBFA;\n",
              "      box-shadow: 0px 1px 2px rgba(60, 64, 67, 0.3), 0px 1px 3px 1px rgba(60, 64, 67, 0.15);\n",
              "      fill: #174EA6;\n",
              "    }\n",
              "\n",
              "    [theme=dark] .colab-df-convert {\n",
              "      background-color: #3B4455;\n",
              "      fill: #D2E3FC;\n",
              "    }\n",
              "\n",
              "    [theme=dark] .colab-df-convert:hover {\n",
              "      background-color: #434B5C;\n",
              "      box-shadow: 0px 1px 3px 1px rgba(0, 0, 0, 0.15);\n",
              "      filter: drop-shadow(0px 1px 2px rgba(0, 0, 0, 0.3));\n",
              "      fill: #FFFFFF;\n",
              "    }\n",
              "  </style>\n",
              "\n",
              "      <script>\n",
              "        const buttonEl =\n",
              "          document.querySelector('#df-1d313466-9a6c-4100-8d7c-fa6303296b89 button.colab-df-convert');\n",
              "        buttonEl.style.display =\n",
              "          google.colab.kernel.accessAllowed ? 'block' : 'none';\n",
              "\n",
              "        async function convertToInteractive(key) {\n",
              "          const element = document.querySelector('#df-1d313466-9a6c-4100-8d7c-fa6303296b89');\n",
              "          const dataTable =\n",
              "            await google.colab.kernel.invokeFunction('convertToInteractive',\n",
              "                                                     [key], {});\n",
              "          if (!dataTable) return;\n",
              "\n",
              "          const docLinkHtml = 'Like what you see? Visit the ' +\n",
              "            '<a target=\"_blank\" href=https://colab.research.google.com/notebooks/data_table.ipynb>data table notebook</a>'\n",
              "            + ' to learn more about interactive tables.';\n",
              "          element.innerHTML = '';\n",
              "          dataTable['output_type'] = 'display_data';\n",
              "          await google.colab.output.renderOutput(dataTable, element);\n",
              "          const docLink = document.createElement('div');\n",
              "          docLink.innerHTML = docLinkHtml;\n",
              "          element.appendChild(docLink);\n",
              "        }\n",
              "      </script>\n",
              "    </div>\n",
              "  </div>\n",
              "  "
            ]
          },
          "metadata": {},
          "execution_count": 17
        }
      ],
      "source": [
        "union_df[3110:3115][[\"position\", \"driver_license\" ,\"job_name\", 'driver_license_BE', 'driver_license_DE', 'driver_license_CE', 'driver_license_E', 'driver_license_D', 'driver_license_C', 'driver_license_B', 'driver_license_A']]"
      ]
    },
    {
      "cell_type": "markdown",
      "metadata": {
        "id": "MtA4IIg5gCLS"
      },
      "source": [
        "#### Корректируем данные по Образованию"
      ]
    },
    {
      "cell_type": "markdown",
      "metadata": {
        "id": "eDNsfvU9f7P6"
      },
      "source": [
        "По образованию будет упрощенный варинат: будет три столбца: школа, технарь, универ.\n",
        "\n",
        "Если в текстовом описании данных по обучению есть намек на универ, значит ставим три единицы (школа+ технарь + универ)\n",
        "\n",
        "Если описание обучения есть у кандидата, но там нет намека на универ и нет слов со школой, то ставим две единицы в столбцах школа и технарь\n",
        "\n",
        "Подразумеваем что школу окончили все, раз резюме смогли написать. Таким образом этот параметр нет смысла учитывать во входных параметрах так как он будет у всех"
      ]
    },
    {
      "cell_type": "code",
      "execution_count": 18,
      "metadata": {
        "id": "qUinGHIcf-7a",
        "colab": {
          "base_uri": "https://localhost:8080/",
          "height": 502
        },
        "outputId": "32bd8f48-1a0b-4cf1-ff27-cdff5248a941"
      },
      "outputs": [
        {
          "output_type": "execute_result",
          "data": {
            "text/plain": [
              "                                             university  \\\n",
              "1100  Северо-Западный государственный заочный технич...   \n",
              "1101  Мичуринский государственный педагогический инс...   \n",
              "1102                                                NaN   \n",
              "1103                                               плжт   \n",
              "1104                            Индустриальный техникум   \n",
              "...                                                 ...   \n",
              "1695                                                NaN   \n",
              "1696                                          Запорожье   \n",
              "1697                                                NaN   \n",
              "1698                                                NaN   \n",
              "1699                                                NaN   \n",
              "\n",
              "                                                faculty  high_education  \\\n",
              "1100               Автомобили и автомобильное хозяйство               1   \n",
              "1101  Начальные классы, Технология и предприниматель...               1   \n",
              "1102                                                NaN               0   \n",
              "1103                                 Помощник машиниста               0   \n",
              "1104                                        Автомеханик               0   \n",
              "...                                                 ...             ...   \n",
              "1695                                                NaN               0   \n",
              "1696                                                NaN               0   \n",
              "1697                                                NaN               0   \n",
              "1698                                                NaN               0   \n",
              "1699                                                NaN               0   \n",
              "\n",
              "      middle_education  \n",
              "1100                 1  \n",
              "1101                 1  \n",
              "1102                 0  \n",
              "1103                 1  \n",
              "1104                 1  \n",
              "...                ...  \n",
              "1695                 0  \n",
              "1696                 1  \n",
              "1697                 0  \n",
              "1698                 0  \n",
              "1699                 0  \n",
              "\n",
              "[600 rows x 4 columns]"
            ],
            "text/html": [
              "\n",
              "  <div id=\"df-c26db0a3-744b-41e6-8aa1-651deb630b7a\">\n",
              "    <div class=\"colab-df-container\">\n",
              "      <div>\n",
              "<style scoped>\n",
              "    .dataframe tbody tr th:only-of-type {\n",
              "        vertical-align: middle;\n",
              "    }\n",
              "\n",
              "    .dataframe tbody tr th {\n",
              "        vertical-align: top;\n",
              "    }\n",
              "\n",
              "    .dataframe thead th {\n",
              "        text-align: right;\n",
              "    }\n",
              "</style>\n",
              "<table border=\"1\" class=\"dataframe\">\n",
              "  <thead>\n",
              "    <tr style=\"text-align: right;\">\n",
              "      <th></th>\n",
              "      <th>university</th>\n",
              "      <th>faculty</th>\n",
              "      <th>high_education</th>\n",
              "      <th>middle_education</th>\n",
              "    </tr>\n",
              "  </thead>\n",
              "  <tbody>\n",
              "    <tr>\n",
              "      <th>1100</th>\n",
              "      <td>Северо-Западный государственный заочный технич...</td>\n",
              "      <td>Автомобили и автомобильное хозяйство</td>\n",
              "      <td>1</td>\n",
              "      <td>1</td>\n",
              "    </tr>\n",
              "    <tr>\n",
              "      <th>1101</th>\n",
              "      <td>Мичуринский государственный педагогический инс...</td>\n",
              "      <td>Начальные классы, Технология и предприниматель...</td>\n",
              "      <td>1</td>\n",
              "      <td>1</td>\n",
              "    </tr>\n",
              "    <tr>\n",
              "      <th>1102</th>\n",
              "      <td>NaN</td>\n",
              "      <td>NaN</td>\n",
              "      <td>0</td>\n",
              "      <td>0</td>\n",
              "    </tr>\n",
              "    <tr>\n",
              "      <th>1103</th>\n",
              "      <td>плжт</td>\n",
              "      <td>Помощник машиниста</td>\n",
              "      <td>0</td>\n",
              "      <td>1</td>\n",
              "    </tr>\n",
              "    <tr>\n",
              "      <th>1104</th>\n",
              "      <td>Индустриальный техникум</td>\n",
              "      <td>Автомеханик</td>\n",
              "      <td>0</td>\n",
              "      <td>1</td>\n",
              "    </tr>\n",
              "    <tr>\n",
              "      <th>...</th>\n",
              "      <td>...</td>\n",
              "      <td>...</td>\n",
              "      <td>...</td>\n",
              "      <td>...</td>\n",
              "    </tr>\n",
              "    <tr>\n",
              "      <th>1695</th>\n",
              "      <td>NaN</td>\n",
              "      <td>NaN</td>\n",
              "      <td>0</td>\n",
              "      <td>0</td>\n",
              "    </tr>\n",
              "    <tr>\n",
              "      <th>1696</th>\n",
              "      <td>Запорожье</td>\n",
              "      <td>NaN</td>\n",
              "      <td>0</td>\n",
              "      <td>1</td>\n",
              "    </tr>\n",
              "    <tr>\n",
              "      <th>1697</th>\n",
              "      <td>NaN</td>\n",
              "      <td>NaN</td>\n",
              "      <td>0</td>\n",
              "      <td>0</td>\n",
              "    </tr>\n",
              "    <tr>\n",
              "      <th>1698</th>\n",
              "      <td>NaN</td>\n",
              "      <td>NaN</td>\n",
              "      <td>0</td>\n",
              "      <td>0</td>\n",
              "    </tr>\n",
              "    <tr>\n",
              "      <th>1699</th>\n",
              "      <td>NaN</td>\n",
              "      <td>NaN</td>\n",
              "      <td>0</td>\n",
              "      <td>0</td>\n",
              "    </tr>\n",
              "  </tbody>\n",
              "</table>\n",
              "<p>600 rows × 4 columns</p>\n",
              "</div>\n",
              "      <button class=\"colab-df-convert\" onclick=\"convertToInteractive('df-c26db0a3-744b-41e6-8aa1-651deb630b7a')\"\n",
              "              title=\"Convert this dataframe to an interactive table.\"\n",
              "              style=\"display:none;\">\n",
              "        \n",
              "  <svg xmlns=\"http://www.w3.org/2000/svg\" height=\"24px\"viewBox=\"0 0 24 24\"\n",
              "       width=\"24px\">\n",
              "    <path d=\"M0 0h24v24H0V0z\" fill=\"none\"/>\n",
              "    <path d=\"M18.56 5.44l.94 2.06.94-2.06 2.06-.94-2.06-.94-.94-2.06-.94 2.06-2.06.94zm-11 1L8.5 8.5l.94-2.06 2.06-.94-2.06-.94L8.5 2.5l-.94 2.06-2.06.94zm10 10l.94 2.06.94-2.06 2.06-.94-2.06-.94-.94-2.06-.94 2.06-2.06.94z\"/><path d=\"M17.41 7.96l-1.37-1.37c-.4-.4-.92-.59-1.43-.59-.52 0-1.04.2-1.43.59L10.3 9.45l-7.72 7.72c-.78.78-.78 2.05 0 2.83L4 21.41c.39.39.9.59 1.41.59.51 0 1.02-.2 1.41-.59l7.78-7.78 2.81-2.81c.8-.78.8-2.07 0-2.86zM5.41 20L4 18.59l7.72-7.72 1.47 1.35L5.41 20z\"/>\n",
              "  </svg>\n",
              "      </button>\n",
              "      \n",
              "  <style>\n",
              "    .colab-df-container {\n",
              "      display:flex;\n",
              "      flex-wrap:wrap;\n",
              "      gap: 12px;\n",
              "    }\n",
              "\n",
              "    .colab-df-convert {\n",
              "      background-color: #E8F0FE;\n",
              "      border: none;\n",
              "      border-radius: 50%;\n",
              "      cursor: pointer;\n",
              "      display: none;\n",
              "      fill: #1967D2;\n",
              "      height: 32px;\n",
              "      padding: 0 0 0 0;\n",
              "      width: 32px;\n",
              "    }\n",
              "\n",
              "    .colab-df-convert:hover {\n",
              "      background-color: #E2EBFA;\n",
              "      box-shadow: 0px 1px 2px rgba(60, 64, 67, 0.3), 0px 1px 3px 1px rgba(60, 64, 67, 0.15);\n",
              "      fill: #174EA6;\n",
              "    }\n",
              "\n",
              "    [theme=dark] .colab-df-convert {\n",
              "      background-color: #3B4455;\n",
              "      fill: #D2E3FC;\n",
              "    }\n",
              "\n",
              "    [theme=dark] .colab-df-convert:hover {\n",
              "      background-color: #434B5C;\n",
              "      box-shadow: 0px 1px 3px 1px rgba(0, 0, 0, 0.15);\n",
              "      filter: drop-shadow(0px 1px 2px rgba(0, 0, 0, 0.3));\n",
              "      fill: #FFFFFF;\n",
              "    }\n",
              "  </style>\n",
              "\n",
              "      <script>\n",
              "        const buttonEl =\n",
              "          document.querySelector('#df-c26db0a3-744b-41e6-8aa1-651deb630b7a button.colab-df-convert');\n",
              "        buttonEl.style.display =\n",
              "          google.colab.kernel.accessAllowed ? 'block' : 'none';\n",
              "\n",
              "        async function convertToInteractive(key) {\n",
              "          const element = document.querySelector('#df-c26db0a3-744b-41e6-8aa1-651deb630b7a');\n",
              "          const dataTable =\n",
              "            await google.colab.kernel.invokeFunction('convertToInteractive',\n",
              "                                                     [key], {});\n",
              "          if (!dataTable) return;\n",
              "\n",
              "          const docLinkHtml = 'Like what you see? Visit the ' +\n",
              "            '<a target=\"_blank\" href=https://colab.research.google.com/notebooks/data_table.ipynb>data table notebook</a>'\n",
              "            + ' to learn more about interactive tables.';\n",
              "          element.innerHTML = '';\n",
              "          dataTable['output_type'] = 'display_data';\n",
              "          await google.colab.output.renderOutput(dataTable, element);\n",
              "          const docLink = document.createElement('div');\n",
              "          docLink.innerHTML = docLinkHtml;\n",
              "          element.appendChild(docLink);\n",
              "        }\n",
              "      </script>\n",
              "    </div>\n",
              "  </div>\n",
              "  "
            ]
          },
          "metadata": {},
          "execution_count": 18
        }
      ],
      "source": [
        "# Корректируем данные по Образованию\n",
        "union_df['high_education'] = np.where(union_df['university'].astype(str).str.contains(\"Унив|УНИВ|унив|Инст|инст|ИНСТ|акад|Акад|АКАД|МИ|НИУ|МЭ|МИ|МА|МГ|МТ|МУ|МК|МП\") | union_df['faculty'].astype(str).str.contains(\"Унив|УНИВ|унив|Инст|инст|ИНСТ|акад|Акад|АКАД|МИ|НИУ|МЭ|МИ|МА|МГ|МТ|МУ|МК|МП\") , 1, 0)\n",
        "union_df['middle_education'] = np.where(union_df['university'].notnull() & ~union_df['university'].astype(str).str.contains(\"СОШ|сош|школ|ШК|Школ|ШКОЛ|СШ\"), 1, 0)\n",
        "# union_df['school_education'] = 1 # Школа считаем, что у всех не учитываем её \n",
        "\n",
        "union_df[[\"university\", \"faculty\",\"high_education\",\"middle_education\" ]][1100:1700]"
      ]
    },
    {
      "cell_type": "markdown",
      "metadata": {
        "id": "jc3XnGPgf-OS"
      },
      "source": []
    },
    {
      "cell_type": "code",
      "execution_count": 18,
      "metadata": {
        "id": "fXBP1KoQf-Vi"
      },
      "outputs": [],
      "source": []
    },
    {
      "cell_type": "markdown",
      "metadata": {
        "id": "utKTk2UFvbaU"
      },
      "source": [
        "## Оцифровка параметров\n",
        "\n",
        "- для жестко заданных параметров использовать предопредленые словари\n",
        "- для изменяющихся словарей использовать функцию по автоматическому определению цифрофого кода\n",
        "- для текста сделать Embending или BoW"
      ]
    },
    {
      "cell_type": "markdown",
      "metadata": {
        "id": "n3eMVDv_vleK"
      },
      "source": [
        "#### Определяем статические словари\n",
        "Словари для жестко заданных параметров: employment, shedule, sex, job_status \n",
        "\n",
        "sex и job_status уже идут в цифре, но в условии даны их словесные варианты словарей, на всякий случай для них тоже сделана оцифровка"
      ]
    },
    {
      "cell_type": "code",
      "execution_count": 19,
      "metadata": {
        "id": "P4EfTF7Rv_M6"
      },
      "outputs": [],
      "source": [
        "# Определяем словари для жестко заданных параметров: employment, shedule, sex, job_status \n",
        "job_status_numeric = {\"открытая\": 1, \"закрытая\": 2, \"приостановленная\": 3, \"отменена\":4, \"черновик\": 5}\n",
        "sex_numeric = {\"M\": 2, \"F\": 1, \"Undef\": 0}\n",
        "shedule_numeric = {'Full': 0, 'Flex': 1, 'Project': 2, 'Stage': 3, 'Volunteering': 4, 'does not matter':5}\n",
        "employment_numeric = {'Full': 0,'Part': 1,'Look-out': 2,'Change': 3,'Not full': 4,'does not matter': 5}"
      ]
    },
    {
      "cell_type": "code",
      "execution_count": 20,
      "metadata": {
        "id": "o30fv8UKxWwW",
        "colab": {
          "base_uri": "https://localhost:8080/"
        },
        "outputId": "f9cf87ee-11b7-4314-b747-46ea38982e92"
      },
      "outputs": [
        {
          "output_type": "execute_result",
          "data": {
            "text/plain": [
              "(array([0, 1, 2, 3, 5, 4]),\n",
              " array([2, 0, 1]),\n",
              " array([0, 1, 3, 2, 5, 4]),\n",
              " array([4, 2, 1, 3, 5]))"
            ]
          },
          "metadata": {},
          "execution_count": 20
        }
      ],
      "source": [
        "# Оцифровываем \"жестко\" заданные словари (employment, shedule, sex, job_status)\n",
        "# job_status\n",
        "for key_status in job_status_numeric:\n",
        "  union_df.loc[(union_df.job_status == key_status), 'job_status'] = job_status_numeric[key_status]\n",
        "union_df.job_status = union_df.job_status.fillna(0)\n",
        "\n",
        "# sex\n",
        "for key_sex in sex_numeric:\n",
        "  union_df.loc[(union_df.sex == key_sex), 'sex'] = sex_numeric[key_sex]\n",
        "union_df.sex = union_df.sex.fillna(0)\n",
        "\n",
        "# employment\n",
        "for key_employ in employment_numeric:\n",
        "  union_df.loc[(union_df.employment == key_employ), 'employment'] = employment_numeric[key_employ]\n",
        "union_df.employment = union_df.employment.fillna(0)\n",
        "\n",
        "# shedule\n",
        "for key_shedule in shedule_numeric:\n",
        "  union_df.loc[(union_df.shedule == key_shedule), 'shedule'] = shedule_numeric[key_shedule]\n",
        "union_df.shedule = union_df.shedule.fillna(0)\n",
        "\n",
        "union_df.employment.unique(), union_df.sex.unique(), union_df.shedule.unique(), union_df.job_status.unique(), "
      ]
    },
    {
      "cell_type": "code",
      "execution_count": 21,
      "metadata": {
        "id": "J86yoKfEHlVw"
      },
      "outputs": [],
      "source": [
        "# Перевод значений параметров для жестких словарей в отдельные самостоятельные параметры\n",
        "# Т.е. вместо параметра \"sex\" будут 'sex_m', 'sex_f', 'sex_undef',\n",
        "\n",
        "# sex\n",
        "for key_sex in sex_numeric:\n",
        "  feture_name = f\"sex_{key_sex.lower()}\"\n",
        "  union_df[feture_name] = np.where(union_df.sex  == sex_numeric[key_sex] , 1, 0)\n",
        "\n",
        "# job_status\n",
        "index_status = 1\n",
        "for key_status in job_status_numeric:\n",
        "  # Здесь используем цифру а не сам стсатус, т.к. статус на русском языке\n",
        "  feture_name = f\"job_status_{index_status}\"\n",
        "  union_df[feture_name] = np.where(union_df.job_status  == job_status_numeric[key_status] , 1, 0)\n",
        "  index_status += 1\n",
        "\n",
        "# employment\n",
        "for key_employ in employment_numeric:\n",
        "  feture_name = f\"employment_{key_employ.lower()}\"\n",
        "  union_df[feture_name] = np.where(union_df.employment  == employment_numeric[key_employ] , 1, 0)\n",
        "\n",
        "# shedule\n",
        "for key_shedule in shedule_numeric:\n",
        "  feture_name = f\"shedule_{key_shedule.lower()}\"\n",
        "  union_df[feture_name] = np.where(union_df.shedule  == shedule_numeric[key_shedule] , 1, 0)\n",
        "# ['sex_m', 'sex_f', 'sex_undef', 'job_status_1', 'job_status_2', 'job_status_3', 'job_status_4', 'job_status_5', 'employment_full', 'employment_part', 'employment_look-out', 'employment_change', 'employment_not full', 'employment_does not matter', 'shedule_full', 'shedule_flex', 'shedule_project', 'shedule_stage', 'shedule_volunteering', 'shedule_does not matter']"
      ]
    },
    {
      "cell_type": "markdown",
      "metadata": {
        "id": "yuqLU_5G-qI4"
      },
      "source": [
        "#### Определяем изменяющиеся словари\n",
        "Для них будет использоваться функция по автоматическому определению цифрофого кода:"
      ]
    },
    {
      "cell_type": "markdown",
      "metadata": {
        "id": "0SNE52Qc-yCH"
      },
      "source": [
        "Гражданство\n",
        "\n",
        "1 - рус\n",
        "0 - не рус"
      ]
    },
    {
      "cell_type": "code",
      "execution_count": 22,
      "metadata": {
        "id": "An2XW9xj-0rn",
        "colab": {
          "base_uri": "https://localhost:8080/"
        },
        "outputId": "8b1a3413-b165-4194-bc4e-990e7d948945"
      },
      "outputs": [
        {
          "output_type": "execute_result",
          "data": {
            "text/plain": [
              "array([1, 0])"
            ]
          },
          "metadata": {},
          "execution_count": 22
        }
      ],
      "source": [
        "# Гражданство\n",
        "def citizenship_numeric(str_citizenship):\n",
        "  not_rus_dict = {\"не\", \"Не\", \"НЕ\", \"без\", \"Без\", \"БЕЗ\"}\n",
        "  rus_detect = {\"Рос\", \"рос\", \"РОС\", \"рф\", 'РФ','Рф', \"рФ\", \"Rus\", \"rus\", \"RUS\"}\n",
        "  # Если nan то по умолчанию считаем что кандидат имеет гражданство России\n",
        "  # Проверка на nan, (если переменная не равна сама себе то считается nan) \n",
        "  if str_citizenship != str_citizenship:\n",
        "    return 1\n",
        "  # Если встречаются отрицания считаем что не гражданин \n",
        "  for not_rus in not_rus_dict:\n",
        "    if not_rus in str_citizenship:\n",
        "      return 0\n",
        "  # Если встречаются рус то считаем что гражданин (при условии что выше была проверка на \"не\")\n",
        "  for rus in rus_detect:\n",
        "    if rus in str_citizenship:\n",
        "      return 1\n",
        "  # Если не встретили рус, и там не NaN, значит будем считать не Рус\n",
        "  return 0\n",
        "\n",
        "for word in union_df.citizenship.unique():\n",
        "  union_df.loc[(union_df.citizenship == word), 'citizenship'] = citizenship_numeric(str(word))\n",
        "# Если вдруг не удалось обработать NaN, дополнительно проверяем через встроенную функцию\n",
        "union_df.citizenship = union_df.citizenship.fillna(1)\n",
        "union_df.citizenship.unique()"
      ]
    },
    {
      "cell_type": "code",
      "execution_count": 23,
      "metadata": {
        "id": "EHmX7qPbfhoo",
        "colab": {
          "base_uri": "https://localhost:8080/"
        },
        "outputId": "bdc78512-95db-4757-b13e-694e771e2324"
      },
      "outputs": [
        {
          "output_type": "execute_result",
          "data": {
            "text/plain": [
              "(122047, 34)"
            ]
          },
          "metadata": {},
          "execution_count": 23
        }
      ],
      "source": [
        "digit_union_df = union_df[['age', 'citizenship', 'salary', 'driver_license_BE', 'driver_license_DE', 'driver_license_CE', \n",
        "                           'driver_license_E', 'driver_license_D', 'driver_license_C', 'driver_license_B', 'driver_license_A',\n",
        "                           \"high_education\",\"middle_education\", \"status_weight\",\n",
        "                           'sex_m', 'sex_f', 'sex_undef', 'job_status_1', 'job_status_2', 'job_status_3', 'job_status_4', 'job_status_5', \n",
        "                           'employment_full', 'employment_part', 'employment_look-out', 'employment_change', 'employment_not full', \n",
        "                           'employment_does not matter', 'shedule_full', 'shedule_flex', 'shedule_project', 'shedule_stage', \n",
        "                           'shedule_volunteering', 'shedule_does not matter',\n",
        "                           ]]\n",
        "digit_union_df.shape"
      ]
    },
    {
      "cell_type": "markdown",
      "metadata": {
        "id": "S5xgRkd39P1w"
      },
      "source": [
        "### Переводим описания вакансии и резюме в цифровой вид"
      ]
    },
    {
      "cell_type": "code",
      "execution_count": 24,
      "metadata": {
        "id": "8zhRSKLT9QGJ"
      },
      "outputs": [],
      "source": [
        "digit_union_tokens_df = digit_union_df.copy()"
      ]
    },
    {
      "cell_type": "markdown",
      "metadata": {
        "id": "WuIKIMMy_uTC"
      },
      "source": [
        "### Обработка навыков кандидата"
      ]
    },
    {
      "cell_type": "code",
      "execution_count": 25,
      "metadata": {
        "id": "hAP5QsNr9RiO"
      },
      "outputs": [],
      "source": [
        "skills_words = union_df['skills'].apply(lambda x: \" \".join([snowball.stem(item) for item in re.findall(r\"(\\w+)\",x) if len(item)>4 and  item not in rus_stopwords]))"
      ]
    },
    {
      "cell_type": "code",
      "execution_count": 26,
      "metadata": {
        "id": "V1fedx1F_wc1",
        "colab": {
          "base_uri": "https://localhost:8080/"
        },
        "outputId": "2e17782e-47b2-4845-9150-e5a276bcf78e"
      },
      "outputs": [
        {
          "output_type": "execute_result",
          "data": {
            "text/plain": [
              "(122047, 110)"
            ]
          },
          "metadata": {},
          "execution_count": 26
        }
      ],
      "source": [
        "skills_vectorizer  = CountVectorizer(max_features=2000, min_df = 0.01)\n",
        "skills_word_tokens = skills_vectorizer.fit_transform(skills_words)\n",
        "skills_word_tokens.toarray().shape"
      ]
    },
    {
      "cell_type": "code",
      "execution_count": 27,
      "metadata": {
        "id": "j4un0H1__wfQ",
        "colab": {
          "base_uri": "https://localhost:8080/"
        },
        "outputId": "e0588d6b-32e1-4841-fb05-14e7327277d3"
      },
      "outputs": [
        {
          "output_type": "stream",
          "name": "stderr",
          "text": [
            "/usr/local/lib/python3.7/dist-packages/sklearn/utils/deprecation.py:87: FutureWarning: Function get_feature_names is deprecated; get_feature_names is deprecated in 1.0 and will be removed in 1.2. Please use get_feature_names_out instead.\n",
            "  warnings.warn(msg, category=FutureWarning)\n"
          ]
        },
        {
          "output_type": "execute_result",
          "data": {
            "text/plain": [
              "(122047, 144)"
            ]
          },
          "metadata": {},
          "execution_count": 27
        }
      ],
      "source": [
        "df_skills_word_tokens = pd.DataFrame(skills_word_tokens.todense(), columns=skills_vectorizer.get_feature_names())\n",
        "digit_union_tokens_df = pd.concat([digit_union_tokens_df, df_skills_word_tokens], axis=1)\n",
        "digit_union_tokens_df.shape"
      ]
    },
    {
      "cell_type": "markdown",
      "metadata": {
        "id": "QLRdlidM_0Qz"
      },
      "source": [
        "### Обработка описания позиции"
      ]
    },
    {
      "cell_type": "code",
      "execution_count": 28,
      "metadata": {
        "id": "9Q3E_Qy1_wpT"
      },
      "outputs": [],
      "source": [
        "job_description_words = union_df['job_description'].apply(lambda x: \" \".join([snowball.stem(item) for item in re.findall(r\"(\\w+)\",x) if len(item)>4 and  item not in rus_stopwords]))"
      ]
    },
    {
      "cell_type": "code",
      "execution_count": 29,
      "metadata": {
        "id": "Mw00KIZr_0_j",
        "colab": {
          "base_uri": "https://localhost:8080/"
        },
        "outputId": "77d28dc5-6513-4766-e431-c265bc7f3c01"
      },
      "outputs": [
        {
          "output_type": "execute_result",
          "data": {
            "text/plain": [
              "(122047, 317)"
            ]
          },
          "metadata": {},
          "execution_count": 29
        }
      ],
      "source": [
        "job_description_vectorizer  = CountVectorizer(max_features=2000, min_df = 0.01)\n",
        "job_description_words_tokens = job_description_vectorizer.fit_transform(job_description_words)\n",
        "job_description_words_tokens.toarray().shape"
      ]
    },
    {
      "cell_type": "code",
      "execution_count": 30,
      "metadata": {
        "id": "KBwq1QGO_1Bp",
        "colab": {
          "base_uri": "https://localhost:8080/"
        },
        "outputId": "ad606429-e846-441a-f6df-1910807f9caa"
      },
      "outputs": [
        {
          "output_type": "execute_result",
          "data": {
            "text/plain": [
              "(122047, 461)"
            ]
          },
          "metadata": {},
          "execution_count": 30
        }
      ],
      "source": [
        "df_job_description_words_tokens = pd.DataFrame(job_description_words_tokens.todense(), columns=job_description_vectorizer.get_feature_names())\n",
        "digit_union_tokens_df = pd.concat([digit_union_tokens_df, df_job_description_words_tokens], axis=1)\n",
        "digit_union_tokens_df.shape"
      ]
    },
    {
      "cell_type": "markdown",
      "metadata": {
        "id": "6YNW0fLu_7XL"
      },
      "source": [
        "### Обработка названия вакансии и наименования позици кандидата"
      ]
    },
    {
      "cell_type": "code",
      "execution_count": 31,
      "metadata": {
        "id": "lel5nxsC_8Zj"
      },
      "outputs": [],
      "source": [
        "union_df[\"position\"] = union_df[\"position\"].astype({\"position\": 'str'})\n",
        "position_words = union_df['position'].apply(lambda x: \" \".join([snowball.stem(item) for item in re.findall(r\"(\\w+)\",x) if len(item)>4 and  item not in rus_stopwords]))\n",
        "job_name_words = union_df['job_name'].apply(lambda x: \" \".join([snowball.stem(item) for item in re.findall(r\"(\\w+)\",x) if len(item)>4 and  item not in rus_stopwords]))\n",
        "position_job_name_words = position_words + job_name_words"
      ]
    },
    {
      "cell_type": "code",
      "execution_count": 32,
      "metadata": {
        "id": "66awRG-M_8b8",
        "colab": {
          "base_uri": "https://localhost:8080/"
        },
        "outputId": "c22f68a6-d063-4299-d00a-1a8e9498be8d"
      },
      "outputs": [
        {
          "output_type": "execute_result",
          "data": {
            "text/plain": [
              "(122047, 39)"
            ]
          },
          "metadata": {},
          "execution_count": 32
        }
      ],
      "source": [
        "position_job_name_vectorizer  = CountVectorizer(max_features=2000, min_df = 0.01)\n",
        "position_job_name_words_tokens = position_job_name_vectorizer.fit_transform(position_job_name_words)\n",
        "position_job_name_words_tokens.toarray().shape"
      ]
    },
    {
      "cell_type": "code",
      "execution_count": 33,
      "metadata": {
        "id": "8II7rSNH_8eu",
        "colab": {
          "base_uri": "https://localhost:8080/"
        },
        "outputId": "2976d06f-bb97-42bf-d8d9-38a51bd0c78d"
      },
      "outputs": [
        {
          "output_type": "execute_result",
          "data": {
            "text/plain": [
              "(122047, 500)"
            ]
          },
          "metadata": {},
          "execution_count": 33
        }
      ],
      "source": [
        "df_position_job_name_words_tokens = pd.DataFrame(position_job_name_words_tokens.todense(), columns=position_job_name_vectorizer.get_feature_names())\n",
        "digit_union_tokens_df = pd.concat([digit_union_tokens_df, df_position_job_name_words_tokens], axis=1)\n",
        "digit_union_tokens_df.shape"
      ]
    },
    {
      "cell_type": "markdown",
      "metadata": {
        "id": "MKZBviv-_7Zx"
      },
      "source": [
        "### Формирование параметров схожести:\n",
        "- схожести названия вакансии и наименования позиции соискателя\n",
        "- схожести описания вакансии и навыков соискателя\n",
        "- схожесть регионов"
      ]
    },
    {
      "cell_type": "code",
      "source": [],
      "metadata": {
        "id": "IoOc5sldWMf6"
      },
      "execution_count": 33,
      "outputs": []
    },
    {
      "cell_type": "code",
      "execution_count": 34,
      "metadata": {
        "id": "FXKPY-t8X3AW"
      },
      "outputs": [],
      "source": [
        "# - схожести названия вакансии и наименования позиции соискателя\n",
        "union_df[\"position_words\"] = position_words\n",
        "union_df[\"job_name_words\"] = job_name_words\n",
        "# digit_union_tokens_df['similarity_position_job_name'] = union_df.apply(lambda x: difflib.SequenceMatcher(None, x.position_words, x.job_name_words).quick_ratio(), axis=1)\n",
        "digit_union_tokens_df['similarity_position_job_name'] = union_df.apply(lambda x: tanimoto(x.position_words, x.job_name_words), axis=1)"
      ]
    },
    {
      "cell_type": "code",
      "execution_count": 35,
      "metadata": {
        "id": "AqxUa8pOX_wc"
      },
      "outputs": [],
      "source": [
        "# - схожести описания вакансии и навыков соискателя\n",
        "union_df[\"job_description_words\"] = job_description_words\n",
        "union_df[\"skills_words\"] = skills_words\n",
        "# digit_union_tokens_df['similarity_skills_job_description'] = union_df.apply(lambda x: difflib.SequenceMatcher(None, x.skills_words, x.job_description_words).quick_ratio(), axis=1)\n",
        "digit_union_tokens_df['similarity_skills_job_description'] = union_df.apply(lambda x: tanimoto(x.skills_words, x.job_description_words), axis=1)"
      ]
    },
    {
      "cell_type": "code",
      "execution_count": 36,
      "metadata": {
        "id": "f6vhiXwsqy0u"
      },
      "outputs": [],
      "source": [
        "# - схожесть регионов\n",
        "union_df['job_region'] = union_df['job_region'].fillna(\"\")\n",
        "union_df['candidate_region'] = union_df['candidate_region'].fillna(\"\")\n",
        "# similarity_region = union_df.apply(lambda x: difflib.SequenceMatcher(None, x.job_region, x.candidate_region).quick_ratio(), axis=1)\n",
        "similarity_region = union_df.apply(lambda x: tanimoto(x.job_region, x.candidate_region), axis=1)\n",
        "digit_union_tokens_df['similarity_region'] = similarity_region"
      ]
    },
    {
      "cell_type": "code",
      "source": [
        "# Добляем значения схожести в digit_union_df который используем в анализе\n",
        "digit_union_df['similarity_position_job_name'] = digit_union_tokens_df['similarity_position_job_name']\n",
        "digit_union_df['similarity_skills_job_description'] = digit_union_tokens_df['similarity_skills_job_description']\n",
        "digit_union_df['similarity_region'] = digit_union_tokens_df['similarity_region']"
      ],
      "metadata": {
        "id": "HbLvB4kCMRfF",
        "colab": {
          "base_uri": "https://localhost:8080/"
        },
        "outputId": "824872ff-a596-4bf4-b5bd-15c231824787"
      },
      "execution_count": 37,
      "outputs": [
        {
          "output_type": "stream",
          "name": "stderr",
          "text": [
            "/usr/local/lib/python3.7/dist-packages/ipykernel_launcher.py:2: SettingWithCopyWarning: \n",
            "A value is trying to be set on a copy of a slice from a DataFrame.\n",
            "Try using .loc[row_indexer,col_indexer] = value instead\n",
            "\n",
            "See the caveats in the documentation: https://pandas.pydata.org/pandas-docs/stable/user_guide/indexing.html#returning-a-view-versus-a-copy\n",
            "  \n",
            "/usr/local/lib/python3.7/dist-packages/ipykernel_launcher.py:3: SettingWithCopyWarning: \n",
            "A value is trying to be set on a copy of a slice from a DataFrame.\n",
            "Try using .loc[row_indexer,col_indexer] = value instead\n",
            "\n",
            "See the caveats in the documentation: https://pandas.pydata.org/pandas-docs/stable/user_guide/indexing.html#returning-a-view-versus-a-copy\n",
            "  This is separate from the ipykernel package so we can avoid doing imports until\n",
            "/usr/local/lib/python3.7/dist-packages/ipykernel_launcher.py:4: SettingWithCopyWarning: \n",
            "A value is trying to be set on a copy of a slice from a DataFrame.\n",
            "Try using .loc[row_indexer,col_indexer] = value instead\n",
            "\n",
            "See the caveats in the documentation: https://pandas.pydata.org/pandas-docs/stable/user_guide/indexing.html#returning-a-view-versus-a-copy\n",
            "  after removing the cwd from sys.path.\n"
          ]
        }
      ]
    },
    {
      "cell_type": "code",
      "source": [],
      "metadata": {
        "id": "OhjZy599VJ9F"
      },
      "execution_count": 37,
      "outputs": []
    },
    {
      "cell_type": "markdown",
      "metadata": {
        "id": "JW-KIOiGdvVz"
      },
      "source": [
        "# Анализируем входные данные"
      ]
    },
    {
      "cell_type": "code",
      "execution_count": 38,
      "metadata": {
        "id": "xh_wAH6HetPx",
        "colab": {
          "base_uri": "https://localhost:8080/"
        },
        "outputId": "b42f4264-aac7-4489-beff-44196e82ed10"
      },
      "outputs": [
        {
          "output_type": "stream",
          "name": "stdout",
          "text": [
            "Column name: langs - содержит нулевые данные в кол-ве: 46995\n",
            "Column name: driver_license - содержит нулевые данные в кол-ве: 50594\n",
            "Column name: subwey - содержит нулевые данные в кол-ве: 114853\n",
            "Column name: status - содержит нулевые данные в кол-ве: 300\n",
            "Column name: university - содержит нулевые данные в кол-ве: 59273\n",
            "Column name: faculty - содержит нулевые данные в кол-ве: 65042\n",
            "Column name: graduate_year - содержит нулевые данные в кол-ве: 59273\n",
            "Column name: work_place_position - содержит нулевые данные в кол-ве: 48750\n",
            "Column name: from_year - содержит нулевые данные в кол-ве: 48702\n",
            "Column name: from_month - содержит нулевые данные в кол-ве: 48702\n",
            "Column name: to_year - содержит нулевые данные в кол-ве: 48702\n",
            "Column name: to_month - содержит нулевые данные в кол-ве: 48702\n"
          ]
        }
      ],
      "source": [
        "for column in union_df:\n",
        "    if union_df[column].isna().sum() > 0:\n",
        "        print(\n",
        "            f\"Column name: {column} - содержит нулевые данные в кол-ве: {union_df[column].isna().sum()}\"\n",
        "        )"
      ]
    },
    {
      "cell_type": "markdown",
      "metadata": {
        "id": "0lds_o6ekQKA"
      },
      "source": [
        "### Анализ корреляции оцифрованных параметров"
      ]
    },
    {
      "cell_type": "code",
      "execution_count": 39,
      "metadata": {
        "id": "0vWoE7Syd-1q",
        "colab": {
          "base_uri": "https://localhost:8080/",
          "height": 652
        },
        "outputId": "504b6269-bd31-49d5-dbab-3571a9f1ba84"
      },
      "outputs": [
        {
          "output_type": "display_data",
          "data": {
            "text/plain": [
              "<Figure size 720x576 with 2 Axes>"
            ],
            "image/png": "[encoded data removed]"
          },
          "metadata": {
            "needs_background": "light"
          }
        }
      ],
      "source": [
        "import seaborn as sns\n",
        "\n",
        "plt.figure(figsize=(10, 8))\n",
        "sns.heatmap(\n",
        "    digit_union_df.corr(),\n",
        "    xticklabels=digit_union_df.corr().columns,\n",
        "    yticklabels=digit_union_df.corr().columns,\n",
        "    cmap=\"RdBu\",\n",
        "    center=0,\n",
        ")\n",
        "\n",
        "plt.title(\"Матрица корреляции\", fontsize=22)\n",
        "plt.show()"
      ]
    },
    {
      "cell_type": "code",
      "source": [
        " digit_union_df.corr()[\"status_weight\"].sort_values(ascending=False)"
      ],
      "metadata": {
        "colab": {
          "base_uri": "https://localhost:8080/"
        },
        "id": "sMcVeOIT0OzQ",
        "outputId": "4a0ac9e9-c077-48ba-d93e-fd9e09187681"
      },
      "execution_count": 40,
      "outputs": [
        {
          "output_type": "execute_result",
          "data": {
            "text/plain": [
              "status_weight                        1.000000\n",
              "job_status_1                         0.374890\n",
              "employment_full                      0.370037\n",
              "sex_undef                            0.279313\n",
              "shedule_full                         0.256257\n",
              "similarity_position_job_name         0.131411\n",
              "similarity_region                    0.056994\n",
              "age                                  0.007239\n",
              "driver_license_B                    -0.001919\n",
              "driver_license_A                    -0.009589\n",
              "employment_does not matter          -0.013691\n",
              "shedule_project                     -0.016600\n",
              "shedule_volunteering                -0.017170\n",
              "driver_license_BE                   -0.017281\n",
              "job_status_5                        -0.020694\n",
              "driver_license_E                    -0.022044\n",
              "driver_license_DE                   -0.029144\n",
              "driver_license_CE                   -0.031254\n",
              "driver_license_D                    -0.032171\n",
              "job_status_4                        -0.033189\n",
              "shedule_does not matter             -0.033348\n",
              "sex_f                               -0.040846\n",
              "employment_not full                 -0.043742\n",
              "shedule_stage                       -0.046490\n",
              "similarity_skills_job_description   -0.055718\n",
              "employment_look-out                 -0.057851\n",
              "employment_change                   -0.060574\n",
              "driver_license_C                    -0.068162\n",
              "job_status_3                        -0.083659\n",
              "citizenship                         -0.089648\n",
              "salary                              -0.227717\n",
              "shedule_flex                        -0.239946\n",
              "sex_m                               -0.250639\n",
              "high_education                      -0.251241\n",
              "job_status_2                        -0.310553\n",
              "employment_part                     -0.323692\n",
              "middle_education                    -0.363656\n",
              "Name: status_weight, dtype: float64"
            ]
          },
          "metadata": {},
          "execution_count": 40
        }
      ]
    },
    {
      "cell_type": "markdown",
      "source": [
        "Наибольшая корреляция наблюдается в:\n",
        "положительная\n",
        "* job_status_1:                         0.362322\n",
        "* employment_full:                      0.282658\n",
        "* sex_undef:                            0.263477\n",
        "* shedule_full:                         0.182544\n",
        "* similarity_position_job_name:         0.144731\n",
        "\n",
        "отрицательная \n",
        "* salary:                              -0.165630\n",
        "* shedule_flex:                        -0.169358\n",
        "* high_education:                      -0.171128\n",
        "* sex_m:                               -0.221868 \n",
        "* employment_part:                     -0.240139\n",
        "* job_status_2:                        -0.270550\n",
        "* middle_education:                    -0.273050 \n",
        "\n",
        "\n",
        "Корреляция может быть вызвана нехваткой данных"
      ],
      "metadata": {
        "id": "wOc_2PGcnQBt"
      }
    },
    {
      "cell_type": "markdown",
      "source": [
        "Проверяем каждую из выбраных корреляций, с учетом исключения данных по которым нехватает данных, например отрицательная корреляция с мужским полом связанна с тем что при у большинства кандидатов не указан пол и в поле sex_m проставляется 0"
      ],
      "metadata": {
        "id": "yxmpNNsToAwF"
      }
    },
    {
      "cell_type": "code",
      "source": [
        "# Проверяем корреляцию с полом:\n",
        "# Проверяем корреляцию исключив отсутвующие данные по полу\n",
        "temp_df = digit_union_df.copy()\n",
        "temp_df[\"sex\"] = union_df[\"sex\"]\n",
        "temp_df = temp_df[temp_df[\"sex\"] != 0]\n",
        "\n",
        "temp_df[[\"status_weight\", \"sex_m\", \"sex_f\"]].corr()\n",
        "# На самом деле корреляция с полом невелика"
      ],
      "metadata": {
        "id": "pNytGRPfomin",
        "colab": {
          "base_uri": "https://localhost:8080/",
          "height": 143
        },
        "outputId": "a84def2c-3fae-43d5-ab05-78e9ea60ec0f"
      },
      "execution_count": 41,
      "outputs": [
        {
          "output_type": "execute_result",
          "data": {
            "text/plain": [
              "               status_weight     sex_m     sex_f\n",
              "status_weight       1.000000  0.024379 -0.024379\n",
              "sex_m               0.024379  1.000000 -1.000000\n",
              "sex_f              -0.024379 -1.000000  1.000000"
            ],
            "text/html": [
              "\n",
              "  <div id=\"df-0adacbd5-29b6-4a14-b5c8-1416a47fefbb\">\n",
              "    <div class=\"colab-df-container\">\n",
              "      <div>\n",
              "<style scoped>\n",
              "    .dataframe tbody tr th:only-of-type {\n",
              "        vertical-align: middle;\n",
              "    }\n",
              "\n",
              "    .dataframe tbody tr th {\n",
              "        vertical-align: top;\n",
              "    }\n",
              "\n",
              "    .dataframe thead th {\n",
              "        text-align: right;\n",
              "    }\n",
              "</style>\n",
              "<table border=\"1\" class=\"dataframe\">\n",
              "  <thead>\n",
              "    <tr style=\"text-align: right;\">\n",
              "      <th></th>\n",
              "      <th>status_weight</th>\n",
              "      <th>sex_m</th>\n",
              "      <th>sex_f</th>\n",
              "    </tr>\n",
              "  </thead>\n",
              "  <tbody>\n",
              "    <tr>\n",
              "      <th>status_weight</th>\n",
              "      <td>1.000000</td>\n",
              "      <td>0.024379</td>\n",
              "      <td>-0.024379</td>\n",
              "    </tr>\n",
              "    <tr>\n",
              "      <th>sex_m</th>\n",
              "      <td>0.024379</td>\n",
              "      <td>1.000000</td>\n",
              "      <td>-1.000000</td>\n",
              "    </tr>\n",
              "    <tr>\n",
              "      <th>sex_f</th>\n",
              "      <td>-0.024379</td>\n",
              "      <td>-1.000000</td>\n",
              "      <td>1.000000</td>\n",
              "    </tr>\n",
              "  </tbody>\n",
              "</table>\n",
              "</div>\n",
              "      <button class=\"colab-df-convert\" onclick=\"convertToInteractive('df-0adacbd5-29b6-4a14-b5c8-1416a47fefbb')\"\n",
              "              title=\"Convert this dataframe to an interactive table.\"\n",
              "              style=\"display:none;\">\n",
              "        \n",
              "  <svg xmlns=\"http://www.w3.org/2000/svg\" height=\"24px\"viewBox=\"0 0 24 24\"\n",
              "       width=\"24px\">\n",
              "    <path d=\"M0 0h24v24H0V0z\" fill=\"none\"/>\n",
              "    <path d=\"M18.56 5.44l.94 2.06.94-2.06 2.06-.94-2.06-.94-.94-2.06-.94 2.06-2.06.94zm-11 1L8.5 8.5l.94-2.06 2.06-.94-2.06-.94L8.5 2.5l-.94 2.06-2.06.94zm10 10l.94 2.06.94-2.06 2.06-.94-2.06-.94-.94-2.06-.94 2.06-2.06.94z\"/><path d=\"M17.41 7.96l-1.37-1.37c-.4-.4-.92-.59-1.43-.59-.52 0-1.04.2-1.43.59L10.3 9.45l-7.72 7.72c-.78.78-.78 2.05 0 2.83L4 21.41c.39.39.9.59 1.41.59.51 0 1.02-.2 1.41-.59l7.78-7.78 2.81-2.81c.8-.78.8-2.07 0-2.86zM5.41 20L4 18.59l7.72-7.72 1.47 1.35L5.41 20z\"/>\n",
              "  </svg>\n",
              "      </button>\n",
              "      \n",
              "  <style>\n",
              "    .colab-df-container {\n",
              "      display:flex;\n",
              "      flex-wrap:wrap;\n",
              "      gap: 12px;\n",
              "    }\n",
              "\n",
              "    .colab-df-convert {\n",
              "      background-color: #E8F0FE;\n",
              "      border: none;\n",
              "      border-radius: 50%;\n",
              "      cursor: pointer;\n",
              "      display: none;\n",
              "      fill: #1967D2;\n",
              "      height: 32px;\n",
              "      padding: 0 0 0 0;\n",
              "      width: 32px;\n",
              "    }\n",
              "\n",
              "    .colab-df-convert:hover {\n",
              "      background-color: #E2EBFA;\n",
              "      box-shadow: 0px 1px 2px rgba(60, 64, 67, 0.3), 0px 1px 3px 1px rgba(60, 64, 67, 0.15);\n",
              "      fill: #174EA6;\n",
              "    }\n",
              "\n",
              "    [theme=dark] .colab-df-convert {\n",
              "      background-color: #3B4455;\n",
              "      fill: #D2E3FC;\n",
              "    }\n",
              "\n",
              "    [theme=dark] .colab-df-convert:hover {\n",
              "      background-color: #434B5C;\n",
              "      box-shadow: 0px 1px 3px 1px rgba(0, 0, 0, 0.15);\n",
              "      filter: drop-shadow(0px 1px 2px rgba(0, 0, 0, 0.3));\n",
              "      fill: #FFFFFF;\n",
              "    }\n",
              "  </style>\n",
              "\n",
              "      <script>\n",
              "        const buttonEl =\n",
              "          document.querySelector('#df-0adacbd5-29b6-4a14-b5c8-1416a47fefbb button.colab-df-convert');\n",
              "        buttonEl.style.display =\n",
              "          google.colab.kernel.accessAllowed ? 'block' : 'none';\n",
              "\n",
              "        async function convertToInteractive(key) {\n",
              "          const element = document.querySelector('#df-0adacbd5-29b6-4a14-b5c8-1416a47fefbb');\n",
              "          const dataTable =\n",
              "            await google.colab.kernel.invokeFunction('convertToInteractive',\n",
              "                                                     [key], {});\n",
              "          if (!dataTable) return;\n",
              "\n",
              "          const docLinkHtml = 'Like what you see? Visit the ' +\n",
              "            '<a target=\"_blank\" href=https://colab.research.google.com/notebooks/data_table.ipynb>data table notebook</a>'\n",
              "            + ' to learn more about interactive tables.';\n",
              "          element.innerHTML = '';\n",
              "          dataTable['output_type'] = 'display_data';\n",
              "          await google.colab.output.renderOutput(dataTable, element);\n",
              "          const docLink = document.createElement('div');\n",
              "          docLink.innerHTML = docLinkHtml;\n",
              "          element.appendChild(docLink);\n",
              "        }\n",
              "      </script>\n",
              "    </div>\n",
              "  </div>\n",
              "  "
            ]
          },
          "metadata": {},
          "execution_count": 41
        }
      ]
    },
    {
      "cell_type": "code",
      "source": [
        "# Проверяем корреляцию с образованием:\n",
        "# Если образование не указано, то в middle_education и в heigh_education ставиться 0, \n",
        "# т.к. много данных без указания образования происходит отрицательная корреляция.\n",
        "# Можно проверить на сравнении корреляции с выссшим образованием, т.е. когда\n",
        "# есть высшее или нет у тех у кого уже есть среднее. \n",
        "temp_df = digit_union_df.copy()\n",
        "temp_df = temp_df[temp_df[\"middle_education\"] == 1]\n",
        "temp_df[[\"status_weight\", \"high_education\"]].corr()\n",
        "# Корреляция не велика\n"
      ],
      "metadata": {
        "id": "9nt6kWuxpPf0",
        "colab": {
          "base_uri": "https://localhost:8080/",
          "height": 112
        },
        "outputId": "9a3765c7-ced7-401b-ddd9-f04128291e3f"
      },
      "execution_count": 42,
      "outputs": [
        {
          "output_type": "execute_result",
          "data": {
            "text/plain": [
              "                status_weight  high_education\n",
              "status_weight        1.000000       -0.062391\n",
              "high_education      -0.062391        1.000000"
            ],
            "text/html": [
              "\n",
              "  <div id=\"df-fc89cdd0-9b8e-4cfc-a4ad-a789504dae9e\">\n",
              "    <div class=\"colab-df-container\">\n",
              "      <div>\n",
              "<style scoped>\n",
              "    .dataframe tbody tr th:only-of-type {\n",
              "        vertical-align: middle;\n",
              "    }\n",
              "\n",
              "    .dataframe tbody tr th {\n",
              "        vertical-align: top;\n",
              "    }\n",
              "\n",
              "    .dataframe thead th {\n",
              "        text-align: right;\n",
              "    }\n",
              "</style>\n",
              "<table border=\"1\" class=\"dataframe\">\n",
              "  <thead>\n",
              "    <tr style=\"text-align: right;\">\n",
              "      <th></th>\n",
              "      <th>status_weight</th>\n",
              "      <th>high_education</th>\n",
              "    </tr>\n",
              "  </thead>\n",
              "  <tbody>\n",
              "    <tr>\n",
              "      <th>status_weight</th>\n",
              "      <td>1.000000</td>\n",
              "      <td>-0.062391</td>\n",
              "    </tr>\n",
              "    <tr>\n",
              "      <th>high_education</th>\n",
              "      <td>-0.062391</td>\n",
              "      <td>1.000000</td>\n",
              "    </tr>\n",
              "  </tbody>\n",
              "</table>\n",
              "</div>\n",
              "      <button class=\"colab-df-convert\" onclick=\"convertToInteractive('df-fc89cdd0-9b8e-4cfc-a4ad-a789504dae9e')\"\n",
              "              title=\"Convert this dataframe to an interactive table.\"\n",
              "              style=\"display:none;\">\n",
              "        \n",
              "  <svg xmlns=\"http://www.w3.org/2000/svg\" height=\"24px\"viewBox=\"0 0 24 24\"\n",
              "       width=\"24px\">\n",
              "    <path d=\"M0 0h24v24H0V0z\" fill=\"none\"/>\n",
              "    <path d=\"M18.56 5.44l.94 2.06.94-2.06 2.06-.94-2.06-.94-.94-2.06-.94 2.06-2.06.94zm-11 1L8.5 8.5l.94-2.06 2.06-.94-2.06-.94L8.5 2.5l-.94 2.06-2.06.94zm10 10l.94 2.06.94-2.06 2.06-.94-2.06-.94-.94-2.06-.94 2.06-2.06.94z\"/><path d=\"M17.41 7.96l-1.37-1.37c-.4-.4-.92-.59-1.43-.59-.52 0-1.04.2-1.43.59L10.3 9.45l-7.72 7.72c-.78.78-.78 2.05 0 2.83L4 21.41c.39.39.9.59 1.41.59.51 0 1.02-.2 1.41-.59l7.78-7.78 2.81-2.81c.8-.78.8-2.07 0-2.86zM5.41 20L4 18.59l7.72-7.72 1.47 1.35L5.41 20z\"/>\n",
              "  </svg>\n",
              "      </button>\n",
              "      \n",
              "  <style>\n",
              "    .colab-df-container {\n",
              "      display:flex;\n",
              "      flex-wrap:wrap;\n",
              "      gap: 12px;\n",
              "    }\n",
              "\n",
              "    .colab-df-convert {\n",
              "      background-color: #E8F0FE;\n",
              "      border: none;\n",
              "      border-radius: 50%;\n",
              "      cursor: pointer;\n",
              "      display: none;\n",
              "      fill: #1967D2;\n",
              "      height: 32px;\n",
              "      padding: 0 0 0 0;\n",
              "      width: 32px;\n",
              "    }\n",
              "\n",
              "    .colab-df-convert:hover {\n",
              "      background-color: #E2EBFA;\n",
              "      box-shadow: 0px 1px 2px rgba(60, 64, 67, 0.3), 0px 1px 3px 1px rgba(60, 64, 67, 0.15);\n",
              "      fill: #174EA6;\n",
              "    }\n",
              "\n",
              "    [theme=dark] .colab-df-convert {\n",
              "      background-color: #3B4455;\n",
              "      fill: #D2E3FC;\n",
              "    }\n",
              "\n",
              "    [theme=dark] .colab-df-convert:hover {\n",
              "      background-color: #434B5C;\n",
              "      box-shadow: 0px 1px 3px 1px rgba(0, 0, 0, 0.15);\n",
              "      filter: drop-shadow(0px 1px 2px rgba(0, 0, 0, 0.3));\n",
              "      fill: #FFFFFF;\n",
              "    }\n",
              "  </style>\n",
              "\n",
              "      <script>\n",
              "        const buttonEl =\n",
              "          document.querySelector('#df-fc89cdd0-9b8e-4cfc-a4ad-a789504dae9e button.colab-df-convert');\n",
              "        buttonEl.style.display =\n",
              "          google.colab.kernel.accessAllowed ? 'block' : 'none';\n",
              "\n",
              "        async function convertToInteractive(key) {\n",
              "          const element = document.querySelector('#df-fc89cdd0-9b8e-4cfc-a4ad-a789504dae9e');\n",
              "          const dataTable =\n",
              "            await google.colab.kernel.invokeFunction('convertToInteractive',\n",
              "                                                     [key], {});\n",
              "          if (!dataTable) return;\n",
              "\n",
              "          const docLinkHtml = 'Like what you see? Visit the ' +\n",
              "            '<a target=\"_blank\" href=https://colab.research.google.com/notebooks/data_table.ipynb>data table notebook</a>'\n",
              "            + ' to learn more about interactive tables.';\n",
              "          element.innerHTML = '';\n",
              "          dataTable['output_type'] = 'display_data';\n",
              "          await google.colab.output.renderOutput(dataTable, element);\n",
              "          const docLink = document.createElement('div');\n",
              "          docLink.innerHTML = docLinkHtml;\n",
              "          element.appendChild(docLink);\n",
              "        }\n",
              "      </script>\n",
              "    </div>\n",
              "  </div>\n",
              "  "
            ]
          },
          "metadata": {},
          "execution_count": 42
        }
      ]
    },
    {
      "cell_type": "code",
      "source": [
        "# Проверка корреляции job_status:\n",
        "#   - job_status_1: 0.362322\n",
        "#   - job_status_2: -0.270550\n",
        "# Status - статус вакансии ( 1 - открытая, 2 - закрытая, 3 - приостановленная, 4 - отменена, 5 - черновик)\n",
        "\n",
        "t_df = digit_union_df.copy()\n",
        "t_df[[\"status_weight\", \"job_status_1\", \"job_status_2\", \"job_status_3\", \"job_status_4\", \"job_status_5\"]].corr()\n",
        "# Логика присутвтует, открытых позиций гораздо больше в данных а также вероятность сопоставления вакансии выше если вакансия открыта. \n",
        "# Для закрытых ваансий могут поступать отказы от работадателя, даже предлагать хороших кандидатов"
      ],
      "metadata": {
        "id": "ho6_axtqqSpW",
        "colab": {
          "base_uri": "https://localhost:8080/",
          "height": 238
        },
        "outputId": "46b5db56-aca5-4ccd-dbf4-3ae0e3e5d43d"
      },
      "execution_count": 43,
      "outputs": [
        {
          "output_type": "execute_result",
          "data": {
            "text/plain": [
              "               status_weight  job_status_1  job_status_2  job_status_3  \\\n",
              "status_weight       1.000000      0.374890     -0.310553     -0.083659   \n",
              "job_status_1        0.374890      1.000000     -0.883484     -0.088679   \n",
              "job_status_2       -0.310553     -0.883484      1.000000     -0.268680   \n",
              "job_status_3       -0.083659     -0.088679     -0.268680      1.000000   \n",
              "job_status_4       -0.033189     -0.075153     -0.227698     -0.022855   \n",
              "job_status_5       -0.020694     -0.016656     -0.050464     -0.005065   \n",
              "\n",
              "               job_status_4  job_status_5  \n",
              "status_weight     -0.033189     -0.020694  \n",
              "job_status_1      -0.075153     -0.016656  \n",
              "job_status_2      -0.227698     -0.050464  \n",
              "job_status_3      -0.022855     -0.005065  \n",
              "job_status_4       1.000000     -0.004293  \n",
              "job_status_5      -0.004293      1.000000  "
            ],
            "text/html": [
              "\n",
              "  <div id=\"df-722aa4c2-a36d-4fc2-b97f-ca3a0fec6d63\">\n",
              "    <div class=\"colab-df-container\">\n",
              "      <div>\n",
              "<style scoped>\n",
              "    .dataframe tbody tr th:only-of-type {\n",
              "        vertical-align: middle;\n",
              "    }\n",
              "\n",
              "    .dataframe tbody tr th {\n",
              "        vertical-align: top;\n",
              "    }\n",
              "\n",
              "    .dataframe thead th {\n",
              "        text-align: right;\n",
              "    }\n",
              "</style>\n",
              "<table border=\"1\" class=\"dataframe\">\n",
              "  <thead>\n",
              "    <tr style=\"text-align: right;\">\n",
              "      <th></th>\n",
              "      <th>status_weight</th>\n",
              "      <th>job_status_1</th>\n",
              "      <th>job_status_2</th>\n",
              "      <th>job_status_3</th>\n",
              "      <th>job_status_4</th>\n",
              "      <th>job_status_5</th>\n",
              "    </tr>\n",
              "  </thead>\n",
              "  <tbody>\n",
              "    <tr>\n",
              "      <th>status_weight</th>\n",
              "      <td>1.000000</td>\n",
              "      <td>0.374890</td>\n",
              "      <td>-0.310553</td>\n",
              "      <td>-0.083659</td>\n",
              "      <td>-0.033189</td>\n",
              "      <td>-0.020694</td>\n",
              "    </tr>\n",
              "    <tr>\n",
              "      <th>job_status_1</th>\n",
              "      <td>0.374890</td>\n",
              "      <td>1.000000</td>\n",
              "      <td>-0.883484</td>\n",
              "      <td>-0.088679</td>\n",
              "      <td>-0.075153</td>\n",
              "      <td>-0.016656</td>\n",
              "    </tr>\n",
              "    <tr>\n",
              "      <th>job_status_2</th>\n",
              "      <td>-0.310553</td>\n",
              "      <td>-0.883484</td>\n",
              "      <td>1.000000</td>\n",
              "      <td>-0.268680</td>\n",
              "      <td>-0.227698</td>\n",
              "      <td>-0.050464</td>\n",
              "    </tr>\n",
              "    <tr>\n",
              "      <th>job_status_3</th>\n",
              "      <td>-0.083659</td>\n",
              "      <td>-0.088679</td>\n",
              "      <td>-0.268680</td>\n",
              "      <td>1.000000</td>\n",
              "      <td>-0.022855</td>\n",
              "      <td>-0.005065</td>\n",
              "    </tr>\n",
              "    <tr>\n",
              "      <th>job_status_4</th>\n",
              "      <td>-0.033189</td>\n",
              "      <td>-0.075153</td>\n",
              "      <td>-0.227698</td>\n",
              "      <td>-0.022855</td>\n",
              "      <td>1.000000</td>\n",
              "      <td>-0.004293</td>\n",
              "    </tr>\n",
              "    <tr>\n",
              "      <th>job_status_5</th>\n",
              "      <td>-0.020694</td>\n",
              "      <td>-0.016656</td>\n",
              "      <td>-0.050464</td>\n",
              "      <td>-0.005065</td>\n",
              "      <td>-0.004293</td>\n",
              "      <td>1.000000</td>\n",
              "    </tr>\n",
              "  </tbody>\n",
              "</table>\n",
              "</div>\n",
              "      <button class=\"colab-df-convert\" onclick=\"convertToInteractive('df-722aa4c2-a36d-4fc2-b97f-ca3a0fec6d63')\"\n",
              "              title=\"Convert this dataframe to an interactive table.\"\n",
              "              style=\"display:none;\">\n",
              "        \n",
              "  <svg xmlns=\"http://www.w3.org/2000/svg\" height=\"24px\"viewBox=\"0 0 24 24\"\n",
              "       width=\"24px\">\n",
              "    <path d=\"M0 0h24v24H0V0z\" fill=\"none\"/>\n",
              "    <path d=\"M18.56 5.44l.94 2.06.94-2.06 2.06-.94-2.06-.94-.94-2.06-.94 2.06-2.06.94zm-11 1L8.5 8.5l.94-2.06 2.06-.94-2.06-.94L8.5 2.5l-.94 2.06-2.06.94zm10 10l.94 2.06.94-2.06 2.06-.94-2.06-.94-.94-2.06-.94 2.06-2.06.94z\"/><path d=\"M17.41 7.96l-1.37-1.37c-.4-.4-.92-.59-1.43-.59-.52 0-1.04.2-1.43.59L10.3 9.45l-7.72 7.72c-.78.78-.78 2.05 0 2.83L4 21.41c.39.39.9.59 1.41.59.51 0 1.02-.2 1.41-.59l7.78-7.78 2.81-2.81c.8-.78.8-2.07 0-2.86zM5.41 20L4 18.59l7.72-7.72 1.47 1.35L5.41 20z\"/>\n",
              "  </svg>\n",
              "      </button>\n",
              "      \n",
              "  <style>\n",
              "    .colab-df-container {\n",
              "      display:flex;\n",
              "      flex-wrap:wrap;\n",
              "      gap: 12px;\n",
              "    }\n",
              "\n",
              "    .colab-df-convert {\n",
              "      background-color: #E8F0FE;\n",
              "      border: none;\n",
              "      border-radius: 50%;\n",
              "      cursor: pointer;\n",
              "      display: none;\n",
              "      fill: #1967D2;\n",
              "      height: 32px;\n",
              "      padding: 0 0 0 0;\n",
              "      width: 32px;\n",
              "    }\n",
              "\n",
              "    .colab-df-convert:hover {\n",
              "      background-color: #E2EBFA;\n",
              "      box-shadow: 0px 1px 2px rgba(60, 64, 67, 0.3), 0px 1px 3px 1px rgba(60, 64, 67, 0.15);\n",
              "      fill: #174EA6;\n",
              "    }\n",
              "\n",
              "    [theme=dark] .colab-df-convert {\n",
              "      background-color: #3B4455;\n",
              "      fill: #D2E3FC;\n",
              "    }\n",
              "\n",
              "    [theme=dark] .colab-df-convert:hover {\n",
              "      background-color: #434B5C;\n",
              "      box-shadow: 0px 1px 3px 1px rgba(0, 0, 0, 0.15);\n",
              "      filter: drop-shadow(0px 1px 2px rgba(0, 0, 0, 0.3));\n",
              "      fill: #FFFFFF;\n",
              "    }\n",
              "  </style>\n",
              "\n",
              "      <script>\n",
              "        const buttonEl =\n",
              "          document.querySelector('#df-722aa4c2-a36d-4fc2-b97f-ca3a0fec6d63 button.colab-df-convert');\n",
              "        buttonEl.style.display =\n",
              "          google.colab.kernel.accessAllowed ? 'block' : 'none';\n",
              "\n",
              "        async function convertToInteractive(key) {\n",
              "          const element = document.querySelector('#df-722aa4c2-a36d-4fc2-b97f-ca3a0fec6d63');\n",
              "          const dataTable =\n",
              "            await google.colab.kernel.invokeFunction('convertToInteractive',\n",
              "                                                     [key], {});\n",
              "          if (!dataTable) return;\n",
              "\n",
              "          const docLinkHtml = 'Like what you see? Visit the ' +\n",
              "            '<a target=\"_blank\" href=https://colab.research.google.com/notebooks/data_table.ipynb>data table notebook</a>'\n",
              "            + ' to learn more about interactive tables.';\n",
              "          element.innerHTML = '';\n",
              "          dataTable['output_type'] = 'display_data';\n",
              "          await google.colab.output.renderOutput(dataTable, element);\n",
              "          const docLink = document.createElement('div');\n",
              "          docLink.innerHTML = docLinkHtml;\n",
              "          element.appendChild(docLink);\n",
              "        }\n",
              "      </script>\n",
              "    </div>\n",
              "  </div>\n",
              "  "
            ]
          },
          "metadata": {},
          "execution_count": 43
        }
      ]
    },
    {
      "cell_type": "code",
      "source": [
        "# Проверка корреляции employment:\n",
        "#   - employment_full: 0.282658\n",
        "#   - employment_part: -0.240139\n",
        "# Employment - Формат нагрузки (0 - 'Full', 1 - 'Part', 2 - 'Look-out', 3 - 'Change', 4 - 'Not full', 5 - 'does not matter')  \n",
        "t_df = digit_union_df.copy()\n",
        "t_df[\"employment\"] = union_df[\"employment\"]\n",
        "\n",
        "t_df = t_df[t_df[\"employment\"] != 5]\n",
        "t_df[[\"status_weight\", \"employment_full\", \"employment_part\"]].corr()\n",
        "# Логика присутсвтует, данных с полным трудоустройством гораздо больше чем других, \n",
        "# а также работадатели (которые размещают вакансии) чаще заинтересованы в поиске на полную занятость \n",
        "# И если есть два кандидата, один готов на полную занятость,  другой на частичную, то вероятность подходячести к вакансии у первого выше"
      ],
      "metadata": {
        "id": "q8kC8jMAqQDP",
        "colab": {
          "base_uri": "https://localhost:8080/",
          "height": 143
        },
        "outputId": "d0bd40da-d416-4c23-9903-67bd054c092a"
      },
      "execution_count": 44,
      "outputs": [
        {
          "output_type": "execute_result",
          "data": {
            "text/plain": [
              "                 status_weight  employment_full  employment_part\n",
              "status_weight         1.000000         0.369973        -0.324416\n",
              "employment_full       0.369973         1.000000        -0.887864\n",
              "employment_part      -0.324416        -0.887864         1.000000"
            ],
            "text/html": [
              "\n",
              "  <div id=\"df-8d0c306f-b0fe-4b79-9629-9af2ccea8c56\">\n",
              "    <div class=\"colab-df-container\">\n",
              "      <div>\n",
              "<style scoped>\n",
              "    .dataframe tbody tr th:only-of-type {\n",
              "        vertical-align: middle;\n",
              "    }\n",
              "\n",
              "    .dataframe tbody tr th {\n",
              "        vertical-align: top;\n",
              "    }\n",
              "\n",
              "    .dataframe thead th {\n",
              "        text-align: right;\n",
              "    }\n",
              "</style>\n",
              "<table border=\"1\" class=\"dataframe\">\n",
              "  <thead>\n",
              "    <tr style=\"text-align: right;\">\n",
              "      <th></th>\n",
              "      <th>status_weight</th>\n",
              "      <th>employment_full</th>\n",
              "      <th>employment_part</th>\n",
              "    </tr>\n",
              "  </thead>\n",
              "  <tbody>\n",
              "    <tr>\n",
              "      <th>status_weight</th>\n",
              "      <td>1.000000</td>\n",
              "      <td>0.369973</td>\n",
              "      <td>-0.324416</td>\n",
              "    </tr>\n",
              "    <tr>\n",
              "      <th>employment_full</th>\n",
              "      <td>0.369973</td>\n",
              "      <td>1.000000</td>\n",
              "      <td>-0.887864</td>\n",
              "    </tr>\n",
              "    <tr>\n",
              "      <th>employment_part</th>\n",
              "      <td>-0.324416</td>\n",
              "      <td>-0.887864</td>\n",
              "      <td>1.000000</td>\n",
              "    </tr>\n",
              "  </tbody>\n",
              "</table>\n",
              "</div>\n",
              "      <button class=\"colab-df-convert\" onclick=\"convertToInteractive('df-8d0c306f-b0fe-4b79-9629-9af2ccea8c56')\"\n",
              "              title=\"Convert this dataframe to an interactive table.\"\n",
              "              style=\"display:none;\">\n",
              "        \n",
              "  <svg xmlns=\"http://www.w3.org/2000/svg\" height=\"24px\"viewBox=\"0 0 24 24\"\n",
              "       width=\"24px\">\n",
              "    <path d=\"M0 0h24v24H0V0z\" fill=\"none\"/>\n",
              "    <path d=\"M18.56 5.44l.94 2.06.94-2.06 2.06-.94-2.06-.94-.94-2.06-.94 2.06-2.06.94zm-11 1L8.5 8.5l.94-2.06 2.06-.94-2.06-.94L8.5 2.5l-.94 2.06-2.06.94zm10 10l.94 2.06.94-2.06 2.06-.94-2.06-.94-.94-2.06-.94 2.06-2.06.94z\"/><path d=\"M17.41 7.96l-1.37-1.37c-.4-.4-.92-.59-1.43-.59-.52 0-1.04.2-1.43.59L10.3 9.45l-7.72 7.72c-.78.78-.78 2.05 0 2.83L4 21.41c.39.39.9.59 1.41.59.51 0 1.02-.2 1.41-.59l7.78-7.78 2.81-2.81c.8-.78.8-2.07 0-2.86zM5.41 20L4 18.59l7.72-7.72 1.47 1.35L5.41 20z\"/>\n",
              "  </svg>\n",
              "      </button>\n",
              "      \n",
              "  <style>\n",
              "    .colab-df-container {\n",
              "      display:flex;\n",
              "      flex-wrap:wrap;\n",
              "      gap: 12px;\n",
              "    }\n",
              "\n",
              "    .colab-df-convert {\n",
              "      background-color: #E8F0FE;\n",
              "      border: none;\n",
              "      border-radius: 50%;\n",
              "      cursor: pointer;\n",
              "      display: none;\n",
              "      fill: #1967D2;\n",
              "      height: 32px;\n",
              "      padding: 0 0 0 0;\n",
              "      width: 32px;\n",
              "    }\n",
              "\n",
              "    .colab-df-convert:hover {\n",
              "      background-color: #E2EBFA;\n",
              "      box-shadow: 0px 1px 2px rgba(60, 64, 67, 0.3), 0px 1px 3px 1px rgba(60, 64, 67, 0.15);\n",
              "      fill: #174EA6;\n",
              "    }\n",
              "\n",
              "    [theme=dark] .colab-df-convert {\n",
              "      background-color: #3B4455;\n",
              "      fill: #D2E3FC;\n",
              "    }\n",
              "\n",
              "    [theme=dark] .colab-df-convert:hover {\n",
              "      background-color: #434B5C;\n",
              "      box-shadow: 0px 1px 3px 1px rgba(0, 0, 0, 0.15);\n",
              "      filter: drop-shadow(0px 1px 2px rgba(0, 0, 0, 0.3));\n",
              "      fill: #FFFFFF;\n",
              "    }\n",
              "  </style>\n",
              "\n",
              "      <script>\n",
              "        const buttonEl =\n",
              "          document.querySelector('#df-8d0c306f-b0fe-4b79-9629-9af2ccea8c56 button.colab-df-convert');\n",
              "        buttonEl.style.display =\n",
              "          google.colab.kernel.accessAllowed ? 'block' : 'none';\n",
              "\n",
              "        async function convertToInteractive(key) {\n",
              "          const element = document.querySelector('#df-8d0c306f-b0fe-4b79-9629-9af2ccea8c56');\n",
              "          const dataTable =\n",
              "            await google.colab.kernel.invokeFunction('convertToInteractive',\n",
              "                                                     [key], {});\n",
              "          if (!dataTable) return;\n",
              "\n",
              "          const docLinkHtml = 'Like what you see? Visit the ' +\n",
              "            '<a target=\"_blank\" href=https://colab.research.google.com/notebooks/data_table.ipynb>data table notebook</a>'\n",
              "            + ' to learn more about interactive tables.';\n",
              "          element.innerHTML = '';\n",
              "          dataTable['output_type'] = 'display_data';\n",
              "          await google.colab.output.renderOutput(dataTable, element);\n",
              "          const docLink = document.createElement('div');\n",
              "          docLink.innerHTML = docLinkHtml;\n",
              "          element.appendChild(docLink);\n",
              "        }\n",
              "      </script>\n",
              "    </div>\n",
              "  </div>\n",
              "  "
            ]
          },
          "metadata": {},
          "execution_count": 44
        }
      ]
    },
    {
      "cell_type": "code",
      "source": [
        "# Проверка корреляции shedule:\n",
        "#   - shedule_full: 0.182544\n",
        "#   - shedule_flex: -0.169358\n",
        "# Shedule - Формат занятости (0 - 'Full', 1 - 'Flex', 2 - 'Project', 3 - 'Stage', 4 - 'Volunteering', 5 - 'does not matter')\n",
        "t_df = digit_union_df.copy()\n",
        "t_df[\"shedule\"] = union_df[\"shedule\"]\n",
        "\n",
        "t_df = t_df[t_df[\"shedule\"] != 5]\n",
        "t_df[[\"status_weight\", \"shedule_full\", \"shedule_flex\"]].corr()\n",
        "# shedule по аналогии с employment:  данных с полным рабочим днем гораздо больше чем других, \n",
        "#  а также логика корреляции shedule присутсвтует в том что работадатели (которые размещают вакансии)\n",
        "#  чаще заинтересованы в поиске на полную рабочий день и при выборе двух кандидатов при прочих равных, \n",
        "# вероятность выбора больше у того кто на полный рабочий день\n",
        "\n"
      ],
      "metadata": {
        "id": "gzJQxSD_x2GM",
        "colab": {
          "base_uri": "https://localhost:8080/",
          "height": 143
        },
        "outputId": "455df312-777b-4247-dac9-81c8d4fda848"
      },
      "execution_count": 45,
      "outputs": [
        {
          "output_type": "execute_result",
          "data": {
            "text/plain": [
              "               status_weight  shedule_full  shedule_flex\n",
              "status_weight       1.000000      0.254928     -0.242896\n",
              "shedule_full        0.254928      1.000000     -0.955332\n",
              "shedule_flex       -0.242896     -0.955332      1.000000"
            ],
            "text/html": [
              "\n",
              "  <div id=\"df-238f142a-198b-463e-a036-ae04be265df8\">\n",
              "    <div class=\"colab-df-container\">\n",
              "      <div>\n",
              "<style scoped>\n",
              "    .dataframe tbody tr th:only-of-type {\n",
              "        vertical-align: middle;\n",
              "    }\n",
              "\n",
              "    .dataframe tbody tr th {\n",
              "        vertical-align: top;\n",
              "    }\n",
              "\n",
              "    .dataframe thead th {\n",
              "        text-align: right;\n",
              "    }\n",
              "</style>\n",
              "<table border=\"1\" class=\"dataframe\">\n",
              "  <thead>\n",
              "    <tr style=\"text-align: right;\">\n",
              "      <th></th>\n",
              "      <th>status_weight</th>\n",
              "      <th>shedule_full</th>\n",
              "      <th>shedule_flex</th>\n",
              "    </tr>\n",
              "  </thead>\n",
              "  <tbody>\n",
              "    <tr>\n",
              "      <th>status_weight</th>\n",
              "      <td>1.000000</td>\n",
              "      <td>0.254928</td>\n",
              "      <td>-0.242896</td>\n",
              "    </tr>\n",
              "    <tr>\n",
              "      <th>shedule_full</th>\n",
              "      <td>0.254928</td>\n",
              "      <td>1.000000</td>\n",
              "      <td>-0.955332</td>\n",
              "    </tr>\n",
              "    <tr>\n",
              "      <th>shedule_flex</th>\n",
              "      <td>-0.242896</td>\n",
              "      <td>-0.955332</td>\n",
              "      <td>1.000000</td>\n",
              "    </tr>\n",
              "  </tbody>\n",
              "</table>\n",
              "</div>\n",
              "      <button class=\"colab-df-convert\" onclick=\"convertToInteractive('df-238f142a-198b-463e-a036-ae04be265df8')\"\n",
              "              title=\"Convert this dataframe to an interactive table.\"\n",
              "              style=\"display:none;\">\n",
              "        \n",
              "  <svg xmlns=\"http://www.w3.org/2000/svg\" height=\"24px\"viewBox=\"0 0 24 24\"\n",
              "       width=\"24px\">\n",
              "    <path d=\"M0 0h24v24H0V0z\" fill=\"none\"/>\n",
              "    <path d=\"M18.56 5.44l.94 2.06.94-2.06 2.06-.94-2.06-.94-.94-2.06-.94 2.06-2.06.94zm-11 1L8.5 8.5l.94-2.06 2.06-.94-2.06-.94L8.5 2.5l-.94 2.06-2.06.94zm10 10l.94 2.06.94-2.06 2.06-.94-2.06-.94-.94-2.06-.94 2.06-2.06.94z\"/><path d=\"M17.41 7.96l-1.37-1.37c-.4-.4-.92-.59-1.43-.59-.52 0-1.04.2-1.43.59L10.3 9.45l-7.72 7.72c-.78.78-.78 2.05 0 2.83L4 21.41c.39.39.9.59 1.41.59.51 0 1.02-.2 1.41-.59l7.78-7.78 2.81-2.81c.8-.78.8-2.07 0-2.86zM5.41 20L4 18.59l7.72-7.72 1.47 1.35L5.41 20z\"/>\n",
              "  </svg>\n",
              "      </button>\n",
              "      \n",
              "  <style>\n",
              "    .colab-df-container {\n",
              "      display:flex;\n",
              "      flex-wrap:wrap;\n",
              "      gap: 12px;\n",
              "    }\n",
              "\n",
              "    .colab-df-convert {\n",
              "      background-color: #E8F0FE;\n",
              "      border: none;\n",
              "      border-radius: 50%;\n",
              "      cursor: pointer;\n",
              "      display: none;\n",
              "      fill: #1967D2;\n",
              "      height: 32px;\n",
              "      padding: 0 0 0 0;\n",
              "      width: 32px;\n",
              "    }\n",
              "\n",
              "    .colab-df-convert:hover {\n",
              "      background-color: #E2EBFA;\n",
              "      box-shadow: 0px 1px 2px rgba(60, 64, 67, 0.3), 0px 1px 3px 1px rgba(60, 64, 67, 0.15);\n",
              "      fill: #174EA6;\n",
              "    }\n",
              "\n",
              "    [theme=dark] .colab-df-convert {\n",
              "      background-color: #3B4455;\n",
              "      fill: #D2E3FC;\n",
              "    }\n",
              "\n",
              "    [theme=dark] .colab-df-convert:hover {\n",
              "      background-color: #434B5C;\n",
              "      box-shadow: 0px 1px 3px 1px rgba(0, 0, 0, 0.15);\n",
              "      filter: drop-shadow(0px 1px 2px rgba(0, 0, 0, 0.3));\n",
              "      fill: #FFFFFF;\n",
              "    }\n",
              "  </style>\n",
              "\n",
              "      <script>\n",
              "        const buttonEl =\n",
              "          document.querySelector('#df-238f142a-198b-463e-a036-ae04be265df8 button.colab-df-convert');\n",
              "        buttonEl.style.display =\n",
              "          google.colab.kernel.accessAllowed ? 'block' : 'none';\n",
              "\n",
              "        async function convertToInteractive(key) {\n",
              "          const element = document.querySelector('#df-238f142a-198b-463e-a036-ae04be265df8');\n",
              "          const dataTable =\n",
              "            await google.colab.kernel.invokeFunction('convertToInteractive',\n",
              "                                                     [key], {});\n",
              "          if (!dataTable) return;\n",
              "\n",
              "          const docLinkHtml = 'Like what you see? Visit the ' +\n",
              "            '<a target=\"_blank\" href=https://colab.research.google.com/notebooks/data_table.ipynb>data table notebook</a>'\n",
              "            + ' to learn more about interactive tables.';\n",
              "          element.innerHTML = '';\n",
              "          dataTable['output_type'] = 'display_data';\n",
              "          await google.colab.output.renderOutput(dataTable, element);\n",
              "          const docLink = document.createElement('div');\n",
              "          docLink.innerHTML = docLinkHtml;\n",
              "          element.appendChild(docLink);\n",
              "        }\n",
              "      </script>\n",
              "    </div>\n",
              "  </div>\n",
              "  "
            ]
          },
          "metadata": {},
          "execution_count": 45
        }
      ]
    },
    {
      "cell_type": "code",
      "source": [
        "# Проверяем корреляцию с предполагаемой зп (salary): salary: -0.165630\n",
        "# Проверяем корреляцию исключив отсутвующие данные с зп\n",
        "temp_df = digit_union_df.copy()\n",
        "temp_df[\"salary\"] = union_df[\"salary\"]\n",
        "temp_df = temp_df[temp_df[\"salary\"] != 0]\n",
        "\n",
        "temp_df[[\"status_weight\", \"salary\"]].corr()\n",
        "# На самом деле корреляция с зарплатой небольшая"
      ],
      "metadata": {
        "id": "Vcy-_ZOM2uos",
        "colab": {
          "base_uri": "https://localhost:8080/",
          "height": 112
        },
        "outputId": "87f01589-5024-4003-d7f1-574d089a2148"
      },
      "execution_count": 46,
      "outputs": [
        {
          "output_type": "execute_result",
          "data": {
            "text/plain": [
              "               status_weight    salary\n",
              "status_weight       1.000000  0.104698\n",
              "salary              0.104698  1.000000"
            ],
            "text/html": [
              "\n",
              "  <div id=\"df-522cec78-dabe-47f0-9434-adb5f73e83aa\">\n",
              "    <div class=\"colab-df-container\">\n",
              "      <div>\n",
              "<style scoped>\n",
              "    .dataframe tbody tr th:only-of-type {\n",
              "        vertical-align: middle;\n",
              "    }\n",
              "\n",
              "    .dataframe tbody tr th {\n",
              "        vertical-align: top;\n",
              "    }\n",
              "\n",
              "    .dataframe thead th {\n",
              "        text-align: right;\n",
              "    }\n",
              "</style>\n",
              "<table border=\"1\" class=\"dataframe\">\n",
              "  <thead>\n",
              "    <tr style=\"text-align: right;\">\n",
              "      <th></th>\n",
              "      <th>status_weight</th>\n",
              "      <th>salary</th>\n",
              "    </tr>\n",
              "  </thead>\n",
              "  <tbody>\n",
              "    <tr>\n",
              "      <th>status_weight</th>\n",
              "      <td>1.000000</td>\n",
              "      <td>0.104698</td>\n",
              "    </tr>\n",
              "    <tr>\n",
              "      <th>salary</th>\n",
              "      <td>0.104698</td>\n",
              "      <td>1.000000</td>\n",
              "    </tr>\n",
              "  </tbody>\n",
              "</table>\n",
              "</div>\n",
              "      <button class=\"colab-df-convert\" onclick=\"convertToInteractive('df-522cec78-dabe-47f0-9434-adb5f73e83aa')\"\n",
              "              title=\"Convert this dataframe to an interactive table.\"\n",
              "              style=\"display:none;\">\n",
              "        \n",
              "  <svg xmlns=\"http://www.w3.org/2000/svg\" height=\"24px\"viewBox=\"0 0 24 24\"\n",
              "       width=\"24px\">\n",
              "    <path d=\"M0 0h24v24H0V0z\" fill=\"none\"/>\n",
              "    <path d=\"M18.56 5.44l.94 2.06.94-2.06 2.06-.94-2.06-.94-.94-2.06-.94 2.06-2.06.94zm-11 1L8.5 8.5l.94-2.06 2.06-.94-2.06-.94L8.5 2.5l-.94 2.06-2.06.94zm10 10l.94 2.06.94-2.06 2.06-.94-2.06-.94-.94-2.06-.94 2.06-2.06.94z\"/><path d=\"M17.41 7.96l-1.37-1.37c-.4-.4-.92-.59-1.43-.59-.52 0-1.04.2-1.43.59L10.3 9.45l-7.72 7.72c-.78.78-.78 2.05 0 2.83L4 21.41c.39.39.9.59 1.41.59.51 0 1.02-.2 1.41-.59l7.78-7.78 2.81-2.81c.8-.78.8-2.07 0-2.86zM5.41 20L4 18.59l7.72-7.72 1.47 1.35L5.41 20z\"/>\n",
              "  </svg>\n",
              "      </button>\n",
              "      \n",
              "  <style>\n",
              "    .colab-df-container {\n",
              "      display:flex;\n",
              "      flex-wrap:wrap;\n",
              "      gap: 12px;\n",
              "    }\n",
              "\n",
              "    .colab-df-convert {\n",
              "      background-color: #E8F0FE;\n",
              "      border: none;\n",
              "      border-radius: 50%;\n",
              "      cursor: pointer;\n",
              "      display: none;\n",
              "      fill: #1967D2;\n",
              "      height: 32px;\n",
              "      padding: 0 0 0 0;\n",
              "      width: 32px;\n",
              "    }\n",
              "\n",
              "    .colab-df-convert:hover {\n",
              "      background-color: #E2EBFA;\n",
              "      box-shadow: 0px 1px 2px rgba(60, 64, 67, 0.3), 0px 1px 3px 1px rgba(60, 64, 67, 0.15);\n",
              "      fill: #174EA6;\n",
              "    }\n",
              "\n",
              "    [theme=dark] .colab-df-convert {\n",
              "      background-color: #3B4455;\n",
              "      fill: #D2E3FC;\n",
              "    }\n",
              "\n",
              "    [theme=dark] .colab-df-convert:hover {\n",
              "      background-color: #434B5C;\n",
              "      box-shadow: 0px 1px 3px 1px rgba(0, 0, 0, 0.15);\n",
              "      filter: drop-shadow(0px 1px 2px rgba(0, 0, 0, 0.3));\n",
              "      fill: #FFFFFF;\n",
              "    }\n",
              "  </style>\n",
              "\n",
              "      <script>\n",
              "        const buttonEl =\n",
              "          document.querySelector('#df-522cec78-dabe-47f0-9434-adb5f73e83aa button.colab-df-convert');\n",
              "        buttonEl.style.display =\n",
              "          google.colab.kernel.accessAllowed ? 'block' : 'none';\n",
              "\n",
              "        async function convertToInteractive(key) {\n",
              "          const element = document.querySelector('#df-522cec78-dabe-47f0-9434-adb5f73e83aa');\n",
              "          const dataTable =\n",
              "            await google.colab.kernel.invokeFunction('convertToInteractive',\n",
              "                                                     [key], {});\n",
              "          if (!dataTable) return;\n",
              "\n",
              "          const docLinkHtml = 'Like what you see? Visit the ' +\n",
              "            '<a target=\"_blank\" href=https://colab.research.google.com/notebooks/data_table.ipynb>data table notebook</a>'\n",
              "            + ' to learn more about interactive tables.';\n",
              "          element.innerHTML = '';\n",
              "          dataTable['output_type'] = 'display_data';\n",
              "          await google.colab.output.renderOutput(dataTable, element);\n",
              "          const docLink = document.createElement('div');\n",
              "          docLink.innerHTML = docLinkHtml;\n",
              "          element.appendChild(docLink);\n",
              "        }\n",
              "      </script>\n",
              "    </div>\n",
              "  </div>\n",
              "  "
            ]
          },
          "metadata": {},
          "execution_count": 46
        }
      ]
    },
    {
      "cell_type": "code",
      "source": [
        "# Корреляцию со схожестью названий позиции и вакансии\n",
        "# similarity_position_job_name: 0.144731\n",
        "# Наименование позиции указано у всех кандидатов, поэтому корреялцию можно считать корректной\n"
      ],
      "metadata": {
        "id": "_4be3QOOx2Th"
      },
      "execution_count": 47,
      "outputs": []
    },
    {
      "cell_type": "markdown",
      "source": [
        "### Итог анализа корреляции\n",
        "Подтверждена корреляция для следующих параметров:\n",
        "- job_status_1: 0.362322\n",
        "- employment_full: 0.282658\n",
        "- shedule_full: 0.182544\n",
        "- similarity_position_job_name: 0.144731\n",
        "- shedule_flex: -0.169358\n",
        "- employment_part: -0.240139\n",
        "- job_status_2: -0.270550\n",
        "\n",
        "Однако необходмио учитывать объем данных, так например значений shedule_full и employment_full в принципе гораздо больше в исхдоных данных, т.е. присутсвтует расбалансировка данных по этим параметрам"
      ],
      "metadata": {
        "id": "chRzjAKg5RMW"
      }
    },
    {
      "cell_type": "code",
      "source": [],
      "metadata": {
        "id": "XbskqDsRkr2X"
      },
      "execution_count": 47,
      "outputs": []
    },
    {
      "cell_type": "code",
      "source": [
        "# digit_union_df[digit_union_df[\"sex_m\"]][[\"status_weight\", \"sex_m\"]].corr()\n",
        "t_df = digit_union_df.copy()\n",
        "t_df[\"sex\"] = union_df[\"sex\"]\n",
        "\n",
        "# digit_union_df[digit_union_df[\"sex_m\"] != 0].shape, digit_union_df.shape\n",
        "# t_df = digit_union_df[digit_union_df[\"sex_m\"] != 0]\n",
        "t_df = t_df[t_df[\"sex\"] != 0]\n",
        "t_df[[\"status_weight\", \"sex_m\", \"sex_f\",]].corr()"
      ],
      "metadata": {
        "id": "ib3Ec1CwemEb",
        "colab": {
          "base_uri": "https://localhost:8080/",
          "height": 143
        },
        "outputId": "34aae313-f1d2-4fcc-961b-f1d4bc264906"
      },
      "execution_count": 48,
      "outputs": [
        {
          "output_type": "execute_result",
          "data": {
            "text/plain": [
              "               status_weight     sex_m     sex_f\n",
              "status_weight       1.000000  0.024379 -0.024379\n",
              "sex_m               0.024379  1.000000 -1.000000\n",
              "sex_f              -0.024379 -1.000000  1.000000"
            ],
            "text/html": [
              "\n",
              "  <div id=\"df-8c1a18f1-39c9-423a-81e8-efd59de92a13\">\n",
              "    <div class=\"colab-df-container\">\n",
              "      <div>\n",
              "<style scoped>\n",
              "    .dataframe tbody tr th:only-of-type {\n",
              "        vertical-align: middle;\n",
              "    }\n",
              "\n",
              "    .dataframe tbody tr th {\n",
              "        vertical-align: top;\n",
              "    }\n",
              "\n",
              "    .dataframe thead th {\n",
              "        text-align: right;\n",
              "    }\n",
              "</style>\n",
              "<table border=\"1\" class=\"dataframe\">\n",
              "  <thead>\n",
              "    <tr style=\"text-align: right;\">\n",
              "      <th></th>\n",
              "      <th>status_weight</th>\n",
              "      <th>sex_m</th>\n",
              "      <th>sex_f</th>\n",
              "    </tr>\n",
              "  </thead>\n",
              "  <tbody>\n",
              "    <tr>\n",
              "      <th>status_weight</th>\n",
              "      <td>1.000000</td>\n",
              "      <td>0.024379</td>\n",
              "      <td>-0.024379</td>\n",
              "    </tr>\n",
              "    <tr>\n",
              "      <th>sex_m</th>\n",
              "      <td>0.024379</td>\n",
              "      <td>1.000000</td>\n",
              "      <td>-1.000000</td>\n",
              "    </tr>\n",
              "    <tr>\n",
              "      <th>sex_f</th>\n",
              "      <td>-0.024379</td>\n",
              "      <td>-1.000000</td>\n",
              "      <td>1.000000</td>\n",
              "    </tr>\n",
              "  </tbody>\n",
              "</table>\n",
              "</div>\n",
              "      <button class=\"colab-df-convert\" onclick=\"convertToInteractive('df-8c1a18f1-39c9-423a-81e8-efd59de92a13')\"\n",
              "              title=\"Convert this dataframe to an interactive table.\"\n",
              "              style=\"display:none;\">\n",
              "        \n",
              "  <svg xmlns=\"http://www.w3.org/2000/svg\" height=\"24px\"viewBox=\"0 0 24 24\"\n",
              "       width=\"24px\">\n",
              "    <path d=\"M0 0h24v24H0V0z\" fill=\"none\"/>\n",
              "    <path d=\"M18.56 5.44l.94 2.06.94-2.06 2.06-.94-2.06-.94-.94-2.06-.94 2.06-2.06.94zm-11 1L8.5 8.5l.94-2.06 2.06-.94-2.06-.94L8.5 2.5l-.94 2.06-2.06.94zm10 10l.94 2.06.94-2.06 2.06-.94-2.06-.94-.94-2.06-.94 2.06-2.06.94z\"/><path d=\"M17.41 7.96l-1.37-1.37c-.4-.4-.92-.59-1.43-.59-.52 0-1.04.2-1.43.59L10.3 9.45l-7.72 7.72c-.78.78-.78 2.05 0 2.83L4 21.41c.39.39.9.59 1.41.59.51 0 1.02-.2 1.41-.59l7.78-7.78 2.81-2.81c.8-.78.8-2.07 0-2.86zM5.41 20L4 18.59l7.72-7.72 1.47 1.35L5.41 20z\"/>\n",
              "  </svg>\n",
              "      </button>\n",
              "      \n",
              "  <style>\n",
              "    .colab-df-container {\n",
              "      display:flex;\n",
              "      flex-wrap:wrap;\n",
              "      gap: 12px;\n",
              "    }\n",
              "\n",
              "    .colab-df-convert {\n",
              "      background-color: #E8F0FE;\n",
              "      border: none;\n",
              "      border-radius: 50%;\n",
              "      cursor: pointer;\n",
              "      display: none;\n",
              "      fill: #1967D2;\n",
              "      height: 32px;\n",
              "      padding: 0 0 0 0;\n",
              "      width: 32px;\n",
              "    }\n",
              "\n",
              "    .colab-df-convert:hover {\n",
              "      background-color: #E2EBFA;\n",
              "      box-shadow: 0px 1px 2px rgba(60, 64, 67, 0.3), 0px 1px 3px 1px rgba(60, 64, 67, 0.15);\n",
              "      fill: #174EA6;\n",
              "    }\n",
              "\n",
              "    [theme=dark] .colab-df-convert {\n",
              "      background-color: #3B4455;\n",
              "      fill: #D2E3FC;\n",
              "    }\n",
              "\n",
              "    [theme=dark] .colab-df-convert:hover {\n",
              "      background-color: #434B5C;\n",
              "      box-shadow: 0px 1px 3px 1px rgba(0, 0, 0, 0.15);\n",
              "      filter: drop-shadow(0px 1px 2px rgba(0, 0, 0, 0.3));\n",
              "      fill: #FFFFFF;\n",
              "    }\n",
              "  </style>\n",
              "\n",
              "      <script>\n",
              "        const buttonEl =\n",
              "          document.querySelector('#df-8c1a18f1-39c9-423a-81e8-efd59de92a13 button.colab-df-convert');\n",
              "        buttonEl.style.display =\n",
              "          google.colab.kernel.accessAllowed ? 'block' : 'none';\n",
              "\n",
              "        async function convertToInteractive(key) {\n",
              "          const element = document.querySelector('#df-8c1a18f1-39c9-423a-81e8-efd59de92a13');\n",
              "          const dataTable =\n",
              "            await google.colab.kernel.invokeFunction('convertToInteractive',\n",
              "                                                     [key], {});\n",
              "          if (!dataTable) return;\n",
              "\n",
              "          const docLinkHtml = 'Like what you see? Visit the ' +\n",
              "            '<a target=\"_blank\" href=https://colab.research.google.com/notebooks/data_table.ipynb>data table notebook</a>'\n",
              "            + ' to learn more about interactive tables.';\n",
              "          element.innerHTML = '';\n",
              "          dataTable['output_type'] = 'display_data';\n",
              "          await google.colab.output.renderOutput(dataTable, element);\n",
              "          const docLink = document.createElement('div');\n",
              "          docLink.innerHTML = docLinkHtml;\n",
              "          element.appendChild(docLink);\n",
              "        }\n",
              "      </script>\n",
              "    </div>\n",
              "  </div>\n",
              "  "
            ]
          },
          "metadata": {},
          "execution_count": 48
        }
      ]
    },
    {
      "cell_type": "code",
      "execution_count": 49,
      "metadata": {
        "id": "Ufa907QJBMhu"
      },
      "outputs": [],
      "source": [
        "# # Асимметрия — это мера асимметрии распределения вероятностей действительнозначной случайной величины относительно ее среднего значения.\n",
        "# pd.DataFrame(digit_union_df.skew().sort_values(ascending=False))"
      ]
    },
    {
      "cell_type": "markdown",
      "metadata": {
        "id": "P2e81xFyCwCz"
      },
      "source": [
        "# TensorFlow Модель"
      ]
    },
    {
      "cell_type": "markdown",
      "metadata": {
        "id": "S8K30lv0gu9-"
      },
      "source": [
        "## Подготавливаем и преобразовыаем данные"
      ]
    },
    {
      "cell_type": "markdown",
      "metadata": {
        "id": "Qw9pqDogz8BM"
      },
      "source": [
        "Формируем данные"
      ]
    },
    {
      "cell_type": "code",
      "execution_count": 50,
      "metadata": {
        "id": "0rYtWgHvz7Dr",
        "colab": {
          "base_uri": "https://localhost:8080/"
        },
        "outputId": "f2fac25e-a97f-4a1d-9c99-bc8b753593f4"
      },
      "outputs": [
        {
          "output_type": "execute_result",
          "data": {
            "text/plain": [
              "((122047, 502), (122047, 2))"
            ]
          },
          "metadata": {},
          "execution_count": 50
        }
      ],
      "source": [
        "x_data = digit_union_tokens_df[digit_union_tokens_df.columns.difference([\"status_weight\"])]\n",
        "y_data = digit_union_tokens_df[\"status_weight\"]\n",
        "# Переводим y_data в класификатор вида [0., 1.]\n",
        "y_data = np.array([[1-weight, weight] for weight in y_data])\n",
        "\n",
        "x_data.shape, y_data.shape"
      ]
    },
    {
      "cell_type": "markdown",
      "metadata": {
        "id": "T-zi7nDZlmgU"
      },
      "source": [
        "### Нормализация данных"
      ]
    },
    {
      "cell_type": "code",
      "execution_count": 51,
      "metadata": {
        "id": "KmrN1Qdud-3z",
        "colab": {
          "base_uri": "https://localhost:8080/"
        },
        "outputId": "10bbb5e7-64b0-4e82-8a8c-9371759c4958"
      },
      "outputs": [
        {
          "output_type": "stream",
          "name": "stderr",
          "text": [
            "/usr/local/lib/python3.7/dist-packages/pandas/core/generic.py:5516: SettingWithCopyWarning: \n",
            "A value is trying to be set on a copy of a slice from a DataFrame.\n",
            "Try using .loc[row_indexer,col_indexer] = value instead\n",
            "\n",
            "See the caveats in the documentation: https://pandas.pydata.org/pandas-docs/stable/user_guide/indexing.html#returning-a-view-versus-a-copy\n",
            "  self[name] = value\n",
            "/usr/local/lib/python3.7/dist-packages/pandas/core/generic.py:5516: SettingWithCopyWarning: \n",
            "A value is trying to be set on a copy of a slice from a DataFrame.\n",
            "Try using .loc[row_indexer,col_indexer] = value instead\n",
            "\n",
            "See the caveats in the documentation: https://pandas.pydata.org/pandas-docs/stable/user_guide/indexing.html#returning-a-view-versus-a-copy\n",
            "  self[name] = value\n"
          ]
        }
      ],
      "source": [
        "# Нормализируем следующие параметры: salary и age\n",
        "x_data.salary = StandardScaler().fit_transform(x_data[[\"salary\"]])\n",
        "x_data.age = StandardScaler().fit_transform(x_data[[\"age\"]])"
      ]
    },
    {
      "cell_type": "markdown",
      "metadata": {
        "id": "PGqDbHIeBqN8"
      },
      "source": [
        "### Разбиваем данные на тестовую и обучающую выборки"
      ]
    },
    {
      "cell_type": "markdown",
      "metadata": {
        "id": "gFp1i0eG4OM6"
      },
      "source": []
    },
    {
      "cell_type": "code",
      "execution_count": 52,
      "metadata": {
        "id": "Ujmh8Dh5BqN8",
        "colab": {
          "base_uri": "https://localhost:8080/"
        },
        "outputId": "cffb4bbf-12eb-4cc3-ea56-1d301a53669a"
      },
      "outputs": [
        {
          "output_type": "execute_result",
          "data": {
            "text/plain": [
              "((109842, 502), (12205, 502), (109842, 2), (12205, 2))"
            ]
          },
          "metadata": {},
          "execution_count": 52
        }
      ],
      "source": [
        "# Разбиваем данные на train, test, val\n",
        "from sklearn.model_selection import train_test_split\n",
        "\n",
        "x_train, x_val, y_train, y_val = train_test_split(x_data, y_data, test_size=0.1, shuffle=True)\n",
        "# x_val, x_test, y_val, y_test = train_test_split(x_val, y_val, test_size=0.5, shuffle=True)\n",
        "\n",
        "x_train.shape, x_val.shape, y_train.shape, y_val.shape \n",
        "#, x_test.shape, y_test.shape"
      ]
    },
    {
      "cell_type": "markdown",
      "metadata": {
        "id": "ZQnLd4a5BvE7"
      },
      "source": [
        "## Запускаем модель"
      ]
    },
    {
      "cell_type": "code",
      "source": [
        "# TODO Управление весами \n",
        "# class_weight и sample_weight # в fit подавать sample_weight=sample_weight,  class_weight=class_weight \n",
        "# Веса выходных классов\n",
        "# class_weight = {0 : 1. , 1: 3.}\n",
        "# class_weight\n",
        "# Веса входных данных (каждая строка данных взвешивается)\n",
        "# sample_weight = np.ones(shape=(len(y_train),))\n",
        "# sample_weight[y_train != 0] = 2.0"
      ],
      "metadata": {
        "id": "G1nk8oajUD2S"
      },
      "execution_count": 53,
      "outputs": []
    },
    {
      "cell_type": "code",
      "execution_count": 54,
      "metadata": {
        "id": "9nRdqwyAIaPF",
        "colab": {
          "base_uri": "https://localhost:8080/",
          "height": 739
        },
        "outputId": "197184ac-889c-4282-aeaa-f4b291205da1"
      },
      "outputs": [
        {
          "output_type": "stream",
          "name": "stdout",
          "text": [
            "Epoch 1/5\n",
            "367/367 [==============================] - 50s 129ms/step - loss: 0.2257 - accuracy: 0.9519 - val_loss: 0.2042 - val_accuracy: 0.9621\n",
            "Epoch 2/5\n",
            "367/367 [==============================] - 48s 129ms/step - loss: 0.1857 - accuracy: 0.9709 - val_loss: 0.1797 - val_accuracy: 0.9730\n",
            "Epoch 3/5\n",
            "367/367 [==============================] - 49s 134ms/step - loss: 0.1764 - accuracy: 0.9744 - val_loss: 0.1855 - val_accuracy: 0.9717\n",
            "Epoch 4/5\n",
            "367/367 [==============================] - 46s 126ms/step - loss: 0.1700 - accuracy: 0.9769 - val_loss: 0.1709 - val_accuracy: 0.9766\n",
            "Epoch 5/5\n",
            "367/367 [==============================] - 47s 127ms/step - loss: 0.1664 - accuracy: 0.9778 - val_loss: 0.1744 - val_accuracy: 0.9756\n"
          ]
        },
        {
          "output_type": "display_data",
          "data": {
            "text/plain": [
              "<Figure size 432x288 with 1 Axes>"
            ],
            "image/png": "[encoded data removed]"
          },
          "metadata": {
            "needs_background": "light"
          }
        },
        {
          "output_type": "display_data",
          "data": {
            "text/plain": [
              "<Figure size 432x288 with 1 Axes>"
            ],
            "image/png": "[encoded data removed]"
          },
          "metadata": {
            "needs_background": "light"
          }
        }
      ],
      "source": [
        "model = Sequential()\n",
        "model.add(Dense(1400, input_shape=(x_train.shape[1:]), activation=\"relu\"))\n",
        "model.add(Dropout(0.4))\n",
        "model.add(BatchNormalization())\n",
        "model.add(Dense(700, activation=\"relu\"))\n",
        "model.add(Dropout(0.2))\n",
        "model.add(BatchNormalization())\n",
        "model.add(Dense(500, activation=\"relu\"))\n",
        "model.add(Dropout(0.2))\n",
        "model.add(BatchNormalization())\n",
        "model.add(Dense(200, activation=\"relu\"))\n",
        "model.add(Dropout(0.1))\n",
        "model.add(Dense(2, activation=\"softmax\"))\n",
        "model.compile( optimizer=\"Nadam\", loss=\"binary_crossentropy\", metrics=[\"accuracy\"] ) \n",
        "\n",
        "history = model.fit( x_train, y_train, epochs=5, validation_data=(x_val, y_val), verbose=True, batch_size=300)\n",
        "\n",
        "plt.plot(history.history[\"accuracy\"], label=\"accuracy\")\n",
        "plt.plot(history.history[\"val_accuracy\"], label=\"val_accuracy\")\n",
        "plt.title(\"Точность на train/val (accuracy / val_accuracy)\")\n",
        "plt.show()\n",
        "\n",
        "plt.plot(history.history[\"loss\"], label=\"loss\")\n",
        "plt.plot(history.history[\"val_loss\"], label=\"val_loss\")\n",
        "plt.title(\"Ошибки на train/val (loss / val_loss)\")\n",
        "plt.show()"
      ]
    },
    {
      "cell_type": "code",
      "execution_count": 54,
      "metadata": {
        "id": "GOgpnqTAuHpQ"
      },
      "outputs": [],
      "source": []
    },
    {
      "cell_type": "markdown",
      "metadata": {
        "id": "msPXg0M-SRzE"
      },
      "source": [
        "# Формируем предикт по тестовым данным"
      ]
    },
    {
      "cell_type": "markdown",
      "metadata": {
        "id": "iUhGWBwJST8o"
      },
      "source": [
        "TODO:\n",
        " - Перевести обработку данных в класс предобработки и функциями обработку делать и для обучения и для теста"
      ]
    },
    {
      "cell_type": "markdown",
      "metadata": {
        "id": "21hzbdkASUDw"
      },
      "source": [
        "### Загружаем тестовые данные"
      ]
    },
    {
      "cell_type": "code",
      "execution_count": 55,
      "metadata": {
        "id": "A9mACXaISMD4"
      },
      "outputs": [],
      "source": [
        "# Кандидаты\n",
        "test_filename_candidates = PATH_PROJECT + \"dataset/test/\" + \"test_candidates.csv\"\n",
        "# данные по образованию кандидатов\n",
        "test_filename_education = PATH_PROJECT + \"dataset/test/\" + \"test_candidates_education.csv\"\n",
        "# места работы кандидатов\n",
        "test_filename_work_places = PATH_PROJECT + \"dataset/test/\" + \"test_candidates_workplaces.csv\"\n",
        "# Вакансии\n",
        "test_filename_jobs = PATH_PROJECT + \"dataset/test/\" + \"test_jobs.csv\""
      ]
    },
    {
      "cell_type": "code",
      "execution_count": 56,
      "metadata": {
        "id": "mAivW6WjSMHH",
        "colab": {
          "base_uri": "https://localhost:8080/"
        },
        "outputId": "09124a78-5e18-4208-a47d-d6ca248b131d"
      },
      "outputs": [
        {
          "output_type": "execute_result",
          "data": {
            "text/plain": [
              "((200, 13), (277, 4), (893, 6), (10, 8))"
            ]
          },
          "metadata": {},
          "execution_count": 56
        }
      ],
      "source": [
        "test_candidates_df = pd.read_csv(test_filename_candidates, sep=\";\", names=['id', 'position', 'sex', \t\n",
        "                                                                 'citizenship', \t'age', 'salary',\t\n",
        "                                                                 'langs', 'driver_license', 'subwey', \n",
        "                                                                 'skills', 'employment', 'shedule', \n",
        "                                                                 'candidate_region'], skiprows=[0])\n",
        "test_education_df = pd.read_csv(test_filename_education, sep=\";\", names=['id', 'university', 'faculty', 'graduate_year'], skiprows=[0])\n",
        "test_work_places_df = pd.read_csv(test_filename_work_places, sep=\";\", names=['id', 'work_place_position', 'from_year', \t'from_month', 'to_year', 'to_month'], skiprows=[0])\n",
        "test_jobs_df = pd.read_csv(test_filename_jobs, sep=\";\", names=['job_id', 'job_status', 'job_name', \t'job_region', 'job_description',\"1\", \"2\", \"3\"])\n",
        "\n",
        "test_candidates_df.shape, test_education_df.shape, test_work_places_df.shape, test_jobs_df.shape"
      ]
    },
    {
      "cell_type": "code",
      "execution_count": 57,
      "metadata": {
        "id": "7EZ95LhcSMJ5",
        "colab": {
          "base_uri": "https://localhost:8080/"
        },
        "outputId": "82fabc9e-793f-473e-a2e4-e867be10baa6"
      },
      "outputs": [
        {
          "output_type": "execute_result",
          "data": {
            "text/plain": [
              "((200, 13), (185, 4), (212, 6), (10, 8))"
            ]
          },
          "metadata": {},
          "execution_count": 57
        }
      ],
      "source": [
        "# Удаление дублей по Id\n",
        "candidates_mask = test_candidates_df.duplicated(subset=[\"id\"])\n",
        "test_candidates_df = test_candidates_df.loc[~candidates_mask]\n",
        "\n",
        "education_mask = test_education_df.duplicated(subset=[\"id\"])\n",
        "test_education_df = test_education_df.loc[~education_mask]\n",
        "\n",
        "work_places_mask = test_work_places_df.duplicated(subset=[\"id\"])\n",
        "test_work_places_df = test_work_places_df.loc[~work_places_mask]\n",
        "\n",
        "jobs_mask = test_jobs_df.duplicated(subset=[\"job_id\"])\n",
        "test_jobs_df = test_jobs_df.loc[~jobs_mask]\n",
        "\n",
        "\n",
        "test_candidates_df.shape, test_education_df.shape, test_work_places_df.shape, test_jobs_df.shape"
      ]
    },
    {
      "cell_type": "markdown",
      "metadata": {
        "id": "N3MCvg5UScr_"
      },
      "source": [
        "#### Объединяем кандидата с информацией об обучении и стаже"
      ]
    },
    {
      "cell_type": "code",
      "execution_count": 58,
      "metadata": {
        "id": "h62nHKnWSMMs",
        "colab": {
          "base_uri": "https://localhost:8080/"
        },
        "outputId": "f5650593-ad9d-4b20-ce09-fda1e5103406"
      },
      "outputs": [
        {
          "output_type": "execute_result",
          "data": {
            "text/plain": [
              "(200, 21)"
            ]
          },
          "metadata": {},
          "execution_count": 58
        }
      ],
      "source": [
        "# объединяем кандидатов с данными об образовании (по \"id\")\n",
        "test_union_df = test_candidates_df.merge(test_education_df, how=\"left\", left_on=\"id\", right_on=\"id\")\n",
        "# объединяем кандидатов с данными об опыте работы (по \"id\")\n",
        "test_union_df = test_union_df.merge(test_work_places_df, how=\"left\", left_on=\"id\", right_on=\"id\")\n",
        "\n",
        "test_union_df.shape"
      ]
    },
    {
      "cell_type": "markdown",
      "metadata": {
        "id": "kVj_gVkKSgoX"
      },
      "source": [
        "#### Объединяем каждую вакансию с каждым кандидатом, чтобы в итоге проверить вероятность их совмещения"
      ]
    },
    {
      "cell_type": "code",
      "execution_count": 59,
      "metadata": {
        "id": "JE_s6yVfSMOi",
        "colab": {
          "base_uri": "https://localhost:8080/"
        },
        "outputId": "fc8bacf6-bcf1-4ed1-ac04-a1ee799b3407"
      },
      "outputs": [
        {
          "output_type": "execute_result",
          "data": {
            "text/plain": [
              "(2000, 29)"
            ]
          },
          "metadata": {},
          "execution_count": 59
        }
      ],
      "source": [
        "# объединяем каждого кандидатов с данными по каждой вакансии\n",
        "test_union_df = test_union_df.merge(test_jobs_df, how='cross')\n",
        "test_union_df.shape"
      ]
    },
    {
      "cell_type": "code",
      "execution_count": 60,
      "metadata": {
        "id": "UBB9mO9MXfQx",
        "colab": {
          "base_uri": "https://localhost:8080/",
          "height": 393
        },
        "outputId": "b5b6fc8f-91c0-4765-e9f6-00cde0c5b5a1"
      },
      "outputs": [
        {
          "output_type": "execute_result",
          "data": {
            "text/plain": [
              "        id                                  position  sex citizenship  age  \\\n",
              "0  8458568  специалист отдела парковочного комплекса    2      Россия   50   \n",
              "1  8458568  специалист отдела парковочного комплекса    2      Россия   50   \n",
              "2  8458568  специалист отдела парковочного комплекса    2      Россия   50   \n",
              "\n",
              "   salary                                        langs driver_license subwey  \\\n",
              "0   45000  английский:базовые знания||русский:родной||            NaN    NaN   \n",
              "1   45000  английский:базовые знания||русский:родной||            NaN    NaN   \n",
              "2   45000  английский:базовые знания||русский:родной||            NaN    NaN   \n",
              "\n",
              "                                              skills  ... to_year to_month  \\\n",
              "0  Ведение документации ,управление производством...  ...  2019.0      0.0   \n",
              "1  Ведение документации ,управление производством...  ...  2019.0      0.0   \n",
              "2  Ведение документации ,управление производством...  ...  2019.0      0.0   \n",
              "\n",
              "   job_id job_status                                     job_name  \\\n",
              "0  140952          2  Водитель автомобиля большегруза с прицепом    \n",
              "1   76137          2                      водитель на своем авто    \n",
              "2  119729          4                                     Водитель   \n",
              "\n",
              "        job_region                                    job_description     1  \\\n",
              "0  Санкт-Петербург  <p><strong>ОБЯЗАННОСТИ:</strong><span></span><...  2197   \n",
              "1           Москва  <p>Начался сезон отпусков, по этой причине отк...  2869   \n",
              "2           Москва  <p>Наш клиент, крупный холдинг рассматривает к...  2869   \n",
              "\n",
              "   2  3  \n",
              "0  1  1  \n",
              "1  1  1  \n",
              "2  1  1  \n",
              "\n",
              "[3 rows x 29 columns]"
            ],
            "text/html": [
              "\n",
              "  <div id=\"df-b7ed4178-a1a9-4d9a-b93b-4985d4862933\">\n",
              "    <div class=\"colab-df-container\">\n",
              "      <div>\n",
              "<style scoped>\n",
              "    .dataframe tbody tr th:only-of-type {\n",
              "        vertical-align: middle;\n",
              "    }\n",
              "\n",
              "    .dataframe tbody tr th {\n",
              "        vertical-align: top;\n",
              "    }\n",
              "\n",
              "    .dataframe thead th {\n",
              "        text-align: right;\n",
              "    }\n",
              "</style>\n",
              "<table border=\"1\" class=\"dataframe\">\n",
              "  <thead>\n",
              "    <tr style=\"text-align: right;\">\n",
              "      <th></th>\n",
              "      <th>id</th>\n",
              "      <th>position</th>\n",
              "      <th>sex</th>\n",
              "      <th>citizenship</th>\n",
              "      <th>age</th>\n",
              "      <th>salary</th>\n",
              "      <th>langs</th>\n",
              "      <th>driver_license</th>\n",
              "      <th>subwey</th>\n",
              "      <th>skills</th>\n",
              "      <th>...</th>\n",
              "      <th>to_year</th>\n",
              "      <th>to_month</th>\n",
              "      <th>job_id</th>\n",
              "      <th>job_status</th>\n",
              "      <th>job_name</th>\n",
              "      <th>job_region</th>\n",
              "      <th>job_description</th>\n",
              "      <th>1</th>\n",
              "      <th>2</th>\n",
              "      <th>3</th>\n",
              "    </tr>\n",
              "  </thead>\n",
              "  <tbody>\n",
              "    <tr>\n",
              "      <th>0</th>\n",
              "      <td>8458568</td>\n",
              "      <td>специалист отдела парковочного комплекса</td>\n",
              "      <td>2</td>\n",
              "      <td>Россия</td>\n",
              "      <td>50</td>\n",
              "      <td>45000</td>\n",
              "      <td>английский:базовые знания||русский:родной||</td>\n",
              "      <td>NaN</td>\n",
              "      <td>NaN</td>\n",
              "      <td>Ведение документации ,управление производством...</td>\n",
              "      <td>...</td>\n",
              "      <td>2019.0</td>\n",
              "      <td>0.0</td>\n",
              "      <td>140952</td>\n",
              "      <td>2</td>\n",
              "      <td>Водитель автомобиля большегруза с прицепом</td>\n",
              "      <td>Санкт-Петербург</td>\n",
              "      <td>&lt;p&gt;&lt;strong&gt;ОБЯЗАННОСТИ:&lt;/strong&gt;&lt;span&gt;&lt;/span&gt;&lt;...</td>\n",
              "      <td>2197</td>\n",
              "      <td>1</td>\n",
              "      <td>1</td>\n",
              "    </tr>\n",
              "    <tr>\n",
              "      <th>1</th>\n",
              "      <td>8458568</td>\n",
              "      <td>специалист отдела парковочного комплекса</td>\n",
              "      <td>2</td>\n",
              "      <td>Россия</td>\n",
              "      <td>50</td>\n",
              "      <td>45000</td>\n",
              "      <td>английский:базовые знания||русский:родной||</td>\n",
              "      <td>NaN</td>\n",
              "      <td>NaN</td>\n",
              "      <td>Ведение документации ,управление производством...</td>\n",
              "      <td>...</td>\n",
              "      <td>2019.0</td>\n",
              "      <td>0.0</td>\n",
              "      <td>76137</td>\n",
              "      <td>2</td>\n",
              "      <td>водитель на своем авто</td>\n",
              "      <td>Москва</td>\n",
              "      <td>&lt;p&gt;Начался сезон отпусков, по этой причине отк...</td>\n",
              "      <td>2869</td>\n",
              "      <td>1</td>\n",
              "      <td>1</td>\n",
              "    </tr>\n",
              "    <tr>\n",
              "      <th>2</th>\n",
              "      <td>8458568</td>\n",
              "      <td>специалист отдела парковочного комплекса</td>\n",
              "      <td>2</td>\n",
              "      <td>Россия</td>\n",
              "      <td>50</td>\n",
              "      <td>45000</td>\n",
              "      <td>английский:базовые знания||русский:родной||</td>\n",
              "      <td>NaN</td>\n",
              "      <td>NaN</td>\n",
              "      <td>Ведение документации ,управление производством...</td>\n",
              "      <td>...</td>\n",
              "      <td>2019.0</td>\n",
              "      <td>0.0</td>\n",
              "      <td>119729</td>\n",
              "      <td>4</td>\n",
              "      <td>Водитель</td>\n",
              "      <td>Москва</td>\n",
              "      <td>&lt;p&gt;Наш клиент, крупный холдинг рассматривает к...</td>\n",
              "      <td>2869</td>\n",
              "      <td>1</td>\n",
              "      <td>1</td>\n",
              "    </tr>\n",
              "  </tbody>\n",
              "</table>\n",
              "<p>3 rows × 29 columns</p>\n",
              "</div>\n",
              "      <button class=\"colab-df-convert\" onclick=\"convertToInteractive('df-b7ed4178-a1a9-4d9a-b93b-4985d4862933')\"\n",
              "              title=\"Convert this dataframe to an interactive table.\"\n",
              "              style=\"display:none;\">\n",
              "        \n",
              "  <svg xmlns=\"http://www.w3.org/2000/svg\" height=\"24px\"viewBox=\"0 0 24 24\"\n",
              "       width=\"24px\">\n",
              "    <path d=\"M0 0h24v24H0V0z\" fill=\"none\"/>\n",
              "    <path d=\"M18.56 5.44l.94 2.06.94-2.06 2.06-.94-2.06-.94-.94-2.06-.94 2.06-2.06.94zm-11 1L8.5 8.5l.94-2.06 2.06-.94-2.06-.94L8.5 2.5l-.94 2.06-2.06.94zm10 10l.94 2.06.94-2.06 2.06-.94-2.06-.94-.94-2.06-.94 2.06-2.06.94z\"/><path d=\"M17.41 7.96l-1.37-1.37c-.4-.4-.92-.59-1.43-.59-.52 0-1.04.2-1.43.59L10.3 9.45l-7.72 7.72c-.78.78-.78 2.05 0 2.83L4 21.41c.39.39.9.59 1.41.59.51 0 1.02-.2 1.41-.59l7.78-7.78 2.81-2.81c.8-.78.8-2.07 0-2.86zM5.41 20L4 18.59l7.72-7.72 1.47 1.35L5.41 20z\"/>\n",
              "  </svg>\n",
              "      </button>\n",
              "      \n",
              "  <style>\n",
              "    .colab-df-container {\n",
              "      display:flex;\n",
              "      flex-wrap:wrap;\n",
              "      gap: 12px;\n",
              "    }\n",
              "\n",
              "    .colab-df-convert {\n",
              "      background-color: #E8F0FE;\n",
              "      border: none;\n",
              "      border-radius: 50%;\n",
              "      cursor: pointer;\n",
              "      display: none;\n",
              "      fill: #1967D2;\n",
              "      height: 32px;\n",
              "      padding: 0 0 0 0;\n",
              "      width: 32px;\n",
              "    }\n",
              "\n",
              "    .colab-df-convert:hover {\n",
              "      background-color: #E2EBFA;\n",
              "      box-shadow: 0px 1px 2px rgba(60, 64, 67, 0.3), 0px 1px 3px 1px rgba(60, 64, 67, 0.15);\n",
              "      fill: #174EA6;\n",
              "    }\n",
              "\n",
              "    [theme=dark] .colab-df-convert {\n",
              "      background-color: #3B4455;\n",
              "      fill: #D2E3FC;\n",
              "    }\n",
              "\n",
              "    [theme=dark] .colab-df-convert:hover {\n",
              "      background-color: #434B5C;\n",
              "      box-shadow: 0px 1px 3px 1px rgba(0, 0, 0, 0.15);\n",
              "      filter: drop-shadow(0px 1px 2px rgba(0, 0, 0, 0.3));\n",
              "      fill: #FFFFFF;\n",
              "    }\n",
              "  </style>\n",
              "\n",
              "      <script>\n",
              "        const buttonEl =\n",
              "          document.querySelector('#df-b7ed4178-a1a9-4d9a-b93b-4985d4862933 button.colab-df-convert');\n",
              "        buttonEl.style.display =\n",
              "          google.colab.kernel.accessAllowed ? 'block' : 'none';\n",
              "\n",
              "        async function convertToInteractive(key) {\n",
              "          const element = document.querySelector('#df-b7ed4178-a1a9-4d9a-b93b-4985d4862933');\n",
              "          const dataTable =\n",
              "            await google.colab.kernel.invokeFunction('convertToInteractive',\n",
              "                                                     [key], {});\n",
              "          if (!dataTable) return;\n",
              "\n",
              "          const docLinkHtml = 'Like what you see? Visit the ' +\n",
              "            '<a target=\"_blank\" href=https://colab.research.google.com/notebooks/data_table.ipynb>data table notebook</a>'\n",
              "            + ' to learn more about interactive tables.';\n",
              "          element.innerHTML = '';\n",
              "          dataTable['output_type'] = 'display_data';\n",
              "          await google.colab.output.renderOutput(dataTable, element);\n",
              "          const docLink = document.createElement('div');\n",
              "          docLink.innerHTML = docLinkHtml;\n",
              "          element.appendChild(docLink);\n",
              "        }\n",
              "      </script>\n",
              "    </div>\n",
              "  </div>\n",
              "  "
            ]
          },
          "metadata": {},
          "execution_count": 60
        }
      ],
      "source": [
        "# копия датасета для CatBoostRegressor\n",
        "test_union = test_union_df.copy()\n",
        "test_union.head(3)"
      ]
    },
    {
      "cell_type": "markdown",
      "metadata": {
        "id": "ivNADN60SnKX"
      },
      "source": [
        "### Предобработка"
      ]
    },
    {
      "cell_type": "code",
      "execution_count": 61,
      "metadata": {
        "id": "xbvo_0jbSMRQ"
      },
      "outputs": [],
      "source": [
        "test_union_df[\"position\"] = test_union_df[\"position\"].astype({\"position\": 'str'})\n",
        "test_union_df[\"job_name\"] = test_union_df[\"job_name\"].astype({\"job_name\": 'str'})\n",
        "test_union_df[\"skills\"] = test_union_df[\"skills\"].astype({\"skills\": 'str'})\n",
        "test_union_df[\"job_description\"] = test_union_df[\"job_description\"].astype({\"job_description\": 'str'})"
      ]
    },
    {
      "cell_type": "code",
      "execution_count": 62,
      "metadata": {
        "id": "vgA5KBH4SMT5",
        "colab": {
          "base_uri": "https://localhost:8080/"
        },
        "outputId": "a6712efe-710d-4843-d3eb-e9321f017dfb"
      },
      "outputs": [
        {
          "output_type": "execute_result",
          "data": {
            "text/plain": [
              "array([50, 24, 33, 37, 34, 28, 44, 42,  0, 43, 31, 22, 32, 47, 29, 56, 54,\n",
              "       48, 36, 51, 40, 53, 55, 46, 19, 23, 45, 38, 26, 39, 49, 25, 35, 30,\n",
              "       59, 64, 41, 27, 60])"
            ]
          },
          "metadata": {},
          "execution_count": 62
        }
      ],
      "source": [
        "# Будем править Возраст по правилам: если больше > 70, то 70 если меньше 0, то 0, если от 1 до 18 то 18\n",
        "test_union_df.loc[test_union_df['age'] > 70, 'age'] = 70\n",
        "test_union_df.loc[test_union_df['age'] < 0, 'age'] = 0\n",
        "test_union_df.loc[(test_union_df['age'] > 0) & (test_union_df['age'] < 18), 'age'] = 18\n",
        "test_union_df.age.unique()"
      ]
    },
    {
      "cell_type": "code",
      "execution_count": 63,
      "metadata": {
        "id": "3CzAcQdFSMXW",
        "colab": {
          "base_uri": "https://localhost:8080/"
        },
        "outputId": "24638808-bb8e-4314-a7b2-6ee581b33d65"
      },
      "outputs": [
        {
          "output_type": "execute_result",
          "data": {
            "text/plain": [
              "array([ 45000,  50000,  60000,  70000,      0,  85000,  49000,  80000,\n",
              "       100000, 120000,  30000,  75000,  35000,  40000,  46000,  48000,\n",
              "        38000,  55000, 150000,  37000,  95000,  90000,  98000,  65000,\n",
              "        28000,  25000,  20000])"
            ]
          },
          "metadata": {},
          "execution_count": 63
        }
      ],
      "source": [
        "# Будем править Зарплату по правилам: если больше 0 но меньше 20000, то 20000, если больше 200 000 то 200 000\n",
        "test_union_df.loc[test_union_df['salary'] > 200000, 'salary'] = 200000\n",
        "test_union_df.loc[(test_union_df['salary'] > 0) & (test_union_df['salary'] < 20000), 'salary'] = 20000\n",
        "test_union_df.salary.unique()"
      ]
    },
    {
      "cell_type": "code",
      "execution_count": 64,
      "metadata": {
        "id": "H5cGHzrGSMZ-"
      },
      "outputs": [],
      "source": [
        "# для кандидатов водителей ставим по умолчанию права ставим на категорию \"B\"\n",
        "test_union_df.loc[test_union_df['position'].astype(str).str.contains(\"Водит|водит|авто|дитель|такс|ВОДИТ|Перегон|ПЕРЕГОН|перегон|Трактор|ТРАКТОР|трактор|Перевоз|ПЕРЕВОЗ|перевоз\"), 'driver_license'] = test_union_df.loc[test_union_df['position'].astype(str).str.contains(\"Водит|водит|авто|дитель|такс|ВОДИТ|Перегон|ПЕРЕГОН|перегон|Трактор|ТРАКТОР|трактор|Перевоз|ПЕРЕВОЗ|перевоз\"), 'driver_license'].fillna(\"B\")"
      ]
    },
    {
      "cell_type": "code",
      "execution_count": 65,
      "metadata": {
        "id": "C7lJg5e4SMcz"
      },
      "outputs": [],
      "source": [
        "# Права могут быть различных категорий, указываем каждый тип прав как отдельны столбец\n",
        "test_union_df['driver_license_BE'] = np.where(test_union_df['driver_license'].astype(str).str.lower().str.contains(\"BE|Be|bE|be|ВЕ|ве|Ве|вЕ\") , 1, 0)\n",
        "test_union_df['driver_license_DE'] = np.where(test_union_df['driver_license'].astype(str).str.lower().str.contains(\"DE|de|De|dE|DЕ|dе|Dе|dЕ\") , 1, 0)\n",
        "test_union_df['driver_license_CE'] = np.where(test_union_df['driver_license'].astype(str).str.lower().str.contains(\"CE|ce|Ce|cE|СЕ|се|Се|сЕ\") , 1, 0)\n",
        "test_union_df['driver_license_E'] = np.where(test_union_df['driver_license'].astype(str).str.lower().str.contains(\"E|e|Е|е\") , 1, 0)\n",
        "test_union_df['driver_license_D'] = np.where(test_union_df['driver_license'].astype(str).str.lower().str.contains(\"D|d\") , 1, 0)\n",
        "test_union_df['driver_license_C'] = np.where(test_union_df['driver_license'].astype(str).str.lower().str.contains(\"C|c|С|с\") , 1, 0)\n",
        "test_union_df['driver_license_B'] = np.where(test_union_df['driver_license'].astype(str).str.lower().str.contains(\"B|b|В|в\") , 1, 0)\n",
        "test_union_df['driver_license_A'] = np.where(test_union_df['driver_license'].astype(str).str.lower().str.contains(\"A|a|А|а\") , 1, 0)"
      ]
    },
    {
      "cell_type": "code",
      "execution_count": 66,
      "metadata": {
        "id": "nhdBZoaqSMgS"
      },
      "outputs": [],
      "source": [
        "# Корректируем данные по Образованию\n",
        "test_union_df['high_education'] = np.where(test_union_df['university'].astype(str).str.contains(\"Унив|УНИВ|унив|Инст|инст|ИНСТ|акад|Акад|АКАД|МИ|НИУ|МЭ|МИ|МА|МГ|МТ|МУ|МК|МП\") | test_union_df['faculty'].astype(str).str.contains(\"Унив|УНИВ|унив|Инст|инст|ИНСТ|акад|Акад|АКАД|МИ|НИУ|МЭ|МИ|МА|МГ|МТ|МУ|МК|МП\") , 1, 0)\n",
        "test_union_df['middle_education'] = np.where(test_union_df['university'].notnull() & ~test_union_df['university'].astype(str).str.contains(\"СОШ|сош|школ|ШК|Школ|ШКОЛ|СШ\"), 1, 0)"
      ]
    },
    {
      "cell_type": "code",
      "execution_count": 67,
      "metadata": {
        "id": "ZgBR-2cgSMkI",
        "colab": {
          "base_uri": "https://localhost:8080/"
        },
        "outputId": "afdd6351-4539-40ac-c427-d547e783314a"
      },
      "outputs": [
        {
          "output_type": "execute_result",
          "data": {
            "text/plain": [
              "(2000, 39)"
            ]
          },
          "metadata": {},
          "execution_count": 67
        }
      ],
      "source": [
        "test_union_df.shape"
      ]
    },
    {
      "cell_type": "markdown",
      "metadata": {
        "id": "_Qj2CoesS0OX"
      },
      "source": [
        "## Оцифровка параметров"
      ]
    },
    {
      "cell_type": "code",
      "execution_count": 68,
      "metadata": {
        "id": "Z0UTVyHDSMmQ"
      },
      "outputs": [],
      "source": [
        "# Перевод значений параметров для жестких словарей в отдельные самостоятельные параметры\n",
        "# Т.е. вместо параметра \"sex\" будут 'sex_m', 'sex_f', 'sex_undef',\n",
        "\n",
        "# sex\n",
        "for key_sex in sex_numeric:\n",
        "  feture_name = f\"sex_{key_sex.lower()}\"\n",
        "  test_union_df[feture_name] = np.where( (test_union_df.sex  == sex_numeric[key_sex]) | (test_union_df.sex  == key_sex) , 1, 0)\n",
        "\n",
        "# job_status\n",
        "index_status = 1\n",
        "for key_status in job_status_numeric:\n",
        "  # Здесь используем цифру а не сам стсатус, т.к. статус на русском языке\n",
        "  feture_name = f\"job_status_{index_status}\"\n",
        "  test_union_df[feture_name] = np.where((test_union_df.job_status  == job_status_numeric[key_status]) | (test_union_df.job_status  == key_status) , 1, 0)\n",
        "  index_status += 1\n",
        "\n",
        "# employment\n",
        "for key_employ in employment_numeric:\n",
        "  feture_name = f\"employment_{key_employ.lower()}\"\n",
        "  test_union_df[feture_name] = np.where((test_union_df.employment  == employment_numeric[key_employ]) | (test_union_df.employment  == key_employ) , 1, 0)\n",
        "\n",
        "# shedule\n",
        "for key_shedule in shedule_numeric:\n",
        "  feture_name = f\"shedule_{key_shedule.lower()}\"\n",
        "  test_union_df[feture_name] = np.where((test_union_df.shedule  == shedule_numeric[key_shedule]) |(test_union_df.shedule  == key_shedule) , 1, 0)\n",
        "\n",
        "# ['sex_m', 'sex_f', 'sex_undef', 'job_status_1', 'job_status_2', 'job_status_3', 'job_status_4', 'job_status_5', 'employment_full', 'employment_part', 'employment_look-out', 'employment_change', 'employment_not full', 'employment_does not matter', 'shedule_full', 'shedule_flex', 'shedule_project', 'shedule_stage', 'shedule_volunteering', 'shedule_does not matter']"
      ]
    },
    {
      "cell_type": "code",
      "execution_count": 69,
      "metadata": {
        "id": "CJVOhVn6uHrh",
        "colab": {
          "base_uri": "https://localhost:8080/"
        },
        "outputId": "8dc8147d-40c0-4668-e74c-b3e992c186ab"
      },
      "outputs": [
        {
          "output_type": "execute_result",
          "data": {
            "text/plain": [
              "array([1, 0])"
            ]
          },
          "metadata": {},
          "execution_count": 69
        }
      ],
      "source": [
        "# Гражданство\n",
        "\n",
        "for word in test_union_df.citizenship.unique():\n",
        "  test_union_df.loc[(test_union_df.citizenship == word), 'citizenship'] = citizenship_numeric(str(word))\n",
        "# Если вдруг не удалось обработать NaN, дополнительно проверяем через встроенную функцию\n",
        "test_union_df.citizenship = test_union_df.citizenship.fillna(1)\n",
        "test_union_df.citizenship.unique()"
      ]
    },
    {
      "cell_type": "code",
      "execution_count": 70,
      "metadata": {
        "id": "TKF1wZzyuHtt",
        "colab": {
          "base_uri": "https://localhost:8080/"
        },
        "outputId": "54315702-f55b-4f8e-e552-d2a742603552"
      },
      "outputs": [
        {
          "output_type": "execute_result",
          "data": {
            "text/plain": [
              "(2000, 33)"
            ]
          },
          "metadata": {},
          "execution_count": 70
        }
      ],
      "source": [
        "digit_test_union_df = test_union_df[['age', 'citizenship', 'salary', 'driver_license_BE', 'driver_license_DE', 'driver_license_CE', \n",
        "                           'driver_license_E', 'driver_license_D', 'driver_license_C', 'driver_license_B', 'driver_license_A',\n",
        "                           \"high_education\",\"middle_education\",\n",
        "                           'sex_m', 'sex_f', 'sex_undef', 'job_status_1', 'job_status_2', 'job_status_3', 'job_status_4', 'job_status_5', \n",
        "                           'employment_full', 'employment_part', 'employment_look-out', 'employment_change', 'employment_not full', \n",
        "                           'employment_does not matter', 'shedule_full', 'shedule_flex', 'shedule_project', 'shedule_stage', \n",
        "                           'shedule_volunteering', 'shedule_does not matter',\n",
        "                           ]]\n",
        "digit_test_union_df.shape"
      ]
    },
    {
      "cell_type": "markdown",
      "metadata": {
        "id": "VrzUYTcnS7vm"
      },
      "source": [
        "### Обработка названия вакансии и наименования позици кандидата"
      ]
    },
    {
      "cell_type": "code",
      "execution_count": 71,
      "metadata": {
        "id": "kz_O2minuDd4",
        "colab": {
          "base_uri": "https://localhost:8080/"
        },
        "outputId": "0fa50f1b-088a-4039-841a-6466737cddbe"
      },
      "outputs": [
        {
          "output_type": "stream",
          "name": "stderr",
          "text": [
            "/usr/local/lib/python3.7/dist-packages/sklearn/utils/deprecation.py:87: FutureWarning: Function get_feature_names is deprecated; get_feature_names is deprecated in 1.0 and will be removed in 1.2. Please use get_feature_names_out instead.\n",
            "  warnings.warn(msg, category=FutureWarning)\n"
          ]
        },
        {
          "output_type": "execute_result",
          "data": {
            "text/plain": [
              "(2000, 143)"
            ]
          },
          "metadata": {},
          "execution_count": 71
        }
      ],
      "source": [
        "# Обработка навыков кандидата\n",
        "skills_words = test_union_df['skills'].apply(lambda x: \" \".join([snowball.stem(item) for item in re.findall(r\"(\\w+)\",x) if len(item)>4 and  item not in rus_stopwords]))\n",
        "\n",
        "\n",
        "skills_word_tokens = skills_vectorizer.transform(skills_words)\n",
        "skills_word_tokens.toarray().shape\n",
        "\n",
        "df_skills_word_tokens = pd.DataFrame(skills_word_tokens.todense(), columns=skills_vectorizer.get_feature_names())\n",
        "digit_test_union_df = pd.concat([digit_test_union_df, df_skills_word_tokens], axis=1)\n",
        "digit_test_union_df.shape\n",
        "\n"
      ]
    },
    {
      "cell_type": "code",
      "execution_count": 72,
      "metadata": {
        "id": "UHBYGpgsS8Xm",
        "colab": {
          "base_uri": "https://localhost:8080/"
        },
        "outputId": "7354f6b1-d342-4ea1-df3d-75b37edc0691"
      },
      "outputs": [
        {
          "output_type": "execute_result",
          "data": {
            "text/plain": [
              "(2000, 460)"
            ]
          },
          "metadata": {},
          "execution_count": 72
        }
      ],
      "source": [
        "# Обработка описания позиции\n",
        "job_description_words = test_union_df['job_description'].apply(lambda x: \" \".join([snowball.stem(item) for item in re.findall(r\"(\\w+)\",x) if len(item)>4 and  item not in rus_stopwords]))\n",
        "\n",
        "job_description_words_tokens = job_description_vectorizer.transform(job_description_words)\n",
        "job_description_words_tokens.toarray().shape\n",
        "\n",
        "df_job_description_words_tokens = pd.DataFrame(job_description_words_tokens.todense(), columns=job_description_vectorizer.get_feature_names())\n",
        "digit_test_union_df = pd.concat([digit_test_union_df, df_job_description_words_tokens], axis=1)\n",
        "digit_test_union_df.shape"
      ]
    },
    {
      "cell_type": "code",
      "execution_count": 73,
      "metadata": {
        "id": "2oDZtygXS8aU",
        "colab": {
          "base_uri": "https://localhost:8080/"
        },
        "outputId": "eca4afe0-3cd0-4bf1-f7ba-261abddc765f"
      },
      "outputs": [
        {
          "output_type": "execute_result",
          "data": {
            "text/plain": [
              "(2000, 499)"
            ]
          },
          "metadata": {},
          "execution_count": 73
        }
      ],
      "source": [
        "# Обработка названия вакансии и наименования позици кандидата\n",
        "test_union_df[\"position\"] = test_union_df[\"position\"].astype({\"position\": 'str'})\n",
        "position_words = test_union_df['position'].apply(lambda x: \" \".join([snowball.stem(item) for item in re.findall(r\"(\\w+)\",x) if len(item)>4 and  item not in rus_stopwords]))\n",
        "job_name_words = test_union_df['job_name'].apply(lambda x: \" \".join([snowball.stem(item) for item in re.findall(r\"(\\w+)\",x) if len(item)>4 and  item not in rus_stopwords]))\n",
        "position_job_name_words = position_words + job_name_words\n",
        "\n",
        "position_job_name_words_tokens = position_job_name_vectorizer.transform(position_job_name_words)\n",
        "position_job_name_words_tokens.toarray().shape\n",
        "\n",
        "df_position_job_name_words_tokens = pd.DataFrame(position_job_name_words_tokens.todense(), columns=position_job_name_vectorizer.get_feature_names())\n",
        "digit_test_union_df = pd.concat([digit_test_union_df, df_position_job_name_words_tokens], axis=1)\n",
        "digit_test_union_df.shape"
      ]
    },
    {
      "cell_type": "code",
      "execution_count": 73,
      "metadata": {
        "id": "iycU4glj5x8L"
      },
      "outputs": [],
      "source": []
    },
    {
      "cell_type": "code",
      "execution_count": 74,
      "metadata": {
        "id": "OWrGzatoS8cI"
      },
      "outputs": [],
      "source": [
        "# Формирование параметров схожести:\n",
        "# - схожести названия вакансии и наименования позиции соискателя\n",
        "test_union_df[\"position_words\"] = position_words\n",
        "test_union_df[\"job_name_words\"] = job_name_words\n",
        "# similarity_position_job_name = test_union_df.apply(lambda x: difflib.SequenceMatcher(None, x.position_words, x.job_name_words).quick_ratio(), axis=1)\n",
        "similarity_position_job_name = test_union_df.apply(lambda x: tanimoto(x.job_name_words, x.position_words), axis=1)\n",
        "\n",
        "digit_test_union_df['similarity_position_job_name'] = similarity_position_job_name\n",
        "test_union_df['similarity_position_job_name'] = similarity_position_job_name\n",
        "\n",
        "\n",
        "# - схожести описания вакансии и навыков соискателя\n",
        "test_union_df[\"job_description_words\"] = job_description_words\n",
        "test_union_df[\"skills_words\"] = skills_words\n",
        "# similarity_skills_job_description = test_union_df.apply(lambda x: difflib.SequenceMatcher(None, x.skills_words, x.job_description_words).quick_ratio(), axis=1)\n",
        "similarity_skills_job_description = test_union_df.apply(lambda x: tanimoto(x.skills_words, x.job_description_words), axis=1)\n",
        "digit_test_union_df['similarity_skills_job_description'] = similarity_skills_job_description\n",
        "test_union_df['similarity_skills_job_description'] = similarity_skills_job_description\n",
        "\n",
        "\n",
        "# - схожесть регионов\n",
        "test_union_df['job_region'] = test_union_df['job_region'].fillna(\"\")\n",
        "test_union_df['candidate_region'] = test_union_df['candidate_region'].fillna(\"\")\n",
        "# similarity_region = test_union_df.apply(lambda x: difflib.SequenceMatcher(None, x.job_region, x.candidate_region).quick_ratio(), axis=1)\n",
        "similarity_region = test_union_df.apply(lambda x: tanimoto(x.job_region, x.candidate_region), axis=1)\n",
        "digit_test_union_df['similarity_region'] = similarity_region\n",
        "test_union_df['similarity_region'] = similarity_region\n",
        "\n"
      ]
    },
    {
      "cell_type": "markdown",
      "metadata": {
        "id": "7LdWTJCNTFL5"
      },
      "source": [
        " ## Формируем предикт для тестовых данных"
      ]
    },
    {
      "cell_type": "code",
      "execution_count": 75,
      "metadata": {
        "id": "JR9KF5ngS8ex"
      },
      "outputs": [],
      "source": [
        "x_test_from_file = digit_test_union_df\n"
      ]
    },
    {
      "cell_type": "code",
      "execution_count": 76,
      "metadata": {
        "id": "HUQ1SPQxuDgD"
      },
      "outputs": [],
      "source": [
        "# Нормализируем следующие параметры: salary и age\n",
        "x_test_from_file.salary = StandardScaler().fit_transform(x_test_from_file[[\"salary\"]])\n",
        "x_test_from_file.age = StandardScaler().fit_transform(x_test_from_file[[\"age\"]])"
      ]
    },
    {
      "cell_type": "code",
      "execution_count": 77,
      "metadata": {
        "id": "f8TtQKvGuDiQ",
        "colab": {
          "base_uri": "https://localhost:8080/"
        },
        "outputId": "a615a374-d471-49d4-98e0-61df3e4090aa"
      },
      "outputs": [
        {
          "output_type": "execute_result",
          "data": {
            "text/plain": [
              "array([[9.9997270e-01, 2.7287822e-05],\n",
              "       [1.0000000e+00, 6.7525380e-10],\n",
              "       [1.0000000e+00, 2.1940835e-08],\n",
              "       ...,\n",
              "       [1.0000000e+00, 3.7332852e-09],\n",
              "       [9.9999988e-01, 7.7527801e-08],\n",
              "       [9.9998713e-01, 1.2817985e-05]], dtype=float32)"
            ]
          },
          "metadata": {},
          "execution_count": 77
        }
      ],
      "source": [
        "predict = model.predict(x_test_from_file)\n",
        "test_union_df[\"predict_TensorFlow\"] =  predict[:,1]\n",
        "predict"
      ]
    },
    {
      "cell_type": "code",
      "execution_count": 78,
      "metadata": {
        "id": "Yp4HDApsTKQG",
        "colab": {
          "base_uri": "https://localhost:8080/"
        },
        "outputId": "e43dc644-c665-4fc6-b8f8-64b9f02fafa8"
      },
      "outputs": [
        {
          "output_type": "execute_result",
          "data": {
            "text/plain": [
              "array([[9.9997270e-01, 2.7287822e-05],\n",
              "       [1.0000000e+00, 6.7525380e-10],\n",
              "       [1.0000000e+00, 2.1940835e-08],\n",
              "       ...,\n",
              "       [1.0000000e+00, 3.7332852e-09],\n",
              "       [9.9999988e-01, 7.7527801e-08],\n",
              "       [9.9998713e-01, 1.2817985e-05]], dtype=float32)"
            ]
          },
          "metadata": {},
          "execution_count": 78
        }
      ],
      "source": [
        "predict"
      ]
    },
    {
      "cell_type": "code",
      "source": [
        "predict_analize = test_union_df[[\"id\",\"position\",\"skills\", \"candidate_region\", \"job_id\", \"job_name\",  \"job_description_words\" , \"job_region\",  \"predict_TensorFlow\" ]] \n",
        "predict_analize.sort_values(by=\"predict_TensorFlow\", ascending = False)"
      ],
      "metadata": {
        "id": "PQWfkqdpWla1",
        "colab": {
          "base_uri": "https://localhost:8080/",
          "height": 939
        },
        "outputId": "b45308e5-9653-4b88-969d-96105353cda3"
      },
      "execution_count": 79,
      "outputs": [
        {
          "output_type": "execute_result",
          "data": {
            "text/plain": [
              "            id                           position  \\\n",
              "1355  10413290                Водитель-экспедитор   \n",
              "1358  10413290                Водитель-экспедитор   \n",
              "1359  10413290                Водитель-экспедитор   \n",
              "1351  10413290                Водитель-экспедитор   \n",
              "1357  10413290                Водитель-экспедитор   \n",
              "...        ...                                ...   \n",
              "1626  10643426  Водитель В,С,D, тракторист кат. Е   \n",
              "1116  10297612    Водитель персональный, семейный   \n",
              "856    8770936                           Водитель   \n",
              "1117  10297612    Водитель персональный, семейный   \n",
              "236   11425871   Оператор экскаватора/ погрузчика   \n",
              "\n",
              "                                                 skills candidate_region  \\\n",
              "1355  Автомобильные грузоперевозки || Экспедирование...           Москва   \n",
              "1358  Автомобильные грузоперевозки || Экспедирование...           Москва   \n",
              "1359  Автомобильные грузоперевозки || Экспедирование...           Москва   \n",
              "1351  Автомобильные грузоперевозки || Экспедирование...           Москва   \n",
              "1357  Автомобильные грузоперевозки || Экспедирование...           Москва   \n",
              "...                                                 ...              ...   \n",
              "1626  Безаварийное вождение || Пользователь ПК || Ре...  Санкт-Петербург   \n",
              "1116  Водительский стаж более 20 лет || Аккуратное в...           Москва   \n",
              "856   Вождение автомобилей представительского класса...  Санкт-Петербург   \n",
              "1117  Водительский стаж более 20 лет || Аккуратное в...           Москва   \n",
              "236   Безаварийное вождение || Вождение дизельного п...  Санкт-Петербург   \n",
              "\n",
              "      job_id                          job_name  \\\n",
              "1355   94661           водитель на личном авто   \n",
              "1358  165605              Менеджер по продажам   \n",
              "1359  241719               Водитель-экспедитор   \n",
              "1351   76137           водитель на своем авто    \n",
              "1357  157891  водитель курьер на авто компании   \n",
              "...      ...                               ...   \n",
              "1626  120695   Водитель-экспедитор 1/ Водитель   \n",
              "1116  120695   Водитель-экспедитор 1/ Водитель   \n",
              "856   120695   Водитель-экспедитор 1/ Водитель   \n",
              "1117  157891  водитель курьер на авто компании   \n",
              "236   120695   Водитель-экспедитор 1/ Водитель   \n",
              "\n",
              "                                  job_description_words       job_region  \\\n",
              "1355                                  курьер выходн сво           Москва   \n",
              "1358  обязан работ имеющ клиентск баз поиск нов поте...  Санкт-Петербург   \n",
              "1359  strong задач strong доставк товар торгов площа...           Москва   \n",
              "1351  нача сезон отпуск причин открыва дополнительн ...           Москва   \n",
              "1357  водител компан заказ возмещен час график гибк ...           Москва   \n",
              "...                                                 ...              ...   \n",
              "1626  strong обязан strong доставк бытов техник элек...           Москва   \n",
              "1116  strong обязан strong доставк бытов техник элек...           Москва   \n",
              "856   strong обязан strong доставк бытов техник элек...           Москва   \n",
              "1117  водител компан заказ возмещен час график гибк ...           Москва   \n",
              "236   strong обязан strong доставк бытов техник элек...           Москва   \n",
              "\n",
              "      predict_TensorFlow  \n",
              "1355        9.994650e-01  \n",
              "1358        9.994586e-01  \n",
              "1359        9.994541e-01  \n",
              "1351        9.991956e-01  \n",
              "1357        9.991192e-01  \n",
              "...                  ...  \n",
              "1626        6.484055e-16  \n",
              "1116        4.883083e-16  \n",
              "856         1.886852e-16  \n",
              "1117        4.811393e-17  \n",
              "236         1.567941e-17  \n",
              "\n",
              "[2000 rows x 9 columns]"
            ],
            "text/html": [
              "\n",
              "  <div id=\"df-08d1899f-3d2a-420c-a532-6715b7d1d2d6\">\n",
              "    <div class=\"colab-df-container\">\n",
              "      <div>\n",
              "<style scoped>\n",
              "    .dataframe tbody tr th:only-of-type {\n",
              "        vertical-align: middle;\n",
              "    }\n",
              "\n",
              "    .dataframe tbody tr th {\n",
              "        vertical-align: top;\n",
              "    }\n",
              "\n",
              "    .dataframe thead th {\n",
              "        text-align: right;\n",
              "    }\n",
              "</style>\n",
              "<table border=\"1\" class=\"dataframe\">\n",
              "  <thead>\n",
              "    <tr style=\"text-align: right;\">\n",
              "      <th></th>\n",
              "      <th>id</th>\n",
              "      <th>position</th>\n",
              "      <th>skills</th>\n",
              "      <th>candidate_region</th>\n",
              "      <th>job_id</th>\n",
              "      <th>job_name</th>\n",
              "      <th>job_description_words</th>\n",
              "      <th>job_region</th>\n",
              "      <th>predict_TensorFlow</th>\n",
              "    </tr>\n",
              "  </thead>\n",
              "  <tbody>\n",
              "    <tr>\n",
              "      <th>1355</th>\n",
              "      <td>10413290</td>\n",
              "      <td>Водитель-экспедитор</td>\n",
              "      <td>Автомобильные грузоперевозки || Экспедирование...</td>\n",
              "      <td>Москва</td>\n",
              "      <td>94661</td>\n",
              "      <td>водитель на личном авто</td>\n",
              "      <td>курьер выходн сво</td>\n",
              "      <td>Москва</td>\n",
              "      <td>9.994650e-01</td>\n",
              "    </tr>\n",
              "    <tr>\n",
              "      <th>1358</th>\n",
              "      <td>10413290</td>\n",
              "      <td>Водитель-экспедитор</td>\n",
              "      <td>Автомобильные грузоперевозки || Экспедирование...</td>\n",
              "      <td>Москва</td>\n",
              "      <td>165605</td>\n",
              "      <td>Менеджер по продажам</td>\n",
              "      <td>обязан работ имеющ клиентск баз поиск нов поте...</td>\n",
              "      <td>Санкт-Петербург</td>\n",
              "      <td>9.994586e-01</td>\n",
              "    </tr>\n",
              "    <tr>\n",
              "      <th>1359</th>\n",
              "      <td>10413290</td>\n",
              "      <td>Водитель-экспедитор</td>\n",
              "      <td>Автомобильные грузоперевозки || Экспедирование...</td>\n",
              "      <td>Москва</td>\n",
              "      <td>241719</td>\n",
              "      <td>Водитель-экспедитор</td>\n",
              "      <td>strong задач strong доставк товар торгов площа...</td>\n",
              "      <td>Москва</td>\n",
              "      <td>9.994541e-01</td>\n",
              "    </tr>\n",
              "    <tr>\n",
              "      <th>1351</th>\n",
              "      <td>10413290</td>\n",
              "      <td>Водитель-экспедитор</td>\n",
              "      <td>Автомобильные грузоперевозки || Экспедирование...</td>\n",
              "      <td>Москва</td>\n",
              "      <td>76137</td>\n",
              "      <td>водитель на своем авто</td>\n",
              "      <td>нача сезон отпуск причин открыва дополнительн ...</td>\n",
              "      <td>Москва</td>\n",
              "      <td>9.991956e-01</td>\n",
              "    </tr>\n",
              "    <tr>\n",
              "      <th>1357</th>\n",
              "      <td>10413290</td>\n",
              "      <td>Водитель-экспедитор</td>\n",
              "      <td>Автомобильные грузоперевозки || Экспедирование...</td>\n",
              "      <td>Москва</td>\n",
              "      <td>157891</td>\n",
              "      <td>водитель курьер на авто компании</td>\n",
              "      <td>водител компан заказ возмещен час график гибк ...</td>\n",
              "      <td>Москва</td>\n",
              "      <td>9.991192e-01</td>\n",
              "    </tr>\n",
              "    <tr>\n",
              "      <th>...</th>\n",
              "      <td>...</td>\n",
              "      <td>...</td>\n",
              "      <td>...</td>\n",
              "      <td>...</td>\n",
              "      <td>...</td>\n",
              "      <td>...</td>\n",
              "      <td>...</td>\n",
              "      <td>...</td>\n",
              "      <td>...</td>\n",
              "    </tr>\n",
              "    <tr>\n",
              "      <th>1626</th>\n",
              "      <td>10643426</td>\n",
              "      <td>Водитель В,С,D, тракторист кат. Е</td>\n",
              "      <td>Безаварийное вождение || Пользователь ПК || Ре...</td>\n",
              "      <td>Санкт-Петербург</td>\n",
              "      <td>120695</td>\n",
              "      <td>Водитель-экспедитор 1/ Водитель</td>\n",
              "      <td>strong обязан strong доставк бытов техник элек...</td>\n",
              "      <td>Москва</td>\n",
              "      <td>6.484055e-16</td>\n",
              "    </tr>\n",
              "    <tr>\n",
              "      <th>1116</th>\n",
              "      <td>10297612</td>\n",
              "      <td>Водитель персональный, семейный</td>\n",
              "      <td>Водительский стаж более 20 лет || Аккуратное в...</td>\n",
              "      <td>Москва</td>\n",
              "      <td>120695</td>\n",
              "      <td>Водитель-экспедитор 1/ Водитель</td>\n",
              "      <td>strong обязан strong доставк бытов техник элек...</td>\n",
              "      <td>Москва</td>\n",
              "      <td>4.883083e-16</td>\n",
              "    </tr>\n",
              "    <tr>\n",
              "      <th>856</th>\n",
              "      <td>8770936</td>\n",
              "      <td>Водитель</td>\n",
              "      <td>Вождение автомобилей представительского класса...</td>\n",
              "      <td>Санкт-Петербург</td>\n",
              "      <td>120695</td>\n",
              "      <td>Водитель-экспедитор 1/ Водитель</td>\n",
              "      <td>strong обязан strong доставк бытов техник элек...</td>\n",
              "      <td>Москва</td>\n",
              "      <td>1.886852e-16</td>\n",
              "    </tr>\n",
              "    <tr>\n",
              "      <th>1117</th>\n",
              "      <td>10297612</td>\n",
              "      <td>Водитель персональный, семейный</td>\n",
              "      <td>Водительский стаж более 20 лет || Аккуратное в...</td>\n",
              "      <td>Москва</td>\n",
              "      <td>157891</td>\n",
              "      <td>водитель курьер на авто компании</td>\n",
              "      <td>водител компан заказ возмещен час график гибк ...</td>\n",
              "      <td>Москва</td>\n",
              "      <td>4.811393e-17</td>\n",
              "    </tr>\n",
              "    <tr>\n",
              "      <th>236</th>\n",
              "      <td>11425871</td>\n",
              "      <td>Оператор экскаватора/ погрузчика</td>\n",
              "      <td>Безаварийное вождение || Вождение дизельного п...</td>\n",
              "      <td>Санкт-Петербург</td>\n",
              "      <td>120695</td>\n",
              "      <td>Водитель-экспедитор 1/ Водитель</td>\n",
              "      <td>strong обязан strong доставк бытов техник элек...</td>\n",
              "      <td>Москва</td>\n",
              "      <td>1.567941e-17</td>\n",
              "    </tr>\n",
              "  </tbody>\n",
              "</table>\n",
              "<p>2000 rows × 9 columns</p>\n",
              "</div>\n",
              "      <button class=\"colab-df-convert\" onclick=\"convertToInteractive('df-08d1899f-3d2a-420c-a532-6715b7d1d2d6')\"\n",
              "              title=\"Convert this dataframe to an interactive table.\"\n",
              "              style=\"display:none;\">\n",
              "        \n",
              "  <svg xmlns=\"http://www.w3.org/2000/svg\" height=\"24px\"viewBox=\"0 0 24 24\"\n",
              "       width=\"24px\">\n",
              "    <path d=\"M0 0h24v24H0V0z\" fill=\"none\"/>\n",
              "    <path d=\"M18.56 5.44l.94 2.06.94-2.06 2.06-.94-2.06-.94-.94-2.06-.94 2.06-2.06.94zm-11 1L8.5 8.5l.94-2.06 2.06-.94-2.06-.94L8.5 2.5l-.94 2.06-2.06.94zm10 10l.94 2.06.94-2.06 2.06-.94-2.06-.94-.94-2.06-.94 2.06-2.06.94z\"/><path d=\"M17.41 7.96l-1.37-1.37c-.4-.4-.92-.59-1.43-.59-.52 0-1.04.2-1.43.59L10.3 9.45l-7.72 7.72c-.78.78-.78 2.05 0 2.83L4 21.41c.39.39.9.59 1.41.59.51 0 1.02-.2 1.41-.59l7.78-7.78 2.81-2.81c.8-.78.8-2.07 0-2.86zM5.41 20L4 18.59l7.72-7.72 1.47 1.35L5.41 20z\"/>\n",
              "  </svg>\n",
              "      </button>\n",
              "      \n",
              "  <style>\n",
              "    .colab-df-container {\n",
              "      display:flex;\n",
              "      flex-wrap:wrap;\n",
              "      gap: 12px;\n",
              "    }\n",
              "\n",
              "    .colab-df-convert {\n",
              "      background-color: #E8F0FE;\n",
              "      border: none;\n",
              "      border-radius: 50%;\n",
              "      cursor: pointer;\n",
              "      display: none;\n",
              "      fill: #1967D2;\n",
              "      height: 32px;\n",
              "      padding: 0 0 0 0;\n",
              "      width: 32px;\n",
              "    }\n",
              "\n",
              "    .colab-df-convert:hover {\n",
              "      background-color: #E2EBFA;\n",
              "      box-shadow: 0px 1px 2px rgba(60, 64, 67, 0.3), 0px 1px 3px 1px rgba(60, 64, 67, 0.15);\n",
              "      fill: #174EA6;\n",
              "    }\n",
              "\n",
              "    [theme=dark] .colab-df-convert {\n",
              "      background-color: #3B4455;\n",
              "      fill: #D2E3FC;\n",
              "    }\n",
              "\n",
              "    [theme=dark] .colab-df-convert:hover {\n",
              "      background-color: #434B5C;\n",
              "      box-shadow: 0px 1px 3px 1px rgba(0, 0, 0, 0.15);\n",
              "      filter: drop-shadow(0px 1px 2px rgba(0, 0, 0, 0.3));\n",
              "      fill: #FFFFFF;\n",
              "    }\n",
              "  </style>\n",
              "\n",
              "      <script>\n",
              "        const buttonEl =\n",
              "          document.querySelector('#df-08d1899f-3d2a-420c-a532-6715b7d1d2d6 button.colab-df-convert');\n",
              "        buttonEl.style.display =\n",
              "          google.colab.kernel.accessAllowed ? 'block' : 'none';\n",
              "\n",
              "        async function convertToInteractive(key) {\n",
              "          const element = document.querySelector('#df-08d1899f-3d2a-420c-a532-6715b7d1d2d6');\n",
              "          const dataTable =\n",
              "            await google.colab.kernel.invokeFunction('convertToInteractive',\n",
              "                                                     [key], {});\n",
              "          if (!dataTable) return;\n",
              "\n",
              "          const docLinkHtml = 'Like what you see? Visit the ' +\n",
              "            '<a target=\"_blank\" href=https://colab.research.google.com/notebooks/data_table.ipynb>data table notebook</a>'\n",
              "            + ' to learn more about interactive tables.';\n",
              "          element.innerHTML = '';\n",
              "          dataTable['output_type'] = 'display_data';\n",
              "          await google.colab.output.renderOutput(dataTable, element);\n",
              "          const docLink = document.createElement('div');\n",
              "          docLink.innerHTML = docLinkHtml;\n",
              "          element.appendChild(docLink);\n",
              "        }\n",
              "      </script>\n",
              "    </div>\n",
              "  </div>\n",
              "  "
            ]
          },
          "metadata": {},
          "execution_count": 79
        }
      ]
    },
    {
      "cell_type": "code",
      "source": [
        "# Распределение предикта\n",
        "predict_analize[\"predict_TensorFlow\"].hist()"
      ],
      "metadata": {
        "colab": {
          "base_uri": "https://localhost:8080/",
          "height": 282
        },
        "id": "CgL7ZDZSKKbJ",
        "outputId": "41a16788-7367-4b1d-9a31-f48ee1d63e1d"
      },
      "execution_count": 80,
      "outputs": [
        {
          "output_type": "execute_result",
          "data": {
            "text/plain": [
              "<matplotlib.axes._subplots.AxesSubplot at 0x7f8cca42c710>"
            ]
          },
          "metadata": {},
          "execution_count": 80
        },
        {
          "output_type": "display_data",
          "data": {
            "text/plain": [
              "<Figure size 432x288 with 1 Axes>"
            ],
            "image/png": "[encoded data removed]"
          },
          "metadata": {
            "needs_background": "light"
          }
        }
      ]
    },
    {
      "cell_type": "code",
      "execution_count": 81,
      "metadata": {
        "id": "TyyBX88ruDk3",
        "colab": {
          "base_uri": "https://localhost:8080/",
          "height": 1000
        },
        "outputId": "3178c6d1-4708-4978-dd50-59cbadd3c98e"
      },
      "outputs": [
        {
          "output_type": "execute_result",
          "data": {
            "text/plain": [
              "            id                                           position  \\\n",
              "39     8511459                   Агент по обработке авиаперевозок   \n",
              "49     8530237                                     Техник-механик   \n",
              "465   13162978                                          Кладовщик   \n",
              "469   13162978                                          Кладовщик   \n",
              "485   13244496             Оператор склада, комплектовщик ричтрак   \n",
              "...        ...                                                ...   \n",
              "1744  11304504                                           водитель   \n",
              "1819       136         Продавец-консультант, менеджер по продажам   \n",
              "1839       143  Продавец-консультант, Менеджер по продажам, пр...   \n",
              "1919       286              Продавец-кассир, менеджер по продажам   \n",
              "1929       336                               Менеджер по продажам   \n",
              "\n",
              "                                                 skills  \\\n",
              "39    способность заниматься несколькими проектами |...   \n",
              "49    Активная позиция || ПК. Excel. Word || Трактор...   \n",
              "465   Приемка груза || Контроль отгрузок || Работа с...   \n",
              "469   Приемка груза || Контроль отгрузок || Работа с...   \n",
              "485   Водительские права на ричтрак || Большой опыт ...   \n",
              "...                                                 ...   \n",
              "1744  Обучаемость || Работа в команде || Ведение пер...   \n",
              "1819                                                nan   \n",
              "1839       Активные продажи || Управление продажами ||    \n",
              "1919                                                nan   \n",
              "1929  MS Excel || MS Internet || Ведение переговоров...   \n",
              "\n",
              "           candidate_region  job_id                 job_name  \\\n",
              "39                   Москва  241719      Водитель-экспедитор   \n",
              "49          Санкт-Петербург  241719      Водитель-экспедитор   \n",
              "465      Московская область   94661  водитель на личном авто   \n",
              "469      Московская область  241719      Водитель-экспедитор   \n",
              "485      Московская область   94661  водитель на личном авто   \n",
              "...                     ...     ...                      ...   \n",
              "1744  Ленинградская область   63795                 Водитель   \n",
              "1819        Санкт-Петербург  241719      Водитель-экспедитор   \n",
              "1839        Санкт-Петербург  241719      Водитель-экспедитор   \n",
              "1919        Санкт-Петербург  241719      Водитель-экспедитор   \n",
              "1929        Санкт-Петербург  241719      Водитель-экспедитор   \n",
              "\n",
              "                                  job_description_words       job_region  \\\n",
              "39    strong задач strong доставк товар торгов площа...           Москва   \n",
              "49    strong задач strong доставк товар торгов площа...           Москва   \n",
              "465                                   курьер выходн сво           Москва   \n",
              "469   strong задач strong доставк товар торгов площа...           Москва   \n",
              "485                                   курьер выходн сво           Москва   \n",
              "...                                                 ...              ...   \n",
              "1744  обязан качествен доставк японск кухн автомобил...  Санкт-Петербург   \n",
              "1819  strong задач strong доставк товар торгов площа...           Москва   \n",
              "1839  strong задач strong доставк товар торгов площа...           Москва   \n",
              "1919  strong задач strong доставк товар торгов площа...           Москва   \n",
              "1929  strong задач strong доставк товар торгов площа...           Москва   \n",
              "\n",
              "      predict_TensorFlow  \n",
              "39              0.996493  \n",
              "49              0.991064  \n",
              "465             0.961116  \n",
              "469             0.998008  \n",
              "485             0.935694  \n",
              "...                  ...  \n",
              "1744            0.932136  \n",
              "1819            0.914257  \n",
              "1839            0.977467  \n",
              "1919            0.914587  \n",
              "1929            0.986877  \n",
              "\n",
              "[69 rows x 9 columns]"
            ],
            "text/html": [
              "\n",
              "  <div id=\"df-840597cd-ee85-494f-b0b9-c6ec3626f2e2\">\n",
              "    <div class=\"colab-df-container\">\n",
              "      <div>\n",
              "<style scoped>\n",
              "    .dataframe tbody tr th:only-of-type {\n",
              "        vertical-align: middle;\n",
              "    }\n",
              "\n",
              "    .dataframe tbody tr th {\n",
              "        vertical-align: top;\n",
              "    }\n",
              "\n",
              "    .dataframe thead th {\n",
              "        text-align: right;\n",
              "    }\n",
              "</style>\n",
              "<table border=\"1\" class=\"dataframe\">\n",
              "  <thead>\n",
              "    <tr style=\"text-align: right;\">\n",
              "      <th></th>\n",
              "      <th>id</th>\n",
              "      <th>position</th>\n",
              "      <th>skills</th>\n",
              "      <th>candidate_region</th>\n",
              "      <th>job_id</th>\n",
              "      <th>job_name</th>\n",
              "      <th>job_description_words</th>\n",
              "      <th>job_region</th>\n",
              "      <th>predict_TensorFlow</th>\n",
              "    </tr>\n",
              "  </thead>\n",
              "  <tbody>\n",
              "    <tr>\n",
              "      <th>39</th>\n",
              "      <td>8511459</td>\n",
              "      <td>Агент по обработке авиаперевозок</td>\n",
              "      <td>способность заниматься несколькими проектами |...</td>\n",
              "      <td>Москва</td>\n",
              "      <td>241719</td>\n",
              "      <td>Водитель-экспедитор</td>\n",
              "      <td>strong задач strong доставк товар торгов площа...</td>\n",
              "      <td>Москва</td>\n",
              "      <td>0.996493</td>\n",
              "    </tr>\n",
              "    <tr>\n",
              "      <th>49</th>\n",
              "      <td>8530237</td>\n",
              "      <td>Техник-механик</td>\n",
              "      <td>Активная позиция || ПК. Excel. Word || Трактор...</td>\n",
              "      <td>Санкт-Петербург</td>\n",
              "      <td>241719</td>\n",
              "      <td>Водитель-экспедитор</td>\n",
              "      <td>strong задач strong доставк товар торгов площа...</td>\n",
              "      <td>Москва</td>\n",
              "      <td>0.991064</td>\n",
              "    </tr>\n",
              "    <tr>\n",
              "      <th>465</th>\n",
              "      <td>13162978</td>\n",
              "      <td>Кладовщик</td>\n",
              "      <td>Приемка груза || Контроль отгрузок || Работа с...</td>\n",
              "      <td>Московская область</td>\n",
              "      <td>94661</td>\n",
              "      <td>водитель на личном авто</td>\n",
              "      <td>курьер выходн сво</td>\n",
              "      <td>Москва</td>\n",
              "      <td>0.961116</td>\n",
              "    </tr>\n",
              "    <tr>\n",
              "      <th>469</th>\n",
              "      <td>13162978</td>\n",
              "      <td>Кладовщик</td>\n",
              "      <td>Приемка груза || Контроль отгрузок || Работа с...</td>\n",
              "      <td>Московская область</td>\n",
              "      <td>241719</td>\n",
              "      <td>Водитель-экспедитор</td>\n",
              "      <td>strong задач strong доставк товар торгов площа...</td>\n",
              "      <td>Москва</td>\n",
              "      <td>0.998008</td>\n",
              "    </tr>\n",
              "    <tr>\n",
              "      <th>485</th>\n",
              "      <td>13244496</td>\n",
              "      <td>Оператор склада, комплектовщик ричтрак</td>\n",
              "      <td>Водительские права на ричтрак || Большой опыт ...</td>\n",
              "      <td>Московская область</td>\n",
              "      <td>94661</td>\n",
              "      <td>водитель на личном авто</td>\n",
              "      <td>курьер выходн сво</td>\n",
              "      <td>Москва</td>\n",
              "      <td>0.935694</td>\n",
              "    </tr>\n",
              "    <tr>\n",
              "      <th>...</th>\n",
              "      <td>...</td>\n",
              "      <td>...</td>\n",
              "      <td>...</td>\n",
              "      <td>...</td>\n",
              "      <td>...</td>\n",
              "      <td>...</td>\n",
              "      <td>...</td>\n",
              "      <td>...</td>\n",
              "      <td>...</td>\n",
              "    </tr>\n",
              "    <tr>\n",
              "      <th>1744</th>\n",
              "      <td>11304504</td>\n",
              "      <td>водитель</td>\n",
              "      <td>Обучаемость || Работа в команде || Ведение пер...</td>\n",
              "      <td>Ленинградская область</td>\n",
              "      <td>63795</td>\n",
              "      <td>Водитель</td>\n",
              "      <td>обязан качествен доставк японск кухн автомобил...</td>\n",
              "      <td>Санкт-Петербург</td>\n",
              "      <td>0.932136</td>\n",
              "    </tr>\n",
              "    <tr>\n",
              "      <th>1819</th>\n",
              "      <td>136</td>\n",
              "      <td>Продавец-консультант, менеджер по продажам</td>\n",
              "      <td>nan</td>\n",
              "      <td>Санкт-Петербург</td>\n",
              "      <td>241719</td>\n",
              "      <td>Водитель-экспедитор</td>\n",
              "      <td>strong задач strong доставк товар торгов площа...</td>\n",
              "      <td>Москва</td>\n",
              "      <td>0.914257</td>\n",
              "    </tr>\n",
              "    <tr>\n",
              "      <th>1839</th>\n",
              "      <td>143</td>\n",
              "      <td>Продавец-консультант, Менеджер по продажам, пр...</td>\n",
              "      <td>Активные продажи || Управление продажами ||</td>\n",
              "      <td>Санкт-Петербург</td>\n",
              "      <td>241719</td>\n",
              "      <td>Водитель-экспедитор</td>\n",
              "      <td>strong задач strong доставк товар торгов площа...</td>\n",
              "      <td>Москва</td>\n",
              "      <td>0.977467</td>\n",
              "    </tr>\n",
              "    <tr>\n",
              "      <th>1919</th>\n",
              "      <td>286</td>\n",
              "      <td>Продавец-кассир, менеджер по продажам</td>\n",
              "      <td>nan</td>\n",
              "      <td>Санкт-Петербург</td>\n",
              "      <td>241719</td>\n",
              "      <td>Водитель-экспедитор</td>\n",
              "      <td>strong задач strong доставк товар торгов площа...</td>\n",
              "      <td>Москва</td>\n",
              "      <td>0.914587</td>\n",
              "    </tr>\n",
              "    <tr>\n",
              "      <th>1929</th>\n",
              "      <td>336</td>\n",
              "      <td>Менеджер по продажам</td>\n",
              "      <td>MS Excel || MS Internet || Ведение переговоров...</td>\n",
              "      <td>Санкт-Петербург</td>\n",
              "      <td>241719</td>\n",
              "      <td>Водитель-экспедитор</td>\n",
              "      <td>strong задач strong доставк товар торгов площа...</td>\n",
              "      <td>Москва</td>\n",
              "      <td>0.986877</td>\n",
              "    </tr>\n",
              "  </tbody>\n",
              "</table>\n",
              "<p>69 rows × 9 columns</p>\n",
              "</div>\n",
              "      <button class=\"colab-df-convert\" onclick=\"convertToInteractive('df-840597cd-ee85-494f-b0b9-c6ec3626f2e2')\"\n",
              "              title=\"Convert this dataframe to an interactive table.\"\n",
              "              style=\"display:none;\">\n",
              "        \n",
              "  <svg xmlns=\"http://www.w3.org/2000/svg\" height=\"24px\"viewBox=\"0 0 24 24\"\n",
              "       width=\"24px\">\n",
              "    <path d=\"M0 0h24v24H0V0z\" fill=\"none\"/>\n",
              "    <path d=\"M18.56 5.44l.94 2.06.94-2.06 2.06-.94-2.06-.94-.94-2.06-.94 2.06-2.06.94zm-11 1L8.5 8.5l.94-2.06 2.06-.94-2.06-.94L8.5 2.5l-.94 2.06-2.06.94zm10 10l.94 2.06.94-2.06 2.06-.94-2.06-.94-.94-2.06-.94 2.06-2.06.94z\"/><path d=\"M17.41 7.96l-1.37-1.37c-.4-.4-.92-.59-1.43-.59-.52 0-1.04.2-1.43.59L10.3 9.45l-7.72 7.72c-.78.78-.78 2.05 0 2.83L4 21.41c.39.39.9.59 1.41.59.51 0 1.02-.2 1.41-.59l7.78-7.78 2.81-2.81c.8-.78.8-2.07 0-2.86zM5.41 20L4 18.59l7.72-7.72 1.47 1.35L5.41 20z\"/>\n",
              "  </svg>\n",
              "      </button>\n",
              "      \n",
              "  <style>\n",
              "    .colab-df-container {\n",
              "      display:flex;\n",
              "      flex-wrap:wrap;\n",
              "      gap: 12px;\n",
              "    }\n",
              "\n",
              "    .colab-df-convert {\n",
              "      background-color: #E8F0FE;\n",
              "      border: none;\n",
              "      border-radius: 50%;\n",
              "      cursor: pointer;\n",
              "      display: none;\n",
              "      fill: #1967D2;\n",
              "      height: 32px;\n",
              "      padding: 0 0 0 0;\n",
              "      width: 32px;\n",
              "    }\n",
              "\n",
              "    .colab-df-convert:hover {\n",
              "      background-color: #E2EBFA;\n",
              "      box-shadow: 0px 1px 2px rgba(60, 64, 67, 0.3), 0px 1px 3px 1px rgba(60, 64, 67, 0.15);\n",
              "      fill: #174EA6;\n",
              "    }\n",
              "\n",
              "    [theme=dark] .colab-df-convert {\n",
              "      background-color: #3B4455;\n",
              "      fill: #D2E3FC;\n",
              "    }\n",
              "\n",
              "    [theme=dark] .colab-df-convert:hover {\n",
              "      background-color: #434B5C;\n",
              "      box-shadow: 0px 1px 3px 1px rgba(0, 0, 0, 0.15);\n",
              "      filter: drop-shadow(0px 1px 2px rgba(0, 0, 0, 0.3));\n",
              "      fill: #FFFFFF;\n",
              "    }\n",
              "  </style>\n",
              "\n",
              "      <script>\n",
              "        const buttonEl =\n",
              "          document.querySelector('#df-840597cd-ee85-494f-b0b9-c6ec3626f2e2 button.colab-df-convert');\n",
              "        buttonEl.style.display =\n",
              "          google.colab.kernel.accessAllowed ? 'block' : 'none';\n",
              "\n",
              "        async function convertToInteractive(key) {\n",
              "          const element = document.querySelector('#df-840597cd-ee85-494f-b0b9-c6ec3626f2e2');\n",
              "          const dataTable =\n",
              "            await google.colab.kernel.invokeFunction('convertToInteractive',\n",
              "                                                     [key], {});\n",
              "          if (!dataTable) return;\n",
              "\n",
              "          const docLinkHtml = 'Like what you see? Visit the ' +\n",
              "            '<a target=\"_blank\" href=https://colab.research.google.com/notebooks/data_table.ipynb>data table notebook</a>'\n",
              "            + ' to learn more about interactive tables.';\n",
              "          element.innerHTML = '';\n",
              "          dataTable['output_type'] = 'display_data';\n",
              "          await google.colab.output.renderOutput(dataTable, element);\n",
              "          const docLink = document.createElement('div');\n",
              "          docLink.innerHTML = docLinkHtml;\n",
              "          element.appendChild(docLink);\n",
              "        }\n",
              "      </script>\n",
              "    </div>\n",
              "  </div>\n",
              "  "
            ]
          },
          "metadata": {},
          "execution_count": 81
        }
      ],
      "source": [
        "predict_analize[predict_analize[\"predict_TensorFlow\"] > 0.9]"
      ]
    },
    {
      "cell_type": "markdown",
      "metadata": {
        "id": "GHTPUbDfU-oH"
      },
      "source": [
        "# Модель - CatBoostRegressor"
      ]
    },
    {
      "cell_type": "code",
      "execution_count": 82,
      "metadata": {
        "id": "YwzVp7OYDZ3l",
        "colab": {
          "base_uri": "https://localhost:8080/"
        },
        "outputId": "0f211817-e228-45bb-c6e5-afd02205dd19"
      },
      "outputs": [
        {
          "output_type": "stream",
          "name": "stdout",
          "text": [
            "<class 'pandas.core.frame.DataFrame'>\n",
            "Int64Index: 122047 entries, 0 to 122046\n",
            "Data columns (total 30 columns):\n",
            " #   Column               Non-Null Count   Dtype  \n",
            "---  ------               --------------   -----  \n",
            " 0   id                   122047 non-null  int64  \n",
            " 1   position             122047 non-null  object \n",
            " 2   sex                  122047 non-null  int64  \n",
            " 3   citizenship          122047 non-null  object \n",
            " 4   age                  122047 non-null  int64  \n",
            " 5   salary               122047 non-null  int64  \n",
            " 6   langs                122047 non-null  object \n",
            " 7   driver_license       122047 non-null  object \n",
            " 8   subwey               122047 non-null  object \n",
            " 9   skills               122047 non-null  object \n",
            " 10  employment           122047 non-null  object \n",
            " 11  shedule              122047 non-null  object \n",
            " 12  candidate_region     122047 non-null  object \n",
            " 13  date_created         122047 non-null  object \n",
            " 14  job_id               122047 non-null  int64  \n",
            " 15  candidate_status_id  122047 non-null  int64  \n",
            " 16  status               122047 non-null  object \n",
            " 17  university           122047 non-null  object \n",
            " 18  faculty              122047 non-null  object \n",
            " 19  graduate_year        122047 non-null  float64\n",
            " 20  work_place_position  122047 non-null  object \n",
            " 21  from_year            122047 non-null  float64\n",
            " 22  from_month           122047 non-null  float64\n",
            " 23  to_year              122047 non-null  float64\n",
            " 24  to_month             122047 non-null  float64\n",
            " 25  job_status           122047 non-null  int64  \n",
            " 26  job_name             122047 non-null  object \n",
            " 27  job_region           122047 non-null  object \n",
            " 28  job_description      122047 non-null  object \n",
            " 29  status_weight        122047 non-null  float64\n",
            "dtypes: float64(6), int64(7), object(17)\n",
            "memory usage: 28.9+ MB\n"
          ]
        }
      ],
      "source": [
        "union_df_cat = union.fillna(0)\n",
        "union_df_cat[['position']] = union_df_cat[['position']].astype({'position': 'str'})\n",
        "union_df_cat[['employment']] = union_df_cat[['employment']].astype({'employment': 'str'})\n",
        "union_df_cat[['shedule']] = union_df_cat[['shedule']].astype({'shedule': 'str'})\n",
        "union_df_cat[['driver_license']] = union_df_cat[['driver_license']].astype({'driver_license': 'str'})\n",
        "union_df_cat.info()"
      ]
    },
    {
      "cell_type": "markdown",
      "metadata": {
        "id": "Njy8H3M0So40"
      },
      "source": [
        "Для CatBoost-модели - без изменения категориальных признаков"
      ]
    },
    {
      "cell_type": "code",
      "execution_count": 83,
      "metadata": {
        "id": "G_cVRIXJlyqj",
        "colab": {
          "base_uri": "https://localhost:8080/"
        },
        "outputId": "66776af0-af9c-41ea-b851-d3c76f10f724"
      },
      "outputs": [
        {
          "output_type": "execute_result",
          "data": {
            "text/plain": [
              "((122047, 10), (122047, 1))"
            ]
          },
          "metadata": {},
          "execution_count": 83
        }
      ],
      "source": [
        "x_data_cat = union_df_cat[['position', 'driver_license', 'sex', 'age', 'salary', 'employment', 'shedule', 'from_year', 'to_year', 'job_status' ]]\n",
        "y_data_cat = union_df_cat[[\"status_weight\"]]\n",
        "\n",
        "x_data_cat.shape, y_data_cat.shape"
      ]
    },
    {
      "cell_type": "markdown",
      "metadata": {
        "id": "EpaN6L0JUV3r"
      },
      "source": [
        "**CatBoost** - Определяем входные параметры X и значения целевой функции Y (таргет)"
      ]
    },
    {
      "cell_type": "code",
      "execution_count": 84,
      "metadata": {
        "id": "4qRBrWizSm_p",
        "colab": {
          "base_uri": "https://localhost:8080/"
        },
        "outputId": "377f34bd-3fb2-471d-8056-911bb65e1ced"
      },
      "outputs": [
        {
          "output_type": "execute_result",
          "data": {
            "text/plain": [
              "((59802, 10), (36615, 10), (59802, 1), (36615, 1), (25630, 10), (25630, 1))"
            ]
          },
          "metadata": {},
          "execution_count": 84
        }
      ],
      "source": [
        "x_train_cat, x_test_cat, y_train_cat, y_test_cat = train_test_split(x_data_cat, y_data_cat, test_size=0.3, random_state=12345, shuffle=True)\n",
        "x_train_cat, x_val_cat, y_train_cat, y_val_cat = train_test_split(x_train_cat, y_train_cat, test_size=0.3, random_state=12345, shuffle=True)\n",
        "\n",
        "x_train_cat.shape, x_test_cat.shape, y_train_cat.shape, y_test_cat.shape, x_val_cat.shape, y_val_cat.shape"
      ]
    },
    {
      "cell_type": "code",
      "execution_count": 85,
      "metadata": {
        "id": "scz-B5OPUCQ7",
        "colab": {
          "base_uri": "https://localhost:8080/",
          "height": 250
        },
        "outputId": "cf9b3072-3d2a-4eed-b848-763f478046b4"
      },
      "outputs": [
        {
          "output_type": "execute_result",
          "data": {
            "text/plain": [
              "                   position driver_license  sex  age  salary employment  \\\n",
              "49417   Водитель-экспедитор             BC    2   41       0       Part   \n",
              "58294       Личный охранник              0    2    0  120000   Look-out   \n",
              "84097              Водитель              0    2   35       0       Full   \n",
              "101355              Таксист              0    2   34       0          0   \n",
              "94976             официант               0    1   18       0       Full   \n",
              "\n",
              "       shedule  from_year  to_year  job_status  \n",
              "49417        0     2017.0   2021.0           2  \n",
              "58294        0     2011.0   2012.0           2  \n",
              "84097     Full        0.0      0.0           2  \n",
              "101355       0        0.0      0.0           4  \n",
              "94976     Full        0.0      0.0           2  "
            ],
            "text/html": [
              "\n",
              "  <div id=\"df-9e077858-2bf0-4d1c-ab4c-79dfa4644922\">\n",
              "    <div class=\"colab-df-container\">\n",
              "      <div>\n",
              "<style scoped>\n",
              "    .dataframe tbody tr th:only-of-type {\n",
              "        vertical-align: middle;\n",
              "    }\n",
              "\n",
              "    .dataframe tbody tr th {\n",
              "        vertical-align: top;\n",
              "    }\n",
              "\n",
              "    .dataframe thead th {\n",
              "        text-align: right;\n",
              "    }\n",
              "</style>\n",
              "<table border=\"1\" class=\"dataframe\">\n",
              "  <thead>\n",
              "    <tr style=\"text-align: right;\">\n",
              "      <th></th>\n",
              "      <th>position</th>\n",
              "      <th>driver_license</th>\n",
              "      <th>sex</th>\n",
              "      <th>age</th>\n",
              "      <th>salary</th>\n",
              "      <th>employment</th>\n",
              "      <th>shedule</th>\n",
              "      <th>from_year</th>\n",
              "      <th>to_year</th>\n",
              "      <th>job_status</th>\n",
              "    </tr>\n",
              "  </thead>\n",
              "  <tbody>\n",
              "    <tr>\n",
              "      <th>49417</th>\n",
              "      <td>Водитель-экспедитор</td>\n",
              "      <td>BC</td>\n",
              "      <td>2</td>\n",
              "      <td>41</td>\n",
              "      <td>0</td>\n",
              "      <td>Part</td>\n",
              "      <td>0</td>\n",
              "      <td>2017.0</td>\n",
              "      <td>2021.0</td>\n",
              "      <td>2</td>\n",
              "    </tr>\n",
              "    <tr>\n",
              "      <th>58294</th>\n",
              "      <td>Личный охранник</td>\n",
              "      <td>0</td>\n",
              "      <td>2</td>\n",
              "      <td>0</td>\n",
              "      <td>120000</td>\n",
              "      <td>Look-out</td>\n",
              "      <td>0</td>\n",
              "      <td>2011.0</td>\n",
              "      <td>2012.0</td>\n",
              "      <td>2</td>\n",
              "    </tr>\n",
              "    <tr>\n",
              "      <th>84097</th>\n",
              "      <td>Водитель</td>\n",
              "      <td>0</td>\n",
              "      <td>2</td>\n",
              "      <td>35</td>\n",
              "      <td>0</td>\n",
              "      <td>Full</td>\n",
              "      <td>Full</td>\n",
              "      <td>0.0</td>\n",
              "      <td>0.0</td>\n",
              "      <td>2</td>\n",
              "    </tr>\n",
              "    <tr>\n",
              "      <th>101355</th>\n",
              "      <td>Таксист</td>\n",
              "      <td>0</td>\n",
              "      <td>2</td>\n",
              "      <td>34</td>\n",
              "      <td>0</td>\n",
              "      <td>0</td>\n",
              "      <td>0</td>\n",
              "      <td>0.0</td>\n",
              "      <td>0.0</td>\n",
              "      <td>4</td>\n",
              "    </tr>\n",
              "    <tr>\n",
              "      <th>94976</th>\n",
              "      <td>официант</td>\n",
              "      <td>0</td>\n",
              "      <td>1</td>\n",
              "      <td>18</td>\n",
              "      <td>0</td>\n",
              "      <td>Full</td>\n",
              "      <td>Full</td>\n",
              "      <td>0.0</td>\n",
              "      <td>0.0</td>\n",
              "      <td>2</td>\n",
              "    </tr>\n",
              "  </tbody>\n",
              "</table>\n",
              "</div>\n",
              "      <button class=\"colab-df-convert\" onclick=\"convertToInteractive('df-9e077858-2bf0-4d1c-ab4c-79dfa4644922')\"\n",
              "              title=\"Convert this dataframe to an interactive table.\"\n",
              "              style=\"display:none;\">\n",
              "        \n",
              "  <svg xmlns=\"http://www.w3.org/2000/svg\" height=\"24px\"viewBox=\"0 0 24 24\"\n",
              "       width=\"24px\">\n",
              "    <path d=\"M0 0h24v24H0V0z\" fill=\"none\"/>\n",
              "    <path d=\"M18.56 5.44l.94 2.06.94-2.06 2.06-.94-2.06-.94-.94-2.06-.94 2.06-2.06.94zm-11 1L8.5 8.5l.94-2.06 2.06-.94-2.06-.94L8.5 2.5l-.94 2.06-2.06.94zm10 10l.94 2.06.94-2.06 2.06-.94-2.06-.94-.94-2.06-.94 2.06-2.06.94z\"/><path d=\"M17.41 7.96l-1.37-1.37c-.4-.4-.92-.59-1.43-.59-.52 0-1.04.2-1.43.59L10.3 9.45l-7.72 7.72c-.78.78-.78 2.05 0 2.83L4 21.41c.39.39.9.59 1.41.59.51 0 1.02-.2 1.41-.59l7.78-7.78 2.81-2.81c.8-.78.8-2.07 0-2.86zM5.41 20L4 18.59l7.72-7.72 1.47 1.35L5.41 20z\"/>\n",
              "  </svg>\n",
              "      </button>\n",
              "      \n",
              "  <style>\n",
              "    .colab-df-container {\n",
              "      display:flex;\n",
              "      flex-wrap:wrap;\n",
              "      gap: 12px;\n",
              "    }\n",
              "\n",
              "    .colab-df-convert {\n",
              "      background-color: #E8F0FE;\n",
              "      border: none;\n",
              "      border-radius: 50%;\n",
              "      cursor: pointer;\n",
              "      display: none;\n",
              "      fill: #1967D2;\n",
              "      height: 32px;\n",
              "      padding: 0 0 0 0;\n",
              "      width: 32px;\n",
              "    }\n",
              "\n",
              "    .colab-df-convert:hover {\n",
              "      background-color: #E2EBFA;\n",
              "      box-shadow: 0px 1px 2px rgba(60, 64, 67, 0.3), 0px 1px 3px 1px rgba(60, 64, 67, 0.15);\n",
              "      fill: #174EA6;\n",
              "    }\n",
              "\n",
              "    [theme=dark] .colab-df-convert {\n",
              "      background-color: #3B4455;\n",
              "      fill: #D2E3FC;\n",
              "    }\n",
              "\n",
              "    [theme=dark] .colab-df-convert:hover {\n",
              "      background-color: #434B5C;\n",
              "      box-shadow: 0px 1px 3px 1px rgba(0, 0, 0, 0.15);\n",
              "      filter: drop-shadow(0px 1px 2px rgba(0, 0, 0, 0.3));\n",
              "      fill: #FFFFFF;\n",
              "    }\n",
              "  </style>\n",
              "\n",
              "      <script>\n",
              "        const buttonEl =\n",
              "          document.querySelector('#df-9e077858-2bf0-4d1c-ab4c-79dfa4644922 button.colab-df-convert');\n",
              "        buttonEl.style.display =\n",
              "          google.colab.kernel.accessAllowed ? 'block' : 'none';\n",
              "\n",
              "        async function convertToInteractive(key) {\n",
              "          const element = document.querySelector('#df-9e077858-2bf0-4d1c-ab4c-79dfa4644922');\n",
              "          const dataTable =\n",
              "            await google.colab.kernel.invokeFunction('convertToInteractive',\n",
              "                                                     [key], {});\n",
              "          if (!dataTable) return;\n",
              "\n",
              "          const docLinkHtml = 'Like what you see? Visit the ' +\n",
              "            '<a target=\"_blank\" href=https://colab.research.google.com/notebooks/data_table.ipynb>data table notebook</a>'\n",
              "            + ' to learn more about interactive tables.';\n",
              "          element.innerHTML = '';\n",
              "          dataTable['output_type'] = 'display_data';\n",
              "          await google.colab.output.renderOutput(dataTable, element);\n",
              "          const docLink = document.createElement('div');\n",
              "          docLink.innerHTML = docLinkHtml;\n",
              "          element.appendChild(docLink);\n",
              "        }\n",
              "      </script>\n",
              "    </div>\n",
              "  </div>\n",
              "  "
            ]
          },
          "metadata": {},
          "execution_count": 85
        }
      ],
      "source": [
        "x_train_cat.head()"
      ]
    },
    {
      "cell_type": "markdown",
      "metadata": {
        "id": "wOTU3axeF9AA"
      },
      "source": [
        "## Модель CatBoostRegressor"
      ]
    },
    {
      "cell_type": "code",
      "execution_count": 86,
      "metadata": {
        "id": "VhQJh905F7up"
      },
      "outputs": [],
      "source": [
        "# выбираем категориальные столбцы\n",
        "columns = ['position', 'driver_license', 'employment', 'shedule']"
      ]
    },
    {
      "cell_type": "code",
      "execution_count": 87,
      "metadata": {
        "id": "XlDe3z64mx2P"
      },
      "outputs": [],
      "source": [
        "cat_model = CatBoostRegressor(\n",
        "    cat_features=columns,\n",
        "    bagging_temperature=1, # 1\n",
        "    random_strength=1, # 0\n",
        "    thread_count=2, # 1\n",
        "    iterations=150, #1200\n",
        "    loss_function='RMSE', #RMSE\n",
        "    l2_leaf_reg = 1.0,  # 6.0 \n",
        "    learning_rate = 0.095, # 0.085\n",
        "    save_snapshot=False,\n",
        "    random_seed=110, # 110\n",
        "    od_type='Iter',\n",
        "    od_wait=100, # 150\n",
        "    custom_metric=['AUC:hints=skip_train~false']\n",
        ")"
      ]
    },
    {
      "cell_type": "code",
      "execution_count": 88,
      "metadata": {
        "id": "4lTKxf3eVxYU",
        "colab": {
          "base_uri": "https://localhost:8080/",
          "height": 1000,
          "referenced_widgets": [
            "5de0183858434d6f8224b91698cf8e65"
          ]
        },
        "outputId": "0881189c-2846-43aa-e74b-2dd942f8e0d1"
      },
      "outputs": [
        {
          "output_type": "display_data",
          "data": {
            "text/plain": [
              "MetricVisualizer(layout=Layout(align_self='stretch', height='500px'))"
            ],
            "application/vnd.jupyter.widget-view+json": {
              "version_major": 2,
              "version_minor": 0,
              "model_id": "5de0183858434d6f8224b91698cf8e65"
            }
          },
          "metadata": {}
        },
        {
          "output_type": "stream",
          "name": "stdout",
          "text": [
            "0:\tlearn: 0.6271549\ttest: 0.6326720\tbest: 0.6326720 (0)\ttotal: 90.9ms\tremaining: 13.5s\n",
            "1:\tlearn: 0.6161444\ttest: 0.6216482\tbest: 0.6216482 (1)\ttotal: 114ms\tremaining: 8.46s\n",
            "2:\tlearn: 0.6057082\ttest: 0.6112304\tbest: 0.6112304 (2)\ttotal: 140ms\tremaining: 6.86s\n",
            "3:\tlearn: 0.5957131\ttest: 0.6012525\tbest: 0.6012525 (3)\ttotal: 159ms\tremaining: 5.8s\n",
            "4:\tlearn: 0.5860642\ttest: 0.5915982\tbest: 0.5915982 (4)\ttotal: 183ms\tremaining: 5.31s\n",
            "5:\tlearn: 0.5768783\ttest: 0.5824023\tbest: 0.5824023 (5)\ttotal: 204ms\tremaining: 4.91s\n",
            "6:\tlearn: 0.5679990\ttest: 0.5735019\tbest: 0.5735019 (6)\ttotal: 227ms\tremaining: 4.65s\n",
            "7:\tlearn: 0.5596242\ttest: 0.5651160\tbest: 0.5651160 (7)\ttotal: 247ms\tremaining: 4.38s\n",
            "8:\tlearn: 0.5516677\ttest: 0.5571453\tbest: 0.5571453 (8)\ttotal: 264ms\tremaining: 4.14s\n",
            "9:\tlearn: 0.5439693\ttest: 0.5494338\tbest: 0.5494338 (9)\ttotal: 284ms\tremaining: 3.97s\n",
            "10:\tlearn: 0.5365958\ttest: 0.5420494\tbest: 0.5420494 (10)\ttotal: 321ms\tremaining: 4.05s\n",
            "11:\tlearn: 0.5296775\ttest: 0.5351076\tbest: 0.5351076 (11)\ttotal: 345ms\tremaining: 3.97s\n",
            "12:\tlearn: 0.5230870\ttest: 0.5284894\tbest: 0.5284894 (12)\ttotal: 362ms\tremaining: 3.81s\n",
            "13:\tlearn: 0.5168121\ttest: 0.5221893\tbest: 0.5221893 (13)\ttotal: 380ms\tremaining: 3.69s\n",
            "14:\tlearn: 0.5107391\ttest: 0.5160723\tbest: 0.5160723 (14)\ttotal: 406ms\tremaining: 3.65s\n",
            "15:\tlearn: 0.5050526\ttest: 0.5103551\tbest: 0.5103551 (15)\ttotal: 430ms\tremaining: 3.6s\n",
            "16:\tlearn: 0.4996378\ttest: 0.5049051\tbest: 0.5049051 (16)\ttotal: 450ms\tremaining: 3.52s\n",
            "17:\tlearn: 0.4944534\ttest: 0.4996889\tbest: 0.4996889 (17)\ttotal: 469ms\tremaining: 3.44s\n",
            "18:\tlearn: 0.4895193\ttest: 0.4947080\tbest: 0.4947080 (18)\ttotal: 490ms\tremaining: 3.38s\n",
            "19:\tlearn: 0.4847762\ttest: 0.4899448\tbest: 0.4899448 (19)\ttotal: 512ms\tremaining: 3.33s\n",
            "20:\tlearn: 0.4803578\ttest: 0.4854813\tbest: 0.4854813 (20)\ttotal: 541ms\tremaining: 3.32s\n",
            "21:\tlearn: 0.4716751\ttest: 0.4767539\tbest: 0.4767539 (21)\ttotal: 572ms\tremaining: 3.33s\n",
            "22:\tlearn: 0.4632472\ttest: 0.4682060\tbest: 0.4682060 (22)\ttotal: 593ms\tremaining: 3.27s\n",
            "23:\tlearn: 0.4551915\ttest: 0.4600377\tbest: 0.4600377 (23)\ttotal: 614ms\tremaining: 3.22s\n",
            "24:\tlearn: 0.4474745\ttest: 0.4521566\tbest: 0.4521566 (24)\ttotal: 635ms\tremaining: 3.17s\n",
            "25:\tlearn: 0.4401252\ttest: 0.4446470\tbest: 0.4446470 (25)\ttotal: 657ms\tremaining: 3.13s\n",
            "26:\tlearn: 0.4331812\ttest: 0.4375418\tbest: 0.4375418 (26)\ttotal: 678ms\tremaining: 3.09s\n",
            "27:\tlearn: 0.4263644\ttest: 0.4305559\tbest: 0.4305559 (27)\ttotal: 699ms\tremaining: 3.04s\n",
            "28:\tlearn: 0.4199370\ttest: 0.4239604\tbest: 0.4239604 (28)\ttotal: 722ms\tremaining: 3.01s\n",
            "29:\tlearn: 0.4137199\ttest: 0.4175241\tbest: 0.4175241 (29)\ttotal: 749ms\tremaining: 3s\n",
            "30:\tlearn: 0.4077578\ttest: 0.4113880\tbest: 0.4113880 (30)\ttotal: 769ms\tremaining: 2.95s\n",
            "31:\tlearn: 0.4023362\ttest: 0.4058120\tbest: 0.4058120 (31)\ttotal: 791ms\tremaining: 2.92s\n",
            "32:\tlearn: 0.3970955\ttest: 0.4003342\tbest: 0.4003342 (32)\ttotal: 814ms\tremaining: 2.88s\n",
            "33:\tlearn: 0.3919404\ttest: 0.3950326\tbest: 0.3950326 (33)\ttotal: 840ms\tremaining: 2.87s\n",
            "34:\tlearn: 0.3869680\ttest: 0.3898559\tbest: 0.3898559 (34)\ttotal: 863ms\tremaining: 2.83s\n",
            "35:\tlearn: 0.3821237\ttest: 0.3847886\tbest: 0.3847886 (35)\ttotal: 885ms\tremaining: 2.8s\n",
            "36:\tlearn: 0.3777787\ttest: 0.3802452\tbest: 0.3802452 (36)\ttotal: 907ms\tremaining: 2.77s\n",
            "37:\tlearn: 0.3733290\ttest: 0.3755802\tbest: 0.3755802 (37)\ttotal: 930ms\tremaining: 2.74s\n",
            "38:\tlearn: 0.3691870\ttest: 0.3712322\tbest: 0.3712322 (38)\ttotal: 966ms\tremaining: 2.75s\n",
            "39:\tlearn: 0.3650921\ttest: 0.3668605\tbest: 0.3668605 (39)\ttotal: 990ms\tremaining: 2.72s\n",
            "40:\tlearn: 0.3613034\ttest: 0.3628113\tbest: 0.3628113 (40)\ttotal: 1.01s\tremaining: 2.69s\n",
            "41:\tlearn: 0.3576722\ttest: 0.3589408\tbest: 0.3589408 (41)\ttotal: 1.03s\tremaining: 2.66s\n",
            "42:\tlearn: 0.3542118\ttest: 0.3552414\tbest: 0.3552414 (42)\ttotal: 1.05s\tremaining: 2.63s\n",
            "43:\tlearn: 0.3508396\ttest: 0.3515885\tbest: 0.3515885 (43)\ttotal: 1.08s\tremaining: 2.59s\n",
            "44:\tlearn: 0.3477363\ttest: 0.3482358\tbest: 0.3482358 (44)\ttotal: 1.1s\tremaining: 2.56s\n",
            "45:\tlearn: 0.3448212\ttest: 0.3450535\tbest: 0.3450535 (45)\ttotal: 1.12s\tremaining: 2.54s\n",
            "46:\tlearn: 0.3420260\ttest: 0.3420168\tbest: 0.3420168 (46)\ttotal: 1.15s\tremaining: 2.51s\n",
            "47:\tlearn: 0.3392928\ttest: 0.3390485\tbest: 0.3390485 (47)\ttotal: 1.18s\tremaining: 2.51s\n",
            "48:\tlearn: 0.3368520\ttest: 0.3364219\tbest: 0.3364219 (48)\ttotal: 1.2s\tremaining: 2.48s\n",
            "49:\tlearn: 0.3345012\ttest: 0.3338660\tbest: 0.3338660 (49)\ttotal: 1.22s\tremaining: 2.45s\n",
            "50:\tlearn: 0.3323049\ttest: 0.3316076\tbest: 0.3316076 (50)\ttotal: 1.25s\tremaining: 2.42s\n",
            "51:\tlearn: 0.3303117\ttest: 0.3294187\tbest: 0.3294187 (51)\ttotal: 1.27s\tremaining: 2.4s\n",
            "52:\tlearn: 0.3282237\ttest: 0.3271079\tbest: 0.3271079 (52)\ttotal: 1.3s\tremaining: 2.38s\n",
            "53:\tlearn: 0.3262300\ttest: 0.3249107\tbest: 0.3249107 (53)\ttotal: 1.32s\tremaining: 2.35s\n",
            "54:\tlearn: 0.3242349\ttest: 0.3227106\tbest: 0.3227106 (54)\ttotal: 1.34s\tremaining: 2.31s\n",
            "55:\tlearn: 0.3223990\ttest: 0.3206316\tbest: 0.3206316 (55)\ttotal: 1.36s\tremaining: 2.28s\n",
            "56:\tlearn: 0.3206980\ttest: 0.3186970\tbest: 0.3186970 (56)\ttotal: 1.39s\tremaining: 2.26s\n",
            "57:\tlearn: 0.3191755\ttest: 0.3169794\tbest: 0.3169794 (57)\ttotal: 1.42s\tremaining: 2.25s\n",
            "58:\tlearn: 0.3175542\ttest: 0.3151635\tbest: 0.3151635 (58)\ttotal: 1.44s\tremaining: 2.23s\n",
            "59:\tlearn: 0.3161862\ttest: 0.3136122\tbest: 0.3136122 (59)\ttotal: 1.47s\tremaining: 2.2s\n",
            "60:\tlearn: 0.3148127\ttest: 0.3120450\tbest: 0.3120450 (60)\ttotal: 1.49s\tremaining: 2.17s\n",
            "61:\tlearn: 0.3135434\ttest: 0.3105498\tbest: 0.3105498 (61)\ttotal: 1.51s\tremaining: 2.14s\n",
            "62:\tlearn: 0.3123049\ttest: 0.3091383\tbest: 0.3091383 (62)\ttotal: 1.53s\tremaining: 2.12s\n",
            "63:\tlearn: 0.3111568\ttest: 0.3077930\tbest: 0.3077930 (63)\ttotal: 1.55s\tremaining: 2.09s\n",
            "64:\tlearn: 0.3101579\ttest: 0.3066228\tbest: 0.3066228 (64)\ttotal: 1.57s\tremaining: 2.06s\n",
            "65:\tlearn: 0.3091565\ttest: 0.3054374\tbest: 0.3054374 (65)\ttotal: 1.6s\tremaining: 2.04s\n",
            "66:\tlearn: 0.3081440\ttest: 0.3042016\tbest: 0.3042016 (66)\ttotal: 1.62s\tremaining: 2.01s\n",
            "67:\tlearn: 0.3071630\ttest: 0.3030641\tbest: 0.3030641 (67)\ttotal: 1.64s\tremaining: 1.98s\n",
            "68:\tlearn: 0.3062528\ttest: 0.3019992\tbest: 0.3019992 (68)\ttotal: 1.66s\tremaining: 1.95s\n",
            "69:\tlearn: 0.3054001\ttest: 0.3010059\tbest: 0.3010059 (69)\ttotal: 1.68s\tremaining: 1.92s\n",
            "70:\tlearn: 0.3045760\ttest: 0.3000273\tbest: 0.3000273 (70)\ttotal: 1.7s\tremaining: 1.9s\n",
            "71:\tlearn: 0.3037838\ttest: 0.2990812\tbest: 0.2990812 (71)\ttotal: 1.73s\tremaining: 1.87s\n",
            "72:\tlearn: 0.3031318\ttest: 0.2983264\tbest: 0.2983264 (72)\ttotal: 1.75s\tremaining: 1.85s\n",
            "73:\tlearn: 0.3024567\ttest: 0.2974690\tbest: 0.2974690 (73)\ttotal: 1.77s\tremaining: 1.82s\n",
            "74:\tlearn: 0.3017546\ttest: 0.2966289\tbest: 0.2966289 (74)\ttotal: 1.8s\tremaining: 1.8s\n",
            "75:\tlearn: 0.3011311\ttest: 0.2958901\tbest: 0.2958901 (75)\ttotal: 1.83s\tremaining: 1.78s\n",
            "76:\tlearn: 0.3006248\ttest: 0.2952263\tbest: 0.2952263 (76)\ttotal: 1.85s\tremaining: 1.75s\n",
            "77:\tlearn: 0.3000934\ttest: 0.2945679\tbest: 0.2945679 (77)\ttotal: 1.87s\tremaining: 1.73s\n",
            "78:\tlearn: 0.2996050\ttest: 0.2939683\tbest: 0.2939683 (78)\ttotal: 1.89s\tremaining: 1.7s\n",
            "79:\tlearn: 0.2991263\ttest: 0.2933691\tbest: 0.2933691 (79)\ttotal: 1.91s\tremaining: 1.67s\n",
            "80:\tlearn: 0.2986092\ttest: 0.2927027\tbest: 0.2927027 (80)\ttotal: 1.93s\tremaining: 1.65s\n",
            "81:\tlearn: 0.2982134\ttest: 0.2921735\tbest: 0.2921735 (81)\ttotal: 1.95s\tremaining: 1.62s\n",
            "82:\tlearn: 0.2978062\ttest: 0.2916627\tbest: 0.2916627 (82)\ttotal: 1.97s\tremaining: 1.59s\n",
            "83:\tlearn: 0.2974113\ttest: 0.2911552\tbest: 0.2911552 (83)\ttotal: 2s\tremaining: 1.57s\n",
            "84:\tlearn: 0.2969579\ttest: 0.2906008\tbest: 0.2906008 (84)\ttotal: 2.02s\tremaining: 1.54s\n",
            "85:\tlearn: 0.2966235\ttest: 0.2901401\tbest: 0.2901401 (85)\ttotal: 2.04s\tremaining: 1.52s\n",
            "86:\tlearn: 0.2962069\ttest: 0.2896559\tbest: 0.2896559 (86)\ttotal: 2.06s\tremaining: 1.49s\n",
            "87:\tlearn: 0.2959253\ttest: 0.2892544\tbest: 0.2892544 (87)\ttotal: 2.08s\tremaining: 1.47s\n",
            "88:\tlearn: 0.2956046\ttest: 0.2888416\tbest: 0.2888416 (88)\ttotal: 2.11s\tremaining: 1.44s\n",
            "89:\tlearn: 0.2952624\ttest: 0.2883937\tbest: 0.2883937 (89)\ttotal: 2.13s\tremaining: 1.42s\n",
            "90:\tlearn: 0.2949199\ttest: 0.2879456\tbest: 0.2879456 (90)\ttotal: 2.15s\tremaining: 1.4s\n",
            "91:\tlearn: 0.2946441\ttest: 0.2876083\tbest: 0.2876083 (91)\ttotal: 2.17s\tremaining: 1.37s\n",
            "92:\tlearn: 0.2943370\ttest: 0.2872330\tbest: 0.2872330 (92)\ttotal: 2.2s\tremaining: 1.34s\n",
            "93:\tlearn: 0.2940992\ttest: 0.2869025\tbest: 0.2869025 (93)\ttotal: 2.22s\tremaining: 1.32s\n",
            "94:\tlearn: 0.2938876\ttest: 0.2866399\tbest: 0.2866399 (94)\ttotal: 2.24s\tremaining: 1.3s\n",
            "95:\tlearn: 0.2936181\ttest: 0.2863187\tbest: 0.2863187 (95)\ttotal: 2.26s\tremaining: 1.27s\n",
            "96:\tlearn: 0.2933902\ttest: 0.2860334\tbest: 0.2860334 (96)\ttotal: 2.29s\tremaining: 1.25s\n",
            "97:\tlearn: 0.2932342\ttest: 0.2857944\tbest: 0.2857944 (97)\ttotal: 2.31s\tremaining: 1.23s\n",
            "98:\tlearn: 0.2929988\ttest: 0.2855174\tbest: 0.2855174 (98)\ttotal: 2.33s\tremaining: 1.2s\n",
            "99:\tlearn: 0.2927898\ttest: 0.2852686\tbest: 0.2852686 (99)\ttotal: 2.36s\tremaining: 1.18s\n",
            "100:\tlearn: 0.2925882\ttest: 0.2849920\tbest: 0.2849920 (100)\ttotal: 2.38s\tremaining: 1.15s\n",
            "101:\tlearn: 0.2924223\ttest: 0.2847524\tbest: 0.2847524 (101)\ttotal: 2.4s\tremaining: 1.13s\n",
            "102:\tlearn: 0.2922243\ttest: 0.2844974\tbest: 0.2844974 (102)\ttotal: 2.44s\tremaining: 1.11s\n",
            "103:\tlearn: 0.2920161\ttest: 0.2842636\tbest: 0.2842636 (103)\ttotal: 2.46s\tremaining: 1.09s\n",
            "104:\tlearn: 0.2918815\ttest: 0.2840645\tbest: 0.2840645 (104)\ttotal: 2.49s\tremaining: 1.07s\n",
            "105:\tlearn: 0.2917163\ttest: 0.2838356\tbest: 0.2838356 (105)\ttotal: 2.51s\tremaining: 1.04s\n",
            "106:\tlearn: 0.2915786\ttest: 0.2836161\tbest: 0.2836161 (106)\ttotal: 2.53s\tremaining: 1.02s\n",
            "107:\tlearn: 0.2914354\ttest: 0.2834101\tbest: 0.2834101 (107)\ttotal: 2.55s\tremaining: 993ms\n",
            "108:\tlearn: 0.2913349\ttest: 0.2832575\tbest: 0.2832575 (108)\ttotal: 2.58s\tremaining: 969ms\n",
            "109:\tlearn: 0.2912242\ttest: 0.2830914\tbest: 0.2830914 (109)\ttotal: 2.6s\tremaining: 945ms\n",
            "110:\tlearn: 0.2911076\ttest: 0.2829132\tbest: 0.2829132 (110)\ttotal: 2.62s\tremaining: 920ms\n",
            "111:\tlearn: 0.2909675\ttest: 0.2827508\tbest: 0.2827508 (111)\ttotal: 2.64s\tremaining: 896ms\n",
            "112:\tlearn: 0.2908235\ttest: 0.2825589\tbest: 0.2825589 (112)\ttotal: 2.66s\tremaining: 872ms\n",
            "113:\tlearn: 0.2907189\ttest: 0.2824001\tbest: 0.2824001 (113)\ttotal: 2.69s\tremaining: 849ms\n",
            "114:\tlearn: 0.2906109\ttest: 0.2822462\tbest: 0.2822462 (114)\ttotal: 2.71s\tremaining: 826ms\n",
            "115:\tlearn: 0.2904955\ttest: 0.2820890\tbest: 0.2820890 (115)\ttotal: 2.73s\tremaining: 802ms\n",
            "116:\tlearn: 0.2903943\ttest: 0.2819576\tbest: 0.2819576 (116)\ttotal: 2.75s\tremaining: 777ms\n",
            "117:\tlearn: 0.2902987\ttest: 0.2818317\tbest: 0.2818317 (117)\ttotal: 2.78s\tremaining: 753ms\n",
            "118:\tlearn: 0.2902276\ttest: 0.2817285\tbest: 0.2817285 (118)\ttotal: 2.8s\tremaining: 729ms\n",
            "119:\tlearn: 0.2901417\ttest: 0.2816143\tbest: 0.2816143 (119)\ttotal: 2.82s\tremaining: 705ms\n",
            "120:\tlearn: 0.2900790\ttest: 0.2815127\tbest: 0.2815127 (120)\ttotal: 2.84s\tremaining: 681ms\n",
            "121:\tlearn: 0.2900097\ttest: 0.2813928\tbest: 0.2813928 (121)\ttotal: 2.87s\tremaining: 658ms\n",
            "122:\tlearn: 0.2899066\ttest: 0.2812540\tbest: 0.2812540 (122)\ttotal: 2.89s\tremaining: 635ms\n",
            "123:\tlearn: 0.2898491\ttest: 0.2811697\tbest: 0.2811697 (123)\ttotal: 2.92s\tremaining: 611ms\n",
            "124:\tlearn: 0.2897425\ttest: 0.2810236\tbest: 0.2810236 (124)\ttotal: 2.94s\tremaining: 587ms\n",
            "125:\tlearn: 0.2896303\ttest: 0.2808815\tbest: 0.2808815 (125)\ttotal: 2.96s\tremaining: 564ms\n",
            "126:\tlearn: 0.2895675\ttest: 0.2807812\tbest: 0.2807812 (126)\ttotal: 2.98s\tremaining: 540ms\n",
            "127:\tlearn: 0.2894881\ttest: 0.2806780\tbest: 0.2806780 (127)\ttotal: 3.01s\tremaining: 518ms\n",
            "128:\tlearn: 0.2894275\ttest: 0.2805839\tbest: 0.2805839 (128)\ttotal: 3.04s\tremaining: 494ms\n",
            "129:\tlearn: 0.2893310\ttest: 0.2804654\tbest: 0.2804654 (129)\ttotal: 3.06s\tremaining: 471ms\n",
            "130:\tlearn: 0.2892861\ttest: 0.2804164\tbest: 0.2804164 (130)\ttotal: 3.08s\tremaining: 447ms\n",
            "131:\tlearn: 0.2892330\ttest: 0.2803403\tbest: 0.2803403 (131)\ttotal: 3.1s\tremaining: 423ms\n",
            "132:\tlearn: 0.2891579\ttest: 0.2802491\tbest: 0.2802491 (132)\ttotal: 3.13s\tremaining: 400ms\n",
            "133:\tlearn: 0.2891095\ttest: 0.2801715\tbest: 0.2801715 (133)\ttotal: 3.15s\tremaining: 376ms\n",
            "134:\tlearn: 0.2890603\ttest: 0.2801000\tbest: 0.2801000 (134)\ttotal: 3.17s\tremaining: 352ms\n",
            "135:\tlearn: 0.2890035\ttest: 0.2800226\tbest: 0.2800226 (135)\ttotal: 3.19s\tremaining: 328ms\n",
            "136:\tlearn: 0.2889533\ttest: 0.2799474\tbest: 0.2799474 (136)\ttotal: 3.21s\tremaining: 305ms\n",
            "137:\tlearn: 0.2888995\ttest: 0.2798647\tbest: 0.2798647 (137)\ttotal: 3.23s\tremaining: 281ms\n",
            "138:\tlearn: 0.2888348\ttest: 0.2797924\tbest: 0.2797924 (138)\ttotal: 3.26s\tremaining: 258ms\n",
            "139:\tlearn: 0.2887859\ttest: 0.2797247\tbest: 0.2797247 (139)\ttotal: 3.29s\tremaining: 235ms\n",
            "140:\tlearn: 0.2887281\ttest: 0.2796506\tbest: 0.2796506 (140)\ttotal: 3.32s\tremaining: 212ms\n",
            "141:\tlearn: 0.2886717\ttest: 0.2795951\tbest: 0.2795951 (141)\ttotal: 3.34s\tremaining: 188ms\n",
            "142:\tlearn: 0.2886437\ttest: 0.2795314\tbest: 0.2795314 (142)\ttotal: 3.37s\tremaining: 165ms\n",
            "143:\tlearn: 0.2886040\ttest: 0.2794607\tbest: 0.2794607 (143)\ttotal: 3.39s\tremaining: 141ms\n",
            "144:\tlearn: 0.2885579\ttest: 0.2793936\tbest: 0.2793936 (144)\ttotal: 3.42s\tremaining: 118ms\n",
            "145:\tlearn: 0.2884768\ttest: 0.2792944\tbest: 0.2792944 (145)\ttotal: 3.45s\tremaining: 94.4ms\n",
            "146:\tlearn: 0.2884292\ttest: 0.2792305\tbest: 0.2792305 (146)\ttotal: 3.48s\tremaining: 70.9ms\n",
            "147:\tlearn: 0.2883438\ttest: 0.2791392\tbest: 0.2791392 (147)\ttotal: 3.5s\tremaining: 47.3ms\n",
            "148:\tlearn: 0.2883011\ttest: 0.2790930\tbest: 0.2790930 (148)\ttotal: 3.53s\tremaining: 23.7ms\n",
            "149:\tlearn: 0.2882588\ttest: 0.2790423\tbest: 0.2790423 (149)\ttotal: 3.56s\tremaining: 0us\n",
            "\n",
            "bestTest = 0.2790423236\n",
            "bestIteration = 149\n",
            "\n",
            "0:\tlearn: 0.6271621\ttest: 0.6326792\tbest: 0.6326792 (0)\ttotal: 43.5ms\tremaining: 6.48s\n",
            "1:\tlearn: 0.6161631\ttest: 0.6216655\tbest: 0.6216655 (1)\ttotal: 65.4ms\tremaining: 4.84s\n",
            "2:\tlearn: 0.6057295\ttest: 0.6112505\tbest: 0.6112505 (2)\ttotal: 93.8ms\tremaining: 4.59s\n",
            "3:\tlearn: 0.5957374\ttest: 0.6012758\tbest: 0.6012758 (3)\ttotal: 121ms\tremaining: 4.43s\n",
            "4:\tlearn: 0.5860954\ttest: 0.5916286\tbest: 0.5916286 (4)\ttotal: 147ms\tremaining: 4.25s\n",
            "5:\tlearn: 0.5769146\ttest: 0.5824378\tbest: 0.5824378 (5)\ttotal: 178ms\tremaining: 4.28s\n",
            "6:\tlearn: 0.5680399\ttest: 0.5735420\tbest: 0.5735420 (6)\ttotal: 203ms\tremaining: 4.14s\n",
            "7:\tlearn: 0.5596668\ttest: 0.5651575\tbest: 0.5651575 (7)\ttotal: 223ms\tremaining: 3.95s\n",
            "8:\tlearn: 0.5517103\ttest: 0.5571869\tbest: 0.5571869 (8)\ttotal: 255ms\tremaining: 3.99s\n",
            "9:\tlearn: 0.5440168\ttest: 0.5494801\tbest: 0.5494801 (9)\ttotal: 275ms\tremaining: 3.85s\n",
            "10:\tlearn: 0.5366476\ttest: 0.5421002\tbest: 0.5421002 (10)\ttotal: 296ms\tremaining: 3.74s\n",
            "11:\tlearn: 0.5297301\ttest: 0.5351584\tbest: 0.5351584 (11)\ttotal: 330ms\tremaining: 3.79s\n",
            "12:\tlearn: 0.5231389\ttest: 0.5285395\tbest: 0.5285395 (12)\ttotal: 349ms\tremaining: 3.68s\n",
            "13:\tlearn: 0.5168634\ttest: 0.5222387\tbest: 0.5222387 (13)\ttotal: 369ms\tremaining: 3.59s\n",
            "14:\tlearn: 0.5107927\ttest: 0.5161245\tbest: 0.5161245 (14)\ttotal: 400ms\tremaining: 3.6s\n",
            "15:\tlearn: 0.5051052\ttest: 0.5104063\tbest: 0.5104063 (15)\ttotal: 418ms\tremaining: 3.5s\n",
            "16:\tlearn: 0.4996906\ttest: 0.5049559\tbest: 0.5049559 (16)\ttotal: 438ms\tremaining: 3.43s\n",
            "17:\tlearn: 0.4945062\ttest: 0.4997399\tbest: 0.4997399 (17)\ttotal: 459ms\tremaining: 3.37s\n",
            "18:\tlearn: 0.4895714\ttest: 0.4947585\tbest: 0.4947585 (18)\ttotal: 480ms\tremaining: 3.31s\n",
            "19:\tlearn: 0.4848292\ttest: 0.4899955\tbest: 0.4899955 (19)\ttotal: 503ms\tremaining: 3.27s\n",
            "20:\tlearn: 0.4804102\ttest: 0.4855315\tbest: 0.4855315 (20)\ttotal: 526ms\tremaining: 3.23s\n",
            "21:\tlearn: 0.4717293\ttest: 0.4768060\tbest: 0.4768060 (21)\ttotal: 550ms\tremaining: 3.2s\n",
            "22:\tlearn: 0.4633052\ttest: 0.4682620\tbest: 0.4682620 (22)\ttotal: 575ms\tremaining: 3.17s\n",
            "23:\tlearn: 0.4552505\ttest: 0.4600948\tbest: 0.4600948 (23)\ttotal: 609ms\tremaining: 3.19s\n",
            "24:\tlearn: 0.4475347\ttest: 0.4522148\tbest: 0.4522148 (24)\ttotal: 638ms\tremaining: 3.19s\n",
            "25:\tlearn: 0.4401863\ttest: 0.4447063\tbest: 0.4447063 (25)\ttotal: 661ms\tremaining: 3.15s\n",
            "26:\tlearn: 0.4332415\ttest: 0.4376006\tbest: 0.4376006 (26)\ttotal: 684ms\tremaining: 3.12s\n",
            "27:\tlearn: 0.4264251\ttest: 0.4306152\tbest: 0.4306152 (27)\ttotal: 707ms\tremaining: 3.08s\n",
            "28:\tlearn: 0.4199979\ttest: 0.4240201\tbest: 0.4240201 (28)\ttotal: 730ms\tremaining: 3.04s\n",
            "29:\tlearn: 0.4137807\ttest: 0.4175840\tbest: 0.4175840 (29)\ttotal: 752ms\tremaining: 3.01s\n",
            "30:\tlearn: 0.4078186\ttest: 0.4114481\tbest: 0.4114481 (30)\ttotal: 774ms\tremaining: 2.97s\n",
            "31:\tlearn: 0.4023966\ttest: 0.4058716\tbest: 0.4058716 (31)\ttotal: 796ms\tremaining: 2.94s\n",
            "32:\tlearn: 0.3971554\ttest: 0.4003936\tbest: 0.4003936 (32)\ttotal: 824ms\tremaining: 2.92s\n",
            "33:\tlearn: 0.3919990\ttest: 0.3950908\tbest: 0.3950908 (33)\ttotal: 845ms\tremaining: 2.88s\n",
            "34:\tlearn: 0.3870259\ttest: 0.3899138\tbest: 0.3899138 (34)\ttotal: 869ms\tremaining: 2.85s\n",
            "35:\tlearn: 0.3821813\ttest: 0.3848463\tbest: 0.3848463 (35)\ttotal: 905ms\tremaining: 2.86s\n",
            "36:\tlearn: 0.3778353\ttest: 0.3803016\tbest: 0.3803016 (36)\ttotal: 931ms\tremaining: 2.84s\n",
            "37:\tlearn: 0.3733863\ttest: 0.3756376\tbest: 0.3756376 (37)\ttotal: 952ms\tremaining: 2.81s\n",
            "38:\tlearn: 0.3692444\ttest: 0.3712901\tbest: 0.3712901 (38)\ttotal: 974ms\tremaining: 2.77s\n",
            "39:\tlearn: 0.3651500\ttest: 0.3669192\tbest: 0.3669192 (39)\ttotal: 996ms\tremaining: 2.74s\n",
            "40:\tlearn: 0.3613604\ttest: 0.3628693\tbest: 0.3628693 (40)\ttotal: 1.03s\tremaining: 2.75s\n",
            "41:\tlearn: 0.3577283\ttest: 0.3589981\tbest: 0.3589981 (41)\ttotal: 1.06s\tremaining: 2.72s\n",
            "42:\tlearn: 0.3542678\ttest: 0.3552987\tbest: 0.3552987 (42)\ttotal: 1.08s\tremaining: 2.68s\n",
            "43:\tlearn: 0.3508955\ttest: 0.3516460\tbest: 0.3516460 (43)\ttotal: 1.1s\tremaining: 2.65s\n",
            "44:\tlearn: 0.3477905\ttest: 0.3482918\tbest: 0.3482918 (44)\ttotal: 1.12s\tremaining: 2.62s\n",
            "45:\tlearn: 0.3448741\ttest: 0.3451084\tbest: 0.3451084 (45)\ttotal: 1.15s\tremaining: 2.59s\n",
            "46:\tlearn: 0.3420777\ttest: 0.3420706\tbest: 0.3420706 (46)\ttotal: 1.17s\tremaining: 2.56s\n",
            "47:\tlearn: 0.3393433\ttest: 0.3391014\tbest: 0.3391014 (47)\ttotal: 1.19s\tremaining: 2.54s\n",
            "48:\tlearn: 0.3369010\ttest: 0.3364733\tbest: 0.3364733 (48)\ttotal: 1.21s\tremaining: 2.5s\n",
            "49:\tlearn: 0.3345484\ttest: 0.3339158\tbest: 0.3339158 (49)\ttotal: 1.24s\tremaining: 2.49s\n",
            "50:\tlearn: 0.3323508\ttest: 0.3316559\tbest: 0.3316559 (50)\ttotal: 1.27s\tremaining: 2.46s\n",
            "51:\tlearn: 0.3303558\ttest: 0.3294653\tbest: 0.3294653 (51)\ttotal: 1.28s\tremaining: 2.42s\n",
            "52:\tlearn: 0.3282663\ttest: 0.3271531\tbest: 0.3271531 (52)\ttotal: 1.3s\tremaining: 2.39s\n",
            "53:\tlearn: 0.3262715\ttest: 0.3249550\tbest: 0.3249550 (53)\ttotal: 1.33s\tremaining: 2.36s\n",
            "54:\tlearn: 0.3242760\ttest: 0.3227547\tbest: 0.3227547 (54)\ttotal: 1.35s\tremaining: 2.33s\n",
            "55:\tlearn: 0.3224390\ttest: 0.3206747\tbest: 0.3206747 (55)\ttotal: 1.37s\tremaining: 2.3s\n",
            "56:\tlearn: 0.3207368\ttest: 0.3187390\tbest: 0.3187390 (56)\ttotal: 1.39s\tremaining: 2.27s\n",
            "57:\tlearn: 0.3192131\ttest: 0.3170202\tbest: 0.3170202 (57)\ttotal: 1.41s\tremaining: 2.24s\n",
            "58:\tlearn: 0.3175914\ttest: 0.3152039\tbest: 0.3152039 (58)\ttotal: 1.44s\tremaining: 2.22s\n",
            "59:\tlearn: 0.3162229\ttest: 0.3136521\tbest: 0.3136521 (59)\ttotal: 1.46s\tremaining: 2.2s\n",
            "60:\tlearn: 0.3148488\ttest: 0.3120844\tbest: 0.3120844 (60)\ttotal: 1.49s\tremaining: 2.17s\n",
            "61:\tlearn: 0.3135782\ttest: 0.3105880\tbest: 0.3105880 (61)\ttotal: 1.51s\tremaining: 2.14s\n",
            "62:\tlearn: 0.3123925\ttest: 0.3091937\tbest: 0.3091937 (62)\ttotal: 1.53s\tremaining: 2.11s\n",
            "63:\tlearn: 0.3112726\ttest: 0.3078723\tbest: 0.3078723 (63)\ttotal: 1.55s\tremaining: 2.08s\n",
            "64:\tlearn: 0.3102729\ttest: 0.3067007\tbest: 0.3067007 (64)\ttotal: 1.57s\tremaining: 2.05s\n",
            "65:\tlearn: 0.3092695\ttest: 0.3055129\tbest: 0.3055129 (65)\ttotal: 1.59s\tremaining: 2.02s\n",
            "66:\tlearn: 0.3082555\ttest: 0.3042752\tbest: 0.3042752 (66)\ttotal: 1.61s\tremaining: 1.99s\n",
            "67:\tlearn: 0.3072724\ttest: 0.3031357\tbest: 0.3031357 (67)\ttotal: 1.63s\tremaining: 1.97s\n",
            "68:\tlearn: 0.3063608\ttest: 0.3020695\tbest: 0.3020695 (68)\ttotal: 1.65s\tremaining: 1.94s\n",
            "69:\tlearn: 0.3055066\ttest: 0.3010750\tbest: 0.3010750 (69)\ttotal: 1.68s\tremaining: 1.92s\n",
            "70:\tlearn: 0.3046806\ttest: 0.3000942\tbest: 0.3000942 (70)\ttotal: 1.7s\tremaining: 1.9s\n",
            "71:\tlearn: 0.3038867\ttest: 0.2991465\tbest: 0.2991465 (71)\ttotal: 1.73s\tremaining: 1.87s\n",
            "72:\tlearn: 0.3032332\ttest: 0.2983914\tbest: 0.2983914 (72)\ttotal: 1.75s\tremaining: 1.84s\n",
            "73:\tlearn: 0.3025572\ttest: 0.2975327\tbest: 0.2975327 (73)\ttotal: 1.77s\tremaining: 1.82s\n",
            "74:\tlearn: 0.3018529\ttest: 0.2966905\tbest: 0.2966905 (74)\ttotal: 1.79s\tremaining: 1.79s\n",
            "75:\tlearn: 0.3012254\ttest: 0.2959483\tbest: 0.2959483 (75)\ttotal: 1.81s\tremaining: 1.77s\n",
            "76:\tlearn: 0.3007183\ttest: 0.2952834\tbest: 0.2952834 (76)\ttotal: 1.83s\tremaining: 1.74s\n",
            "77:\tlearn: 0.3001849\ttest: 0.2946234\tbest: 0.2946234 (77)\ttotal: 1.86s\tremaining: 1.71s\n",
            "78:\tlearn: 0.2996955\ttest: 0.2940228\tbest: 0.2940228 (78)\ttotal: 1.88s\tremaining: 1.69s\n",
            "79:\tlearn: 0.2992151\ttest: 0.2934221\tbest: 0.2934221 (79)\ttotal: 1.93s\tremaining: 1.69s\n",
            "80:\tlearn: 0.2986962\ttest: 0.2927541\tbest: 0.2927541 (80)\ttotal: 1.95s\tremaining: 1.66s\n",
            "81:\tlearn: 0.2983008\ttest: 0.2922254\tbest: 0.2922254 (81)\ttotal: 1.97s\tremaining: 1.64s\n",
            "82:\tlearn: 0.2978930\ttest: 0.2917141\tbest: 0.2917141 (82)\ttotal: 2s\tremaining: 1.61s\n",
            "83:\tlearn: 0.2974973\ttest: 0.2912052\tbest: 0.2912052 (83)\ttotal: 2.02s\tremaining: 1.59s\n",
            "84:\tlearn: 0.2970410\ttest: 0.2906483\tbest: 0.2906483 (84)\ttotal: 2.04s\tremaining: 1.56s\n",
            "85:\tlearn: 0.2966263\ttest: 0.2901508\tbest: 0.2901508 (85)\ttotal: 2.06s\tremaining: 1.53s\n",
            "86:\tlearn: 0.2962098\ttest: 0.2896668\tbest: 0.2896668 (86)\ttotal: 2.08s\tremaining: 1.51s\n",
            "87:\tlearn: 0.2959279\ttest: 0.2892656\tbest: 0.2892656 (87)\ttotal: 2.1s\tremaining: 1.48s\n",
            "88:\tlearn: 0.2956086\ttest: 0.2888548\tbest: 0.2888548 (88)\ttotal: 2.13s\tremaining: 1.46s\n",
            "89:\tlearn: 0.2952667\ttest: 0.2884065\tbest: 0.2884065 (89)\ttotal: 2.15s\tremaining: 1.44s\n",
            "90:\tlearn: 0.2949491\ttest: 0.2880104\tbest: 0.2880104 (90)\ttotal: 2.17s\tremaining: 1.41s\n",
            "91:\tlearn: 0.2946405\ttest: 0.2876363\tbest: 0.2876363 (91)\ttotal: 2.19s\tremaining: 1.38s\n",
            "92:\tlearn: 0.2943517\ttest: 0.2872477\tbest: 0.2872477 (92)\ttotal: 2.22s\tremaining: 1.36s\n",
            "93:\tlearn: 0.2940835\ttest: 0.2868794\tbest: 0.2868794 (93)\ttotal: 2.24s\tremaining: 1.33s\n",
            "94:\tlearn: 0.2937851\ttest: 0.2865541\tbest: 0.2865541 (94)\ttotal: 2.26s\tremaining: 1.31s\n",
            "95:\tlearn: 0.2935784\ttest: 0.2862611\tbest: 0.2862611 (95)\ttotal: 2.28s\tremaining: 1.28s\n",
            "96:\tlearn: 0.2933563\ttest: 0.2859843\tbest: 0.2859843 (96)\ttotal: 2.31s\tremaining: 1.26s\n",
            "97:\tlearn: 0.2931746\ttest: 0.2857437\tbest: 0.2857437 (97)\ttotal: 2.33s\tremaining: 1.23s\n",
            "98:\tlearn: 0.2929437\ttest: 0.2854188\tbest: 0.2854188 (98)\ttotal: 2.35s\tremaining: 1.21s\n",
            "99:\tlearn: 0.2927622\ttest: 0.2851723\tbest: 0.2851723 (99)\ttotal: 2.38s\tremaining: 1.19s\n",
            "100:\tlearn: 0.2925866\ttest: 0.2849222\tbest: 0.2849222 (100)\ttotal: 2.4s\tremaining: 1.16s\n",
            "101:\tlearn: 0.2924416\ttest: 0.2847245\tbest: 0.2847245 (101)\ttotal: 2.42s\tremaining: 1.14s\n",
            "102:\tlearn: 0.2922407\ttest: 0.2844750\tbest: 0.2844750 (102)\ttotal: 2.44s\tremaining: 1.11s\n",
            "103:\tlearn: 0.2920730\ttest: 0.2842758\tbest: 0.2842758 (103)\ttotal: 2.46s\tremaining: 1.09s\n",
            "104:\tlearn: 0.2919286\ttest: 0.2840718\tbest: 0.2840718 (104)\ttotal: 2.48s\tremaining: 1.06s\n",
            "105:\tlearn: 0.2917592\ttest: 0.2838286\tbest: 0.2838286 (105)\ttotal: 2.51s\tremaining: 1.04s\n",
            "106:\tlearn: 0.2915580\ttest: 0.2835720\tbest: 0.2835720 (106)\ttotal: 2.53s\tremaining: 1.02s\n",
            "107:\tlearn: 0.2914361\ttest: 0.2834063\tbest: 0.2834063 (107)\ttotal: 2.55s\tremaining: 992ms\n",
            "108:\tlearn: 0.2912842\ttest: 0.2832017\tbest: 0.2832017 (108)\ttotal: 2.58s\tremaining: 969ms\n",
            "109:\tlearn: 0.2911613\ttest: 0.2830423\tbest: 0.2830423 (109)\ttotal: 2.6s\tremaining: 944ms\n",
            "110:\tlearn: 0.2910416\ttest: 0.2828694\tbest: 0.2828694 (110)\ttotal: 2.62s\tremaining: 922ms\n",
            "111:\tlearn: 0.2909271\ttest: 0.2826713\tbest: 0.2826713 (111)\ttotal: 2.65s\tremaining: 898ms\n",
            "112:\tlearn: 0.2908388\ttest: 0.2825160\tbest: 0.2825160 (112)\ttotal: 2.67s\tremaining: 874ms\n",
            "113:\tlearn: 0.2907117\ttest: 0.2823449\tbest: 0.2823449 (113)\ttotal: 2.69s\tremaining: 849ms\n",
            "114:\tlearn: 0.2906134\ttest: 0.2822154\tbest: 0.2822154 (114)\ttotal: 2.71s\tremaining: 826ms\n",
            "115:\tlearn: 0.2905267\ttest: 0.2820949\tbest: 0.2820949 (115)\ttotal: 2.73s\tremaining: 801ms\n",
            "116:\tlearn: 0.2904642\ttest: 0.2819851\tbest: 0.2819851 (116)\ttotal: 2.75s\tremaining: 777ms\n",
            "117:\tlearn: 0.2903996\ttest: 0.2818730\tbest: 0.2818730 (117)\ttotal: 2.78s\tremaining: 753ms\n",
            "118:\tlearn: 0.2903196\ttest: 0.2817342\tbest: 0.2817342 (118)\ttotal: 2.8s\tremaining: 730ms\n",
            "119:\tlearn: 0.2902482\ttest: 0.2816335\tbest: 0.2816335 (119)\ttotal: 2.82s\tremaining: 705ms\n",
            "120:\tlearn: 0.2901716\ttest: 0.2815178\tbest: 0.2815178 (120)\ttotal: 2.84s\tremaining: 681ms\n",
            "121:\tlearn: 0.2901086\ttest: 0.2814304\tbest: 0.2814304 (121)\ttotal: 2.86s\tremaining: 657ms\n",
            "122:\tlearn: 0.2900319\ttest: 0.2813008\tbest: 0.2813008 (122)\ttotal: 2.88s\tremaining: 633ms\n",
            "123:\tlearn: 0.2899628\ttest: 0.2812036\tbest: 0.2812036 (123)\ttotal: 2.91s\tremaining: 609ms\n",
            "124:\tlearn: 0.2898819\ttest: 0.2810789\tbest: 0.2810789 (124)\ttotal: 2.94s\tremaining: 588ms\n",
            "125:\tlearn: 0.2897921\ttest: 0.2809676\tbest: 0.2809676 (125)\ttotal: 2.96s\tremaining: 564ms\n",
            "126:\tlearn: 0.2897179\ttest: 0.2808664\tbest: 0.2808664 (126)\ttotal: 2.99s\tremaining: 541ms\n",
            "127:\tlearn: 0.2896693\ttest: 0.2807914\tbest: 0.2807914 (127)\ttotal: 3.02s\tremaining: 519ms\n",
            "128:\tlearn: 0.2896103\ttest: 0.2806975\tbest: 0.2806975 (128)\ttotal: 3.05s\tremaining: 496ms\n",
            "129:\tlearn: 0.2895124\ttest: 0.2805779\tbest: 0.2805779 (129)\ttotal: 3.07s\tremaining: 472ms\n",
            "130:\tlearn: 0.2894690\ttest: 0.2805291\tbest: 0.2805291 (130)\ttotal: 3.09s\tremaining: 448ms\n",
            "131:\tlearn: 0.2894146\ttest: 0.2804513\tbest: 0.2804513 (131)\ttotal: 3.11s\tremaining: 424ms\n",
            "132:\tlearn: 0.2893428\ttest: 0.2803520\tbest: 0.2803520 (132)\ttotal: 3.13s\tremaining: 400ms\n",
            "133:\tlearn: 0.2892780\ttest: 0.2802544\tbest: 0.2802544 (133)\ttotal: 3.17s\tremaining: 378ms\n",
            "134:\tlearn: 0.2892328\ttest: 0.2801874\tbest: 0.2801874 (134)\ttotal: 3.19s\tremaining: 355ms\n",
            "135:\tlearn: 0.2891585\ttest: 0.2800853\tbest: 0.2800853 (135)\ttotal: 3.22s\tremaining: 331ms\n",
            "136:\tlearn: 0.2890723\ttest: 0.2799752\tbest: 0.2799752 (136)\ttotal: 3.24s\tremaining: 307ms\n",
            "137:\tlearn: 0.2890201\ttest: 0.2799025\tbest: 0.2799025 (137)\ttotal: 3.26s\tremaining: 284ms\n",
            "138:\tlearn: 0.2889752\ttest: 0.2798341\tbest: 0.2798341 (138)\ttotal: 3.28s\tremaining: 260ms\n",
            "139:\tlearn: 0.2889074\ttest: 0.2797436\tbest: 0.2797436 (139)\ttotal: 3.31s\tremaining: 236ms\n",
            "140:\tlearn: 0.2888428\ttest: 0.2796792\tbest: 0.2796792 (140)\ttotal: 3.33s\tremaining: 212ms\n",
            "141:\tlearn: 0.2887720\ttest: 0.2795929\tbest: 0.2795929 (141)\ttotal: 3.35s\tremaining: 189ms\n",
            "142:\tlearn: 0.2887301\ttest: 0.2795288\tbest: 0.2795288 (142)\ttotal: 3.38s\tremaining: 165ms\n",
            "143:\tlearn: 0.2886914\ttest: 0.2794640\tbest: 0.2794640 (143)\ttotal: 3.4s\tremaining: 142ms\n",
            "144:\tlearn: 0.2886511\ttest: 0.2794072\tbest: 0.2794072 (144)\ttotal: 3.43s\tremaining: 118ms\n",
            "145:\tlearn: 0.2886175\ttest: 0.2793550\tbest: 0.2793550 (145)\ttotal: 3.45s\tremaining: 94.5ms\n",
            "146:\tlearn: 0.2886003\ttest: 0.2793258\tbest: 0.2793258 (146)\ttotal: 3.47s\tremaining: 70.8ms\n",
            "147:\tlearn: 0.2885242\ttest: 0.2792466\tbest: 0.2792466 (147)\ttotal: 3.49s\tremaining: 47.2ms\n",
            "148:\tlearn: 0.2884875\ttest: 0.2791953\tbest: 0.2791953 (148)\ttotal: 3.51s\tremaining: 23.6ms\n",
            "149:\tlearn: 0.2884466\ttest: 0.2791400\tbest: 0.2791400 (149)\ttotal: 3.53s\tremaining: 0us\n",
            "\n",
            "bestTest = 0.2791399883\n",
            "bestIteration = 149\n",
            "\n",
            "0:\tlearn: 0.6271692\ttest: 0.6326864\tbest: 0.6326864 (0)\ttotal: 24.5ms\tremaining: 3.64s\n",
            "1:\tlearn: 0.6161810\ttest: 0.6216826\tbest: 0.6216826 (1)\ttotal: 43.1ms\tremaining: 3.19s\n",
            "2:\tlearn: 0.6057500\ttest: 0.6112703\tbest: 0.6112703 (2)\ttotal: 65.7ms\tremaining: 3.22s\n",
            "3:\tlearn: 0.5957608\ttest: 0.6012988\tbest: 0.6012988 (3)\ttotal: 88.1ms\tremaining: 3.21s\n",
            "4:\tlearn: 0.5861257\ttest: 0.5916586\tbest: 0.5916586 (4)\ttotal: 110ms\tremaining: 3.18s\n",
            "5:\tlearn: 0.5769500\ttest: 0.5824730\tbest: 0.5824730 (5)\ttotal: 133ms\tremaining: 3.19s\n",
            "6:\tlearn: 0.5680799\ttest: 0.5735818\tbest: 0.5735818 (6)\ttotal: 155ms\tremaining: 3.16s\n",
            "7:\tlearn: 0.5597083\ttest: 0.5651987\tbest: 0.5651987 (7)\ttotal: 174ms\tremaining: 3.1s\n",
            "8:\tlearn: 0.5517520\ttest: 0.5572283\tbest: 0.5572283 (8)\ttotal: 191ms\tremaining: 3s\n",
            "9:\tlearn: 0.5440630\ttest: 0.5495260\tbest: 0.5495260 (9)\ttotal: 211ms\tremaining: 2.95s\n",
            "10:\tlearn: 0.5366982\ttest: 0.5421507\tbest: 0.5421507 (10)\ttotal: 231ms\tremaining: 2.92s\n",
            "11:\tlearn: 0.5297812\ttest: 0.5352088\tbest: 0.5352088 (11)\ttotal: 251ms\tremaining: 2.89s\n",
            "12:\tlearn: 0.5231893\ttest: 0.5285894\tbest: 0.5285894 (12)\ttotal: 273ms\tremaining: 2.87s\n",
            "13:\tlearn: 0.5169132\ttest: 0.5222878\tbest: 0.5222878 (13)\ttotal: 302ms\tremaining: 2.93s\n",
            "14:\tlearn: 0.5108448\ttest: 0.5161764\tbest: 0.5161764 (14)\ttotal: 323ms\tremaining: 2.9s\n",
            "15:\tlearn: 0.5051564\ttest: 0.5104572\tbest: 0.5104572 (15)\ttotal: 341ms\tremaining: 2.85s\n",
            "16:\tlearn: 0.4997418\ttest: 0.5050064\tbest: 0.5050064 (16)\ttotal: 360ms\tremaining: 2.82s\n",
            "17:\tlearn: 0.4945575\ttest: 0.4997907\tbest: 0.4997907 (17)\ttotal: 384ms\tremaining: 2.81s\n",
            "18:\tlearn: 0.4896221\ttest: 0.4948088\tbest: 0.4948088 (18)\ttotal: 414ms\tremaining: 2.85s\n",
            "19:\tlearn: 0.4848806\ttest: 0.4900460\tbest: 0.4900460 (19)\ttotal: 439ms\tremaining: 2.85s\n",
            "20:\tlearn: 0.4804609\ttest: 0.4855814\tbest: 0.4855814 (20)\ttotal: 460ms\tremaining: 2.82s\n",
            "21:\tlearn: 0.4717818\ttest: 0.4768578\tbest: 0.4768578 (21)\ttotal: 481ms\tremaining: 2.8s\n",
            "22:\tlearn: 0.4633616\ttest: 0.4683176\tbest: 0.4683176 (22)\ttotal: 509ms\tremaining: 2.81s\n",
            "23:\tlearn: 0.4553080\ttest: 0.4601516\tbest: 0.4601516 (23)\ttotal: 530ms\tremaining: 2.78s\n",
            "24:\tlearn: 0.4475933\ttest: 0.4522727\tbest: 0.4522727 (24)\ttotal: 552ms\tremaining: 2.76s\n",
            "25:\tlearn: 0.4402458\ttest: 0.4447654\tbest: 0.4447654 (25)\ttotal: 574ms\tremaining: 2.74s\n",
            "26:\tlearn: 0.4333004\ttest: 0.4376592\tbest: 0.4376592 (26)\ttotal: 595ms\tremaining: 2.71s\n",
            "27:\tlearn: 0.4264843\ttest: 0.4306743\tbest: 0.4306743 (27)\ttotal: 616ms\tremaining: 2.68s\n",
            "28:\tlearn: 0.4200574\ttest: 0.4240797\tbest: 0.4240797 (28)\ttotal: 638ms\tremaining: 2.66s\n",
            "29:\tlearn: 0.4138401\ttest: 0.4176438\tbest: 0.4176438 (29)\ttotal: 662ms\tremaining: 2.65s\n",
            "30:\tlearn: 0.4078781\ttest: 0.4115083\tbest: 0.4115083 (30)\ttotal: 683ms\tremaining: 2.62s\n",
            "31:\tlearn: 0.4024557\ttest: 0.4059312\tbest: 0.4059312 (31)\ttotal: 704ms\tremaining: 2.6s\n",
            "32:\tlearn: 0.3972141\ttest: 0.4004530\tbest: 0.4004530 (32)\ttotal: 739ms\tremaining: 2.62s\n",
            "33:\tlearn: 0.3920563\ttest: 0.3951491\tbest: 0.3951491 (33)\ttotal: 764ms\tremaining: 2.61s\n",
            "34:\tlearn: 0.3870827\ttest: 0.3899717\tbest: 0.3899717 (34)\ttotal: 784ms\tremaining: 2.58s\n",
            "35:\tlearn: 0.3822378\ttest: 0.3849042\tbest: 0.3849042 (35)\ttotal: 808ms\tremaining: 2.56s\n",
            "36:\tlearn: 0.3778907\ttest: 0.3803582\tbest: 0.3803582 (36)\ttotal: 830ms\tremaining: 2.53s\n",
            "37:\tlearn: 0.3734426\ttest: 0.3756952\tbest: 0.3756952 (37)\ttotal: 854ms\tremaining: 2.52s\n",
            "38:\tlearn: 0.3693009\ttest: 0.3713483\tbest: 0.3713483 (38)\ttotal: 875ms\tremaining: 2.49s\n",
            "39:\tlearn: 0.3652070\ttest: 0.3669782\tbest: 0.3669782 (39)\ttotal: 899ms\tremaining: 2.47s\n",
            "40:\tlearn: 0.3614165\ttest: 0.3629276\tbest: 0.3629276 (40)\ttotal: 926ms\tremaining: 2.46s\n",
            "41:\tlearn: 0.3577835\ttest: 0.3590557\tbest: 0.3590557 (41)\ttotal: 955ms\tremaining: 2.46s\n",
            "42:\tlearn: 0.3543228\ttest: 0.3553563\tbest: 0.3553563 (42)\ttotal: 976ms\tremaining: 2.43s\n",
            "43:\tlearn: 0.3509505\ttest: 0.3517039\tbest: 0.3517039 (43)\ttotal: 997ms\tremaining: 2.4s\n",
            "44:\tlearn: 0.3478438\ttest: 0.3483482\tbest: 0.3483482 (44)\ttotal: 1.02s\tremaining: 2.38s\n",
            "45:\tlearn: 0.3449261\ttest: 0.3451636\tbest: 0.3451636 (45)\ttotal: 1.04s\tremaining: 2.35s\n",
            "46:\tlearn: 0.3421285\ttest: 0.3421248\tbest: 0.3421248 (46)\ttotal: 1.06s\tremaining: 2.33s\n",
            "47:\tlearn: 0.3393931\ttest: 0.3391547\tbest: 0.3391547 (47)\ttotal: 1.08s\tremaining: 2.31s\n",
            "48:\tlearn: 0.3369491\ttest: 0.3365251\tbest: 0.3365251 (48)\ttotal: 1.1s\tremaining: 2.28s\n",
            "49:\tlearn: 0.3345948\ttest: 0.3339661\tbest: 0.3339661 (49)\ttotal: 1.13s\tremaining: 2.25s\n",
            "50:\tlearn: 0.3323958\ttest: 0.3317048\tbest: 0.3317048 (50)\ttotal: 1.15s\tremaining: 2.23s\n",
            "51:\tlearn: 0.3303990\ttest: 0.3295124\tbest: 0.3295124 (51)\ttotal: 1.17s\tremaining: 2.21s\n",
            "52:\tlearn: 0.3283081\ttest: 0.3271989\tbest: 0.3271989 (52)\ttotal: 1.2s\tremaining: 2.2s\n",
            "53:\tlearn: 0.3263122\ttest: 0.3249999\tbest: 0.3249999 (53)\ttotal: 1.22s\tremaining: 2.18s\n",
            "54:\tlearn: 0.3243164\ttest: 0.3227993\tbest: 0.3227993 (54)\ttotal: 1.25s\tremaining: 2.15s\n",
            "55:\tlearn: 0.3224783\ttest: 0.3207183\tbest: 0.3207183 (55)\ttotal: 1.26s\tremaining: 2.12s\n",
            "56:\tlearn: 0.3207749\ttest: 0.3187815\tbest: 0.3187815 (56)\ttotal: 1.29s\tremaining: 2.1s\n",
            "57:\tlearn: 0.3192501\ttest: 0.3170616\tbest: 0.3170616 (57)\ttotal: 1.31s\tremaining: 2.08s\n",
            "58:\tlearn: 0.3176278\ttest: 0.3152450\tbest: 0.3152450 (58)\ttotal: 1.33s\tremaining: 2.05s\n",
            "59:\tlearn: 0.3162588\ttest: 0.3136927\tbest: 0.3136927 (59)\ttotal: 1.35s\tremaining: 2.03s\n",
            "60:\tlearn: 0.3148841\ttest: 0.3121244\tbest: 0.3121244 (60)\ttotal: 1.37s\tremaining: 2s\n",
            "61:\tlearn: 0.3136122\ttest: 0.3106267\tbest: 0.3106267 (61)\ttotal: 1.4s\tremaining: 1.99s\n",
            "62:\tlearn: 0.3124253\ttest: 0.3092313\tbest: 0.3092313 (62)\ttotal: 1.44s\tremaining: 1.99s\n",
            "63:\tlearn: 0.3113041\ttest: 0.3079086\tbest: 0.3079086 (63)\ttotal: 1.47s\tremaining: 1.97s\n",
            "64:\tlearn: 0.3103037\ttest: 0.3067361\tbest: 0.3067361 (64)\ttotal: 1.49s\tremaining: 1.95s\n",
            "65:\tlearn: 0.3092992\ttest: 0.3055471\tbest: 0.3055471 (65)\ttotal: 1.51s\tremaining: 1.92s\n",
            "66:\tlearn: 0.3082842\ttest: 0.3043085\tbest: 0.3043085 (66)\ttotal: 1.53s\tremaining: 1.9s\n",
            "67:\tlearn: 0.3073007\ttest: 0.3031687\tbest: 0.3031687 (67)\ttotal: 1.55s\tremaining: 1.87s\n",
            "68:\tlearn: 0.3063885\ttest: 0.3021018\tbest: 0.3021018 (68)\ttotal: 1.57s\tremaining: 1.85s\n",
            "69:\tlearn: 0.3055335\ttest: 0.3011065\tbest: 0.3011065 (69)\ttotal: 1.59s\tremaining: 1.82s\n",
            "70:\tlearn: 0.3047070\ttest: 0.3001252\tbest: 0.3001252 (70)\ttotal: 1.62s\tremaining: 1.8s\n",
            "71:\tlearn: 0.3039126\ttest: 0.2991770\tbest: 0.2991770 (71)\ttotal: 1.64s\tremaining: 1.78s\n",
            "72:\tlearn: 0.3032584\ttest: 0.2984211\tbest: 0.2984211 (72)\ttotal: 1.66s\tremaining: 1.76s\n",
            "73:\tlearn: 0.3025815\ttest: 0.2975615\tbest: 0.2975615 (73)\ttotal: 1.69s\tremaining: 1.73s\n",
            "74:\tlearn: 0.3018767\ttest: 0.2967187\tbest: 0.2967187 (74)\ttotal: 1.71s\tremaining: 1.71s\n",
            "75:\tlearn: 0.3012486\ttest: 0.2959757\tbest: 0.2959757 (75)\ttotal: 1.73s\tremaining: 1.68s\n",
            "76:\tlearn: 0.3007409\ttest: 0.2953102\tbest: 0.2953102 (76)\ttotal: 1.76s\tremaining: 1.67s\n",
            "77:\tlearn: 0.3002070\ttest: 0.2946496\tbest: 0.2946496 (77)\ttotal: 1.79s\tremaining: 1.65s\n",
            "78:\tlearn: 0.2997170\ttest: 0.2940483\tbest: 0.2940483 (78)\ttotal: 1.81s\tremaining: 1.63s\n",
            "79:\tlearn: 0.2992361\ttest: 0.2934470\tbest: 0.2934470 (79)\ttotal: 1.84s\tremaining: 1.61s\n",
            "80:\tlearn: 0.2987167\ttest: 0.2927784\tbest: 0.2927784 (80)\ttotal: 1.86s\tremaining: 1.58s\n",
            "81:\tlearn: 0.2983210\ttest: 0.2922495\tbest: 0.2922495 (81)\ttotal: 1.88s\tremaining: 1.56s\n",
            "82:\tlearn: 0.2979128\ttest: 0.2917377\tbest: 0.2917377 (82)\ttotal: 1.9s\tremaining: 1.54s\n",
            "83:\tlearn: 0.2975169\ttest: 0.2912283\tbest: 0.2912283 (83)\ttotal: 1.92s\tremaining: 1.51s\n",
            "84:\tlearn: 0.2970605\ttest: 0.2906713\tbest: 0.2906713 (84)\ttotal: 1.95s\tremaining: 1.49s\n",
            "85:\tlearn: 0.2966454\ttest: 0.2901732\tbest: 0.2901732 (85)\ttotal: 1.97s\tremaining: 1.46s\n",
            "86:\tlearn: 0.2962285\ttest: 0.2896887\tbest: 0.2896887 (86)\ttotal: 1.99s\tremaining: 1.44s\n",
            "87:\tlearn: 0.2959466\ttest: 0.2892879\tbest: 0.2892879 (87)\ttotal: 2.01s\tremaining: 1.42s\n",
            "88:\tlearn: 0.2956269\ttest: 0.2888766\tbest: 0.2888766 (88)\ttotal: 2.04s\tremaining: 1.4s\n",
            "89:\tlearn: 0.2952846\ttest: 0.2884278\tbest: 0.2884278 (89)\ttotal: 2.07s\tremaining: 1.38s\n",
            "90:\tlearn: 0.2949669\ttest: 0.2880316\tbest: 0.2880316 (90)\ttotal: 2.09s\tremaining: 1.36s\n",
            "91:\tlearn: 0.2946580\ttest: 0.2876571\tbest: 0.2876571 (91)\ttotal: 2.11s\tremaining: 1.33s\n",
            "92:\tlearn: 0.2943688\ttest: 0.2872680\tbest: 0.2872680 (92)\ttotal: 2.13s\tremaining: 1.31s\n",
            "93:\tlearn: 0.2941004\ttest: 0.2868996\tbest: 0.2868996 (93)\ttotal: 2.15s\tremaining: 1.28s\n",
            "94:\tlearn: 0.2938016\ttest: 0.2865737\tbest: 0.2865737 (94)\ttotal: 2.18s\tremaining: 1.26s\n",
            "95:\tlearn: 0.2935949\ttest: 0.2862805\tbest: 0.2862805 (95)\ttotal: 2.2s\tremaining: 1.24s\n",
            "96:\tlearn: 0.2933726\ttest: 0.2860034\tbest: 0.2860034 (96)\ttotal: 2.22s\tremaining: 1.21s\n",
            "97:\tlearn: 0.2931908\ttest: 0.2857628\tbest: 0.2857628 (97)\ttotal: 2.24s\tremaining: 1.19s\n",
            "98:\tlearn: 0.2929597\ttest: 0.2854378\tbest: 0.2854378 (98)\ttotal: 2.26s\tremaining: 1.16s\n",
            "99:\tlearn: 0.2927785\ttest: 0.2851909\tbest: 0.2851909 (99)\ttotal: 2.29s\tremaining: 1.14s\n",
            "100:\tlearn: 0.2926027\ttest: 0.2849405\tbest: 0.2849405 (100)\ttotal: 2.31s\tremaining: 1.12s\n",
            "101:\tlearn: 0.2924575\ttest: 0.2847424\tbest: 0.2847424 (101)\ttotal: 2.33s\tremaining: 1.1s\n",
            "102:\tlearn: 0.2922564\ttest: 0.2844926\tbest: 0.2844926 (102)\ttotal: 2.35s\tremaining: 1.07s\n",
            "103:\tlearn: 0.2920885\ttest: 0.2842932\tbest: 0.2842932 (103)\ttotal: 2.38s\tremaining: 1.05s\n",
            "104:\tlearn: 0.2919439\ttest: 0.2840889\tbest: 0.2840889 (104)\ttotal: 2.4s\tremaining: 1.03s\n",
            "105:\tlearn: 0.2917743\ttest: 0.2838454\tbest: 0.2838454 (105)\ttotal: 2.42s\tremaining: 1s\n",
            "106:\tlearn: 0.2916310\ttest: 0.2836216\tbest: 0.2836216 (106)\ttotal: 2.45s\tremaining: 986ms\n",
            "107:\tlearn: 0.2914915\ttest: 0.2834392\tbest: 0.2834392 (107)\ttotal: 2.48s\tremaining: 963ms\n",
            "108:\tlearn: 0.2913371\ttest: 0.2832328\tbest: 0.2832328 (108)\ttotal: 2.5s\tremaining: 942ms\n",
            "109:\tlearn: 0.2912158\ttest: 0.2830745\tbest: 0.2830745 (109)\ttotal: 2.53s\tremaining: 919ms\n",
            "110:\tlearn: 0.2910900\ttest: 0.2828996\tbest: 0.2828996 (110)\ttotal: 2.55s\tremaining: 896ms\n",
            "111:\tlearn: 0.2909746\ttest: 0.2827006\tbest: 0.2827006 (111)\ttotal: 2.58s\tremaining: 876ms\n",
            "112:\tlearn: 0.2908862\ttest: 0.2825451\tbest: 0.2825451 (112)\ttotal: 2.6s\tremaining: 852ms\n",
            "113:\tlearn: 0.2907586\ttest: 0.2823740\tbest: 0.2823740 (113)\ttotal: 2.62s\tremaining: 828ms\n",
            "114:\tlearn: 0.2906607\ttest: 0.2822448\tbest: 0.2822448 (114)\ttotal: 2.64s\tremaining: 805ms\n",
            "115:\tlearn: 0.2905306\ttest: 0.2820953\tbest: 0.2820953 (115)\ttotal: 2.67s\tremaining: 781ms\n",
            "116:\tlearn: 0.2904147\ttest: 0.2819191\tbest: 0.2819191 (116)\ttotal: 2.69s\tremaining: 758ms\n",
            "117:\tlearn: 0.2903162\ttest: 0.2817780\tbest: 0.2817780 (117)\ttotal: 2.71s\tremaining: 736ms\n",
            "118:\tlearn: 0.2902442\ttest: 0.2816546\tbest: 0.2816546 (118)\ttotal: 2.73s\tremaining: 713ms\n",
            "119:\tlearn: 0.2901515\ttest: 0.2815102\tbest: 0.2815102 (119)\ttotal: 2.76s\tremaining: 691ms\n",
            "120:\tlearn: 0.2900672\ttest: 0.2814046\tbest: 0.2814046 (120)\ttotal: 2.78s\tremaining: 667ms\n",
            "121:\tlearn: 0.2899975\ttest: 0.2813111\tbest: 0.2813111 (121)\ttotal: 2.81s\tremaining: 644ms\n",
            "122:\tlearn: 0.2899385\ttest: 0.2812067\tbest: 0.2812067 (122)\ttotal: 2.83s\tremaining: 620ms\n",
            "123:\tlearn: 0.2898583\ttest: 0.2811028\tbest: 0.2811028 (123)\ttotal: 2.85s\tremaining: 597ms\n",
            "124:\tlearn: 0.2897763\ttest: 0.2809788\tbest: 0.2809788 (124)\ttotal: 2.87s\tremaining: 574ms\n",
            "125:\tlearn: 0.2896885\ttest: 0.2808705\tbest: 0.2808705 (125)\ttotal: 2.89s\tremaining: 550ms\n",
            "126:\tlearn: 0.2896170\ttest: 0.2807728\tbest: 0.2807728 (126)\ttotal: 2.93s\tremaining: 531ms\n",
            "127:\tlearn: 0.2895684\ttest: 0.2806981\tbest: 0.2806981 (127)\ttotal: 2.95s\tremaining: 508ms\n",
            "128:\tlearn: 0.2895075\ttest: 0.2806041\tbest: 0.2806041 (128)\ttotal: 2.98s\tremaining: 484ms\n",
            "129:\tlearn: 0.2894467\ttest: 0.2805089\tbest: 0.2805089 (129)\ttotal: 3s\tremaining: 461ms\n",
            "130:\tlearn: 0.2893966\ttest: 0.2804340\tbest: 0.2804340 (130)\ttotal: 3.02s\tremaining: 437ms\n",
            "131:\tlearn: 0.2893411\ttest: 0.2803468\tbest: 0.2803468 (131)\ttotal: 3.04s\tremaining: 414ms\n",
            "132:\tlearn: 0.2892762\ttest: 0.2802491\tbest: 0.2802491 (132)\ttotal: 3.06s\tremaining: 391ms\n",
            "133:\tlearn: 0.2891953\ttest: 0.2801460\tbest: 0.2801460 (133)\ttotal: 3.08s\tremaining: 368ms\n",
            "134:\tlearn: 0.2891178\ttest: 0.2800600\tbest: 0.2800600 (134)\ttotal: 3.11s\tremaining: 345ms\n",
            "135:\tlearn: 0.2890358\ttest: 0.2799584\tbest: 0.2799584 (135)\ttotal: 3.14s\tremaining: 323ms\n",
            "136:\tlearn: 0.2889818\ttest: 0.2798802\tbest: 0.2798802 (136)\ttotal: 3.16s\tremaining: 300ms\n",
            "137:\tlearn: 0.2889473\ttest: 0.2798225\tbest: 0.2798225 (137)\ttotal: 3.18s\tremaining: 277ms\n",
            "138:\tlearn: 0.2888579\ttest: 0.2797251\tbest: 0.2797251 (138)\ttotal: 3.2s\tremaining: 253ms\n",
            "139:\tlearn: 0.2888097\ttest: 0.2796589\tbest: 0.2796589 (139)\ttotal: 3.22s\tremaining: 230ms\n",
            "140:\tlearn: 0.2887521\ttest: 0.2795851\tbest: 0.2795851 (140)\ttotal: 3.25s\tremaining: 207ms\n",
            "141:\tlearn: 0.2886979\ttest: 0.2795326\tbest: 0.2795326 (141)\ttotal: 3.27s\tremaining: 184ms\n",
            "142:\tlearn: 0.2886582\ttest: 0.2794715\tbest: 0.2794715 (142)\ttotal: 3.29s\tremaining: 161ms\n",
            "143:\tlearn: 0.2886199\ttest: 0.2794031\tbest: 0.2794031 (143)\ttotal: 3.31s\tremaining: 138ms\n",
            "144:\tlearn: 0.2885746\ttest: 0.2793371\tbest: 0.2793371 (144)\ttotal: 3.33s\tremaining: 115ms\n",
            "145:\tlearn: 0.2884992\ttest: 0.2792438\tbest: 0.2792438 (145)\ttotal: 3.36s\tremaining: 92ms\n",
            "146:\tlearn: 0.2884493\ttest: 0.2791779\tbest: 0.2791779 (146)\ttotal: 3.38s\tremaining: 69ms\n",
            "147:\tlearn: 0.2883671\ttest: 0.2790900\tbest: 0.2790900 (147)\ttotal: 3.4s\tremaining: 46ms\n",
            "148:\tlearn: 0.2883276\ttest: 0.2790471\tbest: 0.2790471 (148)\ttotal: 3.42s\tremaining: 23ms\n",
            "149:\tlearn: 0.2882421\ttest: 0.2789671\tbest: 0.2789671 (149)\ttotal: 3.46s\tremaining: 0us\n",
            "\n",
            "bestTest = 0.278967142\n",
            "bestIteration = 149\n",
            "\n",
            "0:\tlearn: 0.6271269\ttest: 0.6326443\tbest: 0.6326443 (0)\ttotal: 26.8ms\tremaining: 3.99s\n",
            "1:\tlearn: 0.6161179\ttest: 0.6216631\tbest: 0.6216631 (1)\ttotal: 52.7ms\tremaining: 3.9s\n",
            "2:\tlearn: 0.6056102\ttest: 0.6111744\tbest: 0.6111744 (2)\ttotal: 78.7ms\tremaining: 3.86s\n",
            "3:\tlearn: 0.5954541\ttest: 0.6010169\tbest: 0.6010169 (3)\ttotal: 109ms\tremaining: 3.97s\n",
            "4:\tlearn: 0.5858896\ttest: 0.5914661\tbest: 0.5914661 (4)\ttotal: 129ms\tremaining: 3.73s\n",
            "5:\tlearn: 0.5767054\ttest: 0.5822891\tbest: 0.5822891 (5)\ttotal: 153ms\tremaining: 3.68s\n",
            "6:\tlearn: 0.5678951\ttest: 0.5734860\tbest: 0.5734860 (6)\ttotal: 177ms\tremaining: 3.62s\n",
            "7:\tlearn: 0.5594010\ttest: 0.5649847\tbest: 0.5649847 (7)\ttotal: 204ms\tremaining: 3.62s\n",
            "8:\tlearn: 0.5514296\ttest: 0.5570110\tbest: 0.5570110 (8)\ttotal: 231ms\tremaining: 3.62s\n",
            "9:\tlearn: 0.5438213\ttest: 0.5493862\tbest: 0.5493862 (9)\ttotal: 253ms\tremaining: 3.54s\n",
            "10:\tlearn: 0.5365626\ttest: 0.5421080\tbest: 0.5421080 (10)\ttotal: 277ms\tremaining: 3.5s\n",
            "11:\tlearn: 0.5296396\ttest: 0.5351640\tbest: 0.5351640 (11)\ttotal: 301ms\tremaining: 3.46s\n",
            "12:\tlearn: 0.5230446\ttest: 0.5285509\tbest: 0.5285509 (12)\ttotal: 339ms\tremaining: 3.57s\n",
            "13:\tlearn: 0.5166748\ttest: 0.5221573\tbest: 0.5221573 (13)\ttotal: 363ms\tremaining: 3.53s\n",
            "14:\tlearn: 0.5106393\ttest: 0.5161195\tbest: 0.5161195 (14)\ttotal: 389ms\tremaining: 3.5s\n",
            "15:\tlearn: 0.5048562\ttest: 0.5103288\tbest: 0.5103288 (15)\ttotal: 411ms\tremaining: 3.44s\n",
            "16:\tlearn: 0.4994430\ttest: 0.5048832\tbest: 0.5048832 (16)\ttotal: 430ms\tremaining: 3.36s\n",
            "17:\tlearn: 0.4940889\ttest: 0.4994664\tbest: 0.4994664 (17)\ttotal: 459ms\tremaining: 3.37s\n",
            "18:\tlearn: 0.4889684\ttest: 0.4942651\tbest: 0.4942651 (18)\ttotal: 482ms\tremaining: 3.32s\n",
            "19:\tlearn: 0.4841373\ttest: 0.4893671\tbest: 0.4893671 (19)\ttotal: 505ms\tremaining: 3.28s\n",
            "20:\tlearn: 0.4795959\ttest: 0.4847572\tbest: 0.4847572 (20)\ttotal: 527ms\tremaining: 3.24s\n",
            "21:\tlearn: 0.4753059\ttest: 0.4804133\tbest: 0.4804133 (21)\ttotal: 556ms\tremaining: 3.23s\n",
            "22:\tlearn: 0.4664833\ttest: 0.4714670\tbest: 0.4714670 (22)\ttotal: 581ms\tremaining: 3.21s\n",
            "23:\tlearn: 0.4582432\ttest: 0.4631246\tbest: 0.4631246 (23)\ttotal: 604ms\tremaining: 3.17s\n",
            "24:\tlearn: 0.4503922\ttest: 0.4551618\tbest: 0.4551618 (24)\ttotal: 627ms\tremaining: 3.13s\n",
            "25:\tlearn: 0.4427898\ttest: 0.4473601\tbest: 0.4473601 (25)\ttotal: 651ms\tremaining: 3.1s\n",
            "26:\tlearn: 0.4356797\ttest: 0.4400773\tbest: 0.4400773 (26)\ttotal: 674ms\tremaining: 3.07s\n",
            "27:\tlearn: 0.4285112\ttest: 0.4327235\tbest: 0.4327235 (27)\ttotal: 697ms\tremaining: 3.04s\n",
            "28:\tlearn: 0.4217699\ttest: 0.4258297\tbest: 0.4258297 (28)\ttotal: 721ms\tremaining: 3.01s\n",
            "29:\tlearn: 0.4154378\ttest: 0.4193580\tbest: 0.4193580 (29)\ttotal: 750ms\tremaining: 3s\n",
            "30:\tlearn: 0.4091193\ttest: 0.4128301\tbest: 0.4128301 (30)\ttotal: 778ms\tremaining: 2.99s\n",
            "31:\tlearn: 0.4033207\ttest: 0.4068145\tbest: 0.4068145 (31)\ttotal: 802ms\tremaining: 2.96s\n",
            "32:\tlearn: 0.3976453\ttest: 0.4009055\tbest: 0.4009055 (32)\ttotal: 826ms\tremaining: 2.93s\n",
            "33:\tlearn: 0.3921426\ttest: 0.3951973\tbest: 0.3951973 (33)\ttotal: 851ms\tremaining: 2.9s\n",
            "34:\tlearn: 0.3870209\ttest: 0.3898632\tbest: 0.3898632 (34)\ttotal: 874ms\tremaining: 2.87s\n",
            "35:\tlearn: 0.3823981\ttest: 0.3850277\tbest: 0.3850277 (35)\ttotal: 892ms\tremaining: 2.83s\n",
            "36:\tlearn: 0.3776143\ttest: 0.3800125\tbest: 0.3800125 (36)\ttotal: 916ms\tremaining: 2.8s\n",
            "37:\tlearn: 0.3731886\ttest: 0.3753758\tbest: 0.3753758 (37)\ttotal: 941ms\tremaining: 2.77s\n",
            "38:\tlearn: 0.3689140\ttest: 0.3708799\tbest: 0.3708799 (38)\ttotal: 969ms\tremaining: 2.76s\n",
            "39:\tlearn: 0.3647611\ttest: 0.3664670\tbest: 0.3664670 (39)\ttotal: 1.01s\tremaining: 2.77s\n",
            "40:\tlearn: 0.3608986\ttest: 0.3623903\tbest: 0.3623903 (40)\ttotal: 1.04s\tremaining: 2.77s\n",
            "41:\tlearn: 0.3572452\ttest: 0.3585121\tbest: 0.3585121 (41)\ttotal: 1.07s\tremaining: 2.75s\n",
            "42:\tlearn: 0.3536702\ttest: 0.3546929\tbest: 0.3546929 (42)\ttotal: 1.09s\tremaining: 2.72s\n",
            "43:\tlearn: 0.3503179\ttest: 0.3511077\tbest: 0.3511077 (43)\ttotal: 1.12s\tremaining: 2.69s\n",
            "44:\tlearn: 0.3472773\ttest: 0.3478474\tbest: 0.3478474 (44)\ttotal: 1.14s\tremaining: 2.67s\n",
            "45:\tlearn: 0.3443989\ttest: 0.3447333\tbest: 0.3447333 (45)\ttotal: 1.17s\tremaining: 2.63s\n",
            "46:\tlearn: 0.3413906\ttest: 0.3414699\tbest: 0.3414699 (46)\ttotal: 1.19s\tremaining: 2.6s\n",
            "47:\tlearn: 0.3386471\ttest: 0.3384901\tbest: 0.3384901 (47)\ttotal: 1.22s\tremaining: 2.59s\n",
            "48:\tlearn: 0.3359172\ttest: 0.3355242\tbest: 0.3355242 (48)\ttotal: 1.24s\tremaining: 2.56s\n",
            "49:\tlearn: 0.3333734\ttest: 0.3327380\tbest: 0.3327380 (49)\ttotal: 1.27s\tremaining: 2.54s\n",
            "50:\tlearn: 0.3310437\ttest: 0.3301815\tbest: 0.3301815 (50)\ttotal: 1.29s\tremaining: 2.51s\n",
            "51:\tlearn: 0.3288585\ttest: 0.3279235\tbest: 0.3279235 (51)\ttotal: 1.31s\tremaining: 2.48s\n",
            "52:\tlearn: 0.3267145\ttest: 0.3256902\tbest: 0.3256902 (52)\ttotal: 1.34s\tremaining: 2.45s\n",
            "53:\tlearn: 0.3247861\ttest: 0.3235407\tbest: 0.3235407 (53)\ttotal: 1.36s\tremaining: 2.42s\n",
            "54:\tlearn: 0.3227962\ttest: 0.3213462\tbest: 0.3213462 (54)\ttotal: 1.39s\tremaining: 2.39s\n",
            "55:\tlearn: 0.3210397\ttest: 0.3194886\tbest: 0.3194886 (55)\ttotal: 1.41s\tremaining: 2.37s\n",
            "56:\tlearn: 0.3192590\ttest: 0.3174913\tbest: 0.3174913 (56)\ttotal: 1.44s\tremaining: 2.35s\n",
            "57:\tlearn: 0.3176802\ttest: 0.3157144\tbest: 0.3157144 (57)\ttotal: 1.46s\tremaining: 2.32s\n",
            "58:\tlearn: 0.3161599\ttest: 0.3139890\tbest: 0.3139890 (58)\ttotal: 1.49s\tremaining: 2.29s\n",
            "59:\tlearn: 0.3146323\ttest: 0.3122542\tbest: 0.3122542 (59)\ttotal: 1.51s\tremaining: 2.26s\n",
            "60:\tlearn: 0.3132776\ttest: 0.3107324\tbest: 0.3107324 (60)\ttotal: 1.53s\tremaining: 2.24s\n",
            "61:\tlearn: 0.3119328\ttest: 0.3091693\tbest: 0.3091693 (61)\ttotal: 1.56s\tremaining: 2.21s\n",
            "62:\tlearn: 0.3107228\ttest: 0.3077797\tbest: 0.3077797 (62)\ttotal: 1.59s\tremaining: 2.19s\n",
            "63:\tlearn: 0.3095065\ttest: 0.3063948\tbest: 0.3063948 (63)\ttotal: 1.61s\tremaining: 2.17s\n",
            "64:\tlearn: 0.3083797\ttest: 0.3050901\tbest: 0.3050901 (64)\ttotal: 1.64s\tremaining: 2.14s\n",
            "65:\tlearn: 0.3073710\ttest: 0.3038985\tbest: 0.3038985 (65)\ttotal: 1.67s\tremaining: 2.12s\n",
            "66:\tlearn: 0.3062903\ttest: 0.3026604\tbest: 0.3026604 (66)\ttotal: 1.69s\tremaining: 2.09s\n",
            "67:\tlearn: 0.3053374\ttest: 0.3015672\tbest: 0.3015672 (67)\ttotal: 1.71s\tremaining: 2.07s\n",
            "68:\tlearn: 0.3044071\ttest: 0.3004742\tbest: 0.3004742 (68)\ttotal: 1.74s\tremaining: 2.04s\n",
            "69:\tlearn: 0.3035058\ttest: 0.2994915\tbest: 0.2994915 (69)\ttotal: 1.76s\tremaining: 2.01s\n",
            "70:\tlearn: 0.3026102\ttest: 0.2984364\tbest: 0.2984364 (70)\ttotal: 1.78s\tremaining: 1.98s\n",
            "71:\tlearn: 0.3018224\ttest: 0.2975042\tbest: 0.2975042 (71)\ttotal: 1.81s\tremaining: 1.96s\n",
            "72:\tlearn: 0.3010477\ttest: 0.2965611\tbest: 0.2965611 (72)\ttotal: 1.83s\tremaining: 1.93s\n",
            "73:\tlearn: 0.3004073\ttest: 0.2957811\tbest: 0.2957811 (73)\ttotal: 1.85s\tremaining: 1.9s\n",
            "74:\tlearn: 0.2997007\ttest: 0.2949137\tbest: 0.2949137 (74)\ttotal: 1.88s\tremaining: 1.88s\n",
            "75:\tlearn: 0.2991058\ttest: 0.2942000\tbest: 0.2942000 (75)\ttotal: 1.91s\tremaining: 1.86s\n",
            "76:\tlearn: 0.2985015\ttest: 0.2934306\tbest: 0.2934306 (76)\ttotal: 1.94s\tremaining: 1.84s\n",
            "77:\tlearn: 0.2979445\ttest: 0.2927446\tbest: 0.2927446 (77)\ttotal: 1.96s\tremaining: 1.81s\n",
            "78:\tlearn: 0.2974416\ttest: 0.2921195\tbest: 0.2921195 (78)\ttotal: 1.98s\tremaining: 1.78s\n",
            "79:\tlearn: 0.2969021\ttest: 0.2914641\tbest: 0.2914641 (79)\ttotal: 2.01s\tremaining: 1.76s\n",
            "80:\tlearn: 0.2964970\ttest: 0.2909502\tbest: 0.2909502 (80)\ttotal: 2.04s\tremaining: 1.74s\n",
            "81:\tlearn: 0.2960910\ttest: 0.2904333\tbest: 0.2904333 (81)\ttotal: 2.07s\tremaining: 1.72s\n",
            "82:\tlearn: 0.2956932\ttest: 0.2899048\tbest: 0.2899048 (82)\ttotal: 2.1s\tremaining: 1.7s\n",
            "83:\tlearn: 0.2952695\ttest: 0.2893742\tbest: 0.2893742 (83)\ttotal: 2.13s\tremaining: 1.67s\n",
            "84:\tlearn: 0.2948471\ttest: 0.2888606\tbest: 0.2888606 (84)\ttotal: 2.15s\tremaining: 1.64s\n",
            "85:\tlearn: 0.2944637\ttest: 0.2884089\tbest: 0.2884089 (85)\ttotal: 2.18s\tremaining: 1.63s\n",
            "86:\tlearn: 0.2941336\ttest: 0.2879814\tbest: 0.2879814 (86)\ttotal: 2.21s\tremaining: 1.6s\n",
            "87:\tlearn: 0.2938321\ttest: 0.2875662\tbest: 0.2875662 (87)\ttotal: 2.24s\tremaining: 1.58s\n",
            "88:\tlearn: 0.2934536\ttest: 0.2870845\tbest: 0.2870845 (88)\ttotal: 2.26s\tremaining: 1.55s\n",
            "89:\tlearn: 0.2931181\ttest: 0.2866441\tbest: 0.2866441 (89)\ttotal: 2.29s\tremaining: 1.52s\n",
            "90:\tlearn: 0.2928187\ttest: 0.2862470\tbest: 0.2862470 (90)\ttotal: 2.32s\tremaining: 1.5s\n",
            "91:\tlearn: 0.2924923\ttest: 0.2858123\tbest: 0.2858123 (91)\ttotal: 2.34s\tremaining: 1.48s\n",
            "92:\tlearn: 0.2922618\ttest: 0.2854930\tbest: 0.2854930 (92)\ttotal: 2.37s\tremaining: 1.45s\n",
            "93:\tlearn: 0.2920199\ttest: 0.2851581\tbest: 0.2851581 (93)\ttotal: 2.39s\tremaining: 1.42s\n",
            "94:\tlearn: 0.2917438\ttest: 0.2847692\tbest: 0.2847692 (94)\ttotal: 2.41s\tremaining: 1.4s\n",
            "95:\tlearn: 0.2915000\ttest: 0.2844681\tbest: 0.2844681 (95)\ttotal: 2.44s\tremaining: 1.37s\n",
            "96:\tlearn: 0.2912675\ttest: 0.2841867\tbest: 0.2841867 (96)\ttotal: 2.46s\tremaining: 1.34s\n",
            "97:\tlearn: 0.2910684\ttest: 0.2839215\tbest: 0.2839215 (97)\ttotal: 2.48s\tremaining: 1.32s\n",
            "98:\tlearn: 0.2908655\ttest: 0.2836492\tbest: 0.2836492 (98)\ttotal: 2.51s\tremaining: 1.29s\n",
            "99:\tlearn: 0.2906922\ttest: 0.2834148\tbest: 0.2834148 (99)\ttotal: 2.54s\tremaining: 1.27s\n",
            "100:\tlearn: 0.2905291\ttest: 0.2831895\tbest: 0.2831895 (100)\ttotal: 2.56s\tremaining: 1.24s\n",
            "101:\tlearn: 0.2903507\ttest: 0.2829438\tbest: 0.2829438 (101)\ttotal: 2.58s\tremaining: 1.22s\n",
            "102:\tlearn: 0.2901301\ttest: 0.2826612\tbest: 0.2826612 (102)\ttotal: 2.61s\tremaining: 1.19s\n",
            "103:\tlearn: 0.2899074\ttest: 0.2823931\tbest: 0.2823931 (103)\ttotal: 2.63s\tremaining: 1.16s\n",
            "104:\tlearn: 0.2896947\ttest: 0.2821276\tbest: 0.2821276 (104)\ttotal: 2.66s\tremaining: 1.14s\n",
            "105:\tlearn: 0.2895525\ttest: 0.2819262\tbest: 0.2819262 (105)\ttotal: 2.68s\tremaining: 1.11s\n",
            "106:\tlearn: 0.2894355\ttest: 0.2817587\tbest: 0.2817587 (106)\ttotal: 2.7s\tremaining: 1.09s\n",
            "107:\tlearn: 0.2892865\ttest: 0.2815471\tbest: 0.2815471 (107)\ttotal: 2.73s\tremaining: 1.06s\n",
            "108:\tlearn: 0.2891043\ttest: 0.2812986\tbest: 0.2812986 (108)\ttotal: 2.77s\tremaining: 1.04s\n",
            "109:\tlearn: 0.2890082\ttest: 0.2811593\tbest: 0.2811593 (109)\ttotal: 2.79s\tremaining: 1.01s\n",
            "110:\tlearn: 0.2889281\ttest: 0.2810241\tbest: 0.2810241 (110)\ttotal: 2.81s\tremaining: 989ms\n",
            "111:\tlearn: 0.2887731\ttest: 0.2808246\tbest: 0.2808246 (111)\ttotal: 2.84s\tremaining: 963ms\n",
            "112:\tlearn: 0.2886591\ttest: 0.2806748\tbest: 0.2806748 (112)\ttotal: 2.86s\tremaining: 937ms\n",
            "113:\tlearn: 0.2885496\ttest: 0.2805336\tbest: 0.2805336 (113)\ttotal: 2.88s\tremaining: 911ms\n",
            "114:\tlearn: 0.2884173\ttest: 0.2803420\tbest: 0.2803420 (114)\ttotal: 2.91s\tremaining: 885ms\n",
            "115:\tlearn: 0.2882660\ttest: 0.2801505\tbest: 0.2801505 (115)\ttotal: 2.93s\tremaining: 858ms\n",
            "116:\tlearn: 0.2881465\ttest: 0.2800214\tbest: 0.2800214 (116)\ttotal: 2.95s\tremaining: 833ms\n",
            "117:\tlearn: 0.2880863\ttest: 0.2799352\tbest: 0.2799352 (117)\ttotal: 2.99s\tremaining: 810ms\n",
            "118:\tlearn: 0.2880076\ttest: 0.2798221\tbest: 0.2798221 (118)\ttotal: 3.02s\tremaining: 787ms\n",
            "119:\tlearn: 0.2878803\ttest: 0.2796516\tbest: 0.2796516 (119)\ttotal: 3.06s\tremaining: 765ms\n",
            "120:\tlearn: 0.2877540\ttest: 0.2795029\tbest: 0.2795029 (120)\ttotal: 3.08s\tremaining: 739ms\n",
            "121:\tlearn: 0.2876902\ttest: 0.2793780\tbest: 0.2793780 (121)\ttotal: 3.1s\tremaining: 713ms\n",
            "122:\tlearn: 0.2875783\ttest: 0.2792158\tbest: 0.2792158 (122)\ttotal: 3.13s\tremaining: 687ms\n",
            "123:\tlearn: 0.2874701\ttest: 0.2790664\tbest: 0.2790664 (123)\ttotal: 3.15s\tremaining: 661ms\n",
            "124:\tlearn: 0.2874030\ttest: 0.2789781\tbest: 0.2789781 (124)\ttotal: 3.17s\tremaining: 635ms\n",
            "125:\tlearn: 0.2873116\ttest: 0.2788666\tbest: 0.2788666 (125)\ttotal: 3.21s\tremaining: 611ms\n",
            "126:\tlearn: 0.2872116\ttest: 0.2787308\tbest: 0.2787308 (126)\ttotal: 3.23s\tremaining: 585ms\n",
            "127:\tlearn: 0.2871790\ttest: 0.2786748\tbest: 0.2786748 (127)\ttotal: 3.26s\tremaining: 560ms\n",
            "128:\tlearn: 0.2871040\ttest: 0.2785830\tbest: 0.2785830 (128)\ttotal: 3.28s\tremaining: 535ms\n",
            "129:\tlearn: 0.2870391\ttest: 0.2784968\tbest: 0.2784968 (129)\ttotal: 3.31s\tremaining: 509ms\n",
            "130:\tlearn: 0.2869772\ttest: 0.2784141\tbest: 0.2784141 (130)\ttotal: 3.33s\tremaining: 483ms\n",
            "131:\tlearn: 0.2868915\ttest: 0.2783248\tbest: 0.2783248 (131)\ttotal: 3.36s\tremaining: 458ms\n",
            "132:\tlearn: 0.2868701\ttest: 0.2782810\tbest: 0.2782810 (132)\ttotal: 3.38s\tremaining: 431ms\n",
            "133:\tlearn: 0.2868126\ttest: 0.2781982\tbest: 0.2781982 (133)\ttotal: 3.4s\tremaining: 406ms\n",
            "134:\tlearn: 0.2867454\ttest: 0.2781067\tbest: 0.2781067 (134)\ttotal: 3.43s\tremaining: 381ms\n",
            "135:\tlearn: 0.2866662\ttest: 0.2779864\tbest: 0.2779864 (135)\ttotal: 3.45s\tremaining: 356ms\n",
            "136:\tlearn: 0.2866027\ttest: 0.2779044\tbest: 0.2779044 (136)\ttotal: 3.48s\tremaining: 330ms\n",
            "137:\tlearn: 0.2865763\ttest: 0.2778599\tbest: 0.2778599 (137)\ttotal: 3.5s\tremaining: 304ms\n",
            "138:\tlearn: 0.2865400\ttest: 0.2777978\tbest: 0.2777978 (138)\ttotal: 3.52s\tremaining: 279ms\n",
            "139:\tlearn: 0.2864807\ttest: 0.2777221\tbest: 0.2777221 (139)\ttotal: 3.55s\tremaining: 253ms\n",
            "140:\tlearn: 0.2864292\ttest: 0.2776774\tbest: 0.2776774 (140)\ttotal: 3.57s\tremaining: 228ms\n",
            "141:\tlearn: 0.2863201\ttest: 0.2775795\tbest: 0.2775795 (141)\ttotal: 3.6s\tremaining: 203ms\n",
            "142:\tlearn: 0.2861703\ttest: 0.2774552\tbest: 0.2774552 (142)\ttotal: 3.63s\tremaining: 178ms\n",
            "143:\tlearn: 0.2860263\ttest: 0.2773289\tbest: 0.2773289 (143)\ttotal: 3.66s\tremaining: 152ms\n",
            "144:\tlearn: 0.2859851\ttest: 0.2772708\tbest: 0.2772708 (144)\ttotal: 3.68s\tremaining: 127ms\n",
            "145:\tlearn: 0.2858760\ttest: 0.2771992\tbest: 0.2771992 (145)\ttotal: 3.7s\tremaining: 101ms\n",
            "146:\tlearn: 0.2858468\ttest: 0.2771574\tbest: 0.2771574 (146)\ttotal: 3.73s\tremaining: 76.1ms\n",
            "147:\tlearn: 0.2857084\ttest: 0.2770382\tbest: 0.2770382 (147)\ttotal: 3.75s\tremaining: 50.7ms\n",
            "148:\tlearn: 0.2856159\ttest: 0.2769642\tbest: 0.2769642 (148)\ttotal: 3.77s\tremaining: 25.3ms\n",
            "149:\tlearn: 0.2855034\ttest: 0.2768762\tbest: 0.2768762 (149)\ttotal: 3.8s\tremaining: 0us\n",
            "\n",
            "bestTest = 0.2768762317\n",
            "bestIteration = 149\n",
            "\n",
            "0:\tlearn: 0.6271378\ttest: 0.6326548\tbest: 0.6326548 (0)\ttotal: 28.2ms\tremaining: 4.2s\n",
            "1:\tlearn: 0.6161379\ttest: 0.6216818\tbest: 0.6216818 (1)\ttotal: 55.9ms\tremaining: 4.13s\n",
            "2:\tlearn: 0.6056370\ttest: 0.6111989\tbest: 0.6111989 (2)\ttotal: 83.9ms\tremaining: 4.11s\n",
            "3:\tlearn: 0.5954904\ttest: 0.6010513\tbest: 0.6010513 (3)\ttotal: 106ms\tremaining: 3.86s\n",
            "4:\tlearn: 0.5859272\ttest: 0.5915018\tbest: 0.5915018 (4)\ttotal: 126ms\tremaining: 3.64s\n",
            "5:\tlearn: 0.5767460\ttest: 0.5823275\tbest: 0.5823275 (5)\ttotal: 151ms\tremaining: 3.63s\n",
            "6:\tlearn: 0.5679450\ttest: 0.5735331\tbest: 0.5735331 (6)\ttotal: 174ms\tremaining: 3.55s\n",
            "7:\tlearn: 0.5594594\ttest: 0.5650402\tbest: 0.5650402 (7)\ttotal: 196ms\tremaining: 3.48s\n",
            "8:\tlearn: 0.5514890\ttest: 0.5570676\tbest: 0.5570676 (8)\ttotal: 216ms\tremaining: 3.38s\n",
            "9:\tlearn: 0.5438819\ttest: 0.5494427\tbest: 0.5494427 (9)\ttotal: 240ms\tremaining: 3.36s\n",
            "10:\tlearn: 0.5366235\ttest: 0.5421650\tbest: 0.5421650 (10)\ttotal: 278ms\tremaining: 3.52s\n",
            "11:\tlearn: 0.5297016\ttest: 0.5352208\tbest: 0.5352208 (11)\ttotal: 301ms\tremaining: 3.46s\n",
            "12:\tlearn: 0.5231059\ttest: 0.5286067\tbest: 0.5286067 (12)\ttotal: 329ms\tremaining: 3.46s\n",
            "13:\tlearn: 0.5167393\ttest: 0.5222161\tbest: 0.5222161 (13)\ttotal: 351ms\tremaining: 3.41s\n",
            "14:\tlearn: 0.5107085\ttest: 0.5161807\tbest: 0.5161807 (14)\ttotal: 374ms\tremaining: 3.37s\n",
            "15:\tlearn: 0.5049278\ttest: 0.5103924\tbest: 0.5103924 (15)\ttotal: 409ms\tremaining: 3.42s\n",
            "16:\tlearn: 0.4995128\ttest: 0.5049451\tbest: 0.5049451 (16)\ttotal: 428ms\tremaining: 3.35s\n",
            "17:\tlearn: 0.4941625\ttest: 0.4995324\tbest: 0.4995324 (17)\ttotal: 452ms\tremaining: 3.31s\n",
            "18:\tlearn: 0.4890471\ttest: 0.4943362\tbest: 0.4943362 (18)\ttotal: 476ms\tremaining: 3.28s\n",
            "19:\tlearn: 0.4842190\ttest: 0.4894413\tbest: 0.4894413 (19)\ttotal: 507ms\tremaining: 3.29s\n",
            "20:\tlearn: 0.4796784\ttest: 0.4848326\tbest: 0.4848326 (20)\ttotal: 530ms\tremaining: 3.26s\n",
            "21:\tlearn: 0.4753895\ttest: 0.4804880\tbest: 0.4804880 (21)\ttotal: 553ms\tremaining: 3.22s\n",
            "22:\tlearn: 0.4665720\ttest: 0.4715471\tbest: 0.4715471 (22)\ttotal: 578ms\tremaining: 3.19s\n",
            "23:\tlearn: 0.4583351\ttest: 0.4632090\tbest: 0.4632090 (23)\ttotal: 608ms\tremaining: 3.19s\n",
            "24:\tlearn: 0.4504845\ttest: 0.4552470\tbest: 0.4552470 (24)\ttotal: 632ms\tremaining: 3.16s\n",
            "25:\tlearn: 0.4428827\ttest: 0.4474463\tbest: 0.4474463 (25)\ttotal: 655ms\tremaining: 3.12s\n",
            "26:\tlearn: 0.4357738\ttest: 0.4401655\tbest: 0.4401655 (26)\ttotal: 678ms\tremaining: 3.09s\n",
            "27:\tlearn: 0.4286097\ttest: 0.4328167\tbest: 0.4328167 (27)\ttotal: 701ms\tremaining: 3.05s\n",
            "28:\tlearn: 0.4218737\ttest: 0.4259271\tbest: 0.4259271 (28)\ttotal: 731ms\tremaining: 3.05s\n",
            "29:\tlearn: 0.4155408\ttest: 0.4194550\tbest: 0.4194550 (29)\ttotal: 759ms\tremaining: 3.04s\n",
            "30:\tlearn: 0.4092232\ttest: 0.4129283\tbest: 0.4129283 (30)\ttotal: 788ms\tremaining: 3.02s\n",
            "31:\tlearn: 0.4034231\ttest: 0.4069121\tbest: 0.4069121 (31)\ttotal: 811ms\tremaining: 2.99s\n",
            "32:\tlearn: 0.3977481\ttest: 0.4010041\tbest: 0.4010041 (32)\ttotal: 835ms\tremaining: 2.96s\n",
            "33:\tlearn: 0.3922474\ttest: 0.3952976\tbest: 0.3952976 (33)\ttotal: 868ms\tremaining: 2.96s\n",
            "34:\tlearn: 0.3871249\ttest: 0.3899635\tbest: 0.3899635 (34)\ttotal: 892ms\tremaining: 2.93s\n",
            "35:\tlearn: 0.3824981\ttest: 0.3851243\tbest: 0.3851243 (35)\ttotal: 911ms\tremaining: 2.89s\n",
            "36:\tlearn: 0.3777139\ttest: 0.3801091\tbest: 0.3801091 (36)\ttotal: 944ms\tremaining: 2.88s\n",
            "37:\tlearn: 0.3732877\ttest: 0.3754719\tbest: 0.3754719 (37)\ttotal: 968ms\tremaining: 2.85s\n",
            "38:\tlearn: 0.3690120\ttest: 0.3709754\tbest: 0.3709754 (38)\ttotal: 1.01s\tremaining: 2.88s\n",
            "39:\tlearn: 0.3648597\ttest: 0.3665638\tbest: 0.3665638 (39)\ttotal: 1.04s\tremaining: 2.85s\n",
            "40:\tlearn: 0.3609947\ttest: 0.3624849\tbest: 0.3624849 (40)\ttotal: 1.06s\tremaining: 2.82s\n",
            "41:\tlearn: 0.3573386\ttest: 0.3586043\tbest: 0.3586043 (41)\ttotal: 1.08s\tremaining: 2.79s\n",
            "42:\tlearn: 0.3537626\ttest: 0.3547844\tbest: 0.3547844 (42)\ttotal: 1.11s\tremaining: 2.76s\n",
            "43:\tlearn: 0.3504076\ttest: 0.3511969\tbest: 0.3511969 (43)\ttotal: 1.14s\tremaining: 2.74s\n",
            "44:\tlearn: 0.3473652\ttest: 0.3479352\tbest: 0.3479352 (44)\ttotal: 1.17s\tremaining: 2.72s\n",
            "45:\tlearn: 0.3444836\ttest: 0.3448181\tbest: 0.3448181 (45)\ttotal: 1.19s\tremaining: 2.69s\n",
            "46:\tlearn: 0.3414760\ttest: 0.3415556\tbest: 0.3415556 (46)\ttotal: 1.21s\tremaining: 2.66s\n",
            "47:\tlearn: 0.3387314\ttest: 0.3385751\tbest: 0.3385751 (47)\ttotal: 1.24s\tremaining: 2.63s\n",
            "48:\tlearn: 0.3360002\ttest: 0.3356081\tbest: 0.3356081 (48)\ttotal: 1.27s\tremaining: 2.61s\n",
            "49:\tlearn: 0.3334557\ttest: 0.3328209\tbest: 0.3328209 (49)\ttotal: 1.29s\tremaining: 2.59s\n",
            "50:\tlearn: 0.3311245\ttest: 0.3302634\tbest: 0.3302634 (50)\ttotal: 1.33s\tremaining: 2.58s\n",
            "51:\tlearn: 0.3289369\ttest: 0.3280025\tbest: 0.3280025 (51)\ttotal: 1.35s\tremaining: 2.55s\n",
            "52:\tlearn: 0.3267904\ttest: 0.3257671\tbest: 0.3257671 (52)\ttotal: 1.39s\tremaining: 2.54s\n",
            "53:\tlearn: 0.3248595\ttest: 0.3236153\tbest: 0.3236153 (53)\ttotal: 1.41s\tremaining: 2.51s\n",
            "54:\tlearn: 0.3228694\ttest: 0.3214209\tbest: 0.3214209 (54)\ttotal: 1.43s\tremaining: 2.48s\n",
            "55:\tlearn: 0.3211101\ttest: 0.3195608\tbest: 0.3195608 (55)\ttotal: 1.46s\tremaining: 2.44s\n",
            "56:\tlearn: 0.3193278\ttest: 0.3175619\tbest: 0.3175619 (56)\ttotal: 1.48s\tremaining: 2.42s\n",
            "57:\tlearn: 0.3177471\ttest: 0.3157832\tbest: 0.3157832 (57)\ttotal: 1.51s\tremaining: 2.39s\n",
            "58:\tlearn: 0.3162258\ttest: 0.3140566\tbest: 0.3140566 (58)\ttotal: 1.53s\tremaining: 2.36s\n",
            "59:\tlearn: 0.3146965\ttest: 0.3123201\tbest: 0.3123201 (59)\ttotal: 1.56s\tremaining: 2.33s\n",
            "60:\tlearn: 0.3133408\ttest: 0.3107974\tbest: 0.3107974 (60)\ttotal: 1.58s\tremaining: 2.31s\n",
            "61:\tlearn: 0.3119939\ttest: 0.3092323\tbest: 0.3092323 (61)\ttotal: 1.61s\tremaining: 2.29s\n",
            "62:\tlearn: 0.3107827\ttest: 0.3078415\tbest: 0.3078415 (62)\ttotal: 1.63s\tremaining: 2.26s\n",
            "63:\tlearn: 0.3095648\ttest: 0.3064548\tbest: 0.3064548 (63)\ttotal: 1.66s\tremaining: 2.23s\n",
            "64:\tlearn: 0.3084380\ttest: 0.3051490\tbest: 0.3051490 (64)\ttotal: 1.68s\tremaining: 2.2s\n",
            "65:\tlearn: 0.3074278\ttest: 0.3039556\tbest: 0.3039556 (65)\ttotal: 1.71s\tremaining: 2.17s\n",
            "66:\tlearn: 0.3063459\ttest: 0.3027165\tbest: 0.3027165 (66)\ttotal: 1.73s\tremaining: 2.15s\n",
            "67:\tlearn: 0.3053920\ttest: 0.3016224\tbest: 0.3016224 (67)\ttotal: 1.75s\tremaining: 2.12s\n",
            "68:\tlearn: 0.3044601\ttest: 0.3005278\tbest: 0.3005278 (68)\ttotal: 1.78s\tremaining: 2.09s\n",
            "69:\tlearn: 0.3035576\ttest: 0.2995439\tbest: 0.2995439 (69)\ttotal: 1.83s\tremaining: 2.09s\n",
            "70:\tlearn: 0.3026611\ttest: 0.2984881\tbest: 0.2984881 (70)\ttotal: 1.85s\tremaining: 2.06s\n",
            "71:\tlearn: 0.3018718\ttest: 0.2975543\tbest: 0.2975543 (71)\ttotal: 1.88s\tremaining: 2.04s\n",
            "72:\tlearn: 0.3010960\ttest: 0.2966100\tbest: 0.2966100 (72)\ttotal: 1.9s\tremaining: 2.01s\n",
            "73:\tlearn: 0.3004543\ttest: 0.2958287\tbest: 0.2958287 (73)\ttotal: 1.93s\tremaining: 1.98s\n",
            "74:\tlearn: 0.2997467\ttest: 0.2949599\tbest: 0.2949599 (74)\ttotal: 1.96s\tremaining: 1.96s\n",
            "75:\tlearn: 0.2991510\ttest: 0.2942450\tbest: 0.2942450 (75)\ttotal: 1.98s\tremaining: 1.93s\n",
            "76:\tlearn: 0.2985454\ttest: 0.2934743\tbest: 0.2934743 (76)\ttotal: 2s\tremaining: 1.9s\n",
            "77:\tlearn: 0.2979873\ttest: 0.2927872\tbest: 0.2927872 (77)\ttotal: 2.03s\tremaining: 1.87s\n",
            "78:\tlearn: 0.2974835\ttest: 0.2921610\tbest: 0.2921610 (78)\ttotal: 2.06s\tremaining: 1.85s\n",
            "79:\tlearn: 0.2969438\ttest: 0.2915045\tbest: 0.2915045 (79)\ttotal: 2.09s\tremaining: 1.83s\n",
            "80:\tlearn: 0.2965380\ttest: 0.2909891\tbest: 0.2909891 (80)\ttotal: 2.11s\tremaining: 1.8s\n",
            "81:\tlearn: 0.2961317\ttest: 0.2904713\tbest: 0.2904713 (81)\ttotal: 2.13s\tremaining: 1.77s\n",
            "82:\tlearn: 0.2957331\ttest: 0.2899417\tbest: 0.2899417 (82)\ttotal: 2.16s\tremaining: 1.74s\n",
            "83:\tlearn: 0.2953088\ttest: 0.2894103\tbest: 0.2894103 (83)\ttotal: 2.18s\tremaining: 1.72s\n",
            "84:\tlearn: 0.2948857\ttest: 0.2888961\tbest: 0.2888961 (84)\ttotal: 2.21s\tremaining: 1.69s\n",
            "85:\tlearn: 0.2945029\ttest: 0.2884439\tbest: 0.2884439 (85)\ttotal: 2.23s\tremaining: 1.66s\n",
            "86:\tlearn: 0.2941722\ttest: 0.2880156\tbest: 0.2880156 (86)\ttotal: 2.25s\tremaining: 1.63s\n",
            "87:\tlearn: 0.2938705\ttest: 0.2876003\tbest: 0.2876003 (87)\ttotal: 2.3s\tremaining: 1.62s\n",
            "88:\tlearn: 0.2934917\ttest: 0.2871183\tbest: 0.2871183 (88)\ttotal: 2.32s\tremaining: 1.59s\n",
            "89:\tlearn: 0.2931555\ttest: 0.2866772\tbest: 0.2866772 (89)\ttotal: 2.35s\tremaining: 1.56s\n",
            "90:\tlearn: 0.2928570\ttest: 0.2862783\tbest: 0.2862783 (90)\ttotal: 2.37s\tremaining: 1.54s\n",
            "91:\tlearn: 0.2925300\ttest: 0.2858429\tbest: 0.2858429 (91)\ttotal: 2.4s\tremaining: 1.51s\n",
            "92:\tlearn: 0.2922897\ttest: 0.2855089\tbest: 0.2855089 (92)\ttotal: 2.42s\tremaining: 1.48s\n",
            "93:\tlearn: 0.2920481\ttest: 0.2851740\tbest: 0.2851740 (93)\ttotal: 2.44s\tremaining: 1.46s\n",
            "94:\tlearn: 0.2917720\ttest: 0.2847855\tbest: 0.2847855 (94)\ttotal: 2.47s\tremaining: 1.43s\n",
            "95:\tlearn: 0.2915287\ttest: 0.2844840\tbest: 0.2844840 (95)\ttotal: 2.49s\tremaining: 1.4s\n",
            "96:\tlearn: 0.2912963\ttest: 0.2842025\tbest: 0.2842025 (96)\ttotal: 2.52s\tremaining: 1.38s\n",
            "97:\tlearn: 0.2910973\ttest: 0.2839458\tbest: 0.2839458 (97)\ttotal: 2.55s\tremaining: 1.35s\n",
            "98:\tlearn: 0.2908944\ttest: 0.2836730\tbest: 0.2836730 (98)\ttotal: 2.58s\tremaining: 1.33s\n",
            "99:\tlearn: 0.2907210\ttest: 0.2834381\tbest: 0.2834381 (99)\ttotal: 2.61s\tremaining: 1.3s\n",
            "100:\tlearn: 0.2905583\ttest: 0.2832129\tbest: 0.2832129 (100)\ttotal: 2.63s\tremaining: 1.27s\n",
            "101:\tlearn: 0.2903798\ttest: 0.2829666\tbest: 0.2829666 (101)\ttotal: 2.65s\tremaining: 1.25s\n",
            "102:\tlearn: 0.2901599\ttest: 0.2826844\tbest: 0.2826844 (102)\ttotal: 2.67s\tremaining: 1.22s\n",
            "103:\tlearn: 0.2899370\ttest: 0.2824161\tbest: 0.2824161 (103)\ttotal: 2.7s\tremaining: 1.19s\n",
            "104:\tlearn: 0.2897248\ttest: 0.2821510\tbest: 0.2821510 (104)\ttotal: 2.72s\tremaining: 1.17s\n",
            "105:\tlearn: 0.2895822\ttest: 0.2819492\tbest: 0.2819492 (105)\ttotal: 2.75s\tremaining: 1.14s\n",
            "106:\tlearn: 0.2894650\ttest: 0.2817814\tbest: 0.2817814 (106)\ttotal: 2.77s\tremaining: 1.11s\n",
            "107:\tlearn: 0.2893157\ttest: 0.2815696\tbest: 0.2815696 (107)\ttotal: 2.8s\tremaining: 1.09s\n",
            "108:\tlearn: 0.2891332\ttest: 0.2813207\tbest: 0.2813207 (108)\ttotal: 2.82s\tremaining: 1.06s\n",
            "109:\tlearn: 0.2890373\ttest: 0.2811812\tbest: 0.2811812 (109)\ttotal: 2.84s\tremaining: 1.03s\n",
            "110:\tlearn: 0.2889570\ttest: 0.2810455\tbest: 0.2810455 (110)\ttotal: 2.87s\tremaining: 1.01s\n",
            "111:\tlearn: 0.2888020\ttest: 0.2808460\tbest: 0.2808460 (111)\ttotal: 2.9s\tremaining: 983ms\n",
            "112:\tlearn: 0.2886885\ttest: 0.2806962\tbest: 0.2806962 (112)\ttotal: 2.92s\tremaining: 956ms\n",
            "113:\tlearn: 0.2885806\ttest: 0.2805553\tbest: 0.2805553 (113)\ttotal: 2.94s\tremaining: 930ms\n",
            "114:\tlearn: 0.2884487\ttest: 0.2803641\tbest: 0.2803641 (114)\ttotal: 2.98s\tremaining: 906ms\n",
            "115:\tlearn: 0.2882978\ttest: 0.2801730\tbest: 0.2801730 (115)\ttotal: 3s\tremaining: 879ms\n",
            "116:\tlearn: 0.2881783\ttest: 0.2800438\tbest: 0.2800438 (116)\ttotal: 3.02s\tremaining: 852ms\n",
            "117:\tlearn: 0.2881179\ttest: 0.2799573\tbest: 0.2799573 (117)\ttotal: 3.04s\tremaining: 825ms\n",
            "118:\tlearn: 0.2880396\ttest: 0.2798438\tbest: 0.2798438 (118)\ttotal: 3.06s\tremaining: 798ms\n",
            "119:\tlearn: 0.2879121\ttest: 0.2796732\tbest: 0.2796732 (119)\ttotal: 3.09s\tremaining: 773ms\n",
            "120:\tlearn: 0.2877862\ttest: 0.2795250\tbest: 0.2795250 (120)\ttotal: 3.12s\tremaining: 747ms\n",
            "121:\tlearn: 0.2877225\ttest: 0.2793999\tbest: 0.2793999 (121)\ttotal: 3.15s\tremaining: 723ms\n",
            "122:\tlearn: 0.2876109\ttest: 0.2792380\tbest: 0.2792380 (122)\ttotal: 3.18s\tremaining: 699ms\n",
            "123:\tlearn: 0.2875030\ttest: 0.2790887\tbest: 0.2790887 (123)\ttotal: 3.21s\tremaining: 673ms\n",
            "124:\tlearn: 0.2874362\ttest: 0.2790004\tbest: 0.2790004 (124)\ttotal: 3.23s\tremaining: 647ms\n",
            "125:\tlearn: 0.2873459\ttest: 0.2788893\tbest: 0.2788893 (125)\ttotal: 3.26s\tremaining: 621ms\n",
            "126:\tlearn: 0.2872459\ttest: 0.2787535\tbest: 0.2787535 (126)\ttotal: 3.29s\tremaining: 595ms\n",
            "127:\tlearn: 0.2872136\ttest: 0.2786973\tbest: 0.2786973 (127)\ttotal: 3.31s\tremaining: 570ms\n",
            "128:\tlearn: 0.2871391\ttest: 0.2786051\tbest: 0.2786051 (128)\ttotal: 3.34s\tremaining: 543ms\n",
            "129:\tlearn: 0.2870746\ttest: 0.2785189\tbest: 0.2785189 (129)\ttotal: 3.36s\tremaining: 517ms\n",
            "130:\tlearn: 0.2870130\ttest: 0.2784367\tbest: 0.2784367 (130)\ttotal: 3.4s\tremaining: 492ms\n",
            "131:\tlearn: 0.2869281\ttest: 0.2783478\tbest: 0.2783478 (131)\ttotal: 3.42s\tremaining: 466ms\n",
            "132:\tlearn: 0.2869065\ttest: 0.2783039\tbest: 0.2783039 (132)\ttotal: 3.44s\tremaining: 440ms\n",
            "133:\tlearn: 0.2868497\ttest: 0.2782214\tbest: 0.2782214 (133)\ttotal: 3.46s\tremaining: 414ms\n",
            "134:\tlearn: 0.2867843\ttest: 0.2781312\tbest: 0.2781312 (134)\ttotal: 3.49s\tremaining: 387ms\n",
            "135:\tlearn: 0.2867054\ttest: 0.2780113\tbest: 0.2780113 (135)\ttotal: 3.51s\tremaining: 361ms\n",
            "136:\tlearn: 0.2866430\ttest: 0.2779297\tbest: 0.2779297 (136)\ttotal: 3.53s\tremaining: 335ms\n",
            "137:\tlearn: 0.2866064\ttest: 0.2778743\tbest: 0.2778743 (137)\ttotal: 3.56s\tremaining: 309ms\n",
            "138:\tlearn: 0.2865702\ttest: 0.2778122\tbest: 0.2778122 (138)\ttotal: 3.58s\tremaining: 283ms\n",
            "139:\tlearn: 0.2865109\ttest: 0.2777364\tbest: 0.2777364 (139)\ttotal: 3.61s\tremaining: 258ms\n",
            "140:\tlearn: 0.2864600\ttest: 0.2776917\tbest: 0.2776917 (140)\ttotal: 3.63s\tremaining: 232ms\n",
            "141:\tlearn: 0.2863514\ttest: 0.2775944\tbest: 0.2775944 (141)\ttotal: 3.66s\tremaining: 206ms\n",
            "142:\tlearn: 0.2862021\ttest: 0.2774703\tbest: 0.2774703 (142)\ttotal: 3.68s\tremaining: 180ms\n",
            "143:\tlearn: 0.2860587\ttest: 0.2773440\tbest: 0.2773440 (143)\ttotal: 3.71s\tremaining: 154ms\n",
            "144:\tlearn: 0.2859331\ttest: 0.2772639\tbest: 0.2772639 (144)\ttotal: 3.73s\tremaining: 129ms\n",
            "145:\tlearn: 0.2858524\ttest: 0.2771892\tbest: 0.2771892 (145)\ttotal: 3.75s\tremaining: 103ms\n",
            "146:\tlearn: 0.2857138\ttest: 0.2770694\tbest: 0.2770694 (146)\ttotal: 3.77s\tremaining: 77ms\n",
            "147:\tlearn: 0.2856054\ttest: 0.2769595\tbest: 0.2769595 (147)\ttotal: 3.8s\tremaining: 51.3ms\n",
            "148:\tlearn: 0.2854760\ttest: 0.2768388\tbest: 0.2768388 (148)\ttotal: 3.83s\tremaining: 25.7ms\n",
            "149:\tlearn: 0.2853861\ttest: 0.2767558\tbest: 0.2767558 (149)\ttotal: 3.85s\tremaining: 0us\n",
            "\n",
            "bestTest = 0.2767557796\n",
            "bestIteration = 149\n",
            "\n",
            "0:\tlearn: 0.6271483\ttest: 0.6326652\tbest: 0.6326652 (0)\ttotal: 25.6ms\tremaining: 3.82s\n",
            "1:\tlearn: 0.6161569\ttest: 0.6217003\tbest: 0.6217003 (1)\ttotal: 51.6ms\tremaining: 3.82s\n",
            "2:\tlearn: 0.6056624\ttest: 0.6112231\tbest: 0.6112231 (2)\ttotal: 72.8ms\tremaining: 3.57s\n",
            "3:\tlearn: 0.5955251\ttest: 0.6010853\tbest: 0.6010853 (3)\ttotal: 96.1ms\tremaining: 3.51s\n",
            "4:\tlearn: 0.5859631\ttest: 0.5915371\tbest: 0.5915371 (4)\ttotal: 119ms\tremaining: 3.45s\n",
            "5:\tlearn: 0.5767847\ttest: 0.5823654\tbest: 0.5823654 (5)\ttotal: 144ms\tremaining: 3.46s\n",
            "6:\tlearn: 0.5679926\ttest: 0.5735795\tbest: 0.5735795 (6)\ttotal: 170ms\tremaining: 3.48s\n",
            "7:\tlearn: 0.5595150\ttest: 0.5650948\tbest: 0.5650948 (7)\ttotal: 196ms\tremaining: 3.49s\n",
            "8:\tlearn: 0.5515456\ttest: 0.5571233\tbest: 0.5571233 (8)\ttotal: 219ms\tremaining: 3.43s\n",
            "9:\tlearn: 0.5439393\ttest: 0.5494986\tbest: 0.5494986 (9)\ttotal: 241ms\tremaining: 3.38s\n",
            "10:\tlearn: 0.5366811\ttest: 0.5422212\tbest: 0.5422212 (10)\ttotal: 264ms\tremaining: 3.34s\n",
            "11:\tlearn: 0.5297597\ttest: 0.5352769\tbest: 0.5352769 (11)\ttotal: 287ms\tremaining: 3.3s\n",
            "12:\tlearn: 0.5231636\ttest: 0.5286619\tbest: 0.5286619 (12)\ttotal: 309ms\tremaining: 3.25s\n",
            "13:\tlearn: 0.5167999\ttest: 0.5222742\tbest: 0.5222742 (13)\ttotal: 334ms\tremaining: 3.24s\n",
            "14:\tlearn: 0.5107732\ttest: 0.5162412\tbest: 0.5162412 (14)\ttotal: 357ms\tremaining: 3.21s\n",
            "15:\tlearn: 0.5049947\ttest: 0.5104551\tbest: 0.5104551 (15)\ttotal: 387ms\tremaining: 3.25s\n",
            "16:\tlearn: 0.4995779\ttest: 0.5050062\tbest: 0.5050062 (16)\ttotal: 413ms\tremaining: 3.23s\n",
            "17:\tlearn: 0.4942315\ttest: 0.4995977\tbest: 0.4995977 (17)\ttotal: 444ms\tremaining: 3.26s\n",
            "18:\tlearn: 0.4891211\ttest: 0.4944067\tbest: 0.4944067 (18)\ttotal: 469ms\tremaining: 3.23s\n",
            "19:\tlearn: 0.4842960\ttest: 0.4895150\tbest: 0.4895150 (19)\ttotal: 510ms\tremaining: 3.31s\n",
            "20:\tlearn: 0.4797564\ttest: 0.4849075\tbest: 0.4849075 (20)\ttotal: 534ms\tremaining: 3.28s\n",
            "21:\tlearn: 0.4754680\ttest: 0.4805622\tbest: 0.4805622 (21)\ttotal: 558ms\tremaining: 3.25s\n",
            "22:\tlearn: 0.4666556\ttest: 0.4716268\tbest: 0.4716268 (22)\ttotal: 582ms\tremaining: 3.21s\n",
            "23:\tlearn: 0.4584220\ttest: 0.4632925\tbest: 0.4632925 (23)\ttotal: 612ms\tremaining: 3.21s\n",
            "24:\tlearn: 0.4505719\ttest: 0.4553316\tbest: 0.4553316 (24)\ttotal: 637ms\tremaining: 3.18s\n",
            "25:\tlearn: 0.4429708\ttest: 0.4475321\tbest: 0.4475321 (25)\ttotal: 660ms\tremaining: 3.15s\n",
            "26:\tlearn: 0.4358634\ttest: 0.4402533\tbest: 0.4402533 (26)\ttotal: 684ms\tremaining: 3.11s\n",
            "27:\tlearn: 0.4287038\ttest: 0.4329097\tbest: 0.4329097 (27)\ttotal: 708ms\tremaining: 3.08s\n",
            "28:\tlearn: 0.4219726\ttest: 0.4260239\tbest: 0.4260239 (28)\ttotal: 732ms\tremaining: 3.06s\n",
            "29:\tlearn: 0.4156389\ttest: 0.4195516\tbest: 0.4195516 (29)\ttotal: 756ms\tremaining: 3.02s\n",
            "30:\tlearn: 0.4093224\ttest: 0.4130264\tbest: 0.4130264 (30)\ttotal: 782ms\tremaining: 3s\n",
            "31:\tlearn: 0.4035209\ttest: 0.4070095\tbest: 0.4070095 (31)\ttotal: 807ms\tremaining: 2.98s\n",
            "32:\tlearn: 0.3978466\ttest: 0.4011026\tbest: 0.4011026 (32)\ttotal: 846ms\tremaining: 3s\n",
            "33:\tlearn: 0.3923476\ttest: 0.3953980\tbest: 0.3953980 (33)\ttotal: 869ms\tremaining: 2.96s\n",
            "34:\tlearn: 0.3872242\ttest: 0.3900636\tbest: 0.3900636 (34)\ttotal: 895ms\tremaining: 2.94s\n",
            "35:\tlearn: 0.3825937\ttest: 0.3852210\tbest: 0.3852210 (35)\ttotal: 914ms\tremaining: 2.89s\n",
            "36:\tlearn: 0.3778093\ttest: 0.3802057\tbest: 0.3802057 (36)\ttotal: 938ms\tremaining: 2.86s\n",
            "37:\tlearn: 0.3733827\ttest: 0.3755683\tbest: 0.3755683 (37)\ttotal: 962ms\tremaining: 2.83s\n",
            "38:\tlearn: 0.3691061\ttest: 0.3710713\tbest: 0.3710713 (38)\ttotal: 986ms\tremaining: 2.81s\n",
            "39:\tlearn: 0.3649545\ttest: 0.3666611\tbest: 0.3666611 (39)\ttotal: 1.01s\tremaining: 2.77s\n",
            "40:\tlearn: 0.3610871\ttest: 0.3625800\tbest: 0.3625800 (40)\ttotal: 1.04s\tremaining: 2.75s\n",
            "41:\tlearn: 0.3574285\ttest: 0.3586971\tbest: 0.3586971 (41)\ttotal: 1.07s\tremaining: 2.75s\n",
            "42:\tlearn: 0.3538514\ttest: 0.3548765\tbest: 0.3548765 (42)\ttotal: 1.09s\tremaining: 2.72s\n",
            "43:\tlearn: 0.3504940\ttest: 0.3512870\tbest: 0.3512870 (43)\ttotal: 1.12s\tremaining: 2.69s\n",
            "44:\tlearn: 0.3474498\ttest: 0.3480238\tbest: 0.3480238 (44)\ttotal: 1.14s\tremaining: 2.66s\n",
            "45:\tlearn: 0.3445651\ttest: 0.3449038\tbest: 0.3449038 (45)\ttotal: 1.16s\tremaining: 2.62s\n",
            "46:\tlearn: 0.3415584\ttest: 0.3416423\tbest: 0.3416423 (46)\ttotal: 1.18s\tremaining: 2.59s\n",
            "47:\tlearn: 0.3388127\ttest: 0.3386612\tbest: 0.3386612 (47)\ttotal: 1.21s\tremaining: 2.56s\n",
            "48:\tlearn: 0.3360802\ttest: 0.3356931\tbest: 0.3356931 (48)\ttotal: 1.23s\tremaining: 2.53s\n",
            "49:\tlearn: 0.3335348\ttest: 0.3329050\tbest: 0.3329050 (49)\ttotal: 1.25s\tremaining: 2.5s\n",
            "50:\tlearn: 0.3312023\ttest: 0.3303466\tbest: 0.3303466 (50)\ttotal: 1.28s\tremaining: 2.49s\n",
            "51:\tlearn: 0.3290122\ttest: 0.3280831\tbest: 0.3280831 (51)\ttotal: 1.3s\tremaining: 2.46s\n",
            "52:\tlearn: 0.3268635\ttest: 0.3258456\tbest: 0.3258456 (52)\ttotal: 1.33s\tremaining: 2.44s\n",
            "53:\tlearn: 0.3249302\ttest: 0.3236916\tbest: 0.3236916 (53)\ttotal: 1.36s\tremaining: 2.42s\n",
            "54:\tlearn: 0.3229397\ttest: 0.3214971\tbest: 0.3214971 (54)\ttotal: 1.38s\tremaining: 2.39s\n",
            "55:\tlearn: 0.3211778\ttest: 0.3196345\tbest: 0.3196345 (55)\ttotal: 1.4s\tremaining: 2.36s\n",
            "56:\tlearn: 0.3193938\ttest: 0.3176341\tbest: 0.3176341 (56)\ttotal: 1.43s\tremaining: 2.33s\n",
            "57:\tlearn: 0.3178113\ttest: 0.3158535\tbest: 0.3158535 (57)\ttotal: 1.47s\tremaining: 2.33s\n",
            "58:\tlearn: 0.3162888\ttest: 0.3141257\tbest: 0.3141257 (58)\ttotal: 1.5s\tremaining: 2.31s\n",
            "59:\tlearn: 0.3147580\ttest: 0.3123877\tbest: 0.3123877 (59)\ttotal: 1.52s\tremaining: 2.29s\n",
            "60:\tlearn: 0.3134013\ttest: 0.3108642\tbest: 0.3108642 (60)\ttotal: 1.55s\tremaining: 2.26s\n",
            "61:\tlearn: 0.3120524\ttest: 0.3092970\tbest: 0.3092970 (61)\ttotal: 1.57s\tremaining: 2.23s\n",
            "62:\tlearn: 0.3108400\ttest: 0.3079049\tbest: 0.3079049 (62)\ttotal: 1.59s\tremaining: 2.2s\n",
            "63:\tlearn: 0.3096205\ttest: 0.3065166\tbest: 0.3065166 (63)\ttotal: 1.62s\tremaining: 2.17s\n",
            "64:\tlearn: 0.3084929\ttest: 0.3052094\tbest: 0.3052094 (64)\ttotal: 1.64s\tremaining: 2.15s\n",
            "65:\tlearn: 0.3074812\ttest: 0.3040142\tbest: 0.3040142 (65)\ttotal: 1.66s\tremaining: 2.12s\n",
            "66:\tlearn: 0.3063982\ttest: 0.3027740\tbest: 0.3027740 (66)\ttotal: 1.69s\tremaining: 2.09s\n",
            "67:\tlearn: 0.3054434\ttest: 0.3016790\tbest: 0.3016790 (67)\ttotal: 1.72s\tremaining: 2.08s\n",
            "68:\tlearn: 0.3045099\ttest: 0.3005828\tbest: 0.3005828 (68)\ttotal: 1.75s\tremaining: 2.05s\n",
            "69:\tlearn: 0.3036061\ttest: 0.2995978\tbest: 0.2995978 (69)\ttotal: 1.77s\tremaining: 2.02s\n",
            "70:\tlearn: 0.3027088\ttest: 0.2985412\tbest: 0.2985412 (70)\ttotal: 1.79s\tremaining: 2s\n",
            "71:\tlearn: 0.3019181\ttest: 0.2976060\tbest: 0.2976060 (71)\ttotal: 1.82s\tremaining: 1.97s\n",
            "72:\tlearn: 0.3011412\ttest: 0.2966605\tbest: 0.2966605 (72)\ttotal: 1.84s\tremaining: 1.94s\n",
            "73:\tlearn: 0.3004983\ttest: 0.2958777\tbest: 0.2958777 (73)\ttotal: 1.86s\tremaining: 1.92s\n",
            "74:\tlearn: 0.2997897\ttest: 0.2950077\tbest: 0.2950077 (74)\ttotal: 1.89s\tremaining: 1.89s\n",
            "75:\tlearn: 0.2991930\ttest: 0.2942915\tbest: 0.2942915 (75)\ttotal: 1.91s\tremaining: 1.86s\n",
            "76:\tlearn: 0.2985862\ttest: 0.2935195\tbest: 0.2935195 (76)\ttotal: 1.94s\tremaining: 1.84s\n",
            "77:\tlearn: 0.2980272\ttest: 0.2928314\tbest: 0.2928314 (77)\ttotal: 1.96s\tremaining: 1.81s\n",
            "78:\tlearn: 0.2975223\ttest: 0.2922041\tbest: 0.2922041 (78)\ttotal: 1.99s\tremaining: 1.79s\n",
            "79:\tlearn: 0.2969824\ttest: 0.2915465\tbest: 0.2915465 (79)\ttotal: 2.02s\tremaining: 1.76s\n",
            "80:\tlearn: 0.2965757\ttest: 0.2910299\tbest: 0.2910299 (80)\ttotal: 2.04s\tremaining: 1.74s\n",
            "81:\tlearn: 0.2961690\ttest: 0.2905112\tbest: 0.2905112 (81)\ttotal: 2.06s\tremaining: 1.71s\n",
            "82:\tlearn: 0.2957694\ttest: 0.2899805\tbest: 0.2899805 (82)\ttotal: 2.09s\tremaining: 1.69s\n",
            "83:\tlearn: 0.2953445\ttest: 0.2894483\tbest: 0.2894483 (83)\ttotal: 2.11s\tremaining: 1.66s\n",
            "84:\tlearn: 0.2949207\ttest: 0.2889335\tbest: 0.2889335 (84)\ttotal: 2.14s\tremaining: 1.63s\n",
            "85:\tlearn: 0.2945383\ttest: 0.2884809\tbest: 0.2884809 (85)\ttotal: 2.17s\tremaining: 1.61s\n",
            "86:\tlearn: 0.2942071\ttest: 0.2880518\tbest: 0.2880518 (86)\ttotal: 2.19s\tremaining: 1.59s\n",
            "87:\tlearn: 0.2939051\ttest: 0.2876362\tbest: 0.2876362 (87)\ttotal: 2.21s\tremaining: 1.56s\n",
            "88:\tlearn: 0.2935260\ttest: 0.2871540\tbest: 0.2871540 (88)\ttotal: 2.24s\tremaining: 1.53s\n",
            "89:\tlearn: 0.2931891\ttest: 0.2867121\tbest: 0.2867121 (89)\ttotal: 2.26s\tremaining: 1.51s\n",
            "90:\tlearn: 0.2928911\ttest: 0.2863126\tbest: 0.2863126 (90)\ttotal: 2.29s\tremaining: 1.49s\n",
            "91:\tlearn: 0.2925636\ttest: 0.2858765\tbest: 0.2858765 (91)\ttotal: 2.31s\tremaining: 1.46s\n",
            "92:\tlearn: 0.2923231\ttest: 0.2855421\tbest: 0.2855421 (92)\ttotal: 2.34s\tremaining: 1.43s\n",
            "93:\tlearn: 0.2920813\ttest: 0.2852068\tbest: 0.2852068 (93)\ttotal: 2.36s\tremaining: 1.41s\n",
            "94:\tlearn: 0.2918051\ttest: 0.2848184\tbest: 0.2848184 (94)\ttotal: 2.39s\tremaining: 1.38s\n",
            "95:\tlearn: 0.2915619\ttest: 0.2845163\tbest: 0.2845163 (95)\ttotal: 2.41s\tremaining: 1.36s\n",
            "96:\tlearn: 0.2913294\ttest: 0.2842343\tbest: 0.2842343 (96)\ttotal: 2.44s\tremaining: 1.33s\n",
            "97:\tlearn: 0.2911303\ttest: 0.2839774\tbest: 0.2839774 (97)\ttotal: 2.47s\tremaining: 1.31s\n",
            "98:\tlearn: 0.2909020\ttest: 0.2836738\tbest: 0.2836738 (98)\ttotal: 2.5s\tremaining: 1.29s\n",
            "99:\tlearn: 0.2907284\ttest: 0.2834384\tbest: 0.2834384 (99)\ttotal: 2.52s\tremaining: 1.26s\n",
            "100:\tlearn: 0.2905651\ttest: 0.2832124\tbest: 0.2832124 (100)\ttotal: 2.55s\tremaining: 1.24s\n",
            "101:\tlearn: 0.2903864\ttest: 0.2829657\tbest: 0.2829657 (101)\ttotal: 2.57s\tremaining: 1.21s\n",
            "102:\tlearn: 0.2901684\ttest: 0.2826852\tbest: 0.2826852 (102)\ttotal: 2.6s\tremaining: 1.19s\n",
            "103:\tlearn: 0.2900375\ttest: 0.2825080\tbest: 0.2825080 (103)\ttotal: 2.63s\tremaining: 1.16s\n",
            "104:\tlearn: 0.2898725\ttest: 0.2823119\tbest: 0.2823119 (104)\ttotal: 2.67s\tremaining: 1.14s\n",
            "105:\tlearn: 0.2897384\ttest: 0.2821200\tbest: 0.2821200 (105)\ttotal: 2.7s\tremaining: 1.12s\n",
            "106:\tlearn: 0.2896201\ttest: 0.2819511\tbest: 0.2819511 (106)\ttotal: 2.73s\tremaining: 1.09s\n",
            "107:\tlearn: 0.2894308\ttest: 0.2816994\tbest: 0.2816994 (107)\ttotal: 2.75s\tremaining: 1.07s\n",
            "108:\tlearn: 0.2893334\ttest: 0.2815560\tbest: 0.2815560 (108)\ttotal: 2.78s\tremaining: 1.04s\n",
            "109:\tlearn: 0.2892081\ttest: 0.2813896\tbest: 0.2813896 (109)\ttotal: 2.82s\tremaining: 1.02s\n",
            "110:\tlearn: 0.2890770\ttest: 0.2812278\tbest: 0.2812278 (110)\ttotal: 2.84s\tremaining: 999ms\n",
            "111:\tlearn: 0.2889378\ttest: 0.2810219\tbest: 0.2810219 (111)\ttotal: 2.87s\tremaining: 973ms\n",
            "112:\tlearn: 0.2888838\ttest: 0.2809201\tbest: 0.2809201 (112)\ttotal: 2.88s\tremaining: 944ms\n",
            "113:\tlearn: 0.2887790\ttest: 0.2807879\tbest: 0.2807879 (113)\ttotal: 2.91s\tremaining: 918ms\n",
            "114:\tlearn: 0.2886748\ttest: 0.2806493\tbest: 0.2806493 (114)\ttotal: 2.93s\tremaining: 893ms\n",
            "115:\tlearn: 0.2885894\ttest: 0.2805192\tbest: 0.2805192 (115)\ttotal: 2.96s\tremaining: 867ms\n",
            "116:\tlearn: 0.2884894\ttest: 0.2803578\tbest: 0.2803578 (116)\ttotal: 2.98s\tremaining: 841ms\n",
            "117:\tlearn: 0.2883469\ttest: 0.2801909\tbest: 0.2801909 (117)\ttotal: 3.01s\tremaining: 816ms\n",
            "118:\tlearn: 0.2882423\ttest: 0.2800559\tbest: 0.2800559 (118)\ttotal: 3.04s\tremaining: 793ms\n",
            "119:\tlearn: 0.2881383\ttest: 0.2798983\tbest: 0.2798983 (119)\ttotal: 3.07s\tremaining: 768ms\n",
            "120:\tlearn: 0.2880790\ttest: 0.2798129\tbest: 0.2798129 (120)\ttotal: 3.09s\tremaining: 742ms\n",
            "121:\tlearn: 0.2880245\ttest: 0.2797021\tbest: 0.2797021 (121)\ttotal: 3.12s\tremaining: 716ms\n",
            "122:\tlearn: 0.2879318\ttest: 0.2795823\tbest: 0.2795823 (122)\ttotal: 3.15s\tremaining: 692ms\n",
            "123:\tlearn: 0.2878588\ttest: 0.2794767\tbest: 0.2794767 (123)\ttotal: 3.18s\tremaining: 667ms\n",
            "124:\tlearn: 0.2877923\ttest: 0.2793874\tbest: 0.2793874 (124)\ttotal: 3.21s\tremaining: 642ms\n",
            "125:\tlearn: 0.2877062\ttest: 0.2792865\tbest: 0.2792865 (125)\ttotal: 3.23s\tremaining: 616ms\n",
            "126:\tlearn: 0.2875978\ttest: 0.2791519\tbest: 0.2791519 (126)\ttotal: 3.27s\tremaining: 592ms\n",
            "127:\tlearn: 0.2875017\ttest: 0.2790392\tbest: 0.2790392 (127)\ttotal: 3.31s\tremaining: 569ms\n",
            "128:\tlearn: 0.2874345\ttest: 0.2789455\tbest: 0.2789455 (128)\ttotal: 3.33s\tremaining: 543ms\n",
            "129:\tlearn: 0.2873525\ttest: 0.2788377\tbest: 0.2788377 (129)\ttotal: 3.36s\tremaining: 517ms\n",
            "130:\tlearn: 0.2872804\ttest: 0.2787471\tbest: 0.2787471 (130)\ttotal: 3.38s\tremaining: 490ms\n",
            "131:\tlearn: 0.2872246\ttest: 0.2786557\tbest: 0.2786557 (131)\ttotal: 3.4s\tremaining: 464ms\n",
            "132:\tlearn: 0.2871592\ttest: 0.2785664\tbest: 0.2785664 (132)\ttotal: 3.42s\tremaining: 438ms\n",
            "133:\tlearn: 0.2870991\ttest: 0.2784881\tbest: 0.2784881 (133)\ttotal: 3.46s\tremaining: 413ms\n",
            "134:\tlearn: 0.2870254\ttest: 0.2783758\tbest: 0.2783758 (134)\ttotal: 3.51s\tremaining: 390ms\n",
            "135:\tlearn: 0.2869472\ttest: 0.2782752\tbest: 0.2782752 (135)\ttotal: 3.53s\tremaining: 364ms\n",
            "136:\tlearn: 0.2868727\ttest: 0.2781762\tbest: 0.2781762 (136)\ttotal: 3.55s\tremaining: 337ms\n",
            "137:\tlearn: 0.2867909\ttest: 0.2780876\tbest: 0.2780876 (137)\ttotal: 3.58s\tremaining: 311ms\n",
            "138:\tlearn: 0.2867305\ttest: 0.2779962\tbest: 0.2779962 (138)\ttotal: 3.6s\tremaining: 285ms\n",
            "139:\tlearn: 0.2866678\ttest: 0.2779190\tbest: 0.2779190 (139)\ttotal: 3.63s\tremaining: 259ms\n",
            "140:\tlearn: 0.2866193\ttest: 0.2778477\tbest: 0.2778477 (140)\ttotal: 3.65s\tremaining: 233ms\n",
            "141:\tlearn: 0.2865834\ttest: 0.2778030\tbest: 0.2778030 (141)\ttotal: 3.67s\tremaining: 207ms\n",
            "142:\tlearn: 0.2865114\ttest: 0.2777219\tbest: 0.2777219 (142)\ttotal: 3.7s\tremaining: 181ms\n",
            "143:\tlearn: 0.2864361\ttest: 0.2776525\tbest: 0.2776525 (143)\ttotal: 3.74s\tremaining: 156ms\n",
            "144:\tlearn: 0.2863055\ttest: 0.2775774\tbest: 0.2775774 (144)\ttotal: 3.77s\tremaining: 130ms\n",
            "145:\tlearn: 0.2861637\ttest: 0.2774491\tbest: 0.2774491 (145)\ttotal: 3.79s\tremaining: 104ms\n",
            "146:\tlearn: 0.2860582\ttest: 0.2773613\tbest: 0.2773613 (146)\ttotal: 3.81s\tremaining: 77.9ms\n",
            "147:\tlearn: 0.2859648\ttest: 0.2773055\tbest: 0.2773055 (147)\ttotal: 3.84s\tremaining: 51.9ms\n",
            "148:\tlearn: 0.2858458\ttest: 0.2772304\tbest: 0.2772304 (148)\ttotal: 3.87s\tremaining: 26ms\n",
            "149:\tlearn: 0.2857341\ttest: 0.2771339\tbest: 0.2771339 (149)\ttotal: 3.89s\tremaining: 0us\n",
            "\n",
            "bestTest = 0.2771338943\n",
            "bestIteration = 149\n",
            "\n",
            "Training on fold [0/3]\n",
            "0:\tlearn: 0.6266443\ttest: 0.6315580\tbest: 0.6315580 (0)\ttotal: 26.6ms\tremaining: 3.97s\n",
            "1:\tlearn: 0.6157695\ttest: 0.6205507\tbest: 0.6205507 (1)\ttotal: 50ms\tremaining: 3.7s\n",
            "2:\tlearn: 0.6053419\ttest: 0.6099814\tbest: 0.6099814 (2)\ttotal: 77.3ms\tremaining: 3.79s\n",
            "3:\tlearn: 0.5953606\ttest: 0.5998646\tbest: 0.5998646 (3)\ttotal: 101ms\tremaining: 3.69s\n",
            "4:\tlearn: 0.5857500\ttest: 0.5901256\tbest: 0.5901256 (4)\ttotal: 122ms\tremaining: 3.55s\n",
            "5:\tlearn: 0.5766018\ttest: 0.5808225\tbest: 0.5808225 (5)\ttotal: 144ms\tremaining: 3.46s\n",
            "6:\tlearn: 0.5677495\ttest: 0.5718523\tbest: 0.5718523 (6)\ttotal: 164ms\tremaining: 3.35s\n",
            "7:\tlearn: 0.5593934\ttest: 0.5633663\tbest: 0.5633663 (7)\ttotal: 185ms\tremaining: 3.29s\n",
            "8:\tlearn: 0.5514719\ttest: 0.5553149\tbest: 0.5553149 (8)\ttotal: 209ms\tremaining: 3.27s\n",
            "9:\tlearn: 0.5437371\ttest: 0.5474846\tbest: 0.5474846 (9)\ttotal: 240ms\tremaining: 3.36s\n",
            "10:\tlearn: 0.5363952\ttest: 0.5400349\tbest: 0.5400349 (10)\ttotal: 262ms\tremaining: 3.31s\n",
            "11:\tlearn: 0.5294181\ttest: 0.5329351\tbest: 0.5329351 (11)\ttotal: 284ms\tremaining: 3.27s\n",
            "12:\tlearn: 0.5228577\ttest: 0.5262551\tbest: 0.5262551 (12)\ttotal: 307ms\tremaining: 3.24s\n",
            "13:\tlearn: 0.5165322\ttest: 0.5198116\tbest: 0.5198116 (13)\ttotal: 328ms\tremaining: 3.18s\n",
            "14:\tlearn: 0.5105701\ttest: 0.5137340\tbest: 0.5137340 (14)\ttotal: 348ms\tremaining: 3.13s\n",
            "15:\tlearn: 0.5048777\ttest: 0.5079215\tbest: 0.5079215 (15)\ttotal: 369ms\tremaining: 3.09s\n",
            "16:\tlearn: 0.4993686\ttest: 0.5023122\tbest: 0.5023122 (16)\ttotal: 393ms\tremaining: 3.07s\n",
            "17:\tlearn: 0.4941170\ttest: 0.4969495\tbest: 0.4969495 (17)\ttotal: 415ms\tremaining: 3.04s\n",
            "18:\tlearn: 0.4891548\ttest: 0.4918701\tbest: 0.4918701 (18)\ttotal: 436ms\tremaining: 3.01s\n",
            "19:\tlearn: 0.4843635\ttest: 0.4869745\tbest: 0.4869745 (19)\ttotal: 463ms\tremaining: 3.01s\n",
            "20:\tlearn: 0.4798694\ttest: 0.4823734\tbest: 0.4823734 (20)\ttotal: 510ms\tremaining: 3.13s\n",
            "21:\tlearn: 0.4712164\ttest: 0.4734478\tbest: 0.4734478 (21)\ttotal: 545ms\tremaining: 3.17s\n",
            "22:\tlearn: 0.4628212\ttest: 0.4648677\tbest: 0.4648677 (22)\ttotal: 573ms\tremaining: 3.17s\n",
            "23:\tlearn: 0.4549139\ttest: 0.4567086\tbest: 0.4567086 (23)\ttotal: 596ms\tremaining: 3.13s\n",
            "24:\tlearn: 0.4469756\ttest: 0.4486056\tbest: 0.4486056 (24)\ttotal: 620ms\tremaining: 3.1s\n",
            "25:\tlearn: 0.4393750\ttest: 0.4408297\tbest: 0.4408297 (25)\ttotal: 643ms\tremaining: 3.07s\n",
            "26:\tlearn: 0.4323724\ttest: 0.4336177\tbest: 0.4336177 (26)\ttotal: 676ms\tremaining: 3.08s\n",
            "27:\tlearn: 0.4255282\ttest: 0.4265879\tbest: 0.4265879 (27)\ttotal: 698ms\tremaining: 3.04s\n",
            "28:\tlearn: 0.4188752\ttest: 0.4197466\tbest: 0.4197466 (28)\ttotal: 720ms\tremaining: 3s\n",
            "29:\tlearn: 0.4125778\ttest: 0.4133014\tbest: 0.4133014 (29)\ttotal: 745ms\tremaining: 2.98s\n",
            "30:\tlearn: 0.4065002\ttest: 0.4070312\tbest: 0.4070312 (30)\ttotal: 766ms\tremaining: 2.94s\n",
            "31:\tlearn: 0.4007343\ttest: 0.4010836\tbest: 0.4010836 (31)\ttotal: 791ms\tremaining: 2.92s\n",
            "32:\tlearn: 0.3952581\ttest: 0.3954322\tbest: 0.3954322 (32)\ttotal: 816ms\tremaining: 2.89s\n",
            "33:\tlearn: 0.3902595\ttest: 0.3901135\tbest: 0.3901135 (33)\ttotal: 837ms\tremaining: 2.85s\n",
            "34:\tlearn: 0.3852987\ttest: 0.3848837\tbest: 0.3848837 (34)\ttotal: 859ms\tremaining: 2.82s\n",
            "35:\tlearn: 0.3804654\ttest: 0.3797912\tbest: 0.3797912 (35)\ttotal: 890ms\tremaining: 2.82s\n",
            "36:\tlearn: 0.3759725\ttest: 0.3750730\tbest: 0.3750730 (36)\ttotal: 913ms\tremaining: 2.79s\n",
            "37:\tlearn: 0.3717482\ttest: 0.3706492\tbest: 0.3706492 (37)\ttotal: 933ms\tremaining: 2.75s\n",
            "38:\tlearn: 0.3676139\ttest: 0.3662694\tbest: 0.3662694 (38)\ttotal: 956ms\tremaining: 2.72s\n",
            "39:\tlearn: 0.3636867\ttest: 0.3621598\tbest: 0.3621598 (39)\ttotal: 977ms\tremaining: 2.69s\n",
            "40:\tlearn: 0.3599167\ttest: 0.3581767\tbest: 0.3581767 (40)\ttotal: 999ms\tremaining: 2.65s\n",
            "41:\tlearn: 0.3563594\ttest: 0.3544251\tbest: 0.3544251 (41)\ttotal: 1.02s\tremaining: 2.62s\n",
            "42:\tlearn: 0.3531926\ttest: 0.3510272\tbest: 0.3510272 (42)\ttotal: 1.04s\tremaining: 2.59s\n",
            "43:\tlearn: 0.3500066\ttest: 0.3476547\tbest: 0.3476547 (43)\ttotal: 1.07s\tremaining: 2.58s\n",
            "44:\tlearn: 0.3469466\ttest: 0.3443728\tbest: 0.3443728 (44)\ttotal: 1.1s\tremaining: 2.56s\n",
            "45:\tlearn: 0.3440818\ttest: 0.3413037\tbest: 0.3413037 (45)\ttotal: 1.12s\tremaining: 2.53s\n",
            "46:\tlearn: 0.3414030\ttest: 0.3384461\tbest: 0.3384461 (46)\ttotal: 1.14s\tremaining: 2.5s\n",
            "47:\tlearn: 0.3386694\ttest: 0.3354492\tbest: 0.3354492 (47)\ttotal: 1.16s\tremaining: 2.47s\n",
            "48:\tlearn: 0.3361594\ttest: 0.3327515\tbest: 0.3327515 (48)\ttotal: 1.19s\tremaining: 2.44s\n",
            "49:\tlearn: 0.3337580\ttest: 0.3301433\tbest: 0.3301433 (49)\ttotal: 1.21s\tremaining: 2.42s\n",
            "50:\tlearn: 0.3314225\ttest: 0.3276005\tbest: 0.3276005 (50)\ttotal: 1.23s\tremaining: 2.39s\n",
            "51:\tlearn: 0.3292596\ttest: 0.3252338\tbest: 0.3252338 (51)\ttotal: 1.26s\tremaining: 2.37s\n",
            "52:\tlearn: 0.3272023\ttest: 0.3230263\tbest: 0.3230263 (52)\ttotal: 1.28s\tremaining: 2.34s\n",
            "53:\tlearn: 0.3252236\ttest: 0.3208443\tbest: 0.3208443 (53)\ttotal: 1.31s\tremaining: 2.33s\n",
            "54:\tlearn: 0.3234564\ttest: 0.3188941\tbest: 0.3188941 (54)\ttotal: 1.34s\tremaining: 2.32s\n",
            "55:\tlearn: 0.3216429\ttest: 0.3168999\tbest: 0.3168999 (55)\ttotal: 1.37s\tremaining: 2.29s\n",
            "56:\tlearn: 0.3200663\ttest: 0.3151635\tbest: 0.3151635 (56)\ttotal: 1.39s\tremaining: 2.27s\n",
            "57:\tlearn: 0.3184413\ttest: 0.3133485\tbest: 0.3133485 (57)\ttotal: 1.42s\tremaining: 2.25s\n",
            "58:\tlearn: 0.3168978\ttest: 0.3116930\tbest: 0.3116930 (58)\ttotal: 1.45s\tremaining: 2.23s\n",
            "59:\tlearn: 0.3155439\ttest: 0.3101851\tbest: 0.3101851 (59)\ttotal: 1.48s\tremaining: 2.22s\n",
            "60:\tlearn: 0.3142537\ttest: 0.3087496\tbest: 0.3087496 (60)\ttotal: 1.5s\tremaining: 2.19s\n",
            "61:\tlearn: 0.3130007\ttest: 0.3073636\tbest: 0.3073636 (61)\ttotal: 1.54s\tremaining: 2.19s\n",
            "62:\tlearn: 0.3118190\ttest: 0.3060539\tbest: 0.3060539 (62)\ttotal: 1.58s\tremaining: 2.18s\n",
            "63:\tlearn: 0.3106785\ttest: 0.3047443\tbest: 0.3047443 (63)\ttotal: 1.6s\tremaining: 2.15s\n",
            "64:\tlearn: 0.3095783\ttest: 0.3035323\tbest: 0.3035323 (64)\ttotal: 1.63s\tremaining: 2.13s\n",
            "65:\tlearn: 0.3084596\ttest: 0.3022999\tbest: 0.3022999 (65)\ttotal: 1.65s\tremaining: 2.1s\n",
            "66:\tlearn: 0.3074603\ttest: 0.3011533\tbest: 0.3011533 (66)\ttotal: 1.67s\tremaining: 2.07s\n",
            "67:\tlearn: 0.3065310\ttest: 0.3001072\tbest: 0.3001072 (67)\ttotal: 1.7s\tremaining: 2.05s\n",
            "68:\tlearn: 0.3056929\ttest: 0.2991476\tbest: 0.2991476 (68)\ttotal: 1.73s\tremaining: 2.03s\n",
            "69:\tlearn: 0.3049423\ttest: 0.2982594\tbest: 0.2982594 (69)\ttotal: 1.76s\tremaining: 2.01s\n",
            "70:\tlearn: 0.3042058\ttest: 0.2974281\tbest: 0.2974281 (70)\ttotal: 1.78s\tremaining: 1.98s\n",
            "71:\tlearn: 0.3034885\ttest: 0.2966228\tbest: 0.2966228 (71)\ttotal: 1.8s\tremaining: 1.95s\n",
            "72:\tlearn: 0.3028107\ttest: 0.2958360\tbest: 0.2958360 (72)\ttotal: 1.83s\tremaining: 1.93s\n",
            "73:\tlearn: 0.3022237\ttest: 0.2951441\tbest: 0.2951441 (73)\ttotal: 1.85s\tremaining: 1.9s\n",
            "74:\tlearn: 0.3016937\ttest: 0.2945159\tbest: 0.2945159 (74)\ttotal: 1.86s\tremaining: 1.86s\n",
            "75:\tlearn: 0.3011483\ttest: 0.2938691\tbest: 0.2938691 (75)\ttotal: 1.88s\tremaining: 1.83s\n",
            "76:\tlearn: 0.3005777\ttest: 0.2932304\tbest: 0.2932304 (76)\ttotal: 1.91s\tremaining: 1.81s\n",
            "77:\tlearn: 0.3000673\ttest: 0.2926466\tbest: 0.2926466 (77)\ttotal: 1.93s\tremaining: 1.78s\n",
            "78:\tlearn: 0.2994589\ttest: 0.2919482\tbest: 0.2919482 (78)\ttotal: 1.97s\tremaining: 1.77s\n",
            "79:\tlearn: 0.2990612\ttest: 0.2914647\tbest: 0.2914647 (79)\ttotal: 1.99s\tremaining: 1.74s\n",
            "80:\tlearn: 0.2986035\ttest: 0.2909492\tbest: 0.2909492 (80)\ttotal: 2.01s\tremaining: 1.71s\n",
            "81:\tlearn: 0.2980962\ttest: 0.2903583\tbest: 0.2903583 (81)\ttotal: 2.03s\tremaining: 1.68s\n",
            "82:\tlearn: 0.2976937\ttest: 0.2898546\tbest: 0.2898546 (82)\ttotal: 2.05s\tremaining: 1.66s\n",
            "83:\tlearn: 0.2973818\ttest: 0.2894584\tbest: 0.2894584 (83)\ttotal: 2.07s\tremaining: 1.63s\n",
            "84:\tlearn: 0.2969822\ttest: 0.2890207\tbest: 0.2890207 (84)\ttotal: 2.09s\tremaining: 1.6s\n",
            "85:\tlearn: 0.2966072\ttest: 0.2885588\tbest: 0.2885588 (85)\ttotal: 2.11s\tremaining: 1.57s\n",
            "86:\tlearn: 0.2962859\ttest: 0.2881907\tbest: 0.2881907 (86)\ttotal: 2.13s\tremaining: 1.54s\n",
            "87:\tlearn: 0.2960350\ttest: 0.2878715\tbest: 0.2878715 (87)\ttotal: 2.15s\tremaining: 1.52s\n",
            "88:\tlearn: 0.2956594\ttest: 0.2874068\tbest: 0.2874068 (88)\ttotal: 2.18s\tremaining: 1.5s\n",
            "89:\tlearn: 0.2953801\ttest: 0.2870868\tbest: 0.2870868 (89)\ttotal: 2.23s\tremaining: 1.48s\n",
            "90:\tlearn: 0.2950738\ttest: 0.2867259\tbest: 0.2867259 (90)\ttotal: 2.25s\tremaining: 1.46s\n",
            "91:\tlearn: 0.2947512\ttest: 0.2863306\tbest: 0.2863306 (91)\ttotal: 2.27s\tremaining: 1.43s\n",
            "92:\tlearn: 0.2943733\ttest: 0.2859142\tbest: 0.2859142 (92)\ttotal: 2.29s\tremaining: 1.41s\n",
            "93:\tlearn: 0.2941050\ttest: 0.2855904\tbest: 0.2855904 (93)\ttotal: 2.32s\tremaining: 1.38s\n",
            "94:\tlearn: 0.2938559\ttest: 0.2852633\tbest: 0.2852633 (94)\ttotal: 2.35s\tremaining: 1.36s\n",
            "95:\tlearn: 0.2936008\ttest: 0.2849856\tbest: 0.2849856 (95)\ttotal: 2.37s\tremaining: 1.33s\n",
            "96:\tlearn: 0.2933530\ttest: 0.2847085\tbest: 0.2847085 (96)\ttotal: 2.4s\tremaining: 1.31s\n",
            "97:\tlearn: 0.2931454\ttest: 0.2844713\tbest: 0.2844713 (97)\ttotal: 2.42s\tremaining: 1.29s\n",
            "98:\tlearn: 0.2929116\ttest: 0.2842067\tbest: 0.2842067 (98)\ttotal: 2.45s\tremaining: 1.26s\n",
            "99:\tlearn: 0.2926568\ttest: 0.2839182\tbest: 0.2839182 (99)\ttotal: 2.48s\tremaining: 1.24s\n",
            "100:\tlearn: 0.2924978\ttest: 0.2837321\tbest: 0.2837321 (100)\ttotal: 2.5s\tremaining: 1.21s\n",
            "101:\tlearn: 0.2923362\ttest: 0.2835491\tbest: 0.2835491 (101)\ttotal: 2.52s\tremaining: 1.19s\n",
            "102:\tlearn: 0.2921146\ttest: 0.2832830\tbest: 0.2832830 (102)\ttotal: 2.54s\tremaining: 1.16s\n",
            "103:\tlearn: 0.2919370\ttest: 0.2830595\tbest: 0.2830595 (103)\ttotal: 2.57s\tremaining: 1.14s\n",
            "104:\tlearn: 0.2917744\ttest: 0.2828620\tbest: 0.2828620 (104)\ttotal: 2.6s\tremaining: 1.11s\n",
            "105:\tlearn: 0.2915817\ttest: 0.2826539\tbest: 0.2826539 (105)\ttotal: 2.62s\tremaining: 1.09s\n",
            "106:\tlearn: 0.2914538\ttest: 0.2825022\tbest: 0.2825022 (106)\ttotal: 2.64s\tremaining: 1.06s\n",
            "107:\tlearn: 0.2913013\ttest: 0.2823216\tbest: 0.2823216 (107)\ttotal: 2.67s\tremaining: 1.04s\n",
            "108:\tlearn: 0.2911834\ttest: 0.2821988\tbest: 0.2821988 (108)\ttotal: 2.69s\tremaining: 1.01s\n",
            "109:\tlearn: 0.2909753\ttest: 0.2819732\tbest: 0.2819732 (109)\ttotal: 2.71s\tremaining: 986ms\n",
            "110:\tlearn: 0.2908331\ttest: 0.2818342\tbest: 0.2818342 (110)\ttotal: 2.73s\tremaining: 960ms\n",
            "111:\tlearn: 0.2907360\ttest: 0.2817152\tbest: 0.2817152 (111)\ttotal: 2.76s\tremaining: 935ms\n",
            "112:\tlearn: 0.2906116\ttest: 0.2815826\tbest: 0.2815826 (112)\ttotal: 2.78s\tremaining: 910ms\n",
            "113:\tlearn: 0.2904859\ttest: 0.2814321\tbest: 0.2814321 (113)\ttotal: 2.8s\tremaining: 884ms\n",
            "114:\tlearn: 0.2903730\ttest: 0.2813175\tbest: 0.2813175 (114)\ttotal: 2.82s\tremaining: 858ms\n",
            "115:\tlearn: 0.2903283\ttest: 0.2812413\tbest: 0.2812413 (115)\ttotal: 2.84s\tremaining: 833ms\n",
            "116:\tlearn: 0.2902495\ttest: 0.2811489\tbest: 0.2811489 (116)\ttotal: 2.87s\tremaining: 808ms\n",
            "117:\tlearn: 0.2901376\ttest: 0.2810113\tbest: 0.2810113 (117)\ttotal: 2.89s\tremaining: 783ms\n",
            "118:\tlearn: 0.2900500\ttest: 0.2808941\tbest: 0.2808941 (118)\ttotal: 2.91s\tremaining: 758ms\n",
            "119:\tlearn: 0.2899752\ttest: 0.2808048\tbest: 0.2808048 (119)\ttotal: 2.93s\tremaining: 733ms\n",
            "120:\tlearn: 0.2898319\ttest: 0.2806550\tbest: 0.2806550 (120)\ttotal: 2.96s\tremaining: 709ms\n",
            "121:\tlearn: 0.2897515\ttest: 0.2805733\tbest: 0.2805733 (121)\ttotal: 2.98s\tremaining: 684ms\n",
            "122:\tlearn: 0.2896783\ttest: 0.2805040\tbest: 0.2805040 (122)\ttotal: 3s\tremaining: 659ms\n",
            "123:\tlearn: 0.2896060\ttest: 0.2804248\tbest: 0.2804248 (123)\ttotal: 3.02s\tremaining: 634ms\n",
            "124:\tlearn: 0.2895482\ttest: 0.2803656\tbest: 0.2803656 (124)\ttotal: 3.05s\tremaining: 611ms\n",
            "125:\tlearn: 0.2894442\ttest: 0.2802417\tbest: 0.2802417 (125)\ttotal: 3.08s\tremaining: 586ms\n",
            "126:\tlearn: 0.2893375\ttest: 0.2801096\tbest: 0.2801096 (126)\ttotal: 3.1s\tremaining: 561ms\n",
            "127:\tlearn: 0.2892418\ttest: 0.2799993\tbest: 0.2799993 (127)\ttotal: 3.12s\tremaining: 536ms\n",
            "128:\tlearn: 0.2891505\ttest: 0.2799105\tbest: 0.2799105 (128)\ttotal: 3.14s\tremaining: 512ms\n",
            "129:\tlearn: 0.2890894\ttest: 0.2798396\tbest: 0.2798396 (129)\ttotal: 3.17s\tremaining: 487ms\n",
            "130:\tlearn: 0.2889922\ttest: 0.2797396\tbest: 0.2797396 (130)\ttotal: 3.19s\tremaining: 462ms\n",
            "131:\tlearn: 0.2889285\ttest: 0.2796863\tbest: 0.2796863 (131)\ttotal: 3.21s\tremaining: 438ms\n",
            "132:\tlearn: 0.2888246\ttest: 0.2795863\tbest: 0.2795863 (132)\ttotal: 3.23s\tremaining: 413ms\n",
            "133:\tlearn: 0.2887802\ttest: 0.2795368\tbest: 0.2795368 (133)\ttotal: 3.25s\tremaining: 388ms\n",
            "134:\tlearn: 0.2886359\ttest: 0.2793753\tbest: 0.2793753 (134)\ttotal: 3.28s\tremaining: 365ms\n",
            "135:\tlearn: 0.2885152\ttest: 0.2792366\tbest: 0.2792366 (135)\ttotal: 3.31s\tremaining: 340ms\n",
            "136:\tlearn: 0.2883895\ttest: 0.2790869\tbest: 0.2790869 (136)\ttotal: 3.33s\tremaining: 316ms\n",
            "137:\tlearn: 0.2882729\ttest: 0.2789525\tbest: 0.2789525 (137)\ttotal: 3.35s\tremaining: 291ms\n",
            "138:\tlearn: 0.2881833\ttest: 0.2788623\tbest: 0.2788623 (138)\ttotal: 3.37s\tremaining: 267ms\n",
            "139:\tlearn: 0.2880889\ttest: 0.2787600\tbest: 0.2787600 (139)\ttotal: 3.39s\tremaining: 242ms\n",
            "140:\tlearn: 0.2880006\ttest: 0.2786439\tbest: 0.2786439 (140)\ttotal: 3.41s\tremaining: 218ms\n",
            "141:\tlearn: 0.2879242\ttest: 0.2785586\tbest: 0.2785586 (141)\ttotal: 3.44s\tremaining: 194ms\n",
            "142:\tlearn: 0.2878254\ttest: 0.2784764\tbest: 0.2784764 (142)\ttotal: 3.47s\tremaining: 170ms\n",
            "143:\tlearn: 0.2877348\ttest: 0.2783867\tbest: 0.2783867 (143)\ttotal: 3.5s\tremaining: 146ms\n",
            "144:\tlearn: 0.2876606\ttest: 0.2783163\tbest: 0.2783163 (144)\ttotal: 3.52s\tremaining: 121ms\n",
            "145:\tlearn: 0.2876094\ttest: 0.2782728\tbest: 0.2782728 (145)\ttotal: 3.54s\tremaining: 97ms\n",
            "146:\tlearn: 0.2875175\ttest: 0.2781748\tbest: 0.2781748 (146)\ttotal: 3.56s\tremaining: 72.7ms\n",
            "147:\tlearn: 0.2874624\ttest: 0.2781258\tbest: 0.2781258 (147)\ttotal: 3.6s\tremaining: 48.7ms\n",
            "148:\tlearn: 0.2874060\ttest: 0.2780732\tbest: 0.2780732 (148)\ttotal: 3.62s\tremaining: 24.3ms\n",
            "149:\tlearn: 0.2873405\ttest: 0.2779953\tbest: 0.2779953 (149)\ttotal: 3.64s\tremaining: 0us\n",
            "\n",
            "bestTest = 0.277995313\n",
            "bestIteration = 149\n",
            "\n",
            "Training on fold [1/3]\n",
            "0:\tlearn: 0.6305423\ttest: 0.6234218\tbest: 0.6234218 (0)\ttotal: 29.1ms\tremaining: 4.34s\n",
            "1:\tlearn: 0.6194745\ttest: 0.6125014\tbest: 0.6125014 (1)\ttotal: 54.5ms\tremaining: 4.03s\n",
            "2:\tlearn: 0.6088498\ttest: 0.6020151\tbest: 0.6020151 (2)\ttotal: 74.2ms\tremaining: 3.64s\n",
            "3:\tlearn: 0.5986865\ttest: 0.5919968\tbest: 0.5919968 (3)\ttotal: 96.6ms\tremaining: 3.53s\n",
            "4:\tlearn: 0.5889052\ttest: 0.5823590\tbest: 0.5823590 (4)\ttotal: 116ms\tremaining: 3.37s\n",
            "5:\tlearn: 0.5795811\ttest: 0.5731786\tbest: 0.5731786 (5)\ttotal: 136ms\tremaining: 3.26s\n",
            "6:\tlearn: 0.5705699\ttest: 0.5643055\tbest: 0.5643055 (6)\ttotal: 156ms\tremaining: 3.19s\n",
            "7:\tlearn: 0.5620520\ttest: 0.5559306\tbest: 0.5559306 (7)\ttotal: 177ms\tremaining: 3.15s\n",
            "8:\tlearn: 0.5539874\ttest: 0.5479964\tbest: 0.5479964 (8)\ttotal: 194ms\tremaining: 3.03s\n",
            "9:\tlearn: 0.5461278\ttest: 0.5402686\tbest: 0.5402686 (9)\ttotal: 216ms\tremaining: 3.02s\n",
            "10:\tlearn: 0.5386555\ttest: 0.5329302\tbest: 0.5329302 (10)\ttotal: 243ms\tremaining: 3.07s\n",
            "11:\tlearn: 0.5315282\ttest: 0.5259458\tbest: 0.5259458 (11)\ttotal: 266ms\tremaining: 3.06s\n",
            "12:\tlearn: 0.5248420\ttest: 0.5193873\tbest: 0.5193873 (12)\ttotal: 288ms\tremaining: 3.03s\n",
            "13:\tlearn: 0.5184020\ttest: 0.5130805\tbest: 0.5130805 (13)\ttotal: 309ms\tremaining: 3s\n",
            "14:\tlearn: 0.5123136\ttest: 0.5071341\tbest: 0.5071341 (14)\ttotal: 328ms\tremaining: 2.95s\n",
            "15:\tlearn: 0.5065060\ttest: 0.5014560\tbest: 0.5014560 (15)\ttotal: 352ms\tremaining: 2.95s\n",
            "16:\tlearn: 0.5008609\ttest: 0.4959546\tbest: 0.4959546 (16)\ttotal: 375ms\tremaining: 2.94s\n",
            "17:\tlearn: 0.4954852\ttest: 0.4907341\tbest: 0.4907341 (17)\ttotal: 397ms\tremaining: 2.91s\n",
            "18:\tlearn: 0.4904133\ttest: 0.4857985\tbest: 0.4857985 (18)\ttotal: 417ms\tremaining: 2.88s\n",
            "19:\tlearn: 0.4855246\ttest: 0.4810445\tbest: 0.4810445 (19)\ttotal: 438ms\tremaining: 2.85s\n",
            "20:\tlearn: 0.4808111\ttest: 0.4764708\tbest: 0.4764708 (20)\ttotal: 469ms\tremaining: 2.88s\n",
            "21:\tlearn: 0.4763935\ttest: 0.4721774\tbest: 0.4721774 (21)\ttotal: 493ms\tremaining: 2.87s\n",
            "22:\tlearn: 0.4680600\ttest: 0.4638275\tbest: 0.4638275 (22)\ttotal: 516ms\tremaining: 2.85s\n",
            "23:\tlearn: 0.4599287\ttest: 0.4557409\tbest: 0.4557409 (23)\ttotal: 546ms\tremaining: 2.87s\n",
            "24:\tlearn: 0.4520439\ttest: 0.4478819\tbest: 0.4478819 (24)\ttotal: 567ms\tremaining: 2.83s\n",
            "25:\tlearn: 0.4447888\ttest: 0.4405941\tbest: 0.4405941 (25)\ttotal: 588ms\tremaining: 2.8s\n",
            "26:\tlearn: 0.4375058\ttest: 0.4333071\tbest: 0.4333071 (26)\ttotal: 611ms\tremaining: 2.78s\n",
            "27:\tlearn: 0.4304089\ttest: 0.4261783\tbest: 0.4261783 (27)\ttotal: 641ms\tremaining: 2.79s\n",
            "28:\tlearn: 0.4234903\ttest: 0.4192815\tbest: 0.4192815 (28)\ttotal: 662ms\tremaining: 2.76s\n",
            "29:\tlearn: 0.4170051\ttest: 0.4128250\tbest: 0.4128250 (29)\ttotal: 693ms\tremaining: 2.77s\n",
            "30:\tlearn: 0.4107240\ttest: 0.4065309\tbest: 0.4065309 (30)\ttotal: 716ms\tremaining: 2.75s\n",
            "31:\tlearn: 0.4047895\ttest: 0.4005975\tbest: 0.4005975 (31)\ttotal: 740ms\tremaining: 2.73s\n",
            "32:\tlearn: 0.3990880\ttest: 0.3949033\tbest: 0.3949033 (32)\ttotal: 768ms\tremaining: 2.72s\n",
            "33:\tlearn: 0.3936507\ttest: 0.3894707\tbest: 0.3894707 (33)\ttotal: 796ms\tremaining: 2.71s\n",
            "34:\tlearn: 0.3884353\ttest: 0.3842224\tbest: 0.3842224 (34)\ttotal: 818ms\tremaining: 2.69s\n",
            "35:\tlearn: 0.3837054\ttest: 0.3793495\tbest: 0.3793495 (35)\ttotal: 842ms\tremaining: 2.67s\n",
            "36:\tlearn: 0.3790962\ttest: 0.3747029\tbest: 0.3747029 (36)\ttotal: 864ms\tremaining: 2.64s\n",
            "37:\tlearn: 0.3745841\ttest: 0.3701630\tbest: 0.3701630 (37)\ttotal: 886ms\tremaining: 2.61s\n",
            "38:\tlearn: 0.3703132\ttest: 0.3658225\tbest: 0.3658225 (38)\ttotal: 932ms\tremaining: 2.65s\n",
            "39:\tlearn: 0.3662773\ttest: 0.3617289\tbest: 0.3617289 (39)\ttotal: 957ms\tremaining: 2.63s\n",
            "40:\tlearn: 0.3625933\ttest: 0.3579764\tbest: 0.3579764 (40)\ttotal: 976ms\tremaining: 2.59s\n",
            "41:\tlearn: 0.3588602\ttest: 0.3541460\tbest: 0.3541460 (41)\ttotal: 997ms\tremaining: 2.56s\n",
            "42:\tlearn: 0.3554680\ttest: 0.3506722\tbest: 0.3506722 (42)\ttotal: 1.02s\tremaining: 2.54s\n",
            "43:\tlearn: 0.3520860\ttest: 0.3472087\tbest: 0.3472087 (43)\ttotal: 1.04s\tremaining: 2.51s\n",
            "44:\tlearn: 0.3489778\ttest: 0.3440066\tbest: 0.3440066 (44)\ttotal: 1.06s\tremaining: 2.48s\n",
            "45:\tlearn: 0.3459181\ttest: 0.3407799\tbest: 0.3407799 (45)\ttotal: 1.09s\tremaining: 2.46s\n",
            "46:\tlearn: 0.3431510\ttest: 0.3379218\tbest: 0.3379218 (46)\ttotal: 1.11s\tremaining: 2.43s\n",
            "47:\tlearn: 0.3403345\ttest: 0.3349759\tbest: 0.3349759 (47)\ttotal: 1.13s\tremaining: 2.4s\n",
            "48:\tlearn: 0.3377210\ttest: 0.3322926\tbest: 0.3322926 (48)\ttotal: 1.16s\tremaining: 2.38s\n",
            "49:\tlearn: 0.3351287\ttest: 0.3296213\tbest: 0.3296213 (49)\ttotal: 1.18s\tremaining: 2.35s\n",
            "50:\tlearn: 0.3328692\ttest: 0.3272010\tbest: 0.3272010 (50)\ttotal: 1.2s\tremaining: 2.33s\n",
            "51:\tlearn: 0.3307388\ttest: 0.3249258\tbest: 0.3249258 (51)\ttotal: 1.23s\tremaining: 2.31s\n",
            "52:\tlearn: 0.3286120\ttest: 0.3227498\tbest: 0.3227498 (52)\ttotal: 1.25s\tremaining: 2.29s\n",
            "53:\tlearn: 0.3265161\ttest: 0.3205703\tbest: 0.3205703 (53)\ttotal: 1.27s\tremaining: 2.26s\n",
            "54:\tlearn: 0.3246889\ttest: 0.3186572\tbest: 0.3186572 (54)\ttotal: 1.29s\tremaining: 2.23s\n",
            "55:\tlearn: 0.3229264\ttest: 0.3167878\tbest: 0.3167878 (55)\ttotal: 1.31s\tremaining: 2.21s\n",
            "56:\tlearn: 0.3211776\ttest: 0.3149356\tbest: 0.3149356 (56)\ttotal: 1.33s\tremaining: 2.18s\n",
            "57:\tlearn: 0.3194582\ttest: 0.3131187\tbest: 0.3131187 (57)\ttotal: 1.36s\tremaining: 2.16s\n",
            "58:\tlearn: 0.3179784\ttest: 0.3115329\tbest: 0.3115329 (58)\ttotal: 1.39s\tremaining: 2.15s\n",
            "59:\tlearn: 0.3164446\ttest: 0.3099253\tbest: 0.3099253 (59)\ttotal: 1.41s\tremaining: 2.12s\n",
            "60:\tlearn: 0.3151253\ttest: 0.3084995\tbest: 0.3084995 (60)\ttotal: 1.44s\tremaining: 2.1s\n",
            "61:\tlearn: 0.3138096\ttest: 0.3071193\tbest: 0.3071193 (61)\ttotal: 1.46s\tremaining: 2.08s\n",
            "62:\tlearn: 0.3125239\ttest: 0.3057437\tbest: 0.3057437 (62)\ttotal: 1.48s\tremaining: 2.05s\n",
            "63:\tlearn: 0.3113273\ttest: 0.3044724\tbest: 0.3044724 (63)\ttotal: 1.51s\tremaining: 2.02s\n",
            "64:\tlearn: 0.3102029\ttest: 0.3032343\tbest: 0.3032343 (64)\ttotal: 1.53s\tremaining: 2s\n",
            "65:\tlearn: 0.3091600\ttest: 0.3020877\tbest: 0.3020877 (65)\ttotal: 1.55s\tremaining: 1.98s\n",
            "66:\tlearn: 0.3081651\ttest: 0.3010344\tbest: 0.3010344 (66)\ttotal: 1.58s\tremaining: 1.96s\n",
            "67:\tlearn: 0.3071782\ttest: 0.2999539\tbest: 0.2999539 (67)\ttotal: 1.61s\tremaining: 1.94s\n",
            "68:\tlearn: 0.3063032\ttest: 0.2990174\tbest: 0.2990174 (68)\ttotal: 1.63s\tremaining: 1.91s\n",
            "69:\tlearn: 0.3054685\ttest: 0.2981041\tbest: 0.2981041 (69)\ttotal: 1.66s\tremaining: 1.9s\n",
            "70:\tlearn: 0.3047036\ttest: 0.2972528\tbest: 0.2972528 (70)\ttotal: 1.69s\tremaining: 1.88s\n",
            "71:\tlearn: 0.3039934\ttest: 0.2964910\tbest: 0.2964910 (71)\ttotal: 1.72s\tremaining: 1.86s\n",
            "72:\tlearn: 0.3032993\ttest: 0.2957357\tbest: 0.2957357 (72)\ttotal: 1.75s\tremaining: 1.85s\n",
            "73:\tlearn: 0.3026216\ttest: 0.2950031\tbest: 0.2950031 (73)\ttotal: 1.79s\tremaining: 1.84s\n",
            "74:\tlearn: 0.3020732\ttest: 0.2943959\tbest: 0.2943959 (74)\ttotal: 1.81s\tremaining: 1.81s\n",
            "75:\tlearn: 0.3014902\ttest: 0.2937352\tbest: 0.2937352 (75)\ttotal: 1.83s\tremaining: 1.78s\n",
            "76:\tlearn: 0.3009032\ttest: 0.2931014\tbest: 0.2931014 (76)\ttotal: 1.85s\tremaining: 1.76s\n",
            "77:\tlearn: 0.3003581\ttest: 0.2924934\tbest: 0.2924934 (77)\ttotal: 1.88s\tremaining: 1.73s\n",
            "78:\tlearn: 0.2997861\ttest: 0.2918660\tbest: 0.2918660 (78)\ttotal: 1.9s\tremaining: 1.71s\n",
            "79:\tlearn: 0.2993685\ttest: 0.2913744\tbest: 0.2913744 (79)\ttotal: 1.94s\tremaining: 1.69s\n",
            "80:\tlearn: 0.2988819\ttest: 0.2908436\tbest: 0.2908436 (80)\ttotal: 1.97s\tremaining: 1.68s\n",
            "81:\tlearn: 0.2984062\ttest: 0.2902917\tbest: 0.2902917 (81)\ttotal: 1.99s\tremaining: 1.65s\n",
            "82:\tlearn: 0.2979569\ttest: 0.2897803\tbest: 0.2897803 (82)\ttotal: 2.02s\tremaining: 1.63s\n",
            "83:\tlearn: 0.2975306\ttest: 0.2892904\tbest: 0.2892904 (83)\ttotal: 2.04s\tremaining: 1.6s\n",
            "84:\tlearn: 0.2971018\ttest: 0.2887880\tbest: 0.2887880 (84)\ttotal: 2.07s\tremaining: 1.58s\n",
            "85:\tlearn: 0.2966862\ttest: 0.2883223\tbest: 0.2883223 (85)\ttotal: 2.09s\tremaining: 1.55s\n",
            "86:\tlearn: 0.2962549\ttest: 0.2878716\tbest: 0.2878716 (86)\ttotal: 2.11s\tremaining: 1.53s\n",
            "87:\tlearn: 0.2959348\ttest: 0.2875218\tbest: 0.2875218 (87)\ttotal: 2.13s\tremaining: 1.5s\n",
            "88:\tlearn: 0.2956181\ttest: 0.2871710\tbest: 0.2871710 (88)\ttotal: 2.15s\tremaining: 1.48s\n",
            "89:\tlearn: 0.2953496\ttest: 0.2868594\tbest: 0.2868594 (89)\ttotal: 2.18s\tremaining: 1.45s\n",
            "90:\tlearn: 0.2951316\ttest: 0.2865978\tbest: 0.2865978 (90)\ttotal: 2.2s\tremaining: 1.43s\n",
            "91:\tlearn: 0.2948113\ttest: 0.2862298\tbest: 0.2862298 (91)\ttotal: 2.22s\tremaining: 1.4s\n",
            "92:\tlearn: 0.2945367\ttest: 0.2859446\tbest: 0.2859446 (92)\ttotal: 2.24s\tremaining: 1.38s\n",
            "93:\tlearn: 0.2943334\ttest: 0.2856963\tbest: 0.2856963 (93)\ttotal: 2.27s\tremaining: 1.35s\n",
            "94:\tlearn: 0.2940814\ttest: 0.2854256\tbest: 0.2854256 (94)\ttotal: 2.29s\tremaining: 1.32s\n",
            "95:\tlearn: 0.2938399\ttest: 0.2851234\tbest: 0.2851234 (95)\ttotal: 2.31s\tremaining: 1.3s\n",
            "96:\tlearn: 0.2935783\ttest: 0.2847929\tbest: 0.2847929 (96)\ttotal: 2.34s\tremaining: 1.28s\n",
            "97:\tlearn: 0.2933594\ttest: 0.2845545\tbest: 0.2845545 (97)\ttotal: 2.36s\tremaining: 1.25s\n",
            "98:\tlearn: 0.2931579\ttest: 0.2843241\tbest: 0.2843241 (98)\ttotal: 2.38s\tremaining: 1.23s\n",
            "99:\tlearn: 0.2929221\ttest: 0.2840637\tbest: 0.2840637 (99)\ttotal: 2.41s\tremaining: 1.2s\n",
            "100:\tlearn: 0.2927201\ttest: 0.2838190\tbest: 0.2838190 (100)\ttotal: 2.43s\tremaining: 1.18s\n",
            "101:\tlearn: 0.2925171\ttest: 0.2835890\tbest: 0.2835890 (101)\ttotal: 2.46s\tremaining: 1.16s\n",
            "102:\tlearn: 0.2923455\ttest: 0.2833910\tbest: 0.2833910 (102)\ttotal: 2.48s\tremaining: 1.13s\n",
            "103:\tlearn: 0.2921877\ttest: 0.2832032\tbest: 0.2832032 (103)\ttotal: 2.5s\tremaining: 1.11s\n",
            "104:\tlearn: 0.2919928\ttest: 0.2830137\tbest: 0.2830137 (104)\ttotal: 2.52s\tremaining: 1.08s\n",
            "105:\tlearn: 0.2918261\ttest: 0.2828284\tbest: 0.2828284 (105)\ttotal: 2.55s\tremaining: 1.06s\n",
            "106:\tlearn: 0.2916509\ttest: 0.2826339\tbest: 0.2826339 (106)\ttotal: 2.57s\tremaining: 1.03s\n",
            "107:\tlearn: 0.2915688\ttest: 0.2825210\tbest: 0.2825210 (107)\ttotal: 2.59s\tremaining: 1.01s\n",
            "108:\tlearn: 0.2914164\ttest: 0.2823343\tbest: 0.2823343 (108)\ttotal: 2.61s\tremaining: 983ms\n",
            "109:\tlearn: 0.2913045\ttest: 0.2822022\tbest: 0.2822022 (109)\ttotal: 2.64s\tremaining: 959ms\n",
            "110:\tlearn: 0.2911724\ttest: 0.2820347\tbest: 0.2820347 (110)\ttotal: 2.66s\tremaining: 934ms\n",
            "111:\tlearn: 0.2910250\ttest: 0.2818757\tbest: 0.2818757 (111)\ttotal: 2.68s\tremaining: 909ms\n",
            "112:\tlearn: 0.2909421\ttest: 0.2817802\tbest: 0.2817802 (112)\ttotal: 2.7s\tremaining: 884ms\n",
            "113:\tlearn: 0.2908213\ttest: 0.2816329\tbest: 0.2816329 (113)\ttotal: 2.73s\tremaining: 862ms\n",
            "114:\tlearn: 0.2906801\ttest: 0.2814482\tbest: 0.2814482 (114)\ttotal: 2.75s\tremaining: 838ms\n",
            "115:\tlearn: 0.2905518\ttest: 0.2812915\tbest: 0.2812915 (115)\ttotal: 2.78s\tremaining: 814ms\n",
            "116:\tlearn: 0.2904676\ttest: 0.2811857\tbest: 0.2811857 (116)\ttotal: 2.8s\tremaining: 790ms\n",
            "117:\tlearn: 0.2903589\ttest: 0.2810519\tbest: 0.2810519 (117)\ttotal: 2.83s\tremaining: 767ms\n",
            "118:\tlearn: 0.2902568\ttest: 0.2809348\tbest: 0.2809348 (118)\ttotal: 2.85s\tremaining: 742ms\n",
            "119:\tlearn: 0.2900952\ttest: 0.2807875\tbest: 0.2807875 (119)\ttotal: 2.87s\tremaining: 718ms\n",
            "120:\tlearn: 0.2900048\ttest: 0.2806981\tbest: 0.2806981 (120)\ttotal: 2.89s\tremaining: 693ms\n",
            "121:\tlearn: 0.2898903\ttest: 0.2805879\tbest: 0.2805879 (121)\ttotal: 2.91s\tremaining: 669ms\n",
            "122:\tlearn: 0.2897445\ttest: 0.2804449\tbest: 0.2804449 (122)\ttotal: 2.97s\tremaining: 652ms\n",
            "123:\tlearn: 0.2896237\ttest: 0.2803251\tbest: 0.2803251 (123)\ttotal: 2.99s\tremaining: 628ms\n",
            "124:\tlearn: 0.2895160\ttest: 0.2802272\tbest: 0.2802272 (124)\ttotal: 3.02s\tremaining: 605ms\n",
            "125:\tlearn: 0.2894294\ttest: 0.2801237\tbest: 0.2801237 (125)\ttotal: 3.06s\tremaining: 583ms\n",
            "126:\tlearn: 0.2893236\ttest: 0.2800011\tbest: 0.2800011 (126)\ttotal: 3.08s\tremaining: 559ms\n",
            "127:\tlearn: 0.2891718\ttest: 0.2798571\tbest: 0.2798571 (127)\ttotal: 3.11s\tremaining: 535ms\n",
            "128:\tlearn: 0.2891050\ttest: 0.2797817\tbest: 0.2797817 (128)\ttotal: 3.13s\tremaining: 510ms\n",
            "129:\tlearn: 0.2890044\ttest: 0.2796803\tbest: 0.2796803 (129)\ttotal: 3.15s\tremaining: 485ms\n",
            "130:\tlearn: 0.2889103\ttest: 0.2795840\tbest: 0.2795840 (130)\ttotal: 3.18s\tremaining: 461ms\n",
            "131:\tlearn: 0.2888319\ttest: 0.2795084\tbest: 0.2795084 (131)\ttotal: 3.2s\tremaining: 436ms\n",
            "132:\tlearn: 0.2887305\ttest: 0.2794116\tbest: 0.2794116 (132)\ttotal: 3.22s\tremaining: 412ms\n",
            "133:\tlearn: 0.2886820\ttest: 0.2793519\tbest: 0.2793519 (133)\ttotal: 3.24s\tremaining: 387ms\n",
            "134:\tlearn: 0.2886274\ttest: 0.2792870\tbest: 0.2792870 (134)\ttotal: 3.27s\tremaining: 364ms\n",
            "135:\tlearn: 0.2885457\ttest: 0.2792148\tbest: 0.2792148 (135)\ttotal: 3.3s\tremaining: 339ms\n",
            "136:\tlearn: 0.2884452\ttest: 0.2791212\tbest: 0.2791212 (136)\ttotal: 3.32s\tremaining: 315ms\n",
            "137:\tlearn: 0.2883184\ttest: 0.2790308\tbest: 0.2790308 (137)\ttotal: 3.34s\tremaining: 291ms\n",
            "138:\tlearn: 0.2882381\ttest: 0.2789538\tbest: 0.2789538 (138)\ttotal: 3.36s\tremaining: 266ms\n",
            "139:\tlearn: 0.2881484\ttest: 0.2788686\tbest: 0.2788686 (139)\ttotal: 3.39s\tremaining: 242ms\n",
            "140:\tlearn: 0.2880946\ttest: 0.2788006\tbest: 0.2788006 (140)\ttotal: 3.41s\tremaining: 218ms\n",
            "141:\tlearn: 0.2880387\ttest: 0.2787445\tbest: 0.2787445 (141)\ttotal: 3.43s\tremaining: 193ms\n",
            "142:\tlearn: 0.2879584\ttest: 0.2786746\tbest: 0.2786746 (142)\ttotal: 3.45s\tremaining: 169ms\n",
            "143:\tlearn: 0.2879120\ttest: 0.2786136\tbest: 0.2786136 (143)\ttotal: 3.48s\tremaining: 145ms\n",
            "144:\tlearn: 0.2878078\ttest: 0.2785296\tbest: 0.2785296 (144)\ttotal: 3.51s\tremaining: 121ms\n",
            "145:\tlearn: 0.2877196\ttest: 0.2784728\tbest: 0.2784728 (145)\ttotal: 3.53s\tremaining: 96.7ms\n",
            "146:\tlearn: 0.2876644\ttest: 0.2784179\tbest: 0.2784179 (146)\ttotal: 3.55s\tremaining: 72.5ms\n",
            "147:\tlearn: 0.2876236\ttest: 0.2783847\tbest: 0.2783847 (147)\ttotal: 3.57s\tremaining: 48.3ms\n",
            "148:\tlearn: 0.2875864\ttest: 0.2783451\tbest: 0.2783451 (148)\ttotal: 3.6s\tremaining: 24.1ms\n",
            "149:\tlearn: 0.2875569\ttest: 0.2783128\tbest: 0.2783128 (149)\ttotal: 3.62s\tremaining: 0us\n",
            "\n",
            "bestTest = 0.2783127968\n",
            "bestIteration = 149\n",
            "\n",
            "Training on fold [2/3]\n",
            "0:\tlearn: 0.6275231\ttest: 0.6297020\tbest: 0.6297020 (0)\ttotal: 31.2ms\tremaining: 4.64s\n",
            "1:\tlearn: 0.6165689\ttest: 0.6187358\tbest: 0.6187358 (1)\ttotal: 55.4ms\tremaining: 4.1s\n",
            "2:\tlearn: 0.6060631\ttest: 0.6082387\tbest: 0.6082387 (2)\ttotal: 78.1ms\tremaining: 3.83s\n",
            "3:\tlearn: 0.5960057\ttest: 0.5981824\tbest: 0.5981824 (3)\ttotal: 99.6ms\tremaining: 3.64s\n",
            "4:\tlearn: 0.5863294\ttest: 0.5884903\tbest: 0.5884903 (4)\ttotal: 122ms\tremaining: 3.55s\n",
            "5:\tlearn: 0.5771132\ttest: 0.5792630\tbest: 0.5792630 (5)\ttotal: 143ms\tremaining: 3.43s\n",
            "6:\tlearn: 0.5681969\ttest: 0.5703394\tbest: 0.5703394 (6)\ttotal: 163ms\tremaining: 3.34s\n",
            "7:\tlearn: 0.5597786\ttest: 0.5619046\tbest: 0.5619046 (7)\ttotal: 183ms\tremaining: 3.25s\n",
            "8:\tlearn: 0.5517956\ttest: 0.5539268\tbest: 0.5539268 (8)\ttotal: 199ms\tremaining: 3.12s\n",
            "9:\tlearn: 0.5440272\ttest: 0.5461359\tbest: 0.5461359 (9)\ttotal: 220ms\tremaining: 3.08s\n",
            "10:\tlearn: 0.5366975\ttest: 0.5388229\tbest: 0.5388229 (10)\ttotal: 255ms\tremaining: 3.22s\n",
            "11:\tlearn: 0.5296619\ttest: 0.5317781\tbest: 0.5317781 (11)\ttotal: 276ms\tremaining: 3.18s\n",
            "12:\tlearn: 0.5230445\ttest: 0.5251704\tbest: 0.5251704 (12)\ttotal: 317ms\tremaining: 3.33s\n",
            "13:\tlearn: 0.5166712\ttest: 0.5187996\tbest: 0.5187996 (13)\ttotal: 339ms\tremaining: 3.29s\n",
            "14:\tlearn: 0.5106513\ttest: 0.5127784\tbest: 0.5127784 (14)\ttotal: 359ms\tremaining: 3.23s\n",
            "15:\tlearn: 0.5049121\ttest: 0.5070278\tbest: 0.5070278 (15)\ttotal: 385ms\tremaining: 3.22s\n",
            "16:\tlearn: 0.4993453\ttest: 0.5014362\tbest: 0.5014362 (16)\ttotal: 412ms\tremaining: 3.22s\n",
            "17:\tlearn: 0.4940473\ttest: 0.4961238\tbest: 0.4961238 (17)\ttotal: 437ms\tremaining: 3.21s\n",
            "18:\tlearn: 0.4890498\ttest: 0.4911129\tbest: 0.4911129 (18)\ttotal: 467ms\tremaining: 3.22s\n",
            "19:\tlearn: 0.4842155\ttest: 0.4862891\tbest: 0.4862891 (19)\ttotal: 489ms\tremaining: 3.18s\n",
            "20:\tlearn: 0.4795834\ttest: 0.4816356\tbest: 0.4816356 (20)\ttotal: 510ms\tremaining: 3.13s\n",
            "21:\tlearn: 0.4752205\ttest: 0.4772574\tbest: 0.4772574 (21)\ttotal: 537ms\tremaining: 3.13s\n",
            "22:\tlearn: 0.4669694\ttest: 0.4689555\tbest: 0.4689555 (22)\ttotal: 559ms\tremaining: 3.09s\n",
            "23:\tlearn: 0.4587753\ttest: 0.4606841\tbest: 0.4606841 (23)\ttotal: 581ms\tremaining: 3.05s\n",
            "24:\tlearn: 0.4510095\ttest: 0.4528782\tbest: 0.4528782 (24)\ttotal: 603ms\tremaining: 3.01s\n",
            "25:\tlearn: 0.4438181\ttest: 0.4455556\tbest: 0.4455556 (25)\ttotal: 624ms\tremaining: 2.97s\n",
            "26:\tlearn: 0.4366258\ttest: 0.4383220\tbest: 0.4383220 (26)\ttotal: 645ms\tremaining: 2.94s\n",
            "27:\tlearn: 0.4298855\ttest: 0.4313981\tbest: 0.4313981 (27)\ttotal: 668ms\tremaining: 2.91s\n",
            "28:\tlearn: 0.4232411\ttest: 0.4245260\tbest: 0.4245260 (28)\ttotal: 695ms\tremaining: 2.9s\n",
            "29:\tlearn: 0.4169290\ttest: 0.4180151\tbest: 0.4180151 (29)\ttotal: 719ms\tremaining: 2.87s\n",
            "30:\tlearn: 0.4107142\ttest: 0.4116054\tbest: 0.4116054 (30)\ttotal: 740ms\tremaining: 2.84s\n",
            "31:\tlearn: 0.4048281\ttest: 0.4055369\tbest: 0.4055369 (31)\ttotal: 763ms\tremaining: 2.81s\n",
            "32:\tlearn: 0.3991245\ttest: 0.3996517\tbest: 0.3996517 (32)\ttotal: 784ms\tremaining: 2.78s\n",
            "33:\tlearn: 0.3939072\ttest: 0.3942619\tbest: 0.3942619 (33)\ttotal: 805ms\tremaining: 2.75s\n",
            "34:\tlearn: 0.3888127\ttest: 0.3889166\tbest: 0.3889166 (34)\ttotal: 827ms\tremaining: 2.72s\n",
            "35:\tlearn: 0.3840951\ttest: 0.3840352\tbest: 0.3840352 (35)\ttotal: 856ms\tremaining: 2.71s\n",
            "36:\tlearn: 0.3793617\ttest: 0.3791237\tbest: 0.3791237 (36)\ttotal: 887ms\tremaining: 2.71s\n",
            "37:\tlearn: 0.3749668\ttest: 0.3744889\tbest: 0.3744889 (37)\ttotal: 910ms\tremaining: 2.68s\n",
            "38:\tlearn: 0.3707893\ttest: 0.3701716\tbest: 0.3701716 (38)\ttotal: 932ms\tremaining: 2.65s\n",
            "39:\tlearn: 0.3668647\ttest: 0.3660059\tbest: 0.3660059 (39)\ttotal: 953ms\tremaining: 2.62s\n",
            "40:\tlearn: 0.3631534\ttest: 0.3620984\tbest: 0.3620984 (40)\ttotal: 994ms\tremaining: 2.64s\n",
            "41:\tlearn: 0.3595079\ttest: 0.3582354\tbest: 0.3582354 (41)\ttotal: 1.02s\tremaining: 2.62s\n",
            "42:\tlearn: 0.3562256\ttest: 0.3547977\tbest: 0.3547977 (42)\ttotal: 1.04s\tremaining: 2.58s\n",
            "43:\tlearn: 0.3528834\ttest: 0.3513259\tbest: 0.3513259 (43)\ttotal: 1.06s\tremaining: 2.56s\n",
            "44:\tlearn: 0.3498008\ttest: 0.3480167\tbest: 0.3480167 (44)\ttotal: 1.08s\tremaining: 2.52s\n",
            "45:\tlearn: 0.3468658\ttest: 0.3447898\tbest: 0.3447898 (45)\ttotal: 1.12s\tremaining: 2.53s\n",
            "46:\tlearn: 0.3441201\ttest: 0.3418354\tbest: 0.3418354 (46)\ttotal: 1.14s\tremaining: 2.5s\n",
            "47:\tlearn: 0.3413087\ttest: 0.3388363\tbest: 0.3388363 (47)\ttotal: 1.16s\tremaining: 2.47s\n",
            "48:\tlearn: 0.3386526\ttest: 0.3359843\tbest: 0.3359843 (48)\ttotal: 1.18s\tremaining: 2.44s\n",
            "49:\tlearn: 0.3360934\ttest: 0.3332054\tbest: 0.3332054 (49)\ttotal: 1.21s\tremaining: 2.41s\n",
            "50:\tlearn: 0.3338276\ttest: 0.3307192\tbest: 0.3307192 (50)\ttotal: 1.23s\tremaining: 2.38s\n",
            "51:\tlearn: 0.3315622\ttest: 0.3282303\tbest: 0.3282303 (51)\ttotal: 1.25s\tremaining: 2.35s\n",
            "52:\tlearn: 0.3293830\ttest: 0.3258726\tbest: 0.3258726 (52)\ttotal: 1.27s\tremaining: 2.33s\n",
            "53:\tlearn: 0.3274090\ttest: 0.3237212\tbest: 0.3237212 (53)\ttotal: 1.29s\tremaining: 2.3s\n",
            "54:\tlearn: 0.3255812\ttest: 0.3217085\tbest: 0.3217085 (54)\ttotal: 1.34s\tremaining: 2.31s\n",
            "55:\tlearn: 0.3238346\ttest: 0.3197584\tbest: 0.3197584 (55)\ttotal: 1.36s\tremaining: 2.28s\n",
            "56:\tlearn: 0.3221138\ttest: 0.3178270\tbest: 0.3178270 (56)\ttotal: 1.38s\tremaining: 2.26s\n",
            "57:\tlearn: 0.3204234\ttest: 0.3159389\tbest: 0.3159389 (57)\ttotal: 1.41s\tremaining: 2.23s\n",
            "58:\tlearn: 0.3189528\ttest: 0.3142848\tbest: 0.3142848 (58)\ttotal: 1.43s\tremaining: 2.2s\n",
            "59:\tlearn: 0.3174520\ttest: 0.3125916\tbest: 0.3125916 (59)\ttotal: 1.45s\tremaining: 2.17s\n",
            "60:\tlearn: 0.3161479\ttest: 0.3110849\tbest: 0.3110849 (60)\ttotal: 1.47s\tremaining: 2.15s\n",
            "61:\tlearn: 0.3148696\ttest: 0.3096505\tbest: 0.3096505 (61)\ttotal: 1.49s\tremaining: 2.12s\n",
            "62:\tlearn: 0.3136656\ttest: 0.3082852\tbest: 0.3082852 (62)\ttotal: 1.51s\tremaining: 2.09s\n",
            "63:\tlearn: 0.3124864\ttest: 0.3069300\tbest: 0.3069300 (63)\ttotal: 1.53s\tremaining: 2.06s\n",
            "64:\tlearn: 0.3113705\ttest: 0.3056270\tbest: 0.3056270 (64)\ttotal: 1.57s\tremaining: 2.05s\n",
            "65:\tlearn: 0.3103363\ttest: 0.3044275\tbest: 0.3044275 (65)\ttotal: 1.59s\tremaining: 2.02s\n",
            "66:\tlearn: 0.3094507\ttest: 0.3033978\tbest: 0.3033978 (66)\ttotal: 1.61s\tremaining: 2s\n",
            "67:\tlearn: 0.3084623\ttest: 0.3022178\tbest: 0.3022178 (67)\ttotal: 1.63s\tremaining: 1.97s\n",
            "68:\tlearn: 0.3074973\ttest: 0.3010962\tbest: 0.3010962 (68)\ttotal: 1.65s\tremaining: 1.94s\n",
            "69:\tlearn: 0.3067067\ttest: 0.3001238\tbest: 0.3001238 (69)\ttotal: 1.68s\tremaining: 1.92s\n",
            "70:\tlearn: 0.3059032\ttest: 0.2991888\tbest: 0.2991888 (70)\ttotal: 1.7s\tremaining: 1.9s\n",
            "71:\tlearn: 0.3051601\ttest: 0.2983383\tbest: 0.2983383 (71)\ttotal: 1.73s\tremaining: 1.87s\n",
            "72:\tlearn: 0.3044464\ttest: 0.2974884\tbest: 0.2974884 (72)\ttotal: 1.75s\tremaining: 1.84s\n",
            "73:\tlearn: 0.3038776\ttest: 0.2967856\tbest: 0.2967856 (73)\ttotal: 1.76s\tremaining: 1.81s\n",
            "74:\tlearn: 0.3031844\ttest: 0.2959889\tbest: 0.2959889 (74)\ttotal: 1.79s\tremaining: 1.79s\n",
            "75:\tlearn: 0.3026121\ttest: 0.2953022\tbest: 0.2953022 (75)\ttotal: 1.81s\tremaining: 1.76s\n",
            "76:\tlearn: 0.3019804\ttest: 0.2945609\tbest: 0.2945609 (76)\ttotal: 1.83s\tremaining: 1.74s\n",
            "77:\tlearn: 0.3013308\ttest: 0.2938009\tbest: 0.2938009 (77)\ttotal: 1.85s\tremaining: 1.71s\n",
            "78:\tlearn: 0.3008496\ttest: 0.2932135\tbest: 0.2932135 (78)\ttotal: 1.88s\tremaining: 1.69s\n",
            "79:\tlearn: 0.3003677\ttest: 0.2926225\tbest: 0.2926225 (79)\ttotal: 1.9s\tremaining: 1.66s\n",
            "80:\tlearn: 0.2999158\ttest: 0.2920814\tbest: 0.2920814 (80)\ttotal: 1.92s\tremaining: 1.64s\n",
            "81:\tlearn: 0.2994581\ttest: 0.2915256\tbest: 0.2915256 (81)\ttotal: 1.94s\tremaining: 1.61s\n",
            "82:\tlearn: 0.2989766\ttest: 0.2909244\tbest: 0.2909244 (82)\ttotal: 1.96s\tremaining: 1.58s\n",
            "83:\tlearn: 0.2985528\ttest: 0.2904086\tbest: 0.2904086 (83)\ttotal: 1.98s\tremaining: 1.56s\n",
            "84:\tlearn: 0.2981218\ttest: 0.2898920\tbest: 0.2898920 (84)\ttotal: 2.02s\tremaining: 1.54s\n",
            "85:\tlearn: 0.2977949\ttest: 0.2894673\tbest: 0.2894673 (85)\ttotal: 2.04s\tremaining: 1.52s\n",
            "86:\tlearn: 0.2973963\ttest: 0.2889634\tbest: 0.2889634 (86)\ttotal: 2.06s\tremaining: 1.49s\n",
            "87:\tlearn: 0.2970568\ttest: 0.2885440\tbest: 0.2885440 (87)\ttotal: 2.09s\tremaining: 1.47s\n",
            "88:\tlearn: 0.2967833\ttest: 0.2881783\tbest: 0.2881783 (88)\ttotal: 2.11s\tremaining: 1.44s\n",
            "89:\tlearn: 0.2965094\ttest: 0.2878357\tbest: 0.2878357 (89)\ttotal: 2.13s\tremaining: 1.42s\n",
            "90:\tlearn: 0.2962470\ttest: 0.2875068\tbest: 0.2875068 (90)\ttotal: 2.15s\tremaining: 1.4s\n",
            "91:\tlearn: 0.2959730\ttest: 0.2871613\tbest: 0.2871613 (91)\ttotal: 2.17s\tremaining: 1.37s\n",
            "92:\tlearn: 0.2956576\ttest: 0.2868032\tbest: 0.2868032 (92)\ttotal: 2.2s\tremaining: 1.35s\n",
            "93:\tlearn: 0.2953849\ttest: 0.2864501\tbest: 0.2864501 (93)\ttotal: 2.22s\tremaining: 1.32s\n",
            "94:\tlearn: 0.2950687\ttest: 0.2860314\tbest: 0.2860314 (94)\ttotal: 2.25s\tremaining: 1.3s\n",
            "95:\tlearn: 0.2948133\ttest: 0.2856941\tbest: 0.2856941 (95)\ttotal: 2.27s\tremaining: 1.27s\n",
            "96:\tlearn: 0.2945648\ttest: 0.2854008\tbest: 0.2854008 (96)\ttotal: 2.29s\tremaining: 1.25s\n",
            "97:\tlearn: 0.2943406\ttest: 0.2851133\tbest: 0.2851133 (97)\ttotal: 2.31s\tremaining: 1.22s\n",
            "98:\tlearn: 0.2941114\ttest: 0.2848052\tbest: 0.2848052 (98)\ttotal: 2.34s\tremaining: 1.2s\n",
            "99:\tlearn: 0.2939129\ttest: 0.2845758\tbest: 0.2845758 (99)\ttotal: 2.36s\tremaining: 1.18s\n",
            "100:\tlearn: 0.2936904\ttest: 0.2843052\tbest: 0.2843052 (100)\ttotal: 2.38s\tremaining: 1.16s\n",
            "101:\tlearn: 0.2934532\ttest: 0.2840334\tbest: 0.2840334 (101)\ttotal: 2.4s\tremaining: 1.13s\n",
            "102:\tlearn: 0.2932515\ttest: 0.2837629\tbest: 0.2837629 (102)\ttotal: 2.44s\tremaining: 1.11s\n",
            "103:\tlearn: 0.2930721\ttest: 0.2835188\tbest: 0.2835188 (103)\ttotal: 2.46s\tremaining: 1.09s\n",
            "104:\tlearn: 0.2928809\ttest: 0.2833097\tbest: 0.2833097 (104)\ttotal: 2.48s\tremaining: 1.06s\n",
            "105:\tlearn: 0.2927567\ttest: 0.2831290\tbest: 0.2831290 (105)\ttotal: 2.5s\tremaining: 1.04s\n",
            "106:\tlearn: 0.2926309\ttest: 0.2829667\tbest: 0.2829667 (106)\ttotal: 2.52s\tremaining: 1.01s\n",
            "107:\tlearn: 0.2924435\ttest: 0.2827250\tbest: 0.2827250 (107)\ttotal: 2.54s\tremaining: 990ms\n",
            "108:\tlearn: 0.2923346\ttest: 0.2826006\tbest: 0.2826006 (108)\ttotal: 2.57s\tremaining: 965ms\n",
            "109:\tlearn: 0.2922121\ttest: 0.2824314\tbest: 0.2824314 (109)\ttotal: 2.59s\tremaining: 941ms\n",
            "110:\tlearn: 0.2921074\ttest: 0.2822867\tbest: 0.2822867 (110)\ttotal: 2.61s\tremaining: 916ms\n",
            "111:\tlearn: 0.2919817\ttest: 0.2820938\tbest: 0.2820938 (111)\ttotal: 2.63s\tremaining: 892ms\n",
            "112:\tlearn: 0.2918634\ttest: 0.2819222\tbest: 0.2819222 (112)\ttotal: 2.66s\tremaining: 871ms\n",
            "113:\tlearn: 0.2917427\ttest: 0.2817582\tbest: 0.2817582 (113)\ttotal: 2.69s\tremaining: 848ms\n",
            "114:\tlearn: 0.2915941\ttest: 0.2815708\tbest: 0.2815708 (114)\ttotal: 2.71s\tremaining: 824ms\n",
            "115:\tlearn: 0.2915020\ttest: 0.2814500\tbest: 0.2814500 (115)\ttotal: 2.73s\tremaining: 800ms\n",
            "116:\tlearn: 0.2913720\ttest: 0.2812841\tbest: 0.2812841 (116)\ttotal: 2.75s\tremaining: 776ms\n",
            "117:\tlearn: 0.2913031\ttest: 0.2811982\tbest: 0.2811982 (117)\ttotal: 2.77s\tremaining: 752ms\n",
            "118:\tlearn: 0.2911641\ttest: 0.2810451\tbest: 0.2810451 (118)\ttotal: 2.79s\tremaining: 728ms\n",
            "119:\tlearn: 0.2910805\ttest: 0.2809071\tbest: 0.2809071 (119)\ttotal: 2.82s\tremaining: 704ms\n",
            "120:\tlearn: 0.2909625\ttest: 0.2807524\tbest: 0.2807524 (120)\ttotal: 2.84s\tremaining: 680ms\n",
            "121:\tlearn: 0.2908512\ttest: 0.2805936\tbest: 0.2805936 (121)\ttotal: 2.87s\tremaining: 659ms\n",
            "122:\tlearn: 0.2907266\ttest: 0.2804693\tbest: 0.2804693 (122)\ttotal: 2.89s\tremaining: 635ms\n",
            "123:\tlearn: 0.2906779\ttest: 0.2803827\tbest: 0.2803827 (123)\ttotal: 2.92s\tremaining: 611ms\n",
            "124:\tlearn: 0.2905669\ttest: 0.2802591\tbest: 0.2802591 (124)\ttotal: 2.94s\tremaining: 587ms\n",
            "125:\tlearn: 0.2904965\ttest: 0.2801681\tbest: 0.2801681 (125)\ttotal: 2.96s\tremaining: 563ms\n",
            "126:\tlearn: 0.2904287\ttest: 0.2800841\tbest: 0.2800841 (126)\ttotal: 2.99s\tremaining: 541ms\n",
            "127:\tlearn: 0.2903624\ttest: 0.2799862\tbest: 0.2799862 (127)\ttotal: 3.01s\tremaining: 518ms\n",
            "128:\tlearn: 0.2902240\ttest: 0.2798589\tbest: 0.2798589 (128)\ttotal: 3.04s\tremaining: 495ms\n",
            "129:\tlearn: 0.2900981\ttest: 0.2797202\tbest: 0.2797202 (129)\ttotal: 3.06s\tremaining: 471ms\n",
            "130:\tlearn: 0.2899688\ttest: 0.2795941\tbest: 0.2795941 (130)\ttotal: 3.09s\tremaining: 449ms\n",
            "131:\tlearn: 0.2898253\ttest: 0.2794523\tbest: 0.2794523 (131)\ttotal: 3.11s\tremaining: 425ms\n",
            "132:\tlearn: 0.2897286\ttest: 0.2793536\tbest: 0.2793536 (132)\ttotal: 3.14s\tremaining: 401ms\n",
            "133:\tlearn: 0.2896262\ttest: 0.2792718\tbest: 0.2792718 (133)\ttotal: 3.16s\tremaining: 377ms\n",
            "134:\tlearn: 0.2895667\ttest: 0.2792048\tbest: 0.2792048 (134)\ttotal: 3.18s\tremaining: 353ms\n",
            "135:\tlearn: 0.2894754\ttest: 0.2791273\tbest: 0.2791273 (135)\ttotal: 3.2s\tremaining: 329ms\n",
            "136:\tlearn: 0.2893580\ttest: 0.2790010\tbest: 0.2790010 (136)\ttotal: 3.22s\tremaining: 306ms\n",
            "137:\tlearn: 0.2892781\ttest: 0.2789339\tbest: 0.2789339 (137)\ttotal: 3.25s\tremaining: 283ms\n",
            "138:\tlearn: 0.2891810\ttest: 0.2788488\tbest: 0.2788488 (138)\ttotal: 3.27s\tremaining: 259ms\n",
            "139:\tlearn: 0.2891053\ttest: 0.2787679\tbest: 0.2787679 (139)\ttotal: 3.3s\tremaining: 236ms\n",
            "140:\tlearn: 0.2890444\ttest: 0.2787195\tbest: 0.2787195 (140)\ttotal: 3.33s\tremaining: 212ms\n",
            "141:\tlearn: 0.2889501\ttest: 0.2786401\tbest: 0.2786401 (141)\ttotal: 3.36s\tremaining: 189ms\n",
            "142:\tlearn: 0.2888769\ttest: 0.2785640\tbest: 0.2785640 (142)\ttotal: 3.38s\tremaining: 165ms\n",
            "143:\tlearn: 0.2887925\ttest: 0.2784741\tbest: 0.2784741 (143)\ttotal: 3.4s\tremaining: 142ms\n",
            "144:\tlearn: 0.2887506\ttest: 0.2784409\tbest: 0.2784409 (144)\ttotal: 3.42s\tremaining: 118ms\n",
            "145:\tlearn: 0.2887020\ttest: 0.2784073\tbest: 0.2784073 (145)\ttotal: 3.44s\tremaining: 94.3ms\n",
            "146:\tlearn: 0.2886528\ttest: 0.2783534\tbest: 0.2783534 (146)\ttotal: 3.46s\tremaining: 70.7ms\n",
            "147:\tlearn: 0.2885709\ttest: 0.2782834\tbest: 0.2782834 (147)\ttotal: 3.48s\tremaining: 47.1ms\n",
            "148:\tlearn: 0.2885010\ttest: 0.2782250\tbest: 0.2782250 (148)\ttotal: 3.51s\tremaining: 23.6ms\n",
            "149:\tlearn: 0.2884418\ttest: 0.2781480\tbest: 0.2781480 (149)\ttotal: 3.54s\tremaining: 0us\n",
            "\n",
            "bestTest = 0.2781479833\n",
            "bestIteration = 149\n",
            "\n"
          ]
        }
      ],
      "source": [
        "# grid = {'learning_rate': [0.03, 0.1],\n",
        "#         'depth': range(4, 10, 2),\n",
        "#         'l2_leaf_reg': range(1, 10, 2),\n",
        "#         'od_wait': [100]}\n",
        "\n",
        "grid = {'learning_rate': [0.03],\n",
        "        'depth': range(4, 6),\n",
        "        'l2_leaf_reg': range(1, 6, 2)}\n",
        "        \n",
        "grid_search_result = cat_model.grid_search(grid, X=x_train_cat, y=y_train_cat, plot=True, verbose=False)"
      ]
    },
    {
      "cell_type": "code",
      "source": [
        "cat_model.best_score_"
      ],
      "metadata": {
        "id": "P8Twl_YCAZiP",
        "colab": {
          "base_uri": "https://localhost:8080/"
        },
        "outputId": "efd0c0fd-58d8-4229-86d9-9022db36c70e"
      },
      "execution_count": 89,
      "outputs": [
        {
          "output_type": "execute_result",
          "data": {
            "text/plain": [
              "{'learn': {'RMSE': 0.28323030897236273, 'AUC': 0.9202095048800194}}"
            ]
          },
          "metadata": {},
          "execution_count": 89
        }
      ]
    },
    {
      "cell_type": "markdown",
      "metadata": {
        "id": "pwEVsl6qG3hK"
      },
      "source": [
        "Проверка на тестовой выборке встроенной метрикой R2"
      ]
    },
    {
      "cell_type": "code",
      "execution_count": null,
      "metadata": {
        "id": "2TyYt34DG1wD"
      },
      "outputs": [],
      "source": [
        "result1 = cat_model.score(x_test_cat, y_test_cat)\n",
        "result1"
      ]
    },
    {
      "cell_type": "markdown",
      "metadata": {
        "id": "HCYAjirOHA9i"
      },
      "source": [
        "Альтернативный способ подбора параметров для CatBoostRegressor"
      ]
    },
    {
      "cell_type": "code",
      "execution_count": null,
      "metadata": {
        "id": "gruYQqG9HKht"
      },
      "outputs": [],
      "source": [
        "# cat_model.get_params()"
      ]
    },
    {
      "cell_type": "code",
      "execution_count": null,
      "metadata": {
        "id": "N2wAGcVUHOPg"
      },
      "outputs": [],
      "source": [
        "# from catboost import Pool, cv\n",
        "\n",
        "# params = cat_model.get_params()\n",
        "# pool1 = Pool(data=x_train_cat, label=y_train_cat, cat_features=columns)"
      ]
    },
    {
      "cell_type": "code",
      "execution_count": null,
      "metadata": {
        "id": "xG7jRnmzHRTt"
      },
      "outputs": [],
      "source": [
        "# cv_data = cv(\n",
        "#    params = params,\n",
        "#    pool = pool1,\n",
        "#    fold_count=10,\n",
        "#    inverted=False,\n",
        "#    shuffle=True,\n",
        "#    stratified=True,\n",
        "#    partition_random_seed=5\n",
        "# )"
      ]
    },
    {
      "cell_type": "markdown",
      "metadata": {
        "id": "MgkNv2YLHnet"
      },
      "source": [
        "Проверка на тестовой выборке встроенной метрикой R2"
      ]
    },
    {
      "cell_type": "code",
      "execution_count": null,
      "metadata": {
        "id": "hxzYt1i2Hhzl"
      },
      "outputs": [],
      "source": [
        "# result2 = cat_model.score(x_test_cat, y_test_cat)\n",
        "# result2"
      ]
    },
    {
      "cell_type": "markdown",
      "metadata": {
        "id": "ePnDjVbhHqZC"
      },
      "source": [
        "Вывод: очень противоречивые результаты получились - RMSE небольшой, а R2 очень плохо характеризует результаты работы обученной модели на тесте. В то время, как AUC-ROC не так уж и плох."
      ]
    },
    {
      "cell_type": "markdown",
      "metadata": {
        "id": "Wp4OysowX6V8"
      },
      "source": [
        "## Предсказание по тестовым данным"
      ]
    },
    {
      "cell_type": "code",
      "execution_count": null,
      "metadata": {
        "id": "W7HrX4N6JUag"
      },
      "outputs": [],
      "source": [
        "test_union_cat = test_union.fillna(0)\n",
        "test_union_cat[['position']] = union_df_cat[['position']].astype({'position': 'str'})\n",
        "test_union_cat[['employment']] = union_df_cat[['employment']].astype({'employment': 'str'})\n",
        "test_union_cat[['shedule']] = union_df_cat[['shedule']].astype({'shedule': 'str'})\n",
        "test_union_cat[['driver_license']] = union_df_cat[['driver_license']].astype({'driver_license': 'str'})\n",
        "test_union_cat = test_union_cat[test_union_cat.columns[:-3]]\n",
        "test_union_cat.columns"
      ]
    },
    {
      "cell_type": "code",
      "execution_count": null,
      "metadata": {
        "id": "e6hwInXvbFVm"
      },
      "outputs": [],
      "source": [
        "x_test_cat = test_union_cat[['position', 'driver_license', 'sex', 'age', 'salary', 'employment', 'shedule', 'from_year', 'to_year', 'job_status' ]]\n",
        "x_test_cat.shape"
      ]
    },
    {
      "cell_type": "code",
      "execution_count": null,
      "metadata": {
        "id": "zY8gqNeZbrHG"
      },
      "outputs": [],
      "source": [
        "predict_cat = cat_model.predict(x_test_cat)\n",
        "predict_cat"
      ]
    },
    {
      "cell_type": "code",
      "execution_count": null,
      "metadata": {
        "id": "bov5rWYBt08X"
      },
      "outputs": [],
      "source": [
        "# добавляем предикт catboost к сводной таблице\n",
        "test_union_df[\"predict_CatBoost\"] = predict_cat"
      ]
    },
    {
      "cell_type": "code",
      "execution_count": null,
      "metadata": {
        "id": "u5xu2O7Rcm4i"
      },
      "outputs": [],
      "source": [
        "# predict_cat = pd.DataFrame(data=predict_cat, index=x_test_cat.index, columns=['pred'], dtype='float')\n",
        "# predict_cat"
      ]
    },
    {
      "cell_type": "code",
      "execution_count": null,
      "metadata": {
        "id": "8G7REg4teENN"
      },
      "outputs": [],
      "source": [
        "# predict_cat.max(), predict_cat.min(), predict_cat.mean()"
      ]
    },
    {
      "cell_type": "code",
      "execution_count": null,
      "metadata": {
        "id": "HE_Sok3eePC8"
      },
      "outputs": [],
      "source": [
        "# predict_cat.hist(bins=50)"
      ]
    },
    {
      "cell_type": "code",
      "execution_count": null,
      "metadata": {
        "id": "eUj6uQFOecAg"
      },
      "outputs": [],
      "source": [
        "# predict_cat.boxplot()"
      ]
    },
    {
      "cell_type": "markdown",
      "metadata": {
        "id": "Ns91e_FsiluL"
      },
      "source": [
        "# Сводная таблица по предсказаниям"
      ]
    },
    {
      "cell_type": "code",
      "execution_count": null,
      "metadata": {
        "id": "ZHCHHyUJkzq_"
      },
      "outputs": [],
      "source": [
        "# x = test_union_cat[['candidate_region', 'job_region']]\n",
        "# x"
      ]
    },
    {
      "cell_type": "code",
      "execution_count": null,
      "metadata": {
        "id": "14Y6u-zVTKYI"
      },
      "outputs": [],
      "source": [
        "# predict_fin = pd.DataFrame(data=predict, index=x_test_from_file.index, columns=['max', 'min'], dtype='float')\n",
        "# predict_fin"
      ]
    },
    {
      "cell_type": "code",
      "execution_count": null,
      "metadata": {
        "id": "DDwnxXtFik7d"
      },
      "outputs": [],
      "source": [
        "# table = predict_cat.merge(predict_fin, left_index=True, right_index=True)\n",
        "# table = table.merge(x, left_index=True, right_index=True)\n",
        "# table"
      ]
    },
    {
      "cell_type": "code",
      "execution_count": null,
      "metadata": {
        "id": "nlHuiJ9sNILh"
      },
      "outputs": [],
      "source": [
        "# result_job_df = test_union_df[test_union_df[\"job_id\"] == 140952][[\"id\",\"position\",\"skills\", \"candidate_region\", \"job_id\", \"job_name\",  \"job_description_words\" , \"job_region\", \"similarity_region\", \"similarity_position_job_name\",\"similarity_skills_job_description\", \"predict_TensorFlow\", \"predict_CatBoost\"]]\n",
        "# result_job_df.shape"
      ]
    },
    {
      "cell_type": "code",
      "execution_count": null,
      "metadata": {
        "id": "mqk_5STINkTO"
      },
      "outputs": [],
      "source": [
        "# result_job_df"
      ]
    },
    {
      "cell_type": "markdown",
      "metadata": {
        "id": "z234dxNwrlx8"
      },
      "source": [
        "# Генератор результирующих файлов"
      ]
    },
    {
      "cell_type": "markdown",
      "metadata": {
        "id": "-GppLoj6Gbxo"
      },
      "source": [
        "Учитывая, что модели обучались на данных которые были изначально смержины между вакансиями, соответсвтенно модели не смогут определить этот критерий. \n",
        "Немного им поможем:\n",
        "```\n",
        "Приоритет 1: схожесть регионов\n",
        "Приоритет 2: схожесть наименования вакансии и желаемой позиции\n",
        "Приоритет 3: предикты двух моделей (Tensorflow + Catboost) + схожесть описания вакансии \n",
        "```\n",
        "Сортировка будет дискретная в зависимости от уровня схожести региона и наименования вакансии. Процент точности будет расставлен по итогу сортировки, в порядке убывания\n",
        "```\n",
        "1ый Этап сортировки:\n",
        "\tРегионы равны similarity_region = 1\n",
        "\t\\\n",
        "\t  similarity_position_job_name >= 0.75 + сортировка \n",
        "\t      \\\n",
        "\t        сортировка predict (C+t)/2+d/3  \n",
        "\tЗатем другие регионы \n",
        "\t\\\n",
        "\t similarity_position_job_name >= 0.75 + сортировка \n",
        "\t\t \\\n",
        "\t\t  сортировка predict (C+t)/2+d/3  \n",
        "2ой и последующие Этапы сортировки:\n",
        "\tЗатем Регионы равны similarity_region = 1\n",
        "\t\\ \n",
        "\t   similarity_position_job_name >= 0.50 + сортировка \n",
        "\t       \\ \n",
        "\t         сортировка predict (C+t)/2+d/3  \n",
        "\tЗатем другие регионы \n",
        "\t\\\n",
        "\t   similarity_position_job_name >= 0.50 + сортировка \n",
        "\t       \\ \n",
        "\t         сортировка predict (C+t)/2+d/3\n",
        "\n",
        "```\n",
        "\n",
        "\n"
      ]
    },
    {
      "cell_type": "code",
      "execution_count": null,
      "metadata": {
        "id": "2Q19E9hqO6Rz"
      },
      "outputs": [],
      "source": [
        "\n",
        "def get_sort_candidats(result_job_df):\n",
        "  sorted_candidats = []\n",
        "  # 1 приоритет\n",
        "  df_p1 = result_job_df[(result_job_df[\"similarity_region\"] == 1) & (result_job_df[\"similarity_position_job_name\"] >=0.75)].sort_values(by=[\"union_predict\"], ascending=False)\n",
        "  # print(df_p1[\"id\"].values)\n",
        "  sorted_candidats += list(df_p1[\"id\"].values)\n",
        "  # 2 приоритет\n",
        "  df_p2 = result_job_df[(result_job_df[\"similarity_region\"] < 1) & (result_job_df[\"similarity_position_job_name\"] >=0.75)].sort_values(by=[\"union_predict\"], ascending=False)\n",
        "  sorted_candidats += list(df_p2[\"id\"].values)\n",
        "  # 3 приоритет\n",
        "  df_p3 = result_job_df[(result_job_df[\"similarity_region\"] == 1) & (result_job_df[\"similarity_position_job_name\"] >=0.50) & (result_job_df[\"similarity_position_job_name\"] < 0.75)].sort_values(by=[\"union_predict\"], ascending=False)\n",
        "  sorted_candidats += list(df_p3[\"id\"].values)\n",
        "  # 4 приоритет\n",
        "  df_p4 = result_job_df[(result_job_df[\"similarity_region\"] < 1) & (result_job_df[\"similarity_position_job_name\"] >=0.50) & (result_job_df[\"similarity_position_job_name\"] < 0.75)].sort_values(by=[\"union_predict\"], ascending=False)\n",
        "  sorted_candidats += list(df_p4[\"id\"].values)\n",
        "  # 5 приоритет\n",
        "  df_p5 = result_job_df[(result_job_df[\"similarity_position_job_name\"] < 0.50)].sort_values(by=[\"union_predict\"], ascending=False)\n",
        "  sorted_candidats += list(df_p5[\"id\"].values)\n",
        "  return sorted_candidats"
      ]
    },
    {
      "cell_type": "code",
      "source": [
        "def sorted_candidats(result_job_df):\n",
        "\n",
        "  def calc_bonus_fine(sim_region, sim_position, src_predict):\n",
        "    fine_position = 0.10\n",
        "    bonus_position = 0.5\n",
        "    fine_region = 0.7\n",
        "    bonus_region = 0.03\n",
        "    if sim_region == 1:\n",
        "      src_predict += bonus_region\n",
        "    else:\n",
        "      src_predict -= fine_region\n",
        "\n",
        "    if sim_position > 0.75:\n",
        "      src_predict += bonus_position\n",
        "    elif sim_position > 0.50: \n",
        "      src_predict += bonus_position/2\n",
        "    elif sim_position < 0.30: \n",
        "      src_predict -= fine_position\n",
        "    return src_predict\n",
        "\n",
        "\n",
        "\n",
        "  # result_job_df[\"combination_predict\"] = result_job_df[\"predict_Tensorflow_CatBoost\"]\n",
        "  # print(result_job_df[\"combination_predict\"])\n",
        "  # test_union_df.apply(lambda x: tanimoto(x.job_name_words, x.position_words), axis=1)\n",
        "  print(result_job_df.columns)\n",
        "  result_job_df[\"combination_predict\"] = result_job_df.apply(lambda x: calc_bonus_fine(x.similarity_region, x.similarity_position_job_name, x.predict_Tensorflow_CatBoost), axis=1 )\n",
        "\n",
        "  # нормализируем предикт между 0 и 1, т.к. из-за штрафов могут быть и отрицательные показаетели\n",
        "  result_job_df.combination_predict = (result_job_df.combination_predict - result_job_df.combination_predict.min() + 0.01)/((result_job_df.combination_predict.max()+0.05)-result_job_df.combination_predict.min())\n",
        "\n",
        "  return result_job_df.sort_values(by=\"combination_predict\", ascending=False)\n",
        "                                                             \n",
        "  # print(result_job_df)\n",
        "  # result_job_df\n",
        "  #  result_job_df[(result_job_df[\"similarity_region\"] == 1) & (result_job_df[\"similarity_position_job_name\"] >=0.75)].sort_values(by=[\"union_predict\"], ascending=False)\n",
        "\n",
        "test_union_df[\"predict_Tensorflow_CatBoost\"] = (test_union_df[\"predict_TensorFlow\"] + test_union_df[\"predict_CatBoost\"])/2\n",
        "result_job_df = test_union_df[[\"id\",\"position\",\"skills\", \"candidate_region\", \"job_id\", \"job_name\",  \"job_description_words\" , \"job_region\", \"predict_Tensorflow_CatBoost\",  \"predict_TensorFlow\", \"predict_CatBoost\", \"similarity_position_job_name\",  \"similarity_region\" ]] \n",
        "df_sorted_candidats = sorted_candidats(result_job_df[result_job_df[\"job_id\"] == 140952])\n",
        "df_sorted_candidats"
      ],
      "metadata": {
        "id": "hrhbDXLgnoHN"
      },
      "execution_count": null,
      "outputs": []
    },
    {
      "cell_type": "code",
      "source": [],
      "metadata": {
        "id": "27VcB-vWOz3c"
      },
      "execution_count": null,
      "outputs": []
    },
    {
      "cell_type": "code",
      "source": [
        "result_job_df[[\"predict_TensorFlow\", \"predict_CatBoost\", \"predict_Tensorflow_CatBoost\", \"similarity_position_job_name\",  \"similarity_region\"]].hist()\n"
      ],
      "metadata": {
        "id": "4r6h9_UVsadT"
      },
      "execution_count": null,
      "outputs": []
    },
    {
      "cell_type": "code",
      "source": [
        "# test_union_df[\"predict_Tensorflow_CatBoost\"] = (test_union_df[\"predict_TensorFlow\"] + test_union_df[\"predict_CatBoost\"])/2\n",
        "# result_job_df = test_union_df[[\"id\",\"position\",\"skills\", \"candidate_region\", \"job_id\", \"job_name\",  \"job_description_words\" , \"job_region\", \"similarity_position_job_name\",  \"similarity_region\", \"predict_Tensorflow_CatBoost\",  \"predict_TensorFlow\", \"predict_CatBoost\" ]] \n",
        "# result_job_df.sort_values(by=\"predict_Tensorflow_CatBoost\", ascending = False)"
      ],
      "metadata": {
        "id": "8PlZKAfBJ4QO"
      },
      "execution_count": null,
      "outputs": []
    },
    {
      "cell_type": "code",
      "execution_count": null,
      "metadata": {
        "id": "EhQa8_BiRGO_"
      },
      "outputs": [],
      "source": [
        "test_union_df[\"predict_Tensorflow_CatBoost\"] = (test_union_df[\"predict_TensorFlow\"] + test_union_df[\"predict_CatBoost\"])/2\n",
        "\n",
        "# Формирование выходных файлов \n",
        "for job_id in test_jobs_df[\"job_id\"].values:\n",
        "  # result_job_df = test_union_df[test_union_df[\"job_id\"] == job_id][[\"id\",\"position\",\"skills\", \"candidate_region\", \"job_id\", \"job_name\",  \"job_description_words\" , \"job_region\",  \"similarity_position_job_name_0\", \"similarity_position_job_name_1\", \"similarity_position_job_name_2\", \"similarity_position_job_name_3\", \"similarity_position_job_name_4\", \"similarity_region\", \"similarity_skills_job_description\", \"predict_TensorFlow\", \"predict_CatBoost\"]]\n",
        "  result_job_df = test_union_df[test_union_df[\"job_id\"] == job_id][[\"id\",\"position\",\"skills\", \"candidate_region\", \"job_id\", \"job_name\",  \"job_description_words\" , \"job_region\",  \"similarity_position_job_name\",  \"similarity_region\", \"similarity_skills_job_description\", \"predict_TensorFlow\", \"predict_CatBoost\", \"predict_Tensorflow_CatBoost\"]]\n",
        "  # result_job_df[\"union_predict\"] = (result_job_df[\"predict_TensorFlow\"] + result_job_df[\"predict_CatBoost\"])/2 + result_job_df[\"similarity_skills_job_description\"]/4\n",
        "  \n",
        "#   test_union_df[\"predict_Tensorflow_CatBoost\"] = (test_union_df[\"predict_TensorFlow\"] + test_union_df[\"predict_CatBoost\"])/2\n",
        "# result_job_df = test_union_df[[\"id\",\"position\",\"skills\", \"candidate_region\", \"job_id\", \"job_name\",  \"job_description_words\" , \"job_region\", \"predict_Tensorflow_CatBoost\",  \"predict_TensorFlow\", \"predict_CatBoost\", \"similarity_position_job_name\",  \"similarity_region\" ]] \n",
        "# df_sorted_candidats = sorted_candidats(result_job_df[result_job_df[\"job_id\"] == 140952])\n",
        "\n",
        "\n",
        "  # result_job_df.to_csv(PATH_PROJECT + \"/dataset/result/\" + f\"pre_res_{job_id}__4.csv\", sep=\";\", encoding=\"utf-8-sig\")\n",
        "  # sorted_candidats = get_sort_candidats(result_job_df)\n",
        "  df_sorted_candidats = sorted_candidats(result_job_df[result_job_df[\"job_id\"] == job_id])\n",
        "  print(df_sorted_candidats.head(10))\n",
        "  df_sorted_candidats.to_csv(PATH_PROJECT + \"/dataset/result/change_result/\" + f\"result_job_{job_id}.csv\", columns=[\"id\", \"combination_predict\"], header=False, index=False, sep=\";\")\n",
        "  # sep\n",
        "\n",
        "  # with open(PATH_PROJECT + \"/dataset/result/\" + f\"result_job_{job_id}.txt\", 'w') as file:\n",
        "  #   file.write(str_result_file)\n"
      ]
    },
    {
      "cell_type": "code",
      "source": [
        "df_sorted_candidats.head(10)"
      ],
      "metadata": {
        "id": "M6KWu9Lu1YOY"
      },
      "execution_count": null,
      "outputs": []
    },
    {
      "cell_type": "code",
      "execution_count": null,
      "metadata": {
        "id": "30bsNzzXRGYW"
      },
      "outputs": [],
      "source": []
    }
  ],
  "metadata": {
    "colab": {
      "collapsed_sections": [],
      "provenance": [],
      "toc_visible": true
    },
    "kernelspec": {
      "display_name": "Python 3",
      "name": "python3"
    },
    "language_info": {
      "name": "python"
    },
    "accelerator": "TPU",
    "widgets": {
      "application/vnd.jupyter.widget-state+json": {
        "5de0183858434d6f8224b91698cf8e65": {
          "model_module": "catboost-widget",
          "model_name": "CatboostWidgetModel",
          "model_module_version": "^1.0.0",
          "state": {
            "_dom_classes": [],
            "_model_module": "catboost-widget",
            "_model_module_version": "^1.0.0",
            "_model_name": "CatboostWidgetModel",
            "_view_count": null,
            "_view_module": "catboost-widget",
            "_view_module_version": "^1.0.0",
            "_view_name": "CatboostWidgetView",
            "data": {
              "catboost_info": {
                "path": "catboost_info",
                "name": "catboost_info",
                "content": {
                  "passed_iterations": 5,
                  "total_iterations": 6,
                  "data": {
                    "iterations": [
                      {
                        "parameters": [
                          {
                            "depth": 4,
                            "learning_rate": 0.03,
                            "l2_leaf_reg": 1
                          }
                        ],
                        "learn": [
                          0.2882588232,
                          0.9166619676
                        ],
                        "iteration": 0,
                        "passed_time": 3.707432931,
                        "remaining_time": 18.53716465,
                        "test": [
                          0.2790423236,
                          0.9219125037
                        ]
                      },
                      {
                        "parameters": [
                          {
                            "depth": 4,
                            "learning_rate": 0.03,
                            "l2_leaf_reg": 3
                          }
                        ],
                        "learn": [
                          0.2884465515,
                          0.9164289789
                        ],
                        "iteration": 1,
                        "passed_time": 7.293026089,
                        "remaining_time": 14.58605218,
                        "test": [
                          0.2791399883,
                          0.9218349274
                        ]
                      },
                      {
                        "parameters": [
                          {
                            "depth": 4,
                            "learning_rate": 0.03,
                            "l2_leaf_reg": 5
                          }
                        ],
                        "learn": [
                          0.2882420647,
                          0.9169053769
                        ],
                        "iteration": 2,
                        "passed_time": 10.79741516,
                        "remaining_time": 10.79741516,
                        "test": [
                          0.278967142,
                          0.9218244961
                        ]
                      },
                      {
                        "parameters": [
                          {
                            "depth": 5,
                            "learning_rate": 0.03,
                            "l2_leaf_reg": 1
                          }
                        ],
                        "learn": [
                          0.2855033571,
                          0.9190980132
                        ],
                        "iteration": 3,
                        "passed_time": 14.64113792,
                        "remaining_time": 7.320568962,
                        "test": [
                          0.2768762317,
                          0.9233575169
                        ]
                      },
                      {
                        "parameters": [
                          {
                            "depth": 5,
                            "learning_rate": 0.03,
                            "l2_leaf_reg": 3
                          }
                        ],
                        "learn": [
                          0.285386061,
                          0.9191364017
                        ],
                        "iteration": 4,
                        "passed_time": 18.54623047,
                        "remaining_time": 3.709246094,
                        "test": [
                          0.2767557796,
                          0.9234138186
                        ]
                      },
                      {
                        "parameters": [
                          {
                            "depth": 5,
                            "learning_rate": 0.03,
                            "l2_leaf_reg": 5
                          }
                        ],
                        "learn": [
                          0.2857341355,
                          0.9188749114
                        ],
                        "iteration": 5,
                        "passed_time": 22.48980306,
                        "remaining_time": 0,
                        "test": [
                          0.2771338943,
                          0.9231237878
                        ]
                      }
                    ],
                    "meta": {
                      "test_sets": [
                        "test"
                      ],
                      "test_metrics": [
                        {
                          "best_value": "Min",
                          "name": "RMSE"
                        },
                        {
                          "best_value": "Max",
                          "name": "AUC"
                        }
                      ],
                      "learn_metrics": [
                        {
                          "best_value": "Min",
                          "name": "RMSE"
                        },
                        {
                          "best_value": "Max",
                          "name": "AUC"
                        }
                      ],
                      "launch_mode": "Train",
                      "parameters": "parameters",
                      "iteration_count": 6,
                      "learn_sets": [
                        "learn"
                      ],
                      "name": "experiment"
                    }
                  }
                }
              }
            },
            "layout": "IPY_MODEL_c501233d5a8a4866af27485804c00939"
          }
        }
      }
    }
  },
  "nbformat": 4,
  "nbformat_minor": 0
}